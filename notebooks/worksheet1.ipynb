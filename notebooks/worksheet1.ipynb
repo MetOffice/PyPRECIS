{
 "cells": [
  {
   "cell_type": "markdown",
   "metadata": {},
   "source": [
    "# Worksheet 1: File locations and pre-processing\n",
    "The exercises in this worksheet demonstrate some of the tools available for data analysis, and how to prepare CORDEX output for analysis (pre-processing). This can be time consuming for large amounts of data, so in this worksheet a small subset of data is used to easily demonstrate the steps involved. \n",
    "\n",
    "[CORDEX data](https://cordex.org/data-access/how-to-access-the-data/) is in [NetCDF](https://www.unidata.ucar.edu/software/netcdf/) format (a standard format in climate science) so that it can be used in post processing packages such as Python and the Python library [Iris](http://scitools.org.uk/iris/docs/latest/index.html)."
   ]
  },
  {
   "cell_type": "markdown",
   "metadata": {},
   "source": [
    "<div class=\"alert alert-block alert-warning\">\n",
    "<b>By the end of this worksheet you should be able to:</b><br> \n",
    "- Identify and list the names of CORDEX output data in netCDF format using standard Linux commands.<br>\n",
    "- Use basic Iris commands to load data files, and view Iris cubes. <br>\n",
    "- Use Iris commands to merge netCDF files\n",
    "- Take a subset of the data based on a date range\n",
    "- Save the output as NetCDF files.\n",
    "</div>"
   ]
  },
  {
   "cell_type": "markdown",
   "metadata": {},
   "source": [
    "<div class=\"alert alert-block alert-info\">\n",
    "<b>Note:</b> In the boxes where there is code or where you are asked to type code, click in the box, then press <kbd>Ctrl</kbd> + <kbd>Enter</kbd> to run the code. <br>\n",
    "<b>Note:</b> An percentage sign <code>%</code> is needed to run some commands on the shell. It is noted where this is needed.<br>\n",
    "<b>Note:</b> A hash <code>#</code> denotes a comment; anything written after this character does not affect the command being run. <br>\n",
    "</div>"
   ]
  },
  {
   "cell_type": "markdown",
   "metadata": {},
   "source": [
    "## Contents\n",
    "### [1.1: Data locations and file names](#1.1) \n",
    "### [1.2: Getting started with Python and Iris](#1.2)\n",
    "### [1.3: Merge Problems](#1.3)\n",
    "### [1.4 Extracting data within a specific time range](#1.4)\n",
    "### [1.5: Saving data to a new file](#1.5)"
   ]
  },
  {
   "cell_type": "markdown",
   "metadata": {},
   "source": [
    "<a id='1.1'></a>\n",
    "## 1.1 Data locations and file names\n",
    "The datasets used within these worksheets are already linked to the notebook in order to provide quick and easy access for the purpose of this training. However the commands learned in this worksheet provide useful context for future work in a linux and unix scripting environment.\n",
    "\n",
    "The dataset used in Worksheet 1 is a three year subset of monthly PRECIS output data; covering South East Asia and driven by the global climate model (GCM): HadCMQ0. It has a unique identifier code: **capha**."
   ]
  },
  {
   "cell_type": "markdown",
   "metadata": {},
   "source": [
    "**a)** Firstly, find out what location you are currently in by using the **`pwd`** command; **`pwd`** stands for **print working directory**.\n",
    "\n",
    "In the cell below type **`%pwd`** on a new line and then press <kbd>Ctrl</kbd> + <kbd>Enter</kbd>.\n"
   ]
  },
  {
   "cell_type": "code",
   "execution_count": null,
   "metadata": {},
   "outputs": [],
   "source": [
    "# Type %pwd below and press 'ctrl' + 'enter'\n"
   ]
  },
  {
   "cell_type": "markdown",
   "metadata": {},
   "source": [
    "**b)** List the contents of this directory; **`ls`** stands for **list** and using the **`-l`** option gives a longer listing with more information, such as file size and modification date. \n",
    "\n",
    "In the cell below type  **`%ls`** on a separate line then press <kbd>Ctrl</kbd> + <kbd>Enter</kbd>."
   ]
  },
  {
   "cell_type": "code",
   "execution_count": null,
   "metadata": {},
   "outputs": [],
   "source": [
    "# Type %ls and press 'ctrl' + 'enter'.\n",
    "\n",
    "\n",
    "# Type %ls -l and press 'ctrl' + 'enter'.\n",
    "\n"
   ]
  },
  {
   "cell_type": "markdown",
   "metadata": {},
   "source": [
    "---\n",
    "<div class=\"alert alert-block alert-success\">\n",
    "<b>Question:</b> What is the difference between <code>ls</code> and <code>ls -l</code>?  What extra information do you see? Which file was edited most recently?\n",
    "</div>"
   ]
  },
  {
   "cell_type": "markdown",
   "metadata": {},
   "source": [
    "<b>Answer</b>: <br>\n",
    "*...Double click here to type your answer...*\n",
    "\n",
    "---"
   ]
  },
  {
   "cell_type": "markdown",
   "metadata": {},
   "source": [
    "**c)** Move to the directory (i.e. folder) called `/project/ciid/projects/PRECIS/worksheets/data/SEA-22`. This directory contains CORDEX data for the South East Asia Domain.\n",
    "\n",
    "**Hint:** The `cd` command stands for _change directory_\n",
    "\n",
    "Type your command(s) below and press <kbd>Ctrl</kbd> + <kbd>Enter</kbd>.\n"
   ]
  },
  {
   "cell_type": "code",
   "execution_count": null,
   "metadata": {},
   "outputs": [],
   "source": [
    "# Type your %cd [directory-path] command below and press 'ctrl' + 'enter'.\n",
    "\n",
    "\n",
    "# List the contents of this directory, using a previous command. \n",
    "\n"
   ]
  },
  {
   "cell_type": "markdown",
   "metadata": {},
   "source": [
    "**d)** There are a lot of files in this directory! The file names contain information on the simulated date of the data they contain - you'll learn more about the naming convention for CORDEX data in another presention.\n",
    "\n",
    "For now, list only the files containing monthly temperature data using the following command:\n",
    "\n",
    "Type **`%ls tas*mon*`** in the code block below."
   ]
  },
  {
   "cell_type": "code",
   "execution_count": null,
   "metadata": {},
   "outputs": [],
   "source": [
    "# Type %ls tas*mon* and press 'ctrl' + 'enter'.\n",
    "\n"
   ]
  },
  {
   "cell_type": "markdown",
   "metadata": {},
   "source": [
    "<div class=\"alert alert-block alert-info\">\n",
    "<b>Note:</b> The asterisk character <code>*</code> (also known as <i>glob</i>) matches any string within the filename\n",
    "</div>"
   ]
  },
  {
   "cell_type": "markdown",
   "metadata": {},
   "source": [
    "**e)** This still returns too many files to comfortably count manually. **`wc`** stands for **word count**; combining this command with **`ls`** allows us to count the number of items in that directory. \n",
    "\n",
    "In the cell below type  **`%ls tas*mon* | wc -l`** then press <kbd>Ctrl</kbd> + <kbd>Enter</kbd>."
   ]
  },
  {
   "cell_type": "code",
   "execution_count": null,
   "metadata": {},
   "outputs": [],
   "source": [
    "# Type %ls *sep* | wc -l command below and press 'ctrl' + 'enter'\n",
    "\n"
   ]
  },
  {
   "cell_type": "markdown",
   "metadata": {},
   "source": [
    "---\n",
    "<div class=\"alert alert-block alert-success\">\n",
    "<b>Question:</b> How many nc files are in this directory, in total?\n",
    "<br>How many of these nc files contain the string 'historical'; relating to the historical climate simulation? What command do you need to use to find this out?\n",
    "</div>"
   ]
  },
  {
   "cell_type": "markdown",
   "metadata": {},
   "source": [
    "<b>Answer</b>: \n",
    "<br>*Total number of nc files: \n",
    "<br>Number of historical nc files:\n",
    "<br>Command used to find number of historical nc files:*\n",
    "\n",
    "---"
   ]
  },
  {
   "cell_type": "markdown",
   "metadata": {},
   "source": [
    "**f)** To list all the files containing monthly data from a period starting 202101, we use the code **`*mon_202101-??????.nc`**\n",
    "\n",
    "Type below **`%ls *mon_202101-??????.nc`**"
   ]
  },
  {
   "cell_type": "code",
   "execution_count": null,
   "metadata": {},
   "outputs": [],
   "source": [
    "# Type %ls *mon_202101-??????.nc and press 'ctrl' + 'enter'.\n",
    "\n"
   ]
  },
  {
   "cell_type": "markdown",
   "metadata": {},
   "source": [
    "<div class=\"alert alert-block alert-info\">\n",
    "<b>Note:</b> The question mark character <code>?</code> matches any single character\n",
    "</div>"
   ]
  },
  {
   "cell_type": "markdown",
   "metadata": {},
   "source": [
    "**g)** Now move up two levels in the directory tree and list the directories.\n",
    "\n",
    "Type `cd ../..` to move up two levels in the directory tree and press <kbd>Ctrl</kbd> + <kbd>Enter</kbd> to execute the command"
   ]
  },
  {
   "cell_type": "code",
   "execution_count": null,
   "metadata": {},
   "outputs": [],
   "source": [
    "# Type %cd ../.. and press 'ctrl' + 'enter'.\n",
    "\n"
   ]
  },
  {
   "cell_type": "markdown",
   "metadata": {},
   "source": [
    "---\n",
    "<div class=\"alert alert-block alert-success\">\n",
    "<b>Question:</b> Which directory are you in now?  What else can you see in this directory?\n",
    "</div>"
   ]
  },
  {
   "cell_type": "markdown",
   "metadata": {},
   "source": [
    "<b>Answer</b>:<br>\n",
    "*...Double click here to type your answer...*\n",
    "\n"
   ]
  },
  {
   "cell_type": "markdown",
   "metadata": {},
   "source": [
    "***\n",
    "<a id='1.2'></a>\n",
    "## 1.2 Getting started with Python and Iris\n",
    "<p><img src=\"img/python_and_iris.png\" alt=\"python + iris logo\" style=\"float: center; height: 100px;\"/></p>\n",
    "\n",
    "\n",
    "Python is a general purpose programming language. Python supports modules and packages, which encourages program modularity and code reuse. \n",
    "\n",
    "\n",
    "We also use the Python library [Iris](http://scitools.org.uk/iris/docs/latest/index.html), which is written in Python and is maintained by the Met Office. Iris seeks to provide a powerful, easy to use, and community-driven Python library for analysing and visualising meteorological and oceanographic data sets.\n",
    "\n",
    "The top level object in Iris is called a <b>cube</b>. A cube contains data and metadata about a phenomenon (i.e. air_temperature). Iris handles several different types of file formats, loadiing them into Iris cubes.\n",
    "\n",
    "\n",
    "For a brief introduction to Iris and the cube formatting please read this Introduction page here: \n",
    "\n",
    "http://scitools.org.uk/iris/docs/latest/userguide/iris_cubes.html\n",
    "\n",
    "For future reference please refer to the Iris website:\n",
    "\n",
    "http://scitools.org.uk/iris/docs/latest/index.html\n"
   ]
  },
  {
   "cell_type": "markdown",
   "metadata": {},
   "source": [
    "**h)** First, run the code-block below to **load** a file into Iris and **print** its metadata structure. <br>\n",
    "\n",
    "To run the code, click in the box below and press <kbd>Ctrl</kbd> + <kbd>Enter</kbd>."
   ]
  },
  {
   "cell_type": "code",
   "execution_count": null,
   "metadata": {
    "scrolled": false
   },
   "outputs": [],
   "source": [
    "# import the necessary modules\n",
    "import iris\n",
    "import glob\n",
    "import os\n",
    "\n",
    "# this is needed so that the plots are generated inline with the code instead of a separate window\n",
    "%matplotlib inline \n",
    "\n",
    "# provide the path of your sample data\n",
    "sample_data = '/project/ciid/projects/PRECIS/worksheets/data/cordex/SEA-22/sample_data.nc'\n",
    "\n",
    "# Constraint the reading to a single variable and load it into an Iris cube\n",
    "cube = iris.load_cube(sample_data)\n",
    "\n",
    "# Print the Iris cube\n",
    "print(cube)"
   ]
  },
  {
   "cell_type": "markdown",
   "metadata": {},
   "source": [
    "---\n",
    "<div class=\"alert alert-block alert-success\">\n",
    "<b>Question:</b> Can you explain how our sample data we printed above relates to this picture?\n",
    "<img src=\"img/multi_array_to_cube.png\" alt=\"diagram of an Iris cube\" style=\"height: 300px\"/> <br>\n",
    "\n",
    "- Is our data above a 3D or a 2D cube? <br>\n",
    "- What are the cube dimensions? <br>\n",
    "- How many grid boxes is the latitudinal range divided into? <br>\n",
    "- What meteorological variable does this cube represent? <br>\n",
    "- What unit is used for this variable? <br>\n",
    "</div>\n"
   ]
  },
  {
   "cell_type": "markdown",
   "metadata": {},
   "source": [
    "<b>Answer</b>:\n",
    "<br>*Is this cube 3D or 2D? \n",
    "<br>What are the cube dimensions? \n",
    "<br>How many grid boxes is the latitudinal range divided into? \n",
    "<br>What meteorological variable does this cube represent? \n",
    "<br>What unit is used for this variable?* \n",
    "\n",
    "---"
   ]
  },
  {
   "cell_type": "markdown",
   "metadata": {},
   "source": [
    "**i)** Now **plot** the data for the selected variable: <br>\n",
    "\n",
    "To run the code, click in the box below and press <kbd>Ctrl</kbd> + <kbd>Enter</kbd>."
   ]
  },
  {
   "cell_type": "code",
   "execution_count": null,
   "metadata": {},
   "outputs": [],
   "source": [
    "import matplotlib.pyplot as plt\n",
    "import iris.quickplot as qplt\n",
    "\n",
    "plt.figure(figsize=(12,12))  # Set the figure size\n",
    "qplt.pcolormesh(cube)  # Plot the cube\n",
    "plt.title(cube.name())  # Add plot title\n",
    "plt.clim(0, 5e-4)  # Set colour bar range\n",
    "plt.show()  # Show the plot"
   ]
  },
  {
   "cell_type": "markdown",
   "metadata": {},
   "source": [
    "<a id='1.3'></a>\n",
    "## Merge problems\n",
    "\n",
    "When using data, we want a single cube for all fields with the same standard name and seequential timesteps. `iris.load` will return as few cubes as possible, by collecting cubes from multiple files together. However, on some occasions this merge process does not give a single cube when we would expect it to. \n",
    "\n",
    "This section demonstrates how to deal with cases like this and make a single cube for these data."
   ]
  },
  {
   "cell_type": "markdown",
   "metadata": {},
   "source": [
    "<div class=\"alert alert-block alert-info\">\n",
    "You can read more about iris loading behaviour <a href=\"https://scitools.org.uk/iris/docs/v2.4.0/userguide/loading_iris_cubes.html\">here</a>.\n",
    "</div>"
   ]
  },
  {
   "cell_type": "markdown",
   "metadata": {},
   "source": [
    "As an example we will load some data from the West Asia Domain at 50 km resolution"
   ]
  },
  {
   "cell_type": "code",
   "execution_count": null,
   "metadata": {},
   "outputs": [],
   "source": [
    "# these variables form part of the standard CORDEX filename convention\n",
    "domain = \"WAS-44\"\n",
    "rcm = \"SMHI-RCA4\"\n",
    "experiment = \"evaluation\"\n",
    "gcm = \"ECMWF-ERAINT\"\n",
    "variable = \"tas\""
   ]
  },
  {
   "cell_type": "markdown",
   "metadata": {},
   "source": [
    "Let's find out which of the files match the pattern above."
   ]
  },
  {
   "cell_type": "code",
   "execution_count": null,
   "metadata": {},
   "outputs": [],
   "source": [
    "root_dir = \"/project/ciid/projects/PRECIS/worksheets/data/cordex/\"\n",
    "\n",
    "path_dir = root_dir+domain+\"/\"\n",
    "file_name = variable+\"*\"+gcm+\"*\"+experiment+\"*\"+rcm+\"*\"\n",
    "file_list = glob.glob(path_dir+file_name)\n",
    "\n",
    "# complete the print statement below to check the files being loaded\n",
    "print()"
   ]
  },
  {
   "cell_type": "markdown",
   "metadata": {},
   "source": [
    "If we try and force Iris to load a single cube we get an error:"
   ]
  },
  {
   "cell_type": "code",
   "execution_count": null,
   "metadata": {},
   "outputs": [],
   "source": [
    "cube = iris.load_cube(file_list)"
   ]
  },
  {
   "cell_type": "markdown",
   "metadata": {},
   "source": [
    "The important part of this error is the following message:    \n",
    "    \n",
    "    ConstraintMismatchError: failed to merge into a single cube.\n",
    "      cube.attributes values differ for keys: 'creation_date', 'tracking_id'\n",
    "      cube.shape differs: (12, 130, 193) != (120, 130, 193)\n",
    "      \n",
    "Instead we will load this data with `iris.load()` and then look more closely at the data, before we fix the issues."
   ]
  },
  {
   "cell_type": "code",
   "execution_count": null,
   "metadata": {},
   "outputs": [],
   "source": [
    "cubes = iris.load(file_list)\n",
    "print(cubes)\n",
    "print()\n",
    "for cube in cubes:\n",
    "    print(cube.attributes['creation_date'], cube.attributes['tracking_id'])"
   ]
  },
  {
   "cell_type": "markdown",
   "metadata": {},
   "source": [
    "<div class=\"alert alert-block alert-success\">\n",
    "<b>Question:\n",
    "\n",
    "- How many cubes are in the cube list you loaded?<br>\n",
    "- Are they all the same size in space?<br>\n",
    "- Do they have the same number of timesteps? Why do you think this is? (Hint: look again at the filenames we are loading)\n",
    "- What are the differences in the attributes and do you think this is important when analysing your data?\n",
    "</div>"
   ]
  },
  {
   "cell_type": "markdown",
   "metadata": {},
   "source": [
    "<b>Answer</b>:\n",
    "<br>*How many cubes are in the cube list you loaded?\n",
    "<br>Are they all the same size in space?\n",
    "<br>Do they have the same number of timesteps? Why do you think this is? (Hint: look again at the filenames we are loading)\n",
    "<br>What are the differences in the attributes?\n",
    "<br>Do you think these differnces are important when analysing your data?* \n",
    "\n",
    "---"
   ]
  },
  {
   "cell_type": "markdown",
   "metadata": {},
   "source": [
    "Now let's solve this problem so we can get a single cube. We will do this using the [equalise_attributes](https://scitools.org.uk/iris/docs/v2.4.0/iris/iris/experimental/equalise_cubes.html) function from Iris."
   ]
  },
  {
   "cell_type": "code",
   "execution_count": null,
   "metadata": {},
   "outputs": [],
   "source": [
    "from iris.experimental.equalise_cubes import equalise_attributes\n",
    "\n",
    "equalise_attributes(cubes)\n",
    "\n",
    "# now print the attributes of each cube\n",
    "for cube in cubes:\n",
    "    print(list(cube.attributes.keys()))"
   ]
  },
  {
   "cell_type": "markdown",
   "metadata": {},
   "source": [
    "<div class=\"alert alert-block alert-success\">\n",
    "\n",
    "The equalise_attributes function has removed the metadata which is inconsistent between the cubes. \n",
    "\n",
    "<b>Question:\n",
    " - Why might it be a bad idea to apply this function without looking at the data first?\n",
    "</b>\n",
    "</div>"
   ]
  },
  {
   "cell_type": "markdown",
   "metadata": {},
   "source": [
    "<b>Answer</b>:\n",
    "<br>*Why might it be a bad idea to apply this function without looking at the data first?*"
   ]
  },
  {
   "cell_type": "markdown",
   "metadata": {},
   "source": [
    "The following loop is an alternative method to eliminate the mismatching attributes\n",
    "\n",
    "    for i, icube in enumerate(cube):\n",
    "        del cube[i].attributes['creation_date']\n",
    "        del cube[i].attributes['tracking_id']\n"
   ]
  },
  {
   "cell_type": "markdown",
   "metadata": {},
   "source": [
    "We can now merge the data into a single cube."
   ]
  },
  {
   "cell_type": "code",
   "execution_count": null,
   "metadata": {},
   "outputs": [],
   "source": [
    "cube = cubes.concatenate_cube()\n",
    "print(cube)"
   ]
  },
  {
   "cell_type": "markdown",
   "metadata": {},
   "source": [
    "<a id='1.4'></a>\n",
    "# Extracting data within a specific time range\n",
    "\n",
    "This is a lot of data, and so for now, we will cut this down to include December 1979 to November 1989 inclusive using a time constraint."
   ]
  },
  {
   "cell_type": "code",
   "execution_count": null,
   "metadata": {},
   "outputs": [],
   "source": [
    "from iris.time import PartialDateTime\n",
    "\n",
    "print('original cube first and last dates')\n",
    "print(cube.coord(\"time\")[0])\n",
    "print(cube.coord(\"time\")[-1])\n",
    "\n",
    "time_constraint = iris.Constraint(time=lambda cell: PartialDateTime(year=1980,month=11) \n",
    "                            < cell.point < PartialDateTime(year=1989,month=12))\n",
    "sub_cube = cube.extract(time_constraint)\n",
    "\n",
    "\n",
    "print()\n",
    "print('new cube first and last dates')\n",
    "print(sub_cube.coord(\"time\")[0])\n",
    "print(sub_cube.coord(\"time\")[-1])"
   ]
  },
  {
   "cell_type": "markdown",
   "metadata": {},
   "source": [
    "<a id='1.5'></a>\n",
    "# Saving data to a new file\n",
    "\n",
    "We will now save this data to a new file.\n",
    "\n",
    "Take note of the file names.  Good use of filename can help you keep track of the contents of your files.  We suggest developing a consistent syntax based on the filename patterns of the CORDEX data."
   ]
  },
  {
   "cell_type": "code",
   "execution_count": null,
   "metadata": {},
   "outputs": [],
   "source": [
    "out_file_name = f'{variable}_{domain}_{gcm}_{experiment}_r1ip1_{rcm}_v2_mon_198012-198911.nc'\n",
    "\n",
    "save_location = os.getenv('SCRATCH') + '/cordex_training/'\n",
    "\n",
    "print('saving file to: ' + save_location + out_file_name)\n",
    "iris.save(sub_cube, save_location + out_file_name)"
   ]
  },
  {
   "cell_type": "markdown",
   "metadata": {},
   "source": [
    "<div class=\"alert alert-block alert-info\">\n",
    "<b>Note:</b> Keep a note of how we update the file names as we progress through these worksheets making further changes to the data\n",
    "</div>"
   ]
  },
  {
   "cell_type": "markdown",
   "metadata": {},
   "source": [
    "---\n",
    "<div class=\"alert alert-block alert-success\">\n",
    "<b>Question:</b> Use the <b>cd</b> and <b>ls</b> commands to check the NetCDF directory that you have been creating new files in. <br>\n",
    "\n",
    "- Confirm the names of the new files you have been creating. <br>\n",
    "- What is the size of the concatenated file (containing December 1979 to November 1989 data)?\n",
    "</div>"
   ]
  },
  {
   "cell_type": "code",
   "execution_count": null,
   "metadata": {},
   "outputs": [],
   "source": [
    "# use %cd and %ls to list the contents of your new directory containing NetCDF files:\n",
    "\n",
    "\n",
    "# use %ls -lh to compare the size of the original files and final netcdf file you saved\n",
    "\n"
   ]
  },
  {
   "cell_type": "markdown",
   "metadata": {},
   "source": [
    "<b>Answer:</b><br>\n",
    "*Size of the file written out at the end:*"
   ]
  },
  {
   "cell_type": "markdown",
   "metadata": {},
   "source": [
    "<center>\n",
    "<div class=\"alert alert-block alert-warning\">\n",
    "<b>This completes worksheet 1.</b> <br>You have created pre-processed files (metdata fixed, concenated over time, extracted data in a specific time range and saved in NetCDF format). <br>\n",
    "In worksheet 2, you will begin to analyse these files.\n",
    "</div>\n",
    "</center>"
   ]
  },
  {
   "cell_type": "markdown",
   "metadata": {},
   "source": [
    "<p><img src=\"img/MO_MASTER_black_mono_for_light_backg_RBG.png\" alt=\"python + iris logo\" style=\"float: center; height: 100px;\"/></p>\n",
    "<center>© Crown Copyright 2019, Met Office</center>"
   ]
  }
 ],
 "metadata": {
  "kernelspec": {
   "display_name": "pyprecis-environment",
   "language": "python",
   "name": "pyprecis-environment"
  },
  "language_info": {
   "codemirror_mode": {
    "name": "ipython",
    "version": 3
   },
   "file_extension": ".py",
   "mimetype": "text/x-python",
   "name": "python",
   "nbconvert_exporter": "python",
   "pygments_lexer": "ipython3",
   "version": "3.6.10"
  },
  "widgets": {
   "state": {},
   "version": "1.1.2"
  }
 },
 "nbformat": 4,
 "nbformat_minor": 2
}
