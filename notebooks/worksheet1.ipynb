{
 "cells": [
  {
   "cell_type": "markdown",
   "metadata": {},
   "source": [
    "# Worksheet 1: File locations and pre-processing\n",
    "The exercises in this worksheet demonstrate some of the tools available for data analysis, and how to prepare PRECIS output for analysis (pre-processing). This can be time consuming for large amounts of data, so in this worksheet a small subset of data is used to easily demonstrate the steps involved. \n",
    "Future worksheets use data that has undergone pre-processing.\n",
    "\n",
    "PRECIS output files are in PP format; a Met Office binary data format. This worksheet converts data to [NetCDF](https://www.unidata.ucar.edu/software/netcdf/) format (a standard format in climate science) so that it can be used in post processing packages such as Python and the python library [Iris](http://scitools.org.uk/iris/docs/latest/index.html)."
   ]
  },
  {
   "cell_type": "markdown",
   "metadata": {},
   "source": [
    "<div class=\"alert alert-block alert-warning\">\n",
    "<b>By the end of this worksheet you should be able to:</b><br> \n",
    "- Identify and list the names of PRECIS output data in PP format using standard Linux commands.<br>\n",
    "- Use basic Iris commands to load data files, and view Iris cubes. <br>\n",
    "- Use Iris commands to remove the model rim, select data variables and save the output as NetCDF files.\n",
    "</div>"
   ]
  },
  {
   "cell_type": "markdown",
   "metadata": {},
   "source": [
    "<div class=\"alert alert-block alert-info\">\n",
    "<b>Note:</b> In the boxes where there is code or where you are asked to type code, click in the box, then press <kbd>Ctrl</kbd> + <kbd>Enter</kbd> to run the code. <br>\n",
    "<b>Note:</b> An percentage sign <code>%</code> is needed to run some commands on the shell. It is noted where this is needed.<br>\n",
    "<b>Note:</b> A hash <code>#</code> denotes a comment; anything written after this character does not affect the command being run. <br>\n",
    "</div>"
   ]
  },
  {
   "cell_type": "markdown",
   "metadata": {},
   "source": [
    "## Contents\n",
    "### [1.1: Data locations and file names](#1.1) \n",
    "### [1.2: Getting started with to python and Iris](#1.2)\n",
    "### [1.3: Rim removal (single file example)](#1.3)\n",
    "### [1.4: Select variables](#1.4)"
   ]
  },
  {
   "cell_type": "markdown",
   "metadata": {},
   "source": [
    "<a id='1.1'></a>\n",
    "## 1.1 Data locations and file names\n",
    "\n",
    "The datasets used within these worksheets are already linked to the notebook in order to provide quick and easy access for the purpose of this training. However the commands learned in this worksheet provide useful context for future work in a linux and unix scripting environment.\n",
    "\n",
    "The dataset used in Worksheet 1 is a three year subset of monthly PRECIS output data; covering South East Asia and driven by the global climate model (GCM): HadCMQ0. It has a unique identifier code: **capha**."
   ]
  },
  {
   "cell_type": "markdown",
   "metadata": {},
   "source": [
    "**a)** Firstly, find out what location you are currently in by using the **`pwd`** command; **`pwd`** stands for **print working directory**.\n",
    "\n",
    "In the cell below type **`%pwd`** on a new line and then press <kbd>Ctrl</kbd> + <kbd>Enter</kbd>.\n"
   ]
  },
  {
   "cell_type": "code",
   "execution_count": 22,
   "metadata": {},
   "outputs": [],
   "source": [
    "# Type %pwd below and press 'ctrl' + 'enter'\n",
    "\n"
   ]
  },
  {
   "cell_type": "markdown",
   "metadata": {},
   "source": [
    "**b)** List the contents of this directory; **`ls`** stands for **list** and using the **`-l`** option gives a longer listing with more information, such as file size and modification date. \n",
    "\n",
    "In the cell below type  **`%ls`** on a seperate line then press <kbd>Ctrl</kbd> + <kbd>Enter</kbd>."
   ]
  },
  {
   "cell_type": "code",
   "execution_count": 23,
   "metadata": {},
   "outputs": [],
   "source": [
    "# Type %ls and press 'ctrl' + 'enter'.\n",
    "\n",
    "# Type %ls -l and press 'ctrl' + 'enter'.\n"
   ]
  },
  {
   "cell_type": "markdown",
   "metadata": {},
   "source": [
    "<div class=\"alert alert-block alert-success\">\n",
    "<b>Question:</b> What is the difference between <code>ls</code> and <code>ls -l</code>?  What extra information do you see? Which file was edited most recently?\n",
    "</div>"
   ]
  },
  {
   "cell_type": "markdown",
   "metadata": {},
   "source": [
    "<b>Answer</b>: <br>\n",
    "*...Double click here to type your answer...*\n"
   ]
  },
  {
   "cell_type": "markdown",
   "metadata": {},
   "source": [
    "**c)** Move to the directory (i.e. folder) called `/project/precis/worksheets/data/pp/cahpa`. This directory contains monthly output data in pp format from a PRECIS experiment with RUNID *cahpa*. List the contents of the directory.\n",
    "\n",
    "**Hint:** The `cd` command stands for _change directory_\n",
    "\n",
    "Type your command(s) below and press <kbd>Ctrl</kbd> + <kbd>Enter</kbd>.\n"
   ]
  },
  {
   "cell_type": "code",
   "execution_count": 47,
   "metadata": {},
   "outputs": [],
   "source": [
    "# Type your %cd [directory-path] command below and press 'ctrl' + 'enter'.\n",
    "\n",
    "# List the contents of this directory, using a previous command. \n"
   ]
  },
  {
   "cell_type": "markdown",
   "metadata": {},
   "source": [
    "**d)** There are a lot of files in this directory! Now list only the files containing data for September.\n",
    "\n",
    "Type **`%ls *sep*`** in the code block below."
   ]
  },
  {
   "cell_type": "code",
   "execution_count": 46,
   "metadata": {},
   "outputs": [],
   "source": [
    "# Type %ls *sep* and press 'ctrl' + 'enter'.\n"
   ]
  },
  {
   "cell_type": "markdown",
   "metadata": {},
   "source": [
    "<div class=\"alert alert-block alert-info\">\n",
    "<b>Note:</b> The asterisk character <code>*</code> (also known as <i>glob</i>) matches any string within the filename\n",
    "</div>"
   ]
  },
  {
   "cell_type": "markdown",
   "metadata": {},
   "source": [
    "**e)** This still returns too many files to comfortably count manually. **`wc`** stands for **word count**; combining this command with **`ls`** allows us to count the number of items in that directory. \n",
    "\n",
    "In the cell below type  **`%ls *sep* | wc -l`** then press <kbd>Ctrl</kbd> + <kbd>Enter</kbd>."
   ]
  },
  {
   "cell_type": "code",
   "execution_count": 61,
   "metadata": {},
   "outputs": [],
   "source": [
    "# Type %ls *sep* | wc -l command below and press 'ctrl' + 'enter'\n"
   ]
  },
  {
   "cell_type": "markdown",
   "metadata": {},
   "source": [
    "<div class=\"alert alert-block alert-success\">\n",
    "<b>Question:</b> How many pp files are in this directory, in total?\n",
    "<br>How many of these pp files contain the string 'sep'; relating to September? What command fo you need to use to find this out?\n",
    "</div>"
   ]
  },
  {
   "cell_type": "markdown",
   "metadata": {},
   "source": [
    "<b>Answer</b>: \n",
    "<br>*Total number of pp files: \n",
    "<br>Number of September pp files:\n",
    "<br>Command used to find number of september pp files:*"
   ]
  },
  {
   "cell_type": "markdown",
   "metadata": {},
   "source": [
    "**f)** List all the files containing data from 1982 (i.e. all files which begin **`cahpaa.pmi2`**)\n",
    "\n",
    "Type below **`%ls cahpaa.pmi2???.pp`**"
   ]
  },
  {
   "cell_type": "code",
   "execution_count": null,
   "metadata": {
    "collapsed": true
   },
   "outputs": [],
   "source": [
    "# Type %ls cahpaa.pmi2???.pp and press 'ctrl' + 'enter'.\n"
   ]
  },
  {
   "cell_type": "markdown",
   "metadata": {},
   "source": [
    "<div class=\"alert alert-block alert-info\">\n",
    "<b>Note:</b> The question mark character <code>?</code> matches any single character\n",
    "</div>"
   ]
  },
  {
   "cell_type": "markdown",
   "metadata": {},
   "source": [
    "**g)** Now move up two levels in the directory tree and list the directories.\n",
    "\n",
    "Type `cd ../..` to move up two levels in the directory tree and press <kbd>Ctrl</kbd> + <kbd>Enter</kbd> to execute the command"
   ]
  },
  {
   "cell_type": "code",
   "execution_count": 62,
   "metadata": {},
   "outputs": [],
   "source": [
    "# Type %cd ../.. and press 'ctrl' + 'enter'.\n"
   ]
  },
  {
   "cell_type": "markdown",
   "metadata": {},
   "source": [
    "<div class=\"alert alert-block alert-success\">\n",
    "<b>Question:</b> Which directory are you in now?  What else can you see in this directory?\n",
    "</div>"
   ]
  },
  {
   "cell_type": "markdown",
   "metadata": {},
   "source": [
    "<b>Answer</b>:<br>\n",
    "*...Double click here to type your answer...*"
   ]
  },
  {
   "cell_type": "markdown",
   "metadata": {},
   "source": [
    "***\n",
    "<a id='1.2'></a>\n",
    "## 1.2 Getting started with Python and Iris\n",
    "<p><img src=\"img/python_and_iris.png\" alt=\"python + iris logo\" style=\"float: center; height: 100px;\"/></p>\n",
    "\n",
    "\n",
    "Python is a general purpose programming language. Python supports modules and packages, which encourages program modularity and code reuse. \n",
    "\n",
    "\n",
    "We also use the Python library [Iris](http://scitools.org.uk/iris/docs/latest/index.html), which is written in Python and is maintained by the Met Office. Iris seeks to provide a powerful, easy to use, and community-driven Python library for analysing and visualising meteorological and oceanographic data sets.\n",
    "\n",
    "The top level object in Iris is called a <b>cube</b>. A cube contains data and metadata about a phenomenon (i.e. air_temperature). Iris implements several major format importers which can take files of specific formats and turn them into Iris cubes.\n",
    "\n",
    "\n",
    "For a brief introduction to Iris and the cube formatting please read this Introduction page here: \n",
    "\n",
    "http://scitools.org.uk/iris/docs/latest/userguide/iris_cubes.html\n",
    "\n",
    "For future reference please refer to the Iris website:\n",
    "\n",
    "http://scitools.org.uk/iris/docs/latest/index.html\n"
   ]
  },
  {
   "cell_type": "markdown",
   "metadata": {},
   "source": [
    "**h)** First, run the code-block below to **load** a file into Iris and **print** it's metadata structure. <br>\n",
    "\n",
    "To run the code, click in the box below and press <kbd>Ctrl</kbd> + <kbd>Enter</kbd>."
   ]
  },
  {
   "cell_type": "code",
   "execution_count": 2,
   "metadata": {
    "scrolled": false
   },
   "outputs": [
    {
     "name": "stdout",
     "output_type": "stream",
     "text": [
      "2.2.0\n",
      "air_temperature / (K)               (grid_latitude: 176; grid_longitude: 176)\n",
      "     Dimension coordinates:\n",
      "          grid_latitude                           x                    -\n",
      "          grid_longitude                          -                    x\n",
      "     Scalar coordinates:\n",
      "          forecast_period: 1069560.0 hours, bound=(1069200.0, 1069920.0) hours\n",
      "          forecast_reference_time: 1859-12-01 00:00:00\n",
      "          height: 1.5 m\n",
      "          time: 1983-09-16 00:00:00, bound=(1983-09-01 00:00:00, 1983-10-01 00:00:00)\n",
      "     Attributes:\n",
      "          Conventions: CF-1.5\n",
      "          STASH: m01s03i236\n",
      "          source: Data from Met Office Unified Model\n",
      "     Cell methods:\n",
      "          mean: time (1 hour)\n"
     ]
    }
   ],
   "source": [
    "# import the necessary modules\n",
    "import iris\n",
    "import matplotlib.pyplot as plt\n",
    "import iris.quickplot as qplt\n",
    "import glob\n",
    "import os\n",
    "\n",
    "# this is needed so that the plots are generated inline with the code instead of a separate window\n",
    "%matplotlib inline \n",
    "\n",
    "# this prints the version of the Iris library you are using\n",
    "print(iris.__version__)\n",
    "\n",
    "# provide the path of your sample data\n",
    "sample_data = '/project/precis/worksheets/data/sample_data.nc'\n",
    "\n",
    "# Constraint the reading to a single variable and load it into an Iris cube\n",
    "cube = iris.load_cube(sample_data)\n",
    "\n",
    "# Print the Iris cube\n",
    "print(cube)"
   ]
  },
  {
   "cell_type": "markdown",
   "metadata": {},
   "source": [
    "<div class=\"alert alert-block alert-success\">\n",
    "<b>Question:</b> Can you explain how our sample data we printed above relates to this picture? Is our data above a 3D or a 2D cube?\n",
    "<img src=\"img/multi_array_to_cube.png\" alt=\"python + iris logo\" style=\"height: 300px\"/>\n",
    "</div>\n"
   ]
  },
  {
   "cell_type": "markdown",
   "metadata": {},
   "source": [
    "<b>Answer</b>:\n",
    "<br>*Is this cube 3D or 2D? \n",
    "<br>What are the cube dimensions? \n",
    "<br>How many grid boxes is the latitudinal range divided into? \n",
    "<br>What meteorological variable does this cube represent? \n",
    "<br>What unit is used for this variable?* \n"
   ]
  },
  {
   "cell_type": "markdown",
   "metadata": {},
   "source": [
    "**i)** Now **plot** the data for the selected variable: <br>\n",
    "\n",
    "To run the code, click in the box below and press <kbd>Ctrl</kbd> + <kbd>Enter</kbd>."
   ]
  },
  {
   "cell_type": "code",
   "execution_count": 3,
   "metadata": {},
   "outputs": [
    {
     "data": {
      "image/png": "[encoded data removed]",
      "text/plain": [
       "<Figure size 1440x720 with 2 Axes>"
      ]
     },
     "metadata": {
      "needs_background": "light"
     },
     "output_type": "display_data"
    }
   ],
   "source": [
    "# set figure size\n",
    "plt.figure(figsize=(20,10))\n",
    "\n",
    "# A contour plot of this variable\n",
    "qplt.contourf(cube)\n",
    "plt.title(cube.name())\n",
    "plt.show()"
   ]
  },
  {
   "cell_type": "markdown",
   "metadata": {},
   "source": [
    "***\n",
    "<a id='1.3'></a>\n",
    "## 1.3 Rim removal (single file example)\n",
    "\n",
    "The edges (or rim) of RCM outputs are biased due to the linear relaxation used on certain variables to apply the GCM lateral boundary conditions at the RCM's finer resolution. This rim from each edge needs to be excluded from any analysis.\n",
    "\n",
    "The practise PP files are 25km resolution so have an 8-point rim. The following code demonstrates how to remove the 8-point rim from all data in a specified pp file data directory."
   ]
  },
  {
   "cell_type": "markdown",
   "metadata": {},
   "source": [
    "<div class=\"alert alert-block alert-success\">\n",
    "<b>Question:</b> Read through the code below.  Identify the parts of the code that:<br>\n",
    "\n",
    "- Sets the input data directory <br>\n",
    "- Specifies the output file names<br>\n",
    "</div>"
   ]
  },
  {
   "cell_type": "markdown",
   "metadata": {},
   "source": [
    "**j)** Remove the 8 point rim from each raw pp file and save the 'rim-removed' files in NetCDF format. <br>\n",
    "\n",
    "To run the code, click in the box and press <kbd>Ctrl</kbd> + <kbd>Enter</kbd>."
   ]
  },
  {
   "cell_type": "code",
   "execution_count": 11,
   "metadata": {
    "scrolled": false
   },
   "outputs": [
    {
     "name": "stdout",
     "output_type": "stream",
     "text": [
      "/project/precis/worksheets/data/netcdf/cahpa\n"
     ]
    },
    {
     "ename": "PermissionError",
     "evalue": "[Errno 13] Permission denied: b'/project/precis/worksheets/data/netcdf/cahpa/cahpaa.pmi2feb_norim.nc'",
     "output_type": "error",
     "traceback": [
      "\u001b[0;31m---------------------------------------------------------------------------\u001b[0m",
      "\u001b[0;31mPermissionError\u001b[0m                           Traceback (most recent call last)",
      "\u001b[0;32m<ipython-input-11-f5e33971b3a7>\u001b[0m in \u001b[0;36m<module>\u001b[0;34m\u001b[0m\n\u001b[1;32m     24\u001b[0m         \u001b[0;31m# Write out the trimmed data file\u001b[0m\u001b[0;34m\u001b[0m\u001b[0;34m\u001b[0m\u001b[0m\n\u001b[1;32m     25\u001b[0m         \u001b[0moutfile\u001b[0m \u001b[0;34m=\u001b[0m \u001b[0mf\u001b[0m\u001b[0;34m.\u001b[0m\u001b[0mreplace\u001b[0m\u001b[0;34m(\u001b[0m\u001b[0;34m'.pp'\u001b[0m\u001b[0;34m,\u001b[0m \u001b[0;34m'_norim.nc'\u001b[0m\u001b[0;34m)\u001b[0m\u001b[0;34m.\u001b[0m\u001b[0mreplace\u001b[0m\u001b[0;34m(\u001b[0m\u001b[0;34m'/pp/'\u001b[0m\u001b[0;34m,\u001b[0m \u001b[0;34m'/netcdf/'\u001b[0m\u001b[0;34m)\u001b[0m\u001b[0;34m\u001b[0m\u001b[0m\n\u001b[0;32m---> 26\u001b[0;31m         \u001b[0miris\u001b[0m\u001b[0;34m.\u001b[0m\u001b[0msave\u001b[0m\u001b[0;34m(\u001b[0m\u001b[0mtempcubelist\u001b[0m\u001b[0;34m,\u001b[0m \u001b[0moutfile\u001b[0m\u001b[0;34m)\u001b[0m\u001b[0;34m\u001b[0m\u001b[0m\n\u001b[0m\u001b[1;32m     27\u001b[0m     \u001b[0;31m#%ls -lh ppdir.replace('/pp/', '/netcdf/')+runid\u001b[0m\u001b[0;34m\u001b[0m\u001b[0;34m\u001b[0m\u001b[0m\n",
      "\u001b[0;32m/opt/scitools/environments/experimental/2018_10_16-1/lib/python3.6/site-packages/iris/io/__init__.py\u001b[0m in \u001b[0;36msave\u001b[0;34m(source, target, saver, **kwargs)\u001b[0m\n\u001b[1;32m    429\u001b[0m         \u001b[0;31m# Netcdf saver.\u001b[0m\u001b[0;34m\u001b[0m\u001b[0;34m\u001b[0m\u001b[0m\n\u001b[1;32m    430\u001b[0m         \u001b[0;32melse\u001b[0m\u001b[0;34m:\u001b[0m\u001b[0;34m\u001b[0m\u001b[0m\n\u001b[0;32m--> 431\u001b[0;31m             \u001b[0msaver\u001b[0m\u001b[0;34m(\u001b[0m\u001b[0msource\u001b[0m\u001b[0;34m,\u001b[0m \u001b[0mtarget\u001b[0m\u001b[0;34m,\u001b[0m \u001b[0;34m**\u001b[0m\u001b[0mkwargs\u001b[0m\u001b[0;34m)\u001b[0m\u001b[0;34m\u001b[0m\u001b[0m\n\u001b[0m\u001b[1;32m    432\u001b[0m \u001b[0;34m\u001b[0m\u001b[0m\n\u001b[1;32m    433\u001b[0m     \u001b[0;32melse\u001b[0m\u001b[0;34m:\u001b[0m\u001b[0;34m\u001b[0m\u001b[0m\n",
      "\u001b[0;32m/opt/scitools/environments/experimental/2018_10_16-1/lib/python3.6/site-packages/iris/fileformats/netcdf.py\u001b[0m in \u001b[0;36msave\u001b[0;34m(cube, filename, netcdf_format, local_keys, unlimited_dimensions, zlib, complevel, shuffle, fletcher32, contiguous, chunksizes, endian, least_significant_digit, packing, fill_value)\u001b[0m\n\u001b[1;32m   2344\u001b[0m \u001b[0;34m\u001b[0m\u001b[0m\n\u001b[1;32m   2345\u001b[0m     \u001b[0;31m# Initialise Manager for saving\u001b[0m\u001b[0;34m\u001b[0m\u001b[0;34m\u001b[0m\u001b[0m\n\u001b[0;32m-> 2346\u001b[0;31m     \u001b[0;32mwith\u001b[0m \u001b[0mSaver\u001b[0m\u001b[0;34m(\u001b[0m\u001b[0mfilename\u001b[0m\u001b[0;34m,\u001b[0m \u001b[0mnetcdf_format\u001b[0m\u001b[0;34m)\u001b[0m \u001b[0;32mas\u001b[0m \u001b[0msman\u001b[0m\u001b[0;34m:\u001b[0m\u001b[0;34m\u001b[0m\u001b[0m\n\u001b[0m\u001b[1;32m   2347\u001b[0m         \u001b[0;31m# Iterate through the cubelist.\u001b[0m\u001b[0;34m\u001b[0m\u001b[0;34m\u001b[0m\u001b[0m\n\u001b[1;32m   2348\u001b[0m         \u001b[0;32mfor\u001b[0m \u001b[0mcube\u001b[0m\u001b[0;34m,\u001b[0m \u001b[0mpackspec\u001b[0m\u001b[0;34m,\u001b[0m \u001b[0mfill_value\u001b[0m \u001b[0;32min\u001b[0m \u001b[0mzip\u001b[0m\u001b[0;34m(\u001b[0m\u001b[0mcubes\u001b[0m\u001b[0;34m,\u001b[0m \u001b[0mpackspecs\u001b[0m\u001b[0;34m,\u001b[0m \u001b[0mfill_values\u001b[0m\u001b[0;34m)\u001b[0m\u001b[0;34m:\u001b[0m\u001b[0;34m\u001b[0m\u001b[0m\n",
      "\u001b[0;32m/opt/scitools/environments/experimental/2018_10_16-1/lib/python3.6/site-packages/iris/fileformats/netcdf.py\u001b[0m in \u001b[0;36m__init__\u001b[0;34m(self, filename, netcdf_format)\u001b[0m\n\u001b[1;32m    824\u001b[0m         \u001b[0;32mtry\u001b[0m\u001b[0;34m:\u001b[0m\u001b[0;34m\u001b[0m\u001b[0m\n\u001b[1;32m    825\u001b[0m             self._dataset = netCDF4.Dataset(filename, mode='w',\n\u001b[0;32m--> 826\u001b[0;31m                                             format=netcdf_format)\n\u001b[0m\u001b[1;32m    827\u001b[0m         \u001b[0;32mexcept\u001b[0m \u001b[0mRuntimeError\u001b[0m\u001b[0;34m:\u001b[0m\u001b[0;34m\u001b[0m\u001b[0m\n\u001b[1;32m    828\u001b[0m             \u001b[0mdir_name\u001b[0m \u001b[0;34m=\u001b[0m \u001b[0mos\u001b[0m\u001b[0;34m.\u001b[0m\u001b[0mpath\u001b[0m\u001b[0;34m.\u001b[0m\u001b[0mdirname\u001b[0m\u001b[0;34m(\u001b[0m\u001b[0mfilename\u001b[0m\u001b[0;34m)\u001b[0m\u001b[0;34m\u001b[0m\u001b[0m\n",
      "\u001b[0;32mnetCDF4/_netCDF4.pyx\u001b[0m in \u001b[0;36mnetCDF4._netCDF4.Dataset.__init__\u001b[0;34m()\u001b[0m\n",
      "\u001b[0;32mnetCDF4/_netCDF4.pyx\u001b[0m in \u001b[0;36mnetCDF4._netCDF4._ensure_nc_success\u001b[0;34m()\u001b[0m\n",
      "\u001b[0;31mPermissionError\u001b[0m: [Errno 13] Permission denied: b'/project/precis/worksheets/data/netcdf/cahpa/cahpaa.pmi2feb_norim.nc'"
     ]
    }
   ],
   "source": [
    "datadir = '/project/precis/worksheets/data'\n",
    "\n",
    "for runid in ['cahpa', 'cahpb']:\n",
    "    ppdir = os.path.join(datadir, 'pp', runid)\n",
    "    \n",
    "    # find all the files from which to remove the rim\n",
    "    file_list = glob.glob(ppdir + '/*.pp')\n",
    "\n",
    "    for f in file_list:\n",
    "        # This will load all the variables in the file into a CubeList\n",
    "        datacubes = iris.load(f)\n",
    "        tempcubelist = []\n",
    "        for cube in datacubes:\n",
    "            temprimcubelist = []\n",
    "            # In case the data are more than 2 dimensional, grab a 2d slice\n",
    "            for yx_slice in cube.slices(['grid_latitude','grid_longitude']):\n",
    "                norimcube = yx_slice[8 : -8 , 8 : -8]\n",
    "                temprimcubelist.append(norimcube)\n",
    "            # Merge the individual 2d slices into a single cube\n",
    "            trimmedcube = iris.cube.CubeList(temprimcubelist).merge_cube()\n",
    "            tempcubelist.append(trimmedcube)\n",
    "        # Write out the trimmed data file\n",
    "        outfile = f.replace('.pp', '_norim.nc').replace('/pp/', '/netcdf/')\n",
    "        iris.save(tempcubelist, outfile)\n"
   ]
  },
  {
   "cell_type": "markdown",
   "metadata": {},
   "source": [
    "***\n",
    "<a id='1.4'></a>\n",
    "## 1.4 Select variables\n",
    "\n",
    "In these worksheets, the monthly data files contain multiple variables; we can use Iris to separate the variables and save them as seperate netCDF files.\n",
    "\n",
    "**k)** **Separate each variable** into its own directory.\n",
    "\n",
    "Click in the box below and press <kbd>Ctrl</kbd> + <kbd>Enter</kbd> to run the code."
   ]
  },
  {
   "cell_type": "code",
   "execution_count": 12,
   "metadata": {
    "scrolled": true
   },
   "outputs": [
    {
     "ename": "PermissionError",
     "evalue": "[Errno 13] Permission denied: b'/project/precis/worksheets/data/netcdf/cahpa/16222/cahpaa.pmi2aug_norim.nc'",
     "output_type": "error",
     "traceback": [
      "\u001b[0;31m---------------------------------------------------------------------------\u001b[0m",
      "\u001b[0;31mPermissionError\u001b[0m                           Traceback (most recent call last)",
      "\u001b[0;32m<ipython-input-12-4c1db040c334>\u001b[0m in \u001b[0;36m<module>\u001b[0;34m\u001b[0m\n\u001b[1;32m     21\u001b[0m \u001b[0;34m\u001b[0m\u001b[0m\n\u001b[1;32m     22\u001b[0m             \u001b[0;31m# save the individual variable\u001b[0m\u001b[0;34m\u001b[0m\u001b[0;34m\u001b[0m\u001b[0m\n\u001b[0;32m---> 23\u001b[0;31m             \u001b[0miris\u001b[0m\u001b[0;34m.\u001b[0m\u001b[0msave\u001b[0m\u001b[0;34m(\u001b[0m\u001b[0mcube\u001b[0m\u001b[0;34m,\u001b[0m \u001b[0mos\u001b[0m\u001b[0;34m.\u001b[0m\u001b[0mpath\u001b[0m\u001b[0;34m.\u001b[0m\u001b[0mjoin\u001b[0m\u001b[0;34m(\u001b[0m\u001b[0mnetcdfdir\u001b[0m\u001b[0;34m,\u001b[0m \u001b[0mdirname\u001b[0m\u001b[0;34m,\u001b[0m \u001b[0mos\u001b[0m\u001b[0;34m.\u001b[0m\u001b[0mpath\u001b[0m\u001b[0;34m.\u001b[0m\u001b[0mbasename\u001b[0m\u001b[0;34m(\u001b[0m\u001b[0mf\u001b[0m\u001b[0;34m)\u001b[0m\u001b[0;34m)\u001b[0m\u001b[0;34m)\u001b[0m\u001b[0;34m\u001b[0m\u001b[0m\n\u001b[0m",
      "\u001b[0;32m/opt/scitools/environments/experimental/2018_10_16-1/lib/python3.6/site-packages/iris/io/__init__.py\u001b[0m in \u001b[0;36msave\u001b[0;34m(source, target, saver, **kwargs)\u001b[0m\n\u001b[1;32m    406\u001b[0m     \u001b[0;31m# Single cube?\u001b[0m\u001b[0;34m\u001b[0m\u001b[0;34m\u001b[0m\u001b[0m\n\u001b[1;32m    407\u001b[0m     \u001b[0;32mif\u001b[0m \u001b[0misinstance\u001b[0m\u001b[0;34m(\u001b[0m\u001b[0msource\u001b[0m\u001b[0;34m,\u001b[0m \u001b[0miris\u001b[0m\u001b[0;34m.\u001b[0m\u001b[0mcube\u001b[0m\u001b[0;34m.\u001b[0m\u001b[0mCube\u001b[0m\u001b[0;34m)\u001b[0m\u001b[0;34m:\u001b[0m\u001b[0;34m\u001b[0m\u001b[0m\n\u001b[0;32m--> 408\u001b[0;31m         \u001b[0msaver\u001b[0m\u001b[0;34m(\u001b[0m\u001b[0msource\u001b[0m\u001b[0;34m,\u001b[0m \u001b[0mtarget\u001b[0m\u001b[0;34m,\u001b[0m \u001b[0;34m**\u001b[0m\u001b[0mkwargs\u001b[0m\u001b[0;34m)\u001b[0m\u001b[0;34m\u001b[0m\u001b[0m\n\u001b[0m\u001b[1;32m    409\u001b[0m \u001b[0;34m\u001b[0m\u001b[0m\n\u001b[1;32m    410\u001b[0m     \u001b[0;31m# CubeList or sequence of cubes?\u001b[0m\u001b[0;34m\u001b[0m\u001b[0;34m\u001b[0m\u001b[0m\n",
      "\u001b[0;32m/opt/scitools/environments/experimental/2018_10_16-1/lib/python3.6/site-packages/iris/fileformats/netcdf.py\u001b[0m in \u001b[0;36msave\u001b[0;34m(cube, filename, netcdf_format, local_keys, unlimited_dimensions, zlib, complevel, shuffle, fletcher32, contiguous, chunksizes, endian, least_significant_digit, packing, fill_value)\u001b[0m\n\u001b[1;32m   2344\u001b[0m \u001b[0;34m\u001b[0m\u001b[0m\n\u001b[1;32m   2345\u001b[0m     \u001b[0;31m# Initialise Manager for saving\u001b[0m\u001b[0;34m\u001b[0m\u001b[0;34m\u001b[0m\u001b[0m\n\u001b[0;32m-> 2346\u001b[0;31m     \u001b[0;32mwith\u001b[0m \u001b[0mSaver\u001b[0m\u001b[0;34m(\u001b[0m\u001b[0mfilename\u001b[0m\u001b[0;34m,\u001b[0m \u001b[0mnetcdf_format\u001b[0m\u001b[0;34m)\u001b[0m \u001b[0;32mas\u001b[0m \u001b[0msman\u001b[0m\u001b[0;34m:\u001b[0m\u001b[0;34m\u001b[0m\u001b[0m\n\u001b[0m\u001b[1;32m   2347\u001b[0m         \u001b[0;31m# Iterate through the cubelist.\u001b[0m\u001b[0;34m\u001b[0m\u001b[0;34m\u001b[0m\u001b[0m\n\u001b[1;32m   2348\u001b[0m         \u001b[0;32mfor\u001b[0m \u001b[0mcube\u001b[0m\u001b[0;34m,\u001b[0m \u001b[0mpackspec\u001b[0m\u001b[0;34m,\u001b[0m \u001b[0mfill_value\u001b[0m \u001b[0;32min\u001b[0m \u001b[0mzip\u001b[0m\u001b[0;34m(\u001b[0m\u001b[0mcubes\u001b[0m\u001b[0;34m,\u001b[0m \u001b[0mpackspecs\u001b[0m\u001b[0;34m,\u001b[0m \u001b[0mfill_values\u001b[0m\u001b[0;34m)\u001b[0m\u001b[0;34m:\u001b[0m\u001b[0;34m\u001b[0m\u001b[0m\n",
      "\u001b[0;32m/opt/scitools/environments/experimental/2018_10_16-1/lib/python3.6/site-packages/iris/fileformats/netcdf.py\u001b[0m in \u001b[0;36m__init__\u001b[0;34m(self, filename, netcdf_format)\u001b[0m\n\u001b[1;32m    824\u001b[0m         \u001b[0;32mtry\u001b[0m\u001b[0;34m:\u001b[0m\u001b[0;34m\u001b[0m\u001b[0m\n\u001b[1;32m    825\u001b[0m             self._dataset = netCDF4.Dataset(filename, mode='w',\n\u001b[0;32m--> 826\u001b[0;31m                                             format=netcdf_format)\n\u001b[0m\u001b[1;32m    827\u001b[0m         \u001b[0;32mexcept\u001b[0m \u001b[0mRuntimeError\u001b[0m\u001b[0;34m:\u001b[0m\u001b[0;34m\u001b[0m\u001b[0m\n\u001b[1;32m    828\u001b[0m             \u001b[0mdir_name\u001b[0m \u001b[0;34m=\u001b[0m \u001b[0mos\u001b[0m\u001b[0;34m.\u001b[0m\u001b[0mpath\u001b[0m\u001b[0;34m.\u001b[0m\u001b[0mdirname\u001b[0m\u001b[0;34m(\u001b[0m\u001b[0mfilename\u001b[0m\u001b[0;34m)\u001b[0m\u001b[0;34m\u001b[0m\u001b[0m\n",
      "\u001b[0;32mnetCDF4/_netCDF4.pyx\u001b[0m in \u001b[0;36mnetCDF4._netCDF4.Dataset.__init__\u001b[0;34m()\u001b[0m\n",
      "\u001b[0;32mnetCDF4/_netCDF4.pyx\u001b[0m in \u001b[0;36mnetCDF4._netCDF4._ensure_nc_success\u001b[0;34m()\u001b[0m\n",
      "\u001b[0;31mPermissionError\u001b[0m: [Errno 13] Permission denied: b'/project/precis/worksheets/data/netcdf/cahpa/16222/cahpaa.pmi2aug_norim.nc'"
     ]
    }
   ],
   "source": [
    "for runid in ['cahpa', 'cahpb']:    \n",
    "    netcdfdir = os.path.join(datadir, 'netcdf', runid)\n",
    "\n",
    "    file_list = glob.glob(netcdfdir + '/*.nc')\n",
    "\n",
    "    for f in file_list:\n",
    "        # This will load all the variables in the file into a CubeList\n",
    "        datacubes = iris.load(f)\n",
    "\n",
    "        for cube in datacubes:\n",
    "\n",
    "            # get the STASH code\n",
    "            cubeSTASH = cube.attributes['STASH'] \n",
    "\n",
    "            # create a directory based on the STASH code\n",
    "            dirname = str(cubeSTASH.section).zfill(2)+str(cubeSTASH.item).zfill(3)\n",
    "\n",
    "            # checks if directory exists, if not; creates a directory\n",
    "            if not os.path.exists(os.path.join(netcdfdir, dirname)):\n",
    "                os.mkdir(os.path.join(netcdfdir, dirname))\n",
    "\n",
    "            # save the individual variable\n",
    "            iris.save(cube, os.path.join(netcdfdir, dirname, os.path.basename(f)))"
   ]
  },
  {
   "cell_type": "markdown",
   "metadata": {},
   "source": [
    "**l)** For each variable (Temperature, Precipitation, Surface Pressure) **concatenate** (i.e. combine) the monthly files into a single cube and save as one file.\n",
    "\n",
    "Click in the box below and press <kbd>Ctrl</kbd> + <kbd>Enter</kbd> to run the code.\n"
   ]
  },
  {
   "cell_type": "code",
   "execution_count": 4,
   "metadata": {
    "scrolled": true
   },
   "outputs": [
    {
     "ename": "NameError",
     "evalue": "name 'datadir' is not defined",
     "output_type": "error",
     "traceback": [
      "\u001b[0;31m---------------------------------------------------------------------------\u001b[0m",
      "\u001b[0;31mNameError\u001b[0m                                 Traceback (most recent call last)",
      "\u001b[0;32m<ipython-input-4-1254a7c76069>\u001b[0m in \u001b[0;36m<module>\u001b[0;34m\u001b[0m\n\u001b[1;32m      5\u001b[0m \u001b[0;34m\u001b[0m\u001b[0m\n\u001b[1;32m      6\u001b[0m \u001b[0;32mfor\u001b[0m \u001b[0mrunid\u001b[0m \u001b[0;32min\u001b[0m \u001b[0;34m[\u001b[0m\u001b[0;34m'cahpa'\u001b[0m\u001b[0;34m,\u001b[0m \u001b[0;34m'cahpb'\u001b[0m\u001b[0;34m]\u001b[0m\u001b[0;34m:\u001b[0m\u001b[0;34m\u001b[0m\u001b[0m\n\u001b[0;32m----> 7\u001b[0;31m     \u001b[0mnetcdfdir\u001b[0m \u001b[0;34m=\u001b[0m \u001b[0mos\u001b[0m\u001b[0;34m.\u001b[0m\u001b[0mpath\u001b[0m\u001b[0;34m.\u001b[0m\u001b[0mjoin\u001b[0m\u001b[0;34m(\u001b[0m\u001b[0mdatadir\u001b[0m\u001b[0;34m,\u001b[0m \u001b[0;34m'netcdf'\u001b[0m\u001b[0;34m,\u001b[0m \u001b[0mrunid\u001b[0m\u001b[0;34m)\u001b[0m\u001b[0;34m\u001b[0m\u001b[0m\n\u001b[0m\u001b[1;32m      8\u001b[0m     \u001b[0;31m# loop over each stash code directory\u001b[0m\u001b[0;34m\u001b[0m\u001b[0;34m\u001b[0m\u001b[0m\n\u001b[1;32m      9\u001b[0m     \u001b[0;32mfor\u001b[0m \u001b[0mstash\u001b[0m \u001b[0;32min\u001b[0m \u001b[0mstash_codes\u001b[0m\u001b[0;34m.\u001b[0m\u001b[0mkeys\u001b[0m\u001b[0;34m(\u001b[0m\u001b[0;34m)\u001b[0m\u001b[0;34m:\u001b[0m\u001b[0;34m\u001b[0m\u001b[0m\n",
      "\u001b[0;31mNameError\u001b[0m: name 'datadir' is not defined"
     ]
    }
   ],
   "source": [
    "#Dictionary of stash codes and associated variable names \n",
    "stash_codes = {'03236':'tm',\n",
    "               '05216':'pr',\n",
    "               '16222': 'pmsl'}\n",
    "\n",
    "for runid in ['cahpa', 'cahpb']:    \n",
    "    netcdfdir = os.path.join(datadir, 'netcdf', runid)\n",
    "    # loop over each stash code directory\n",
    "    for stash in stash_codes.keys():\n",
    "        # load the file names into the variable file_list\n",
    "        file_list = glob.glob(os.path.join(netcdfdir, stash, '*pmi*.nc'))\n",
    "\n",
    "        cubelist = [] # an empty array to append the monthly cubes to\n",
    "        for f in file_list:\n",
    "            # There is only one cube so using single cube load function\n",
    "            cubelist.append(iris.load_cube(f))\n",
    "\n",
    "        # Merge all the cubes in the list created above\n",
    "        mergedcube = iris.cube.CubeList(cubelist).merge_cube()\n",
    "\n",
    "        outfile = os.path.join(netcdfdir, runid + '.pm.1981_1983.' + stash_codes[stash] + '.norim.nc')\n",
    "\n",
    "        iris.save(mergedcube, outfile)\n",
    "        \n",
    "        print(outfile)"
   ]
  },
  {
   "cell_type": "markdown",
   "metadata": {},
   "source": [
    "<div class=\"alert alert-block alert-info\">\n",
    "<b>Note:</b> Monthly files exist for the years 1981, 1982 and 1983, so the new file name specifies `<b>1981_1983</b>`."
   ]
  },
  {
   "cell_type": "markdown",
   "metadata": {},
   "source": [
    "<div class=\"alert alert-block alert-success\">\n",
    "<b>Question:</b> Use the <b>cd</b> and <b>ls</b> commands to check the NetCDF directory which you have been creating new files in. <br>\n",
    "    Confirm that a new directory has been created for individual stash codes (variables). <br>\n",
    "    Move into one of these directories and list the files within. <br>\n",
    "    What is the size of the concatenated file (containing 1981-1983 data)?\n",
    "</div>"
   ]
  },
  {
   "cell_type": "code",
   "execution_count": 6,
   "metadata": {},
   "outputs": [],
   "source": [
    "# use %cd and %ls to list the contents of your new directory containing NetCDF files:\n",
    "\n",
    "\n",
    "# use %cd to move into one of the stash directories:\n",
    "\n",
    "\n",
    "# use %ls -lh to compare the size of the single-year files and the concatenated file: \n",
    "\n"
   ]
  },
  {
   "cell_type": "markdown",
   "metadata": {},
   "source": [
    "<b>Answer:</b><br>\n",
    "*Size of the concatenated file:*"
   ]
  },
  {
   "cell_type": "markdown",
   "metadata": {},
   "source": [
    "<b>This completes worksheet 1.</b> You have created pre-processed files (rim removed, individual variables, concenated over time, in NetCDF format). <br>\n",
    "In worksheet 2, you will begin to analyse these files."
   ]
  },
  {
   "cell_type": "markdown",
   "metadata": {},
   "source": [
    "© Crown Copyright 2018, Met Office"
   ]
  }
 ],
 "metadata": {
  "kernelspec": {
   "display_name": "Python 3",
   "language": "python",
   "name": "python3"
  },
  "language_info": {
   "codemirror_mode": {
    "name": "ipython",
    "version": 3
   },
   "file_extension": ".py",
   "mimetype": "text/x-python",
   "name": "python",
   "nbconvert_exporter": "python",
   "pygments_lexer": "ipython3",
   "version": "3.6.6"
  },
  "widgets": {
   "state": {},
   "version": "1.1.2"
  }
 },
 "nbformat": 4,
 "nbformat_minor": 1
}
