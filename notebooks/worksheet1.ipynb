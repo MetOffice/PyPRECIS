{
 "cells": [
  {
   "cell_type": "markdown",
   "metadata": {},
   "source": [
    "# Worksheet 1: File locations and pre-processing\n",
    "The exercises in this worksheet demonstrate some of the tools available for data analysis, and how to prepare PRECIS output for analysis (pre-processing). This can be time consuming for large amounts of data, so in this worksheet a small subset of data is used to easily demonstrate the steps involved. \n",
    "Future worksheets use data that has undergone pre-processing.\n",
    "\n",
    "PRECIS output files are in PP format; a Met Office binary data format. This worksheet converts data to [NetCDF](https://www.unidata.ucar.edu/software/netcdf/) format (a standard format in climate science) so that it can be used in post processing packages such as Python and the Python library [Iris](http://scitools.org.uk/iris/docs/latest/index.html)."
   ]
  },
  {
   "cell_type": "markdown",
   "metadata": {},
   "source": [
    "<div class=\"alert alert-block alert-warning\">\n",
    "<b>By the end of this worksheet you should be able to:</b><br> \n",
    "- Identify and list the names of PRECIS output data in PP format using standard Linux commands.<br>\n",
    "- Use basic Iris commands to load data files, and view Iris cubes. <br>\n",
    "- Use Iris commands to remove the model rim, select data variables and save the output as NetCDF files.\n",
    "</div>"
   ]
  },
  {
   "cell_type": "markdown",
   "metadata": {},
   "source": [
    "<div class=\"alert alert-block alert-info\">\n",
    "<b>Note:</b> In the boxes where there is code or where you are asked to type code, click in the box, then press <kbd>Ctrl</kbd> + <kbd>Enter</kbd> to run the code. <br>\n",
    "<b>Note:</b> An percentage sign <code>%</code> is needed to run some commands on the shell. It is noted where this is needed.<br>\n",
    "<b>Note:</b> A hash <code>#</code> denotes a comment; anything written after this character does not affect the command being run. <br>\n",
    "</div>"
   ]
  },
  {
   "cell_type": "markdown",
   "metadata": {},
   "source": [
    "## Contents\n",
    "### [1.1: Data locations and file names](#1.1) \n",
    "### [1.2: Getting started with to python and Iris](#1.2)\n",
    "### [1.3: Rim removal (single file example)](#1.3)\n",
    "### [1.4: Select variables](#1.4)"
   ]
  },
  {
   "cell_type": "markdown",
   "metadata": {},
   "source": [
    "<a id='1.1'></a>\n",
    "## 1.1 Data locations and file names\n",
    "The datasets used within these worksheets are already linked to the notebook in order to provide quick and easy access for the purpose of this training. However the commands learned in this worksheet provide useful context for future work in a linux and unix scripting environment.\n",
    "\n",
    "The dataset used in Worksheet 1 is a three year subset of monthly PRECIS output data; covering South East Asia and driven by the global climate model (GCM): HadCMQ0. It has a unique identifier code: **capha**."
   ]
  },
  {
   "cell_type": "markdown",
   "metadata": {},
   "source": [
    "**a)** Firstly, find out what location you are currently in by using the **`pwd`** command; **`pwd`** stands for **print working directory**.\n",
    "\n",
    "In the cell below type **`%pwd`** on a new line and then press <kbd>Ctrl</kbd> + <kbd>Enter</kbd>.\n"
   ]
  },
  {
   "cell_type": "code",
   "execution_count": null,
   "metadata": {},
   "outputs": [],
   "source": [
    "# Type %pwd below and press 'ctrl' + 'enter'\n"
   ]
  },
  {
   "cell_type": "markdown",
   "metadata": {},
   "source": [
    "**b)** List the contents of this directory; **`ls`** stands for **list** and using the **`-l`** option gives a longer listing with more information, such as file size and modification date. \n",
    "\n",
    "In the cell below type  **`%ls`** on a separate line then press <kbd>Ctrl</kbd> + <kbd>Enter</kbd>."
   ]
  },
  {
   "cell_type": "code",
   "execution_count": null,
   "metadata": {},
   "outputs": [],
   "source": [
    "# Type %ls and press 'ctrl' + 'enter'.\n",
    "\n",
    "\n",
    "# Type %ls -l and press 'ctrl' + 'enter'.\n",
    "\n"
   ]
  },
  {
   "cell_type": "markdown",
   "metadata": {},
   "source": [
    "---\n",
    "<div class=\"alert alert-block alert-success\">\n",
    "<b>Question:</b> What is the difference between <code>ls</code> and <code>ls -l</code>?  What extra information do you see? Which file was edited most recently?\n",
    "</div>"
   ]
  },
  {
   "cell_type": "markdown",
   "metadata": {},
   "source": [
    "<b>Answer</b>: <br>\n",
    "*...Double click here to type your answer...*\n",
    "\n",
    "---"
   ]
  },
  {
   "cell_type": "markdown",
   "metadata": {},
   "source": [
    "**c)** Move to the directory (i.e. folder) called `/project/ciid/projects/PRECIS/worksheets/data/pp/cahpa`. This directory contains monthly output data in pp format from a PRECIS experiment with RUNID *cahpa*. List the contents of the directory.\n",
    "\n",
    "**Hint:** The `cd` command stands for _change directory_\n",
    "\n",
    "Type your command(s) below and press <kbd>Ctrl</kbd> + <kbd>Enter</kbd>.\n"
   ]
  },
  {
   "cell_type": "code",
   "execution_count": null,
   "metadata": {},
   "outputs": [],
   "source": [
    "# Type your %cd [directory-path] command below and press 'ctrl' + 'enter'.\n",
    "\n",
    "\n",
    "# List the contents of this directory, using a previous command. \n",
    "\n"
   ]
  },
  {
   "cell_type": "markdown",
   "metadata": {},
   "source": [
    "**d)** There are a lot of files in this directory! The file names contain information on the simulated date of the data they contain - you'll learn more about the naming convention for PRECIS output in the _Data Storage System and Model Output_ presention.\n",
    "\n",
    "For now, list only the files containing data for _September_ using the following command:\n",
    "\n",
    "Type **`%ls *sep*`** in the code block below."
   ]
  },
  {
   "cell_type": "code",
   "execution_count": null,
   "metadata": {},
   "outputs": [],
   "source": [
    "# Type %ls *sep* and press 'ctrl' + 'enter'.\n",
    "\n"
   ]
  },
  {
   "cell_type": "markdown",
   "metadata": {},
   "source": [
    "<div class=\"alert alert-block alert-info\">\n",
    "<b>Note:</b> The asterisk character <code>*</code> (also known as <i>glob</i>) matches any string within the filename\n",
    "</div>"
   ]
  },
  {
   "cell_type": "markdown",
   "metadata": {},
   "source": [
    "**e)** This still returns too many files to comfortably count manually. **`wc`** stands for **word count**; combining this command with **`ls`** allows us to count the number of items in that directory. \n",
    "\n",
    "In the cell below type  **`%ls *sep* | wc -l`** then press <kbd>Ctrl</kbd> + <kbd>Enter</kbd>."
   ]
  },
  {
   "cell_type": "code",
   "execution_count": null,
   "metadata": {},
   "outputs": [],
   "source": [
    "# Type %ls *sep* | wc -l command below and press 'ctrl' + 'enter'\n",
    "\n"
   ]
  },
  {
   "cell_type": "markdown",
   "metadata": {},
   "source": [
    "---\n",
    "<div class=\"alert alert-block alert-success\">\n",
    "<b>Question:</b> How many pp files are in this directory, in total?\n",
    "<br>How many of these pp files contain the string 'sep'; relating to September? What command do you need to use to find this out?\n",
    "</div>"
   ]
  },
  {
   "cell_type": "markdown",
   "metadata": {},
   "source": [
    "<b>Answer</b>: \n",
    "<br>*Total number of pp files: \n",
    "<br>Number of September pp files:\n",
    "<br>Command used to find number of september pp files:*\n",
    "\n",
    "---"
   ]
  },
  {
   "cell_type": "markdown",
   "metadata": {},
   "source": [
    "**f)** To list all the files containing data from 1982, we use the code **pmi2**.  Remember, you learn how to decode PRECIS output files names later...\n",
    "\n",
    "Type below **`%ls cahpaa.pmi2???.pp`**"
   ]
  },
  {
   "cell_type": "code",
   "execution_count": null,
   "metadata": {},
   "outputs": [],
   "source": [
    "# Type %ls cahpaa.pmi2???.pp and press 'ctrl' + 'enter'.\n",
    "\n"
   ]
  },
  {
   "cell_type": "markdown",
   "metadata": {},
   "source": [
    "<div class=\"alert alert-block alert-info\">\n",
    "<b>Note:</b> The question mark character <code>?</code> matches any single character\n",
    "</div>"
   ]
  },
  {
   "cell_type": "markdown",
   "metadata": {},
   "source": [
    "**g)** Now move up two levels in the directory tree and list the directories.\n",
    "\n",
    "Type `cd ../..` to move up two levels in the directory tree and press <kbd>Ctrl</kbd> + <kbd>Enter</kbd> to execute the command"
   ]
  },
  {
   "cell_type": "code",
   "execution_count": null,
   "metadata": {},
   "outputs": [],
   "source": [
    "# Type %cd ../.. and press 'ctrl' + 'enter'.\n",
    "\n"
   ]
  },
  {
   "cell_type": "markdown",
   "metadata": {},
   "source": [
    "---\n",
    "<div class=\"alert alert-block alert-success\">\n",
    "<b>Question:</b> Which directory are you in now?  What else can you see in this directory?\n",
    "</div>"
   ]
  },
  {
   "cell_type": "markdown",
   "metadata": {},
   "source": [
    "<b>Answer</b>:<br>\n",
    "*...Double click here to type your answer...*\n",
    "\n"
   ]
  },
  {
   "cell_type": "markdown",
   "metadata": {},
   "source": [
    "***\n",
    "<a id='1.2'></a>\n",
    "## 1.2 Getting started with Python and Iris\n",
    "<p><img src=\"img/python_and_iris.png\" alt=\"python + iris logo\" style=\"float: center; height: 100px;\"/></p>\n",
    "\n",
    "\n",
    "Python is a general purpose programming language. Python supports modules and packages, which encourages program modularity and code reuse. \n",
    "\n",
    "\n",
    "We also use the Python library [Iris](http://scitools.org.uk/iris/docs/latest/index.html), which is written in Python and is maintained by the Met Office. Iris seeks to provide a powerful, easy to use, and community-driven Python library for analysing and visualising meteorological and oceanographic data sets.\n",
    "\n",
    "The top level object in Iris is called a <b>cube</b>. A cube contains data and metadata about a phenomenon (i.e. air_temperature). Iris handles several different types of file formats, loadiing them into Iris cubes.\n",
    "\n",
    "\n",
    "For a brief introduction to Iris and the cube formatting please read this Introduction page here: \n",
    "\n",
    "http://scitools.org.uk/iris/docs/latest/userguide/iris_cubes.html\n",
    "\n",
    "For future reference please refer to the Iris website:\n",
    "\n",
    "http://scitools.org.uk/iris/docs/latest/index.html\n"
   ]
  },
  {
   "cell_type": "markdown",
   "metadata": {},
   "source": [
    "**h)** First, run the code-block below to **load** a file into Iris and **print** its metadata structure. <br>\n",
    "\n",
    "To run the code, click in the box below and press <kbd>Ctrl</kbd> + <kbd>Enter</kbd>."
   ]
  },
  {
   "cell_type": "code",
   "execution_count": null,
   "metadata": {
    "scrolled": false
   },
   "outputs": [],
   "source": [
    "# import the necessary modules\n",
    "import iris\n",
    "import glob\n",
    "import os\n",
    "\n",
    "# this is needed so that the plots are generated inline with the code instead of a separate window\n",
    "%matplotlib inline \n",
    "\n",
    "# provide the path of your sample data\n",
    "sample_data = '/project/ciid/projects/PRECIS/worksheets/data/sample_data.nc'\n",
    "\n",
    "# Constraint the reading to a single variable and load it into an Iris cube\n",
    "cube = iris.load_cube(sample_data)\n",
    "\n",
    "# Print the Iris cube\n",
    "print(cube)"
   ]
  },
  {
   "cell_type": "markdown",
   "metadata": {},
   "source": [
    "---\n",
    "<div class=\"alert alert-block alert-success\">\n",
    "<b>Question:</b> Can you explain how our sample data we printed above relates to this picture?\n",
    "<img src=\"img/multi_array_to_cube.png\" alt=\"diagram of an Iris cube\" style=\"height: 300px\"/> <br>\n",
    "\n",
    "- Is our data above a 3D or a 2D cube? <br>\n",
    "- What are the cube dimensions? <br>\n",
    "- How many grid boxes is the latitudinal range divided into? <br>\n",
    "- What meteorological variable does this cube represent? <br>\n",
    "- What unit is used for this variable? <br>\n",
    "</div>\n"
   ]
  },
  {
   "cell_type": "markdown",
   "metadata": {},
   "source": [
    "<b>Answer</b>:\n",
    "<br>*Is this cube 3D or 2D? \n",
    "<br>What are the cube dimensions? \n",
    "<br>How many grid boxes is the latitudinal range divided into? \n",
    "<br>What meteorological variable does this cube represent? \n",
    "<br>What unit is used for this variable?* \n",
    "\n",
    "---"
   ]
  },
  {
   "cell_type": "markdown",
   "metadata": {},
   "source": [
    "**i)** Now **plot** the data for the selected variable: <br>\n",
    "\n",
    "To run the code, click in the box below and press <kbd>Ctrl</kbd> + <kbd>Enter</kbd>."
   ]
  },
  {
   "cell_type": "code",
   "execution_count": null,
   "metadata": {},
   "outputs": [],
   "source": [
    "import matplotlib.pyplot as plt\n",
    "import iris.quickplot as qplt\n",
    "\n",
    "plt.figure(figsize=(12,12))  # Set the figure size\n",
    "qplt.pcolormesh(cube)  # Plot the cube\n",
    "plt.title(cube.name())  # Add plot title\n",
    "plt.clim(0, 5e-4)  # Set colour bar range\n",
    "plt.show()  # Show the plot"
   ]
  },
  {
   "cell_type": "markdown",
   "metadata": {},
   "source": [
    "---\n",
    "<div class=\"alert alert-block alert-success\">\n",
    "<b>Question:</b> Do you notice any irregularities in precipitation at the edges of the plot?  Do you think this is realisitc or unrealistic? \n",
    "</div>"
   ]
  },
  {
   "cell_type": "markdown",
   "metadata": {},
   "source": [
    "<b>Answer</b>:<br>\n",
    "*...Double click here to type your answer...*\n",
    "\n",
    "---"
   ]
  },
  {
   "cell_type": "markdown",
   "metadata": {},
   "source": [
    "<a id='1.3'></a>\n",
    "## 1.3 Rim removal (single file example)\n",
    "\n",
    "The edges (or rim) of RCM outputs are biased due to the linear relaxation used on certain variables to apply the GCM lateral boundary conditions at the RCM's finer resolution. This rim from each edge needs to be excluded from any analysis.\n",
    "\n",
    "The practice PP files are 25km resolution and have an 8-point rim. The following code demonstrates how to remove the 8-point rim from all data in a specified pp file data directory."
   ]
  },
  {
   "cell_type": "markdown",
   "metadata": {},
   "source": [
    "---\n",
    "<div class=\"alert alert-block alert-success\">\n",
    "<b>Question:</b> Read through the code below.  Identify the parts of the code that:<br>\n",
    "\n",
    "- Sets the input data directory <br>\n",
    "- Specifies the output file names<br>\n",
    "</div>\n",
    "---"
   ]
  },
  {
   "cell_type": "markdown",
   "metadata": {},
   "source": [
    "**j) Remove the 8 point rim** from the raw pp files from 1961-1990 and save the 'rim-removed' cube in netCDF format. \n",
    "\n",
    "To run the code, click in the box and press <kbd>Ctrl</kbd> + <kbd>Enter</kbd>.  This takes a little longer to run than the other code  you've run so far - wait until you see confirmation that the cubes have been saved before you move on..."
   ]
  },
  {
   "cell_type": "code",
   "execution_count": null,
   "metadata": {
    "scrolled": false
   },
   "outputs": [],
   "source": [
    "datadir = '/project/ciid/projects/PRECIS/worksheets/data'\n",
    "\n",
    "rim_width = 8  # width of rim (in number of grid boxes)\n",
    "\n",
    "for runid in ['cahpa', 'cahpb']:\n",
    "    ppdir = os.path.join(datadir, 'pp', runid)\n",
    "    \n",
    "    # find all the files from which to remove the rim\n",
    "    file_list = glob.glob(ppdir + '/*pm[ghij]*.pp')\n",
    "    \n",
    "    cubes = iris.load(file_list)\n",
    "    trimmed_cubes = []\n",
    "    for cube in cubes:\n",
    "        # get longitude coordinate\n",
    "        xcoord = cube.coord(axis='X', dim_coords=True)\n",
    "        # get latitude coordinate\n",
    "        ycoord = cube.coord(axis='Y', dim_coords=True)\n",
    "        # Remove rim from longitude\n",
    "        rrcube = cube.subset(xcoord[rim_width:-1 * rim_width])\n",
    "        # Remove rim from latitude\n",
    "        rrcube = rrcube.subset(ycoord[rim_width:-1 * rim_width])\n",
    "        # add meta data stating that rim has been removed\n",
    "        rrcube.attributes['rim_removed'] = '{} point rim removed'.format(rim_width)\n",
    "        trimmed_cubes.append(rrcube)\n",
    "    rrcubes = iris.cube.CubeList(trimmed_cubes)\n",
    "    # Write out the trimmed data file\n",
    "    outfile = os.path.join(datadir, 'historical', runid + '.mon.1961_1990.rr.nc')\n",
    "    iris.save(rrcubes, outfile)\n",
    "    print('Saved {}'.format(outfile))"
   ]
  },
  {
   "cell_type": "markdown",
   "metadata": {},
   "source": [
    "<div class=\"alert alert-block alert-info\">\n",
    "<b>Note:</b> iris.load() attempts to return as few cubes as possible by collecting together multiple fields with a shared standard name and sequential time steps into a single multidimensional cube. Read more about iris loading behaviour <a href=\"https://scitools.org.uk/iris/docs/latest/userguide/loading_iris_cubes.html\">here</a>.\n",
    "</div>"
   ]
  },
  {
   "cell_type": "markdown",
   "metadata": {},
   "source": [
    "Take note of the file names.  Good use of filename can help you keep track of the contents of your files.  We suggest developing a consistent syntax.  Here the file names shows the following:\n",
    "\n",
    "**cahpa.pm.1961_1990.rr.nc**\n",
    "\n",
    "* cahpa = The run-ID of the model\n",
    "* mon = monthly data\n",
    "* 1961_1990 = the time period of the data\n",
    "* rr = rim removed\n",
    "* .nc = netCDF format"
   ]
  },
  {
   "cell_type": "markdown",
   "metadata": {},
   "source": [
    "<div class=\"alert alert-block alert-info\">\n",
    "<b>Note:</b> Keep a note of how we update the file names as we progress through these worksheets making further changes to the data\n",
    "</div>"
   ]
  },
  {
   "cell_type": "markdown",
   "metadata": {},
   "source": [
    "---\n",
    "<div class=\"alert alert-block alert-success\">\n",
    "<b>Question:</b> How many files are in the file list used by the iris.load() command? <br> How many time-steps are in the final netCDF outfile?\n",
    "</div>\n",
    "\n",
    "---"
   ]
  },
  {
   "cell_type": "markdown",
   "metadata": {},
   "source": [
    "***\n",
    "<a id='1.4'></a>\n",
    "## 1.4 Select variables\n",
    "\n",
    "In these worksheets, the monthly data files contain multiple variables; we can use Iris to separate the variables and save them as separate netCDF files.\n",
    "\n",
    "**k)** **Separate each variable** into its own file.\n",
    "\n",
    "Click in the box below and press <kbd>Ctrl</kbd> + <kbd>Enter</kbd> to run the code."
   ]
  },
  {
   "cell_type": "code",
   "execution_count": null,
   "metadata": {
    "scrolled": true
   },
   "outputs": [],
   "source": [
    "#Dictionary of stash codes and associated variable names \n",
    "stash_codes = {'m01s03i236':'tm',\n",
    "               'm01s05i216':'pr'}\n",
    "\n",
    "for runid in ['cahpa', 'cahpb']:\n",
    "    # Get data directory\n",
    "    infile = os.path.join(datadir, 'historical', runid + '.mon.1961_1990.rr.nc')\n",
    "    # This will load all the variables in the file into a CubeList\n",
    "    datacubes = iris.load(infile)\n",
    "    for cube in datacubes:\n",
    "        # get the STASH code\n",
    "        cubeSTASH = cube.attributes['STASH']\n",
    "        # Make the output file name\n",
    "        outfile = os.path.join(datadir, 'historical', runid + '.mon.1961_1990.' + stash_codes[str(cubeSTASH)] + '.rr.nc')\n",
    "        # Save the file\n",
    "        iris.save(cube, outfile)\n",
    "        print('Saved {}'.format(outfile))            "
   ]
  },
  {
   "cell_type": "markdown",
   "metadata": {},
   "source": [
    "<div class=\"alert alert-block alert-info\">\n",
    "    <b>Note:</b> Now that we've separated out different variables, notice that we've appended <b>tm</b> for mean surface temperature and <b>pr</b> for precipitation flux to the file names"
   ]
  },
  {
   "cell_type": "markdown",
   "metadata": {},
   "source": [
    "---\n",
    "<div class=\"alert alert-block alert-success\">\n",
    "<b>Question:</b> Use the <b>cd</b> and <b>ls</b> commands to check the NetCDF directory that you have been creating new files in. <br>\n",
    "\n",
    "- Confirm the names of the new files you have been creating. <br>\n",
    "- What is the size of the concatenated file (containing 1961-1990 data)?\n",
    "</div>"
   ]
  },
  {
   "cell_type": "code",
   "execution_count": null,
   "metadata": {},
   "outputs": [],
   "source": [
    "# use %cd and %ls to list the contents of your new directory containing NetCDF files:\n",
    "\n",
    "\n",
    "# use %ls -lh to compare the size of the single month pp files and the concatenated netcdf file: \n",
    "\n"
   ]
  },
  {
   "cell_type": "markdown",
   "metadata": {},
   "source": [
    "<b>Answer:</b><br>\n",
    "*Size of the concatenated file:*"
   ]
  },
  {
   "cell_type": "markdown",
   "metadata": {},
   "source": [
    "---\n",
    "<div class=\"alert alert-block alert-success\">\n",
    "<b>Extension Question:</b> How could you improve this workflow? Do we really need to save the intermediate files created in <strong>1.3</strong>?\n",
    "</div>\n",
    "\n",
    "---"
   ]
  },
  {
   "cell_type": "markdown",
   "metadata": {},
   "source": [
    "<center>\n",
    "<div class=\"alert alert-block alert-warning\">\n",
    "<b>This completes worksheet 1.</b> <br>You have created pre-processed files (rim removed, individual variables, concenated over time, in NetCDF format). <br>\n",
    "In worksheet 2, you will begin to analyse these files.\n",
    "</div>\n",
    "</center>"
   ]
  },
  {
   "cell_type": "markdown",
   "metadata": {},
   "source": [
    "<p><img src=\"img/MO_MASTER_black_mono_for_light_backg_RBG.png\" alt=\"python + iris logo\" style=\"float: center; height: 100px;\"/></p>\n",
    "<center>© Crown Copyright 2019, Met Office</center>"
   ]
  }
 ],
 "metadata": {
  "kernelspec": {
   "display_name": "pyprecis-environment",
   "language": "python",
   "name": "pyprecis-environment"
  },
  "language_info": {
   "codemirror_mode": {
    "name": "ipython",
    "version": 3
   },
   "file_extension": ".py",
   "mimetype": "text/x-python",
   "name": "python",
   "nbconvert_exporter": "python",
   "pygments_lexer": "ipython3",
   "version": "3.7.12"
  },
  "widgets": {
   "state": {},
   "version": "1.1.2"
  }
 },
 "nbformat": 4,
 "nbformat_minor": 2
}
