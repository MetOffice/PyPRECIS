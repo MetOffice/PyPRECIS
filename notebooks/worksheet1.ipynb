{
 "cells": [
  {
   "cell_type": "markdown",
   "metadata": {},
   "source": [
    "# Worksheet 1: File locations and pre-processing\n",
    "\n",
    "The following exercises demonstrate some of the tools available for data analysis, and how to prepare PRECIS output for analysis. This can be time consuming for large amounts of data, so in this worksheet a small subset is used to demonstrate the steps involved. In the worksheets that follow, data that has already been processed will be used.\n",
    "\n",
    "PRECIS output data tables are in PP format, a Met Office binary data format. This worksheet converts data to NetCDF format (a standard format in climate science) in order that it can be used in post processing packages such as Python and the python Library [IRIS](http://scitools.org.uk/iris/docs/latest/index.html).\n",
    "\n",
    "\n",
    "__Note:__ In the boxes where there is code or where you are asked to type code, click in the box press 'ctrl' + 'enter' to run the code.\n",
    "\n",
    "__Note:__ An explanation '!' mark is needed to run commands on the shell, and is noted where needed.\n",
    "\n",
    "__Note:__ Anything after the character `#` is just a comment and does not affect the command being run."
   ]
  },
  {
   "cell_type": "markdown",
   "metadata": {},
   "source": [
    "\n",
    "## 1.1 Data locations and file names\n",
    "\n",
    "\n",
    "**Identify and list the names of PRECIS output data in PP format using\n",
    "standard Linux commands.**\n",
    "\n",
    "The datasets used within these worksheets are made available through the notebook in order to providie quick and easy access for the purpose of this training. However the controls learnt in this worksheet provide useful context for future work in a linux and unix scripting environment.\n",
    "\n",
    "The dataset used here is a three year subset of monthly PRECIS data over south east Asia driven by the HadCMQ0 GCM.\n",
    "\n",
    "\n",
    "* (a) Firstly, find out what location you are currently in by using the ***pwd*** command; _pwd_ stands for *print working directory*.\n",
    "\n",
    "Type ***!pwd*** on the box below.\n"
   ]
  },
  {
   "cell_type": "code",
   "execution_count": null,
   "metadata": {
    "collapsed": false
   },
   "outputs": [],
   "source": [
    "# Type !pwd below and press 'ctrl' + 'enter'"
   ]
  },
  {
   "cell_type": "markdown",
   "metadata": {},
   "source": [
    "* (b) List the contents of this directory; ***ls*** stands for **list** and using the ***-l*** option gives a longer listing with more information, such as file and size and modification date.\n",
    "\n",
    "Type below ***!ls*** on one line and then the next ***!ls -l*** and press **ctrl + enter**.\n"
   ]
  },
  {
   "cell_type": "code",
   "execution_count": null,
   "metadata": {
    "collapsed": false
   },
   "outputs": [],
   "source": [
    "# Type !ls on one line and then !ls -l and press 'ctrl' + 'enter'."
   ]
  },
  {
   "cell_type": "markdown",
   "metadata": {},
   "source": [
    "\n",
    "* (c) Move to the directory (i.e. folder) called *practise_ppfiles/cahpa'*. This directory contains monthly output data from experiment with RUNID *cahpa*; ***cd*** command stands for *change directory*.\n",
    "\n",
    "Type below ***%cd practise_ppfiles/cahpa*** and press *ctrl + enter*. In notebooks *%* is used to execute in commands in the shell.\n"
   ]
  },
  {
   "cell_type": "code",
   "execution_count": null,
   "metadata": {
    "collapsed": false
   },
   "outputs": [],
   "source": [
    "# Type %cd practise_ppfiles/cahpa and press 'ctrl' + 'enter'."
   ]
  },
  {
   "cell_type": "markdown",
   "metadata": {},
   "source": [
    "* (d) List the contents of this directory; remeber ***ls*** command stands for *list* and using the ***-l*** option gives a longer listing with more information, such as file and size and modification date.\n",
    "\n"
   ]
  },
  {
   "cell_type": "code",
   "execution_count": null,
   "metadata": {
    "collapsed": true
   },
   "outputs": [],
   "source": [
    "# Type shell command here not forgetting the ! and press 'ctrl' + 'enter'."
   ]
  },
  {
   "cell_type": "markdown",
   "metadata": {},
   "source": [
    "* (e) List all the files containing data for September.\n",
    "\n",
    "Type below ***!ls \\*sep\\****\n",
    "\n",
    "How many files contain data for September?\n",
    "\n",
    "__Note:__ The character * translates as *any characters*"
   ]
  },
  {
   "cell_type": "code",
   "execution_count": null,
   "metadata": {
    "collapsed": true
   },
   "outputs": [],
   "source": [
    "# Type !ls *sep* and press 'ctrl' + 'enter'."
   ]
  },
  {
   "cell_type": "markdown",
   "metadata": {},
   "source": [
    "* (f) List all the files containing data from 1982 (i.e. all files which begin **cahpaa.pmi2**)\n",
    "\n",
    "Type below ***!ls cahpaa.pmi2???.pp***\n",
    "\n",
    "Note:The character *?* translates as *any single character*\n",
    "\n"
   ]
  },
  {
   "cell_type": "code",
   "execution_count": null,
   "metadata": {
    "collapsed": false
   },
   "outputs": [],
   "source": [
    "# Type !ls !ls cahpaa.pmi2???.pp and press 'ctrl' + 'enter'."
   ]
  },
  {
   "cell_type": "markdown",
   "metadata": {},
   "source": [
    "* (g) Move up two levels in the directory tree and list the directories.\n",
    "\n",
    "Type the following commands one at a time and immediately after press *ctrl + enter* to execute the command\n",
    "\n",
    "***%cd ..***\n",
    "\n",
    "***%cd ..***\n",
    "\n",
    "***!pwd***\n",
    "\n",
    "***!ls***\n",
    "\n",
    "The directories daily and monthly contain data used in the worksheets which follow this one."
   ]
  },
  {
   "cell_type": "code",
   "execution_count": null,
   "metadata": {
    "collapsed": false
   },
   "outputs": [],
   "source": [
    "# Type one command a time and press 'ctrl' + 'enter' each time."
   ]
  },
  {
   "cell_type": "markdown",
   "metadata": {},
   "source": [
    "## 1.2 Introduction to python and IRIS\n",
    "\n",
    "Python is an interpreted, object-oriented, high-level programming language. Python supports modules and packages, which encourages program modularity and code reuse. \n",
    "\n",
    "\n",
    "We also use the python library IRIS, which is written in Python and was setup and maintained by the Met Office. \"Iris seeks to provide a powerful, easy to use, and community-driven Python library for analysing and visualising meteorological and oceanographic data sets.\"\n",
    "\n",
    "For a brief introduction to IRIS and the cube formatting please read this Introduction page here: http://scitools.org.uk/iris/docs/latest/userguide/iris_cubes.html\n",
    "\n",
    "For further future reference please refer to the IRIS website: http://scitools.org.uk/iris/docs/latest/index.html\n",
    "\n",
    "* The following code is a simple example of how to load a NetCdf file into an Iris cube and then print its metadata strucuture"
   ]
  },
  {
   "cell_type": "code",
   "execution_count": null,
   "metadata": {
    "collapsed": true,
    "scrolled": false
   },
   "outputs": [
    {
     "name": "stderr",
     "output_type": "stream",
     "text": [
      "/opt/scitools/environments/default/2017_06_07-1/lib/python2.7/site-packages/iris/__init__.py:480: IrisDeprecation: iris.config.SAMPLE_DATA_DIR was deprecated in v1.10.0 and will be removed in a future Iris release. Install the 'iris_sample_data' package.\n",
      "  warn_deprecated(wmsg)\n"
     ]
    },
    {
     "ename": "ValueError",
     "evalue": "Sample data file(s) at '/opt/scitools/environments/default/2017_06_07-1/lib/python2.7/site-packages/iris/sample_data/air_temp.pp' not found.\nNB. This function is only for locating files in the iris sample data collection. It is not needed or appropriate for general file access.",
     "traceback": [
      "\u001b[1;31m---------------------------------------------------------------------------\u001b[0m",
      "\u001b[1;31mValueError\u001b[0m                                Traceback (most recent call last)",
      "\u001b[1;32m<ipython-input-1-0b0cef498b99>\u001b[0m in \u001b[0;36m<module>\u001b[1;34m()\u001b[0m\n\u001b[0;32m      2\u001b[0m \u001b[1;32mimport\u001b[0m \u001b[0miris\u001b[0m\u001b[1;33m\u001b[0m\u001b[0m\n\u001b[0;32m      3\u001b[0m \u001b[1;33m\u001b[0m\u001b[0m\n\u001b[1;32m----> 4\u001b[1;33m \u001b[0mfilename\u001b[0m \u001b[1;33m=\u001b[0m \u001b[0miris\u001b[0m\u001b[1;33m.\u001b[0m\u001b[0msample_data_path\u001b[0m\u001b[1;33m(\u001b[0m\u001b[1;34m'air_temp.pp'\u001b[0m\u001b[1;33m)\u001b[0m   \u001b[1;31m# This is the 'filename' to load\u001b[0m\u001b[1;33m\u001b[0m\u001b[0m\n\u001b[0m\u001b[0;32m      5\u001b[0m \u001b[0mcube\u001b[0m \u001b[1;33m=\u001b[0m \u001b[0miris\u001b[0m\u001b[1;33m.\u001b[0m\u001b[0mload_cube\u001b[0m\u001b[1;33m(\u001b[0m\u001b[0mfilename\u001b[0m\u001b[1;33m)\u001b[0m                   \u001b[1;31m# This loads the pp file into a cube\u001b[0m\u001b[1;33m\u001b[0m\u001b[0m\n\u001b[0;32m      6\u001b[0m \u001b[1;33m\u001b[0m\u001b[0m\n",
      "\u001b[1;32m/opt/scitools/environments/default/2017_06_07-1/lib/python2.7/site-packages/iris/__init__.py\u001b[0m in \u001b[0;36msample_data_path\u001b[1;34m(*path_to_join)\u001b[0m\n\u001b[0;32m    484\u001b[0m                          \u001b[1;34m'NB. This function is only for locating files in the '\u001b[0m\u001b[1;33m\u001b[0m\u001b[0m\n\u001b[0;32m    485\u001b[0m                          \u001b[1;34m'iris sample data collection. It is not needed or '\u001b[0m\u001b[1;33m\u001b[0m\u001b[0m\n\u001b[1;32m--> 486\u001b[1;33m                          'appropriate for general file access.'.format(target))\n\u001b[0m\u001b[0;32m    487\u001b[0m     \u001b[1;32mreturn\u001b[0m \u001b[0mtarget\u001b[0m\u001b[1;33m\u001b[0m\u001b[0m\n",
      "\u001b[1;31mValueError\u001b[0m: Sample data file(s) at '/opt/scitools/environments/default/2017_06_07-1/lib/python2.7/site-packages/iris/sample_data/air_temp.pp' not found.\nNB. This function is only for locating files in the iris sample data collection. It is not needed or appropriate for general file access."
     ],
     "output_type": "error"
    }
   ],
   "source": [
    "# Ensure you haver iris 1.10 or greater\n",
    "import iris\n",
    "\n",
    "# this prints the version of the Iris library you are using\n",
    "print iris.__version__\n",
    "\n",
    "# you must adjust this to the path of your sample data\n",
    "sample_data = '/path/to/sample_data/sample_file'\n",
    "\n",
    "# this loads your sample data into an Iris cube structure\n",
    "cube = iris.load_cube(sample_data)\n",
    "\n",
    "# This prints out the cube metadata structure\n",
    "print cube"
   ]
  },
  {
   "cell_type": "markdown",
   "metadata": {},
   "source": [
    "## 1.3 Remove the rim from PP fields\n",
    "The edges (or rim) of RCM outputs are biased due to the linear relaxation used on certain variables to apply the GCM lateral boundary conditions. This\n",
    "rim of 8 grid points from each edge needs to be excluded from any\n",
    "analysis.\n",
    "\n",
    "* Remove the 8-point rim from all data in the `practise_ppfiles/cahpa` directory (with the option of automatically deleting the original full-sized files).\n",
    "\n",
    "First of all in the first code box we will change to the 'practice_ppfiles/cahpa' directory, click in the box and press 'ctrl' + 'enter'."
   ]
  },
  {
   "cell_type": "code",
   "execution_count": null,
   "metadata": {
    "collapsed": false
   },
   "outputs": [
    {
     "name": "stdout",
     "output_type": "stream",
     "text": [
      "/data/local/ssadri/PRECIS_WORK/jupyter/practise_ppfiles/cahpa\n"
     ]
    }
   ],
   "source": [
    "# click in the box and press 'ctrl' + 'enter'\n",
    "%cd practise_ppfiles/cahpa"
   ]
  },
  {
   "cell_type": "markdown",
   "metadata": {},
   "source": [
    "Then this next code box removes the 8-point ri, from all data in that directory. Click in the box and press 'ctrl' + 'enter'."
   ]
  },
  {
   "cell_type": "code",
   "execution_count": 4,
   "metadata": {
    "collapsed": true,
    "scrolled": false
   },
   "outputs": [
    {
     "name": "stdout",
     "output_type": "stream",
     "text": [
      "The 8-point rim has been removed for: cahpaa.pmi2jan.rr8.pp\n",
      "The 8-point rim has been removed for: cahpaa.pmi2may.rr8.pp\n",
      "The 8-point rim has been removed for: cahpaa.pmi3aug.rr8.pp\n",
      "The 8-point rim has been removed for: cahpaa.pmi3jan.rr8.pp\n",
      "The 8-point rim has been removed for: cahpaa.pmi3mar.rr8.pp\n",
      "The 8-point rim has been removed for: cahpaa.pmi3sep.rr8.pp\n",
      "The 8-point rim has been removed for: cahpaa.pmi3jun.rr8.pp\n",
      "The 8-point rim has been removed for: cahpaa.pmi3may.rr8.pp\n",
      "The 8-point rim has been removed for: cahpaa.pmi2jun.rr8.pp\n",
      "The 8-point rim has been removed for: cahpaa.pmi1nov.rr8.pp\n",
      "The 8-point rim has been removed for: cahpaa.pmi2nov.rr8.pp\n",
      "The 8-point rim has been removed for: cahpaa.pmi3feb.rr8.pp\n",
      "The 8-point rim has been removed for: cahpaa.pmi2dec.rr8.pp\n",
      "The 8-point rim has been removed for: cahpaa.pmi1jul.rr8.pp\n",
      "The 8-point rim has been removed for: cahpaa.pmi2feb.rr8.pp\n",
      "The 8-point rim has been removed for: cahpaa.pmi3jul.rr8.pp\n",
      "The 8-point rim has been removed for: cahpaa.pmi2mar.rr8.pp\n",
      "The 8-point rim has been removed for: cahpaa.pmi1may.rr8.pp\n",
      "The 8-point rim has been removed for: cahpaa.pmi1mar.rr8.pp\n",
      "The 8-point rim has been removed for: cahpaa.pmi1sep.rr8.pp\n",
      "The 8-point rim has been removed for: cahpaa.pmi1jan.rr8.pp\n",
      "The 8-point rim has been removed for: cahpaa.pmi2oct.rr8.pp\n",
      "The 8-point rim has been removed for: cahpaa.pmi3apr.rr8.pp\n",
      "The 8-point rim has been removed for: cahpaa.pmi3dec.rr8.pp\n",
      "The 8-point rim has been removed for: cahpaa.pmi3nov.rr8.pp\n",
      "The 8-point rim has been removed for: cahpaa.pmi1jun.rr8.pp\n",
      "The 8-point rim has been removed for: cahpaa.pmi2apr.rr8.pp\n",
      "The 8-point rim has been removed for: cahpaa.pmi2sep.rr8.pp\n",
      "The 8-point rim has been removed for: cahpaa.pmi2jul.rr8.pp\n",
      "The 8-point rim has been removed for: cahpaa.pmi1oct.rr8.pp\n",
      "The 8-point rim has been removed for: cahpaa.pmi2aug.rr8.pp\n",
      "The 8-point rim has been removed for: cahpaa.pmi3oct.rr8.pp\n",
      "The 8-point rim has been removed for: cahpaa.pmi1feb.rr8.pp\n"
     ]
    }
   ],
   "source": [
    "import iris\n",
    "import glob\n",
    "import os\n",
    "\n",
    "# find all the files from which to remove the rim\n",
    "flist = glob.glob('*.rr8.pp')\n",
    "\n",
    "# checks if output directory exists, if not creates a directory\n",
    "if not os.path.exists('rr8_removed'):\n",
    "    os.mkdir('rr8_removed')\n",
    "\n",
    "for fn in flist:\n",
    "    # This will load all the variables in the file into a CubeList\n",
    "    datacubes = iris.load(fn)\n",
    "    tempcubelist = []\n",
    "    for cube in datacubes:\n",
    "        temprimcubelist = []\n",
    "        # In case the data are more than 2 dimensional, grab a 2d slice\n",
    "        for yx_slice in cube.slices(['grid_latitude','grid_longitude']):\n",
    "            norimcube = yx_slice[8 : -8 , 8 : -8]\n",
    "            temprimcubelist.append(norimcube)\n",
    "        # Merge the individual 2d slices into a single cube\n",
    "        trimmedcube = iris.cube.CubeList(temprimcubelist).merge_cube()\n",
    "        tempcubelist.append(trimmedcube)\n",
    "    # Write out the trimmed data file\n",
    "    iris.save(tempcubelist, 'rr8_removed/' + fn, append=True)\n",
    "    print 'The 8-point rim has been removed for: ' + fn"
   ]
  },
  {
   "cell_type": "markdown",
   "metadata": {},
   "source": [
    "## 1.4 Select variables and convert PP files to NetCDF\n",
    "\n",
    "The monthly data we are using has multiple variables in each file, we can use a Iris to separate the variables and save them as netCDF files.\n",
    "\n",
    "In this example you will see a reference to the cubes attibutes 'STASH'. STASH codes are used as a storage handling system for all the variables that the PRECIS model and Met Office UM model provides. Each stash code refers to a variable, therefore in this example below: 03236 - air temperature, 16222 - air pressure, 05216 - precipitation. You will notice that the files have been saved with the relevant STASH code in this example. However you could name the files after the variable names, ie temp, precip, slp for ease.\n",
    "\n",
    "* Separate the variables in all of the monthly files into separate directories and save as netCDF files.\n",
    "\n",
    "Click in the box below and press 'ctrl' + 'enter' to run the code.\n"
   ]
  },
  {
   "cell_type": "code",
   "execution_count": 5,
   "metadata": {
    "collapsed": false,
    "scrolled": false
   },
   "outputs": [
    {
     "name": "stderr",
     "output_type": "stream",
     "text": [
      "/opt/scitools/environments/default/2017_06_07-1/lib/python2.7/site-packages/iris/fileformats/netcdf.py:2281: IrisDeprecation: NetCDF default saving behaviour currently assigns the outermost dimensions to unlimited. This behaviour is to be deprecated, in favour of no automatic assignment. To switch to the new behaviour, set iris.FUTURE.netcdf_no_unlimited to True.\n",
      "  warn_deprecated(msg)\n"
     ]
    },
    {
     "name": "stdout",
     "output_type": "stream",
     "text": [
      "All netCDF files have been saved to relevant stash code directory\n"
     ]
    }
   ],
   "source": [
    "import iris\n",
    "import glob\n",
    "import os\n",
    "\n",
    "flist = glob.glob('rr8_removed/' + '*.rr8.pp')\n",
    "\n",
    "for fn in flist:\n",
    "    # This will load all the variables in the file into a CubeList\n",
    "    datacubes = iris.load(fn)\n",
    "    \n",
    "    for cube in datacubes:\n",
    "        # get the STASH code\n",
    "        cubeSTASH = cube.attributes['STASH'] \n",
    "\n",
    "        # create a directory based on the STASH code\n",
    "        dirname = str(cubeSTASH.section).zfill(2)+str(cubeSTASH.item).zfill(3)\n",
    "        # checks if directory exists, if not creates a directory\n",
    "        if not os.path.exists(dirname):\n",
    "            os.mkdir(dirname)\n",
    "            \n",
    "        # for saving replace the *.pp file extension with *.nc\n",
    "        outfile = fn.replace('.pp','.' + dirname + '.nc')\n",
    "        \n",
    "        # save the merged data cube\n",
    "        iris.save(cube, dirname + \"/\" + outfile[12:])\n",
    "\n",
    "print 'All netCDF files have been saved to relevant stash code directory'"
   ]
  },
  {
   "cell_type": "markdown",
   "metadata": {},
   "source": [
    "* For each variable (Temperature, Precipitation, Surface Pressure) put the monthly files into a single cube and save as netCDF file.\n",
    "\n",
    "The monthly files are for the years 1981, 1982, and 1983, hence the file name saved to including 1981_1983.\n",
    "\n",
    "Click in the box below and press 'ctrl' + 'enter' to run the code.\n"
   ]
  },
  {
   "cell_type": "code",
   "execution_count": null,
   "metadata": {
    "collapsed": true
   },
   "outputs": [
    {
     "name": "stderr",
     "output_type": "stream",
     "text": [
      "/opt/scitools/environments/default/2017_06_07-1/lib/python2.7/site-packages/iris/fileformats/cf.py:1143: IrisDeprecation: NetCDF default loading behaviour currently does not expose variables which define reference surfaces for dimensionless vertical coordinates as independent Cubes. This behaviour is deprecated in favour of automatic promotion to Cubes. To switch to the new behaviour, set iris.FUTURE.netcdf_promote to True.\n",
      "  warn_deprecated(msg)\n"
     ]
    },
    {
     "name": "stdout",
     "output_type": "stream",
     "text": [
      "Each variable has been saved into a single netCDF file in its relevant stash directory.\n",
      "\n"
     ]
    }
   ],
   "source": [
    "import iris\n",
    "import glob\n",
    "\n",
    "stash_codes = ['03236','05216','16222']\n",
    "\n",
    "# loop over each directory stash code\n",
    "for stash in stash_codes:\n",
    "   \n",
    "    # load the file names into the variable flist\n",
    "    flist = glob.glob(stash + '/' + '*.nc')\n",
    "\n",
    "    cubelist = [] # an empty array to append the monthly cubes to\n",
    "    for fn in flist:\n",
    "        # There is only on cube so using single cube load function\n",
    "        datacube = iris.load_cube(fn)\n",
    "        cubelist.append(datacube)\n",
    "    \n",
    "    # Merge all the cubes in the list created above\n",
    "    mergedcube = iris.cube.CubeList(cubelist).merge_cube()\n",
    "    \n",
    "    # Can save the data direclty in netCDF format\n",
    "    outfile = stash + '/cahpaa.pm.1981_1983.rr8.' + stash + '.nc'\n",
    "    \n",
    "\n",
    "    iris.save(mergedcube, outfile)\n",
    "    \n",
    "print 'Each variable has been saved into a single netCDF file in its relevant stash directory.'\n",
    "print"
   ]
  }
 ],
 "metadata": {
  "celltoolbar": "Edit Metadata",
  "kernelspec": {
   "display_name": "Python 2",
   "language": "python",
   "name": "python2"
  },
  "language_info": {
   "codemirror_mode": {
    "name": "ipython",
    "version": 2.0
   },
   "file_extension": ".py",
   "mimetype": "text/x-python",
   "name": "python",
   "nbconvert_exporter": "python",
   "pygments_lexer": "ipython2",
   "version": "2.7.12"
  },
  "widgets": {
   "state": {},
   "version": "1.1.2"
  }
 },
 "nbformat": 4,
 "nbformat_minor": 0
}