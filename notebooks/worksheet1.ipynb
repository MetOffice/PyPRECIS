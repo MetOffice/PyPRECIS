{
 "cells": [
  {
   "cell_type": "markdown",
   "metadata": {},
   "source": [
    "# Worksheet 1: File locations and pre-processing\n",
    "The following exercises demonstrate some of the tools available for data analysis, and how to prepare PRECIS output for analysis. This can be time consuming for large amounts of data, so in this worksheet a small subset is used to demonstrate the steps involved. In the worksheets that follow, data that has already been processed will be used.\n",
    "\n",
    "PRECIS output data tables are in PP format, a Met Office binary data format. This worksheet converts data to [NetCDF](https://www.unidata.ucar.edu/software/netcdf/) format (a standard format in climate science) in order that it can be used in post processing packages such as Python and the python library [Iris](http://scitools.org.uk/iris/docs/latest/index.html)."
   ]
  },
  {
   "cell_type": "markdown",
   "metadata": {},
   "source": [
    "<div class=\"alert alert-block alert-warning\">\n",
    "<b>By the end of this worksheet you should be able to:</b><br> \n",
    "- Identify and list the names of PRECIS output data in PP format using standard Linux commands.<br>\n",
    "- Use basic Iris commands to load data files, and view Iris cubes. <br>\n",
    "- Use Iris commands to remove the model rim, select data variables and save the output as NetCDF files.\n",
    "</div>"
   ]
  },
  {
   "cell_type": "markdown",
   "metadata": {},
   "source": [
    "<div class=\"alert alert-block alert-info\">\n",
    "<b>Note:</b>** In the boxes where there is code or where you are asked to type code, click in the box press <kbd>Ctrl</kbd> + <kbd>Enter</kbd> to run the code. <br>\n",
    "<b>Note:</b> An explanation <code>!</code> mark is needed to run commands on the shell, and is noted where needed.<br>\n",
    "<b>Note:</b> Anything after the character <code>#</code> is just a comment and does not affect the command being run. <br>\n",
    "<b>Note:</b> In jupyter notebooks <code>%</code> is used to execute in commands in the shell.</div>"
   ]
  },
  {
   "cell_type": "markdown",
   "metadata": {},
   "source": [
    "\n",
    "## 1.1 Data locations and file names\n",
    "\n",
    "The datasets used within these worksheets are made available through the notebook in order to providie quick and easy access for the purpose of this training. However the controls learnt in this worksheet provide useful context for future work in a linux and unix scripting environment.\n",
    "\n",
    "The dataset used here is a three year subset of monthly PRECIS data over south east Asia driven by the HadCMQ0 GCM.\n",
    "\n",
    "\n",
    "* Firstly, find out what location you are currently in by using the **`pwd`** command; **`pwd`** stands for **print working directory**.\n",
    "\n",
    "In the cell belwo type **`!pwd`** on a seperate line and then press <kbd>Ctrl</kbd> + <kbd>Enter</kbd>.\n"
   ]
  },
  {
   "cell_type": "code",
   "execution_count": null,
   "metadata": {},
   "outputs": [],
   "source": [
    "# Type !pwd below and press 'ctrl' + 'enter'\n"
   ]
  },
  {
   "cell_type": "markdown",
   "metadata": {},
   "source": [
    "* List the contents of this directory; **`ls`** stands for **list** and using the **`-l`** option gives a longer listing with more information, such as file and size and modification date.\n",
    "\n",
    "In the cell below type  **`!ls`** on a seperate line then press <kbd>Ctrl</kbd> + <kbd>Enter</kbd>."
   ]
  },
  {
   "cell_type": "code",
   "execution_count": null,
   "metadata": {},
   "outputs": [],
   "source": [
    "# Type !ls on one line and then !ls -l and press 'ctrl' + 'enter'.\n",
    "\n"
   ]
  },
  {
   "cell_type": "markdown",
   "metadata": {},
   "source": [
    "<div class=\"alert alert-block alert-success\">\n",
    "<b>Question</b> What is the difference between <code>ls</code> and <code>ls -l</code>?  What extra information do you see?\n",
    "</div>"
   ]
  },
  {
   "cell_type": "markdown",
   "metadata": {},
   "source": [
    "* Move to the directory (i.e. folder) called `data/pp/cahpa`. This directory contains monthly output data from experiment with RUNID *cahpa*\n",
    "\n",
    "**Hint:** The `cd` command stands for _change directory_\n",
    "\n",
    "Type your command below and press <kbd>Ctrl</kbd> + <kbd>Enter</kbd>.\n"
   ]
  },
  {
   "cell_type": "code",
   "execution_count": null,
   "metadata": {},
   "outputs": [],
   "source": [
    "# Type your !cd command below and press 'ctrl' + 'enter'.\n"
   ]
  },
  {
   "cell_type": "markdown",
   "metadata": {},
   "source": [
    "<div class=\"alert alert-block alert-success\">\n",
    "<b>Question:</b> What's the typical size of files in this directory?  Which shell command will show you this information?\n",
    "</div>"
   ]
  },
  {
   "cell_type": "markdown",
   "metadata": {},
   "source": [
    "* List all the files containing data for September.\n",
    "\n",
    "    Type **`!ls *sep*`** in the code block below.\n",
    "\n",
    "    How many files contain data for September?"
   ]
  },
  {
   "cell_type": "markdown",
   "metadata": {},
   "source": [
    "* List all the files containing data for September.\n",
    "\n",
    "    Type **`!ls \\*sep*\\`** in the code block below.\n",
    "\n",
    "    How many files contain data for September?\n",
    "\n",
    "<div class=\"alert alert-block alert-info\">\n",
    "<b>Note:</b> The asterisk character <code>*</code> (also known as <i>glob</i>) matches any string within the filename\n",
    "</div>"
   ]
  },
  {
   "cell_type": "code",
   "execution_count": null,
   "metadata": {},
   "outputs": [],
   "source": [
    "# Type !ls *sep* and press 'ctrl' + 'enter'.\n"
   ]
  },
  {
   "cell_type": "markdown",
   "metadata": {},
   "source": [
    "* List all the files containing data from 1982 (i.e. all files which begin **`cahpaa.pmi2`**)\n",
    "\n",
    "Type below **`!ls cahpaa.pmi2???.pp`**"
   ]
  },
  {
   "cell_type": "markdown",
   "metadata": {},
   "source": [
    "<div class=\"alert alert-block alert-info\">\n",
    "<b>Note:</b> The question mark character <code>?</code> matches any single character\n",
    "</div>"
   ]
  },
  {
   "cell_type": "code",
   "execution_count": null,
   "metadata": {},
   "outputs": [],
   "source": [
    "# Type !ls cahpaa.pmi2???.pp and press 'ctrl' + 'enter'.\n"
   ]
  },
  {
   "cell_type": "markdown",
   "metadata": {},
   "source": [
    "* Now move up two levels in the directory tree and list the directories.\n",
    "\n",
    "Type `cd ../..` to move up two levels in the directory tree and press <kbd>Ctrl</kbd> + <kbd>Enter</kbd> to execute the command"
   ]
  },
  {
   "cell_type": "code",
   "execution_count": null,
   "metadata": {},
   "outputs": [],
   "source": [
    "# Type !cd ../.. below\n"
   ]
  },
  {
   "cell_type": "markdown",
   "metadata": {},
   "source": [
    "<div class=\"alert alert-block alert-success\">\n",
    "<b>Question:</b> Which directory are you in now?  What else can you see in this directory?\n",
    "</div>"
   ]
  },
  {
   "cell_type": "markdown",
   "metadata": {},
   "source": [
    "***\n",
    "## 1.2 Introduction to python and Iris\n",
    "<p><img src=\"img/python_and_iris.png\" alt=\"python + iris logo\" style=\"float: center; height: 100px;\"/></p>\n",
    "\n",
    "\n",
    "Python is an interpreted, object-oriented, high-level programming language. Python supports modules and packages, which encourages program modularity and code reuse. \n",
    "\n",
    "\n",
    "We also use the python library [Iris](http://scitools.org.uk/iris/docs/latest/index.html), which is written in Python and is maintained by the Met Office. Iris seeks to provide a powerful, easy to use, and community-driven Python library for analysing and visualising meteorological and oceanographic data sets.\n",
    "\n",
    "The top level object in Iris is called a cube. A cube contains data and metadata about a phenomenon (i.e. air_temperature). Iris implementsseveral major format importers which can take files of specific formats and turn them into Iris cubes.\n",
    "\n",
    "\n",
    "For a brief introduction to Iris and the cube formatting please read this Introduction page here: \n",
    "\n",
    "http://scitools.org.uk/iris/docs/latest/userguide/iris_cubes.html\n",
    "\n",
    "For further future reference please refer to the Iris website:\n",
    "\n",
    "http://scitools.org.uk/iris/docs/latest/index.html\n",
    "\n",
    "Next we see some simple examples of how to load a file into an Iris, print its metadata strucuture and then plot the data."
   ]
  },
  {
   "cell_type": "markdown",
   "metadata": {},
   "source": [
    "***\n",
    "### 1.2.1 Load the data into an Iris cube and plot the data\n",
    "\n",
    "* First we need to change to our data directory at 'practice_ppfiles/cahpa'\n",
    "\n",
    "click in the box and press <kbd>Ctrl</kbd> + <kbd>Enter</kbd>."
   ]
  },
  {
   "cell_type": "code",
   "execution_count": null,
   "metadata": {
    "scrolled": false
   },
   "outputs": [],
   "source": [
    "# import the necessary modules\n",
    "import iris\n",
    "import matplotlib.pyplot as plt\n",
    "import iris.plot as iplt\n",
    "import glob\n",
    "import os\n",
    "\n",
    "# this is needed so that the plots are generated inline with the code instead of a separate window\n",
    "%matplotlib inline \n",
    "\n",
    "# the following is needed to be compliant with the Iris's latest NetCDF default saving behaviour\n",
    "iris.FUTURE.netcdf_promote = 'True'\n",
    "iris.FUTURE.netcdf_no_unlimited = 'True'\n",
    "\n",
    "# this prints the version of the Iris library you are using\n",
    "print(iris.__version__)\n",
    "\n",
    "# you must adjust this to the path of your sample data\n",
    "sample_data = '/project/precis/worksheets/data/sample_data.nc'\n",
    "\n",
    "# Print the Iris cube\n",
    "print (total_precipitation_cube)"
   ]
  },
  {
   "cell_type": "markdown",
   "metadata": {},
   "source": [
    "Finally:\n",
    "* Plot the data for the selected varaible"
   ]
  },
  {
   "cell_type": "code",
   "execution_count": null,
   "metadata": {
    "collapsed": false
   },
   "outputs": [],
   "source": [
    "# set plot area big enough\n",
    "plt.figure(figsize=(20,10))\n",
    "\n",
    "# This prints out the cube metadata structure\n",
    "print(cube)"
   ]
  },
  {
   "cell_type": "markdown",
   "metadata": {},
   "source": [
    "<div class=\"alert alert-block alert-success\">\n",
    "<b>Question:</b> Can you explain how our sample data we printed above corresponds to this picture?\n",
    "<img src=\"img/multi_array_to_cube.png\" alt=\"python + iris logo\" style=\"height: 300px\"/>\n",
    "</div>\n"
   ]
  },
  {
   "cell_type": "markdown",
   "metadata": {},
   "source": [
    "***\n",
    "## 1.3 Rim removal (single file example)\n",
    "\n",
    "The edges (or rim) of RCM outputs are biased due to the linear relaxation used on certain variables to apply the GCM lateral boundary conditions. This rim from each edge needs to be excluded from any analysis.\n",
    "\n",
    "The practise PP files all have an 8-poin rim. The following code demonstrates how to remove the 8-point rim from all data in a specified pp file data directory."
   ]
  },
  {
   "cell_type": "markdown",
   "metadata": {},
   "source": [
    "<div class=\"alert alert-block alert-success\">\n",
    "<b>Question:</b> Read through the code below.  Identify the parts of the code that:<br>\n",
    "\n",
    "- Sets the input data directory <br>\n",
    "- Specifies the output file names<br>\n",
    "</div>"
   ]
  },
  {
   "cell_type": "markdown",
   "metadata": {},
   "source": [
    "When you are ready, click in the box and press <kbd>Ctrl</kbd> + <kbd>Enter</kbd>."
   ]
  },
  {
   "cell_type": "code",
   "execution_count": null,
   "metadata": {
    "scrolled": false
   },
   "outputs": [],
   "source": [
    "# change to the directory where the the data is\n",
    "%cd $data_files\n",
    "print ('Data directory was set to: {Location}'.format(Location=data_files))\n",
    "\n",
    "datadir = '/project/precis/worksheets/data'\n",
    "ppdir = os.path.join(datadir, 'pp/cahpa')\n",
    "\n",
    "# find all the files from which to remove the rim\n",
    "flist = glob.glob(ppdir + '/*.pp')\n",
    "\n",
    "for f in flist:\n",
    "    # This will load all the variables in the file into a CubeList\n",
    "    datacubes = iris.load(f)\n",
    "    tempcubelist = []\n",
    "    for cube in datacubes:\n",
    "        temprimcubelist = []\n",
    "        # In case the data are more than 2 dimensional, grab a 2d slice\n",
    "        for yx_slice in cube.slices(['grid_latitude','grid_longitude']):\n",
    "            norimcube = yx_slice[8 : -8 , 8 : -8]\n",
    "            temprimcubelist.append(norimcube)\n",
    "        # Merge the individual 2d slices into a single cube\n",
    "        trimmedcube = iris.cube.CubeList(temprimcubelist).merge_cube()\n",
    "        tempcubelist.append(trimmedcube)\n",
    "    # Write out the trimmed data file\n",
    "    outf = f.replace('.pp', '_norim.nc').replace('/pp/', '/netcdf/')\n",
    "    iris.save(tempcubelist, outf)\n",
    "    print('The 8-point rim has been removed for: {}'.format(outf))"
   ]
  },
  {
   "cell_type": "markdown",
   "metadata": {},
   "source": [
    "***\n",
    "## 1.4 Select variables\n",
    "\n",
    "The monthly data we are using has multiple variables in each file, we can use a Iris to separate the variables and save them as netCDF files.\n",
    "\n",
    "We can use a Iris to separate the variables and save them as NetCDF files.\n",
    "\n",
    "* Separate the variables in all of the monthly files into separate directories and save as NetCDF files.\n",
    "\n",
    "    Click in the box below and press <kbd>Ctrl</kbd> + <kbd>Enter</kbd> to run the code."
   ]
  },
  {
   "cell_type": "code",
   "execution_count": null,
   "metadata": {
    "scrolled": true
   },
   "outputs": [],
   "source": [
    "netcdfdir = os.path.join(datadir, 'netcdf/cahpa')\n",
    "flist = glob.glob(netcdfdir + '/*.nc')\n",
    "\n",
    "for f in flist:\n",
    "    # This will load all the variables in the file into a CubeList\n",
    "    datacubes = iris.load(f)\n",
    "    \n",
    "    for cube in data_cubes:\n",
    "        \n",
    "        # get the STASH code\n",
    "        cubeSTASH = cube.attributes['STASH'] \n",
    "\n",
    "        # create a directory based on the STASH code\n",
    "        dir_name = str(cubeSTASH.section).zfill(2)+str(cubeSTASH.item).zfill(3)\n",
    "        \n",
    "        # checks if directory exists, if not creates a directory\n",
    "        if not os.path.exists(os.path.join(netcdfdir, dirname)):\n",
    "            os.mkdir(os.path.join(netcdfdir, dirname), mode=777)\n",
    "        \n",
    "        # save the merged data cube\n",
    "        iris.save(cube, os.path.join(netcdfdir, dirname, os.path.basename(f)))"
   ]
  },
  {
   "cell_type": "markdown",
   "metadata": {},
   "source": [
    "* For each variable (Temperature, Precipitation, Surface Pressure) put the monthly files into a single cube and save as NetCDF file.\n",
    "\n",
    "    The monthly files are for the years 1981, 1982, and 1983, hence the file name saved to including 1981_1983.\n",
    "\n",
    "    Click in the box below and press <kbd>Ctrl</kbd> + <kbd>Enter</kbd> to run the code.\n"
   ]
  },
  {
   "cell_type": "code",
   "execution_count": null,
   "metadata": {
    "scrolled": true
   },
   "outputs": [],
   "source": [
    "stash_codes = {'03236':'tm',\n",
    "               '05216':'pr',\n",
    "               '16222': 'pmsl'}\n",
    "\n",
    "# loop over each directory stash code\n",
    "for stash in stash_codes.keys():\n",
    "   \n",
    "    # load the file names into the variable flist\n",
    "    flist = glob.glob(os.path.join(netcdfdir, stash, '*.nc'))\n",
    "\n",
    "    cubelist = [] # an empty array to append the monthly cubes to\n",
    "    for fn in flist:\n",
    "        # There is only one cube so using single cube load function\n",
    "        cubelist.append(iris.load_cube(fn))\n",
    "    \n",
    "    # Merge all the cubes in the list created above\n",
    "    mergedcube = iris.cube.CubeList(cubelist).merge_cube()\n",
    "    \n",
    "    outfile = os.path.join(netcdfdir, 'cahpaa.pm.1981_1983.' + stash_codes[stash] + '.norim.nc')\n",
    "\n",
    "    iris.save(mergedcube, outfile)"
   ]
  },
  {
   "cell_type": "markdown",
   "metadata": {},
   "source": [
    "© Crown Copyright 2018, Met Office"
   ]
  }
 ],
 "metadata": {
  "kernelspec": {
   "display_name": "Python 3",
   "language": "python",
   "name": "python3"
  },
  "language_info": {
   "codemirror_mode": {
    "name": "ipython",
    "version": 3
   },
   "file_extension": ".py",
   "mimetype": "text/x-python",
   "name": "python",
   "nbconvert_exporter": "python",
   "pygments_lexer": "ipython3",
   "version": "3.6.6"
  },
  "widgets": {
   "state": {},
   "version": "1.1.2"
  }
 },
 "nbformat": 4,
 "nbformat_minor": 1
}
