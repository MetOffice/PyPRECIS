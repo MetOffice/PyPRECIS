{
 "cells": [
  {
   "cell_type": "markdown",
   "metadata": {},
   "source": [
    "# Worksheet 1: File locations and pre-processing\n",
    "<div class=\"alert alert-block alert-warning\">\n",
    "** By the end of this worksheet you should be able to:** <br> \n",
    "- Identify and list the names of PRECIS output data in PP format using standard Linux commands.<br>\n",
    "- Use basic Iris commands to load data files, and view Iris cubes. <br>\n",
    "- Use Iris commands to remove the model rim, select data variables and save the output as NetCDF files.\n",
    "\n",
    "</div>\n",
    "\n",
    "The following exercises demonstrate some of the tools available for data analysis, and how to prepare PRECIS output for analysis. This can be time consuming for large amounts of data, so in this worksheet a small subset is used to demonstrate the steps involved. In the worksheets that follow, data that has already been processed will be used.\n",
    "\n",
    "PRECIS output data tables are in PP format, a Met Office binary data format. This worksheet converts data to [NetCDF](https://www.unidata.ucar.edu/software/netcdf/) format (a standard format in climate science) in order that it can be used in post processing packages such as Python and the python library [Iris](http://scitools.org.uk/iris/docs/latest/index.html).  \n",
    "\n",
    "<div class=\"alert alert-block alert-info\">\n",
    "**Note:** In the boxes where there is code or where you are asked to type code, click in the box press <kbd>Ctrl</kbd> + <kbd>Enter</kbd> to run the code. <br>\n",
    "**Note:** An explanation `!` mark is needed to run commands on the shell, and is noted where needed.<br>\n",
    "**Note:** Anything after the character `#` is just a comment and does not affect the command being run. <br>\n",
    "**Note:** In jupyter notebooks **`%`** is used to execute in commands in the shell.</div>"
   ]
  },
  {
   "cell_type": "markdown",
   "metadata": {},
   "source": [
    "\n",
    "## 1.1 Data locations and file names\n",
    "\n",
    "The datasets used within these worksheets are made available through the notebook in order to providie quick and easy access for the purpose of this training. However the controls learnt in this worksheet provide useful context for future work in a linux and unix scripting environment.\n",
    "\n",
    "The dataset used here is a three year subset of monthly PRECIS data over south east Asia driven by the HadCMQ0 GCM.\n",
    "\n",
    "\n",
    "* Firstly, find out what location you are currently in by using the **`pwd`** command; **`pwd`** stands for **print working directory**.\n",
    "\n",
    "    Type **`!pwd`** in the code block below.\n"
   ]
  },
  {
   "cell_type": "code",
   "execution_count": null,
   "metadata": {
    "collapsed": false
   },
   "outputs": [],
   "source": [
    "# Type !pwd on one line and then press 'ctrl' + 'enter'."
   ]
  },
  {
   "cell_type": "markdown",
   "metadata": {},
   "source": [
    "* List the contents of this directory; **`ls`** stands for **list** and using the **`-l`** option gives a longer listing with more information, such as file and size and modification date.\n",
    "\n",
    "    Type below **`!ls`** on one line and then the next **`!ls -l`** and press <kbd>Ctrl</kbd> + <kbd>Enter</kbd>. Compare the differences.\n"
   ]
  },
  {
   "cell_type": "code",
   "execution_count": null,
   "metadata": {
    "collapsed": false
   },
   "outputs": [],
   "source": [
    "# Type !ls on one line and then !ls -l in the next line and press 'ctrl' + 'enter'."
   ]
  },
  {
   "cell_type": "markdown",
   "metadata": {},
   "source": [
    "* Move to the directory (i.e. folder) called `practise_ppfiles/cahpa`. This directory contains monthly output data from experiment with RUNID *cahpa*; **`cd`** command stands for **change directory**.\n",
    "\n",
    "    Type below **`%cd practise_ppfiles/cahpa`** and press <kbd>Ctrl</kbd> + <kbd>Enter</kbd>.\n"
   ]
  },
  {
   "cell_type": "code",
   "execution_count": null,
   "metadata": {
    "collapsed": false
   },
   "outputs": [],
   "source": [
    "# Type %cd practise_ppfiles/cahpa and press 'ctrl' + 'enter'."
   ]
  },
  {
   "cell_type": "markdown",
   "metadata": {},
   "source": [
    "* List the contents of this directory; remeber **`ls`** command stands for **list** and using the **`-l`** option gives a longer listing with more information."
   ]
  },
  {
   "cell_type": "code",
   "execution_count": null,
   "metadata": {
    "collapsed": true
   },
   "outputs": [],
   "source": [
    "# Type shell command here not forgetting the ! and press 'ctrl' + 'enter'."
   ]
  },
  {
   "cell_type": "markdown",
   "metadata": {},
   "source": [
    "* List all the files containing data for September.\n",
    "\n",
    "    Type **`!ls \\*sep\\`** in the code block below.\n",
    "\n",
    "    How many files contain data for September?\n",
    "\n",
    "<div class=\"alert alert-block alert-info\">\n",
    "**Note:** The asterisk character `*` (also known as _glob_) matches any string within the filename\n",
    "</div>"
   ]
  },
  {
   "cell_type": "code",
   "execution_count": null,
   "metadata": {
    "collapsed": true
   },
   "outputs": [],
   "source": [
    "# Type !ls *sep* and press 'ctrl' + 'enter'."
   ]
  },
  {
   "cell_type": "markdown",
   "metadata": {},
   "source": [
    "* List all the files containing data from 1982 (i.e. all files which begin **`cahpaa.pmi2`**)\n",
    "\n",
    "    Type below **`!ls cahpaa.pmi2???.pp`**\n",
    "\n",
    "<div class=\"alert alert-block alert-info\">\n",
    "**Note:** The question mark character `?` matches any single character\n",
    "</div>\n",
    "\n"
   ]
  },
  {
   "cell_type": "code",
   "execution_count": null,
   "metadata": {
    "collapsed": false
   },
   "outputs": [],
   "source": [
    "# Type !ls !ls cahpaa.pmi2???.pp and press 'ctrl' + 'enter'."
   ]
  },
  {
   "cell_type": "markdown",
   "metadata": {},
   "source": [
    "* Move up two levels in the directory tree and list the directories.\n",
    "\n",
    "    Type the following commands one at a time and immediately after press <kbd>Ctrl</kbd> + <kbd>Enter</kbd> to execute the command\n",
    "\n",
    "    **`%cd ../..`**\n",
    "\n",
    "    **`!pwd`**\n",
    "\n",
    "    **`!ls`**"
   ]
  },
  {
   "cell_type": "code",
   "execution_count": null,
   "metadata": {
    "collapsed": false
   },
   "outputs": [],
   "source": [
    "# Type %cd ../.. and press 'ctrl' + 'enter' to move up two level in the directory"
   ]
  },
  {
   "cell_type": "code",
   "execution_count": null,
   "metadata": {},
   "outputs": [],
   "source": [
    "# Type !pwd and press 'ctrl' + 'enter' to confirm the current directory path"
   ]
  },
  {
   "cell_type": "code",
   "execution_count": null,
   "metadata": {},
   "outputs": [],
   "source": [
    "# Type !ls and press 'ctrl' + 'enter' to list the contents of the current directory"
   ]
  },
  {
   "cell_type": "markdown",
   "metadata": {},
   "source": [
    "The directories `/daily` and `/monthly` contain data used in the worksheets which follow this one."
   ]
  },
  {
   "cell_type": "markdown",
   "metadata": {},
   "source": [
    "***\n",
    "## 1.2 A brief introduction to python and Iris\n",
    "\n",
    "Python is an interpreted, object-oriented, high-level programming language. Python supports modules and packages, which encourages program modularity and code reuse. \n",
    "\n",
    "\n",
    "We also use the python library [Iris](http://scitools.org.uk/iris/docs/latest/index.html), which is written in Python and is maintained by the Met Office. Iris seeks to provide a powerful, easy to use, and community-driven Python library for analysing and visualising meteorological and oceanographic data sets.\n",
    "\n",
    "The top level object in Iris is called a cube. A cube contains data and metadata about a phenomenon (i.e. air_temperature). Iris implementsseveral major format importers which can take files of specific formats and turn them into Iris cubes.\n",
    "\n",
    "\n",
    "For a brief introduction to Iris and the cube formatting please read this Introduction page here: \n",
    "\n",
    "http://scitools.org.uk/iris/docs/latest/userguide/iris_cubes.html\n",
    "\n",
    "For further future reference please refer to the Iris website:\n",
    "\n",
    "http://scitools.org.uk/iris/docs/latest/index.html\n",
    "\n",
    "Next we see some simple examples of how to load a file into an Iris, print its metadata strucuture and then plot the data."
   ]
  },
  {
   "cell_type": "markdown",
   "metadata": {},
   "source": [
    "***\n",
    "### 1.2.1 Load the data into an Iris cube and plot the data\n",
    "\n",
    "* First we need to change to our data directory at 'practice_ppfiles/cahpa'\n",
    "\n",
    "click in the box and press <kbd>Ctrl</kbd> + <kbd>Enter</kbd>."
   ]
  },
  {
   "cell_type": "code",
   "execution_count": null,
   "metadata": {
    "collapsed": false
   },
   "outputs": [],
   "source": [
    "# change to the directory where the the data is\n",
    "\n",
    "%cd /net/data/users/ssadri/data-local/PRECIS_WORK/practise_ppfiles/cahpa\n",
    "\n",
    "# click in the box and press 'ctrl' + 'enter'"
   ]
  },
  {
   "cell_type": "markdown",
   "metadata": {},
   "source": [
    "Next:\n",
    "* Read in the PP data file into an Iris cube,and constraint the reading to a single varialbe and then print the Iris cube"
   ]
  },
  {
   "cell_type": "code",
   "execution_count": null,
   "metadata": {},
   "outputs": [],
   "source": [
    "import iris\n",
    "\n",
    "# specify the data file name to load\n",
    "sample_data = 'cahpaa.pmi2jan.pp'\n",
    "\n",
    "# Constraint the reading to a single varialbe and load it into an Iris cube\n",
    "total_precipitation_cube = iris.load_cube(sample_data,iris.AttributeConstraint(STASH='m01s05i216'))\n",
    "\n",
    "# Print the Iris cube\n",
    "print total_precipitation_cube\n",
    "\n",
    "# click in the box and press 'ctrl' + 'enter'"
   ]
  },
  {
   "cell_type": "markdown",
   "metadata": {},
   "source": [
    "Finally:\n",
    "* Plot the data for the selected varaible"
   ]
  },
  {
   "cell_type": "code",
   "execution_count": null,
   "metadata": {},
   "outputs": [],
   "source": [
    "import matplotlib.pyplot as plt\n",
    "import iris.plot as iplt\n",
    "\n",
    "\n",
    "# A contour plot of this variable\n",
    "iplt.contour(total_precipitation_cube)\n",
    "plt.title(total_precipitation_cube.name())\n",
    "plt.show()\n",
    "plt.close()\n",
    "\n",
    "# click in the box and press 'ctrl' + 'enter'"
   ]
  },
  {
   "cell_type": "markdown",
   "metadata": {},
   "source": [
    "***\n",
    "## 1.3 Rim removal (single file example)\n",
    "\n",
    "The edges (or rim) of RCM outputs are biased due to the linear relaxation used on certain variables to apply the GCM lateral boundary conditions. This rim from each edge needs to be excluded from any analysis.\n",
    "\n",
    "The practice PP files like the one we used above have an eight points wide rim. We now demonstrate how to:\n",
    "* Remove this 8-point rim from our practice file and save it as NetCdf file\n",
    "* Plot the new file so that you can see the difference\n",
    "\n",
    "Click in the box and press <kbd>Ctrl</kbd> + <kbd>Enter</kbd>."
   ]
  },
  {
   "cell_type": "code",
   "execution_count": null,
   "metadata": {},
   "outputs": [],
   "source": [
    "# Use basic indexing to remove the 8 points rim and save is as a new cube\n",
    "total_precipitation_cube_norim = total_precipitation_cube[8:-8, 8:-8]\n",
    "\n",
    "# Path to the output directory\n",
    "output_dir = '/net/data/users/ssadri/data-local/PRECIS_WORK/practise_ppfiles/cahpa/'\n",
    "\n",
    "# format of the output NetCdf filename\n",
    "output_filename = \"{Outdir:s}/Sample_Data_{Name}_Norim.nc\".format(Outdir=output_dir,Name=total_precipitation_cube_norim.name())\n",
    "\n",
    "# Save the new data with rim removed as NetCdf file\n",
    "with iris.FUTURE.context(netcdf_no_unlimited=True, netcdf_promote=True):\n",
    "    iris.save(total_precipitation_cube_norim, output_filename)\n",
    "\n",
    "print \"File saved to\" + output_dir\n",
    "\n",
    "# click in the box and press 'ctrl' + 'enter'"
   ]
  },
  {
   "cell_type": "code",
   "execution_count": null,
   "metadata": {},
   "outputs": [],
   "source": [
    "# Plot the no-rim data next to the original for comparision \n",
    "plt.subplot(121)\n",
    "iplt.contour(total_precipitation_cube)\n",
    "plt.title(\"Original Data\")\n",
    "\n",
    "plt.subplot(122)\n",
    "iplt.contour(total_precipitation_cube_norim)\n",
    "plt.title(\"Original Data with rim removed\")\n",
    "\n",
    "plt.show()\n",
    "plt.close()\n",
    "\n",
    "# click in the box and press 'ctrl' + 'enter'"
   ]
  },
  {
   "cell_type": "markdown",
   "metadata": {},
   "source": [
    "***\n",
    "### 1.3.1 Select variables and remove rim (multiple files)\n",
    "Next we repeat the rim romoval operation but for multiple files.\n",
    "\n",
    "In this example you will see a reference to the cubes attibute 'STASH'. STASH codes are used as a storage handling system for all the variables that the PRECIS model and Met Office UM model provides. \n",
    "\n",
    "Each stash code refers to a variable.  In this example, the following STASH codes are used: 03236 = air temperature; 16222 = air pressure and 05216 = precipitation. You will notice that the files have been saved with the relevant STASH code in this example. In this example we use these stash codes and actual varialbe names to name our output files so that they are more readable."
   ]
  },
  {
   "cell_type": "code",
   "execution_count": null,
   "metadata": {},
   "outputs": [],
   "source": [
    "import iris\n",
    "import glob\n",
    "import os\n",
    "\n",
    "# change path to the data directory\n",
    "%cd /net/data/users/ssadri/data-local/PRECIS_WORK/practise_ppfiles/cahpa\n",
    "\n",
    "# Path to the output directory\n",
    "output_dir = '/net/data/users/ssadri/data-local/PRECIS_WORK/practise_ppfiles/cahpa/rr8_removed'\n",
    "\n",
    "# specify a filename format and read all the files matching it into a list\n",
    "file_list = glob.glob('cahpaa.pmi2???.pp')\n",
    "\n",
    "# List of stash code for the variables of interest: (Temperature, Precipitation, Surface Pressure)\n",
    "stash_codes = ['m01s03i236','m01s05i216','m01s16i222']\n",
    "\n",
    "# checks if output directory exists, if not creates a directory\n",
    "if not os.path.exists('rr8_removed'):\n",
    "    os.mkdir('rr8_removed')\n",
    "# find all the files from which to remove the rim\n",
    "file_list = glob.glob('cahpaa.pmi2???.pp')\n",
    "\n",
    "for data_file in file_list:\n",
    "    \n",
    "    print \"Loading data file: \" + data_file\n",
    "    \n",
    "    # Loop trhough the stash codes and only load the variables of intererest\n",
    "    for stash_code in stash_codes:\n",
    "    \n",
    "        # Constraint the reading to a single variable and load it into an Iris cube\n",
    "        cube = iris.load_cube(data_file,iris.AttributeConstraint(STASH=stash_code))\n",
    "        # remove the rim and save it as a new cube\n",
    "        no_rim_cube = cube[8:-8, 8:-8]\n",
    "    \n",
    "        # define a format fpr the output filename using the stash code and actual variable names\n",
    "        output_filename = \"{Outdir:s}/rr8_{Variable}_{Stash}_{Name}\".format(Outdir=output_dir,Name=data_file,Stash=stash_code, Variable=no_rim_cube.name())\n",
    "        # save the file\n",
    "        iris.save(no_rim_cube, output_filename)\n",
    "            \n",
    "    print \"File \"+ data_file + \" saved to \" + output_filename"
   ]
  },
  {
   "cell_type": "markdown",
   "metadata": {},
   "source": [
    "***\n",
    "## 1.4 Convert PP files to NetCDF and save them seperately by stashcode\n",
    "\n",
    "We can use a Iris to separate the variables and save them as netCDF files.\n",
    "\n",
    "* Separate the variables in all of the monthly files into separate directories and save as NetCDF files.\n",
    "\n",
    "    Click in the box below and press <kbd>Ctrl</kbd> + <kbd>Enter</kbd> to run the code."
   ]
  },
  {
   "cell_type": "code",
   "execution_count": null,
   "metadata": {
    "collapsed": false,
    "scrolled": false
   },
   "outputs": [],
   "source": [
    "import iris\n",
    "import glob\n",
    "import os\n",
    "\n",
    "# make sure we are in correct directory\n",
    "%cd /net/data/users/ssadri/data-local/PRECIS_WORK/practise_ppfiles/cahpa/rr8_removed\n",
    "\n",
    "# find all the files from which to remove the rim\n",
    "rr8_ppfiles = glob.glob('rr8*.pp')\n",
    "\n",
    "for rr8_file in rr8_ppfiles:\n",
    "    \n",
    "    # This will load all the variables in the file into a CubeList\n",
    "    data_cubes = iris.load(rr8_file)\n",
    "    \n",
    "    for cube in data_cubes:\n",
    "        \n",
    "        # get the STASH code\n",
    "        cubeSTASH = cube.attributes['STASH'] \n",
    "\n",
    "        # create a directory based on the STASH code\n",
    "        dir_name = str(cubeSTASH.section).zfill(2)+str(cubeSTASH.item).zfill(3)\n",
    "        \n",
    "        # checks if directory exists, if not creates a directory\n",
    "        if not os.path.exists(dir_name):\n",
    "            os.mkdir(dir_name)\n",
    "            \n",
    "        # for saving replace the *.pp file extension with *.nc\n",
    "        out_file = rr8_file.replace('.pp','.' + dir_name + '.nc')\n",
    "        \n",
    "        # save the merged data cube\n",
    "        iris.save(cube, dir_name + '/' + out_file[12:])\n",
    "\n",
    "print 'All NetCDF files have been saved to relevant stash code directory'"
   ]
  },
  {
   "cell_type": "markdown",
   "metadata": {},
   "source": [
    "* For each variable (Temperature, Precipitation, Surface Pressure) put the monthly files into a single cube and save as NetCDF file.\n",
    "\n",
    "    The monthly files are for the years 1981, 1982, and 1983, hence the file name saved to including 1981_1983.\n",
    "\n",
    "    Click in the box below and press <kbd>Ctrl</kbd> + <kbd>Enter</kbd> to run the code.\n"
   ]
  },
  {
   "cell_type": "code",
   "execution_count": null,
   "metadata": {
    "collapsed": false
   },
   "outputs": [],
   "source": [
    "import iris\n",
    "import glob\n",
    "\n",
    "stash_codes = ['03236','05216','16222']\n",
    "\n",
    "# loop over each directory stash code\n",
    "for stash in stash_codes:\n",
    "   \n",
    "    # load the file names into the variable flist\n",
    "    flist = glob.glob(stash + '/' + '*.nc')\n",
    "\n",
    "    cubelist = [] # an empty array to append the monthly cubes to\n",
    "    for fn in flist:\n",
    "        # There is only on cube so using single cube load function\n",
    "        datacube = iris.load_cube(fn)\n",
    "        cubelist.append(datacube)\n",
    "    \n",
    "    # Merge all the cubes in the list created above\n",
    "    mergedcube = iris.cube.CubeList(cubelist).merge_cube()\n",
    "    \n",
    "    # Can save the data direclty in netCDF format\n",
    "    outfile = stash + '/cahpaa.pm.1981_1983.rr8.' + stash + '.nc'\n",
    "    \n",
    "\n",
    "    iris.save(mergedcube, outfile)\n",
    "    \n",
    "print 'Each variable has been saved into a single NetCDF file in its relevant stash directory.'"
   ]
  },
  {
   "cell_type": "markdown",
   "metadata": {},
   "source": [
    "© Crown Copyright 2018, Met Office"
   ]
  }
 ],
 "metadata": {
  "celltoolbar": "Edit Metadata",
  "kernelspec": {
   "display_name": "Python 2",
   "language": "python",
   "name": "python2"
  },
  "language_info": {
   "codemirror_mode": {
    "name": "ipython",
    "version": 2.0
   },
   "file_extension": ".py",
   "mimetype": "text/x-python",
   "name": "python",
   "nbconvert_exporter": "python",
   "pygments_lexer": "ipython2",
   "version": "2.7.12"
  },
  "widgets": {
   "state": {},
   "version": "1.1.2"
  }
 },
 "nbformat": 4,
 "nbformat_minor": 0
}