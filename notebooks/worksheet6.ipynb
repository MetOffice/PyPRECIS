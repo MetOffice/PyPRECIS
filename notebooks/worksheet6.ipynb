{
 "cells": [
  {
   "cell_type": "markdown",
   "metadata": {},
   "source": [
    "# Worksheet 6: Investigating Extremes"
   ]
  },
  {
   "cell_type": "markdown",
   "metadata": {},
   "source": [
    "This final worksheet is a chance for you to put together all the techniques you have learned in the previous worksheets.\n",
    "\n",
    "Working with the same datasets, write some code to undertake an analysis of temperature extremes over our South East Asia domain.\n",
    "\n",
    "You have the following datasets available to you:\n",
    "\n",
    "**PRECIS data** (_cahpa_ and _cahpb_)\n",
    "  * Maximum daily temperature\n",
    "  * Minimum daily temperature\n",
    "  * Mean daily temperature\n",
    "  * Daily precipitation flux\n",
    "  * Monthly mean preciptation and temperature data as used in previous worksheets\n",
    "\n",
    "**Observations**\n",
    "  * APHRODITE rainfall data\n",
    "  * CRU temperature data\n",
    "  \n",
    "**Extremes indicies**<br>\n",
    "The full list of 27 core extreme indices are listed on the [CLIMDEX website](https://www.climdex.org/learn/indices/), or look at the summary table take from the IPCC AR5 report below.  We suggest you look at one of the following:\n",
    "\n",
    "  * Number of tropical nights (*TR*): $\\mathrm{TN}_{ij} > 20^{\\circ}C$\n",
    "  * Percentage of days when max temperature is > 90th percentile (*TX90p*): $\\mathrm{TX}_{ij} > \\mathrm{TX}_{in}90$\n",
    "  * Monthly maximum 1-day precipitation (*Rx1day*): $\\mathrm{Rx1day}_j = max (\\mathrm{RR}_{ij})$\n",
    "\n",
    "Speak to your instructor if you would like to look at alternative indicies.\n",
    "\n",
    "<p><img src=\"img/AR5_extreme_indices.png\" alt=\"AR5 extreme indices table\" style=\"float: center\"/></p>\n",
    "\n",
    "**Table 1:** Definitions of extreme temperature and precipitation indices used in IPCC Assessment Report 5 (after Zhang et al., 2011). The most common units are shown but these  may be shown as normalized or relative depending on application in different chapters. Figure, Tables and Section numbers refer to the IPCC AR5 report [here](https://www.ipcc.ch/report/ar5/wg1/)."
   ]
  },
  {
   "cell_type": "markdown",
   "metadata": {},
   "source": [
    "<div class=\"alert alert-block alert-warning\">\n",
    "<b>By the end of this worksheet you should be able to:</b><br> \n",
    "\n",
    "- Build a coding workflow to undertake extremes analysis<br>\n",
    "- Understand the different stages of post-processing<br>\n",
    "- Have an appreciation of data storage and file naming issues.\n",
    "</div>"
   ]
  },
  {
   "cell_type": "markdown",
   "metadata": {},
   "source": [
    "## Preamble"
   ]
  },
  {
   "cell_type": "code",
   "execution_count": null,
   "metadata": {},
   "outputs": [],
   "source": [
    "# Code preamble - these libraries will be used in this worksheet.\n",
    "# This code block needs to be re-run every time you restart this worksheet!\n",
    "%matplotlib inline \n",
    "import os\n",
    "import iris\n",
    "import iris.coord_categorisation\n",
    "import iris.quickplot as qplt\n",
    "import iris.plot as iplt\n",
    "import cartopy.crs as ccrs\n",
    "import cartopy.feature as cfeature\n",
    "import matplotlib.pyplot as plt\n",
    "import numpy as np\n",
    "import dask\n",
    "dask.config.set(get=dask.get)\n",
    "import dask.array as da\n",
    "from iris.analysis import Aggregator\n",
    "\n",
    "# Some helpful data locations\n",
    "DATADIR = 'data'\n",
    "PPDIR = os.path.join(DATADIR, 'pp')\n",
    "CLIMDIR = os.path.join(DATADIR, 'climatology')\n",
    "HISTDIR = os.path.join(DATADIR, 'historical')\n",
    "FUTRDIR = os.path.join(DATADIR, 'future')\n",
    "APHRODIR = os.path.join(DATADIR, 'APHRODITE')\n",
    "CRUDIR = os.path.join(DATADIR, 'CRU')\n",
    "JOBIDS = ['cahpa', 'cahpb']\n",
    "TIME_PERIODS = {'historical':'1961_1990', 'future':'2021_2050'}"
   ]
  },
  {
   "cell_type": "markdown",
   "metadata": {},
   "source": [
    "## Step 1: Process raw pp files"
   ]
  },
  {
   "cell_type": "markdown",
   "metadata": {},
   "source": [
    "Remember to:\n",
    " * Select the correct variable from the pp file\n",
    " * Remove the rim\n",
    " * Concatenate into a single netCDF file\n",
    " * Tidy cube metadata\n",
    " * Save the netCDF file so you can access it later"
   ]
  },
  {
   "cell_type": "code",
   "execution_count": null,
   "metadata": {},
   "outputs": [],
   "source": [
    "'''\n",
    "Step 1: Process the raw pp files\n",
    "'''\n"
   ]
  },
  {
   "cell_type": "markdown",
   "metadata": {},
   "source": [
    "## Step 2: Calculate the extreme index\n",
    "\n",
    "Remember to:\n",
    "  * Consider which observational data set to use for comparison\n",
    "  * Calculate the index for both the model data you prepared in step 1, but also the observed data\n",
    "  * Calculate the index for present and future model periods\n",
    "  * Save your index data sets as a netCDF file with appropriate metadata"
   ]
  },
  {
   "cell_type": "code",
   "execution_count": null,
   "metadata": {},
   "outputs": [],
   "source": [
    "'''\n",
    "Step 2: Calculate the extreme index\n",
    "'''\n"
   ]
  },
  {
   "cell_type": "markdown",
   "metadata": {},
   "source": [
    "## Step 3: Plot some results\n",
    "\n",
    "Remember to:\n",
    "  * Think about plotting absolute values, differences, or scaled differences.  Which one communicates your message best?\n",
    "  * Choose an appropriate colour scale"
   ]
  },
  {
   "cell_type": "code",
   "execution_count": null,
   "metadata": {},
   "outputs": [],
   "source": [
    "'''\n",
    "Step 3: Plot some results\n",
    "'''\n"
   ]
  },
  {
   "cell_type": "markdown",
   "metadata": {},
   "source": [
    "---\n",
    "<div class=\"alert alert-block alert-success\">\n",
    "<b>Question:</b> <br>\n",
    "Which extreme index did you chose to analyse? <br>\n",
    "Summarise the results of your analysis of this extreme index. <br>\n",
    "</div>"
   ]
  },
  {
   "cell_type": "markdown",
   "metadata": {},
   "source": [
    "<b>Answer</b><br>\n",
    "_Summarise the results of your extremes analysis here..._"
   ]
  },
  {
   "cell_type": "markdown",
   "metadata": {},
   "source": [
    "---"
   ]
  },
  {
   "cell_type": "markdown",
   "metadata": {},
   "source": [
    "<center>\n",
    "<div class=\"alert alert-block alert-warning\">\n",
    "<b>This completes worksheet 6.</b> <br>\n",
    "You have independently converted raw PRECIS output into files ready for analysis and used them to undertake scientific verification and analysis of a commonly recognised extreme index. \n",
    "    \n",
    "These will be the same steps required to post-process and analyse your own PRECIS simulations over your region of interest, so keep hold of these worksheets to refer back to in the future. \n",
    "</div>\n",
    "</center>\n",
    "\n",
    "<b>_Useful resources for future work is available online:_</b><br>\n",
    "* [IRIS Documentation](https://scitools.org.uk/iris/docs/latest/userguide/index.html) is the first port of call for IRIS usage.<br>\n",
    "* [Stack Overflow](https://stackoverflow.com/questions/tagged/python) provides solutions for common Python queries. <br>\n",
    "* The [PRECIS user forum](http://forum.precisrcm.com/) contains advice on how to solve common PRECIS set-up issues. <br>\n",
    "</div>\n"
   ]
  },
  {
   "cell_type": "markdown",
   "metadata": {},
   "source": [
    "<p><img src=\"img/MO_MASTER_black_mono_for_light_backg_RBG.png\" alt=\"python + iris logo\" style=\"float: center; height: 100px;\"/></p>\n",
    "<center>© Crown Copyright 2019, Met Office</center>"
   ]
  }
 ],
 "metadata": {
  "instance_type": "ml.t3.medium",
  "kernelspec": {
   "display_name": "Python [conda env:pyprecis-environment] (arn:aws:sagemaker:eu-west-2:198477955030:image-version/abtraining/1)",
   "language": "python",
   "name": "conda-env-pyprecis-environment-py__SAGEMAKER_INTERNAL__arn:aws:sagemaker:eu-west-2:198477955030:image-version/abtraining/1"
  },
  "language_info": {
   "codemirror_mode": {
    "name": "ipython",
    "version": 3
   },
   "file_extension": ".py",
   "mimetype": "text/x-python",
   "name": "python",
   "nbconvert_exporter": "python",
   "pygments_lexer": "ipython3",
   "version": "3.6.10"
  }
 },
 "nbformat": 4,
 "nbformat_minor": 4
}
