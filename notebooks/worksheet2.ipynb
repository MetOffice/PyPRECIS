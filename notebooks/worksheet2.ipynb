{
 "cells": [
  {
   "cell_type": "markdown",
   "metadata": {},
   "source": [
    "# Worksheet 2: Using the Python Iris library for analysis and visualisation\n",
    "\n",
    "In this worksheet, sample PRECIS output over Southeast Asia is compared with observations for validation purposes. Validating model results by comparing with observed data is an essential step - this is the measure by which we can assess the quality of the model and it informs appropriate uses of the data.\n",
    "\n",
    "\n",
    "Here, we validate PRECIS output driven by two different GCMs (HadCM3Q0 and ECHAM5). Using data from both experiments will give us two representations of present day climate and two possible climate scenarios. For more details on multimodel approaches, refer to the PRECIS workshop lecture on climate model ensembles.\n",
    "\n",
    "The following exercises provide examples of how analysis can be undertaken as part of a model validation. The methods shown are not necessarily the only way to proceed and are intended to demonstrate the use of Iris in model validation, and provide a starting point for your own analyses. For further help on validating your PRECIS simulations, refer to the PRECIS workshop lecture on model evaluation."
   ]
  },
  {
   "cell_type": "markdown",
   "metadata": {},
   "source": [
    "<div class=\"alert alert-block alert-warning\">\n",
    "<b>By the end of this worksheet you should be able to:</b><br> \n",
    "- Apply basic statistical operations to Iris cubes. <br>\n",
    "- Plot information from Iris cubes.<br>\n",
    "</div>"
   ]
  },
  {
   "cell_type": "markdown",
   "metadata": {},
   "source": [
    "<div class=\"alert alert-block alert-info\">\n",
    "<b>Note:</b> The data used here has been processed in the same way as Worksheet 1. The 8 point-rim has been removed and it has been converted from PP to NetCDF format.\n",
    "</div>"
   ]
  },
  {
   "cell_type": "markdown",
   "metadata": {},
   "source": [
    "## Contents\n",
    "### [2.1: Inspecting the data](#2.1) \n",
    "### [2.2: Converting units](#2.2)\n",
    "### [2.3: Climatological mean calculation](#2.3)\n",
    "### [2.4: IRIS quick plotting and visualising data](#2.4)"
   ]
  },
  {
   "cell_type": "markdown",
   "metadata": {},
   "source": [
    "## Preamble\n",
    "Run the code preamble below to import the necessary libraries for this worksheet.\n",
    "\n",
    "To run the code, click in the box below and press <kbd>Ctrl</kbd> + <kbd>Enter</kbd>."
   ]
  },
  {
   "cell_type": "code",
   "execution_count": null,
   "metadata": {},
   "outputs": [],
   "source": [
    "# Code preamble - these libraries will be used in this worksheet.\n",
    "# This code block needs to be re-run every time you restart this worksheet!\n",
    "%matplotlib inline\n",
    "import os\n",
    "import numpy as np\n",
    "import matplotlib.pyplot as plt\n",
    "import matplotlib.cm as cm\n",
    "import matplotlib.dates as mdates\n",
    "import calendar\n",
    "import iris\n",
    "import iris.coord_categorisation\n",
    "import iris.quickplot as qplt\n",
    "import cartopy.crs as ccrs\n",
    "from mpl_toolkits.axes_grid1 import AxesGrid\n",
    "from cartopy.mpl.geoaxes import GeoAxes"
   ]
  },
  {
   "cell_type": "markdown",
   "metadata": {},
   "source": [
    "<a id='2.1'></a>\n",
    "# 2.1 Inspecting the data\n",
    "\n",
    "The datasets used here contain daily and monthly data from two PRECIS runs carried out over Southeast Asia, one driven by HadCM3Q0 and the other driven by ECHAM5. The observations used for comparison are from the APHRODITE gridded observational data set (http://www.chikyu.ac.jp/precip/english/index.html).\n",
    "<p><img src=\"img/two_runids.jpg\" alt=\"PRECIS runid flow\" style=\"float: center; height: 200px;\"/></p>\n",
    "\n",
    "Remember, in Iris, data are read into an object called a **cube**. A single cube describes only one variable; it is not possible for a cube to contain both temperature and rainfall, for example. A cube always has a name, a unit and an n-dimensional data array to represents the cube’s data. Additionally, the cube contains collections of coordinates.  Coordinate types can include spatial information (latitude, longitude, altitude), a time dimension, or other information, e.g., an ensemble number.\n",
    "\n",
    "<p><img src=\"img/multi_array_to_cube.png\" alt=\"Example Iris cube\" style=\"float: center; height: 300px;\"/></p>\n"
   ]
  },
  {
   "cell_type": "markdown",
   "metadata": {},
   "source": [
    "__a) Load the NetCDF file for the HadCM3Q0 and ECHAM5 model data and the APHRODITE rainfall observation data and print the cube output__\n",
    "\n",
    "A cube has coordinates (e.g. time, longitude, latitude, model levels) which can be accessed with Python commands. In the following exercise we find the latitude and longitude covered by the APHRODITE data. This can be done by printing the latitude and longitude coordinates (`.points`), noting the first and last values in the array. A similar example can be found in the [Iris documentation](http://scitools.org.uk/iris/docs/latest/userguide/navigating_a_cube.html#accessing-coordinates-on-the-cube). \n",
    "\n",
    "Before running the code, take a look at it line-by-line to understand what steps are being taken. Then click in the box and press <kbd>ctrl</kbd> + <kbd>enter</kbd> to run the code."
   ]
  },
  {
   "cell_type": "code",
   "execution_count": null,
   "metadata": {},
   "outputs": [],
   "source": [
    "# Provide the names of the directories where the netCDF model files are stored\n",
    "DATADIR = '/project/ciid/projects/PRECIS/worksheets/data/'\n",
    "\n",
    "# Load and print the HadCM3Q0 (cahpa) model cube data\n",
    "infile = os.path.join(DATADIR, 'historical', 'cahpa.mon.1961_1990.pr.rr.nc')\n",
    "cahpaData = iris.load_cube(infile)\n",
    "\n",
    "# Load and print the ECHAM5 (cahpb) model cube data\n",
    "infile = os.path.join(DATADIR, 'historical', 'cahpb.mon.1961_1990.pr.rr.nc')\n",
    "cahpbData = iris.load_cube(infile)\n",
    "\n",
    "# Load and print the APHRODITE observation cube data\n",
    "infile = os.path.join(DATADIR, 'APHRODITE', 'aphro.mon.1961_1990.nc')\n",
    "aphroData = iris.load_cube(infile)"
   ]
  },
  {
   "cell_type": "markdown",
   "metadata": {},
   "source": [
    "---\n",
    "<div class=\"alert alert-block alert-success\">\n",
    "    <b>Question:</b> How many years of data does the Aphrodite dataset contain?\n",
    "</div>\n",
    "\n",
    "---"
   ]
  },
  {
   "cell_type": "markdown",
   "metadata": {},
   "source": [
    "__b) Extract a subset of the data within a cube__\n",
    "\n",
    "Data extraction is an important function in Iris. The extraction of a subset of data is called **slicing**.  For example, it could be necessary to extract data over all latitude and longitude grid points on the first time step. For more information around subsetting cubes please read the [Iris documentation on slicing](http://scitools.org.uk/iris/docs/latest/userguide/subsetting_a_cube.html#cube-indexing).\n",
    "\n",
    "__Using the HadCM3Q0 (cahpa) data, the example below shows how to subset a cube for the first and last timesteps. This method will be used later for plotting data from a cube.__ \n",
    "\n",
    "Work through the example below line by line then click in the box and press <kbd>Ctrl</kbd> + <kbd>Enter</kbd> to run the code.\n",
    "\n",
    "First, print the HadCM3QO (cahpa) cube, containing all the time steps:"
   ]
  },
  {
   "cell_type": "code",
   "execution_count": null,
   "metadata": {},
   "outputs": [],
   "source": [
    "# Use the print() command to display a summary of the HadCM3Q0 cube\n",
    "\n"
   ]
  },
  {
   "cell_type": "markdown",
   "metadata": {},
   "source": [
    "---\n",
    "<div class=\"alert alert-block alert-success\">\n",
    "<b>Question:</b> What dimensions does this cube have? <br>\n",
    "    t = number of timesteps <br>\n",
    "    y = number of latitude steps <br>\n",
    "    x = number of longitude steps <br>\n",
    "    Write your answer in the form `[ t, y, x ]`\n",
    "</div>"
   ]
  },
  {
   "cell_type": "markdown",
   "metadata": {},
   "source": [
    "<b>Answer:</b><br>\n",
    "Cahpa dimensions: [ t, y, x]"
   ]
  },
  {
   "cell_type": "markdown",
   "metadata": {},
   "source": [
    "---"
   ]
  },
  {
   "cell_type": "markdown",
   "metadata": {},
   "source": [
    "<div class=\"alert alert-block alert-info\">\n",
    "<b>Note:</b> When indexing a cube dimension, you either can specify a single coordinate, e.g. <code>0</code> is the first (zeroth) item, or you can use <b><code>:</code></b> to include <b>all items</b>.<br>\n",
    "</div>"
   ]
  },
  {
   "cell_type": "markdown",
   "metadata": {},
   "source": [
    "Display the cube's **first** timestep and check the associated `time` value:"
   ]
  },
  {
   "cell_type": "code",
   "execution_count": null,
   "metadata": {},
   "outputs": [],
   "source": [
    "# Use the print() function with slicing notation\n",
    "\n"
   ]
  },
  {
   "cell_type": "markdown",
   "metadata": {},
   "source": [
    "Display the cube's **last** timestep and check the associated `time` value:"
   ]
  },
  {
   "cell_type": "code",
   "execution_count": null,
   "metadata": {},
   "outputs": [],
   "source": [
    "# Use the print() function with slicing notation\n",
    "\n"
   ]
  },
  {
   "cell_type": "markdown",
   "metadata": {},
   "source": [
    "<a id='2.2'></a>\n",
    "## 2.2 Converting units\n",
    "\n",
    "__c) Convert the precipitation units from kg/m2/s (equivalent to mm/s) to mm/day__\n",
    "\n",
    "To convert to mm/day, we could just multiply the raw data (in mm/s) by 86400 seconds, but a clearer way is to use the __`.convert_units()`__ method with the name of the units we want to convert the data into.\n",
    "\n",
    "Let's do this for the __cahpa__ historical data first and break down the steps as follows:\n",
    "\n",
    "* Print the units and summary statistic about the data\n",
    "* Convert the unit and print the information again\n",
    "* Rename the `.units` value in the cube and save it as a new netCDF file"
   ]
  },
  {
   "cell_type": "code",
   "execution_count": null,
   "metadata": {},
   "outputs": [],
   "source": [
    "print(cahpaData)"
   ]
  },
  {
   "cell_type": "code",
   "execution_count": null,
   "metadata": {},
   "outputs": [],
   "source": [
    "# print the unit\n",
    "print('The current unit for data is: {}'.format(cahpaData.units))\n",
    "# print the summary statistic (maximum monthly precipitation)\n",
    "maxpr = np.max(cahpaData.data)\n",
    "print('This is an example rainfall rate (kg m-2 s-1) prior to conversion: {:f}'.format(maxpr))"
   ]
  },
  {
   "cell_type": "code",
   "execution_count": null,
   "metadata": {},
   "outputs": [],
   "source": [
    "# Convert units to kg m-2 day-1 (same as multiplying by 86400 seconds)\n",
    "cahpaData.convert_units('kg m-2 day-1')\n",
    "# Print cube.units to view new units for precipitation\n",
    "print('The new rainfall units are: {}'.format(cahpaData.units))\n",
    "maxpr = np.max(cahpaData.data)\n",
    "# print the summary statistic (maximum monthly precipitation) after the unit conversion\n",
    "print('This is the same rainfall rate but now in (kg m-2 day-1): {:f}'.format(maxpr))"
   ]
  },
  {
   "cell_type": "markdown",
   "metadata": {},
   "source": [
    "Rename the new cube units for consistency, then save the converted cube:"
   ]
  },
  {
   "cell_type": "code",
   "execution_count": null,
   "metadata": {},
   "outputs": [],
   "source": [
    "# Rename cube units\n",
    "cahpaData.units = 'mm day-1'\n",
    "# Remove extraneous cube metadata.  This helps make cube comparisons easier later.\n",
    "cahpaData.remove_coord('forecast_period')\n",
    "cahpaData.remove_coord('forecast_reference_time')\n",
    "# Save the new cube as a new netCDF file\n",
    "outfile = os.path.join(DATADIR, 'historical', 'cahpa.mon.1961_1990.pr.rr.mmday-1.nc')\n",
    "iris.save(cahpaData, outfile)"
   ]
  },
  {
   "cell_type": "markdown",
   "metadata": {},
   "source": [
    "Complete the follow code block to repeat the same procedure for __cahpb__:"
   ]
  },
  {
   "cell_type": "code",
   "execution_count": null,
   "metadata": {},
   "outputs": [],
   "source": [
    "# Print the current cahpb cube units\n",
    "\n",
    "\n",
    "# convert units to kg m-2 day-1\n",
    "\n",
    "\n",
    "# Rename the units to mm day-1. Recall that 1 kg m-2 is equivalent to 1 mm of rain\n",
    "\n",
    "\n",
    "# Remove extraneous cube metadata.  This helps make cube comparisons easier later.\n",
    "\n",
    "# Save the new cube as a new netCDF file using the `outfile` filename we've provided below!\n",
    "outfile = os.path.join(DATADIR, 'historical', 'cahpb.mon.1961_1990.pr.rr.mmday-1.nc')\n",
    "\n"
   ]
  },
  {
   "cell_type": "markdown",
   "metadata": {},
   "source": [
    "<a id='2.3'></a>\n",
    "## 2.3 Climatological seasonal mean calculation\n",
    "\n",
    "__d) Calculate the 1961-1990 seasonal mean precipitation__ field for October-December (OND) from both the HadCM3Q0 (cahpa) and ECHAM5 (cahpb) driven PRECIS runs.\n",
    "\n",
    "Work through the example below line by line then click in the box and press <kbd>ctrl</kbd> + <kbd>enter</kbd> to run the code."
   ]
  },
  {
   "cell_type": "code",
   "execution_count": null,
   "metadata": {
    "scrolled": true
   },
   "outputs": [],
   "source": [
    "# Define output location\n",
    "outdir = os.path.join(DATADIR, 'climatology')\n",
    "# Check to see if this directory exists, if not create it\n",
    "if not os.path.isdir(outdir):\n",
    "    # Make directory\n",
    "    os.mkdir(outdir)\n",
    "    # Set directory permissions \n",
    "    os.chmod(outdir, 0o776)\n",
    "\n",
    "# Loop through two model runs\n",
    "for jobid in ['cahpa', 'cahpb']:\n",
    "    infile = os.path.join(DATADIR, 'historical', jobid + '.mon.1961_1990.pr.rr.mmday-1.nc')\n",
    "\n",
    "    # Load the data\n",
    "    data = iris.load_cube(infile)\n",
    "\n",
    "    # In order to calculate OND mean, we use the command below to add a season membership coordinate.\n",
    "    # The seasons can be any sequence of months, identified by the first letters of the names of the months.\n",
    "    # Here, we define two seasons, jfmamjjas (the months we are not interested in) and ond (October, November and\n",
    "    # December); the months we do want.\n",
    "    iris.coord_categorisation.add_season(data, 'time', name='seasons', seasons=('jfmamjjas','ond'))\n",
    "\n",
    "    # This command extracts data for the OND season using a constraint\n",
    "    data_ond = data.extract(iris.Constraint(seasons='ond'))\n",
    "\n",
    "    # The cube 'data_ond' contains data from October-December for all years. \n",
    "    # The command below calculates the mean over all years.\n",
    "    seasonal_mean = data_ond.aggregated_by(['seasons'], iris.analysis.MEAN)\n",
    "    \n",
    "    # Save the OND seasonal mean as a netCDF\n",
    "    outfile = os.path.join(outdir, jobid + '.OND.mean.1961_1990.pr.mmday-1.nc')\n",
    "    iris.save(seasonal_mean, outfile)"
   ]
  },
  {
   "cell_type": "markdown",
   "metadata": {},
   "source": [
    "---\n",
    "<div class=\"alert alert-block alert-success\">\n",
    "<b>Question:</b> What dimensions does this cube have now? <br>\n",
    "    t = number of timesteps <br>\n",
    "    y = number of latitude steps <br>\n",
    "    x = number of longitude steps <br>\n",
    "    Write your answer in the form `[ t, y, x ]` <br>\n",
    "    Compare your answer to the answer you found in <strong> (b)</strong>. Which dimensions have changed?\n",
    "</div>"
   ]
  },
  {
   "cell_type": "markdown",
   "metadata": {},
   "source": [
    "<b>Answer:</b><br>\n",
    "Seasonal mean dimensions: [ t, y, x]"
   ]
  },
  {
   "cell_type": "markdown",
   "metadata": {},
   "source": [
    "---"
   ]
  },
  {
   "cell_type": "markdown",
   "metadata": {},
   "source": [
    "__e) Calculate the 1961-1990 seasonal mean for OND from the APHRODITE observation data__\n",
    "\n",
    "APHRODITE is a daily high resolution (0.25 degree) rain-gauge based precipitation data set over Asia for 1950-2007. See http://www.chikyu.ac.jp/precip/english/index.html for more information.\n",
    "\n",
    "Follow step d) and complete the code yourself.  The file name to load is: `aphro.mon.1961_1990.nc`. We've given you the infile and outfile names to make sure you load and save it in the right place for later!"
   ]
  },
  {
   "cell_type": "code",
   "execution_count": null,
   "metadata": {},
   "outputs": [],
   "source": [
    "# Directory names where data is read from and stored to\n",
    "infile = os.path.join(DATADIR, 'APHRODITE', 'aphro.mon.1961_1990.nc')\n",
    "\n",
    "\n",
    "# Load the aphrodite data\n",
    "\n",
    "\n",
    "# In order to calculate OND mean, we need to a add season membership coordinate\n",
    "\n",
    "\n",
    "# Then constrain the cube just for the OND season\n",
    "\n",
    "\n",
    "# Now calculate the climatological mean for this season\n",
    "\n",
    "\n",
    "# save the seasonal mean cube as a NetCDF file\n",
    "outfile = os.path.join(DATADIR, 'climatology', 'aphro.OND.mean.1961_1990.pr.mmday-1.nc')\n",
    "\n",
    "\n",
    "# print the APHRODITE seasonal mean cube\n",
    "\n"
   ]
  },
  {
   "cell_type": "markdown",
   "metadata": {},
   "source": [
    "---\n",
    "<div class=\"alert alert-block alert-success\">\n",
    "<b>Question:</b> How would you calculate the standard deviation of mean rainfall?  How about annual maximum rainfall?\n",
    "</div>"
   ]
  },
  {
   "cell_type": "markdown",
   "metadata": {},
   "source": [
    "<b>Answer:</b> Write the line of code required to calculate APHRODITE's (a) standard deviation and (b) annual maximum rainfall in the code block below. <br>\n",
    "<b>Hint</b>: Refer to the [Iris documentation](https://scitools.org.uk/iris/docs/latest/iris/iris/analysis.html/) if needed."
   ]
  },
  {
   "cell_type": "code",
   "execution_count": null,
   "metadata": {},
   "outputs": [],
   "source": [
    "# From aphro_cube, calculate: \n",
    "# (a) aphro_std \n",
    "\n",
    "\n",
    "# (b) aphro_max\n",
    "\n"
   ]
  },
  {
   "cell_type": "markdown",
   "metadata": {},
   "source": [
    "---"
   ]
  },
  {
   "cell_type": "markdown",
   "metadata": {},
   "source": [
    "<a id='2.4'></a>\n",
    "## 2.4 IRIS quick plotting and visualising data\n",
    "\n",
    "Now we will plot the output to take a first look at what climatological winter precipitation (1961-1990 OND seasonal mean) looks like for each dataset. This section provides an initial introduction to visualising data quickly using iris, for further reading and instructions please visit: http://scitools.org.uk/iris/docs/latest/userguide/plotting_a_cube.html\n"
   ]
  },
  {
   "cell_type": "markdown",
   "metadata": {},
   "source": [
    "**f) Plot and compare** the climatological winter preciptation over South East Asia for three datasets."
   ]
  },
  {
   "cell_type": "markdown",
   "metadata": {},
   "source": [
    "<div class=\"alert alert-block alert-success\">\n",
    "<b>Question:</b> Work through the code block below line by line. Think about what you expect the plot setup to look like: <br> \n",
    "\n",
    "* Which lines of code specify the layout of sub-plots?<br>\n",
    "* Will the plots have a common colour scale or separate ones?<br>\n",
    "* What are the maximum and minimum precipitation values that will be displayed? <br>\n",
    "</div>"
   ]
  },
  {
   "cell_type": "markdown",
   "metadata": {},
   "source": [
    "Think about your answers, then click in the box and press <kbd>ctrl</kbd> + <kbd>enter</kbd> to run the code and create the plots."
   ]
  },
  {
   "cell_type": "code",
   "execution_count": null,
   "metadata": {},
   "outputs": [],
   "source": [
    "# Directory name where data is read from\n",
    "indir = os.path.join(DATADIR, 'climatology')\n",
    "\n",
    "# load cahpa model data\n",
    "infile = os.path.join(indir, 'cahpa.OND.mean.1961_1990.pr.mmday-1.nc')\n",
    "cahpa_cube = iris.load_cube(infile)\n",
    "\n",
    "# load cahpb model data\n",
    "infile = os.path.join(indir, 'cahpb.OND.mean.1961_1990.pr.mmday-1.nc')\n",
    "cahpb_cube = iris.load_cube(infile)\n",
    "\n",
    "# load APHRODITE data\n",
    "infile = os.path.join(indir, 'aphro.OND.mean.1961_1990.pr.mmday-1.nc')\n",
    "obs_cube   = iris.load_cube(infile)\n",
    "\n",
    "# Do some plotting!\n",
    "# Create a figure of the size 12x10 inches\n",
    "plt.figure(figsize=(12, 10))\n",
    "\n",
    "plt.subplot(1, 3, 1)           # Create a new subplot for the model data; 1 row x 3 columns, 1st plot\n",
    "levels = range(0, 22, 2)       # Define the contour levels for all plots\n",
    "\n",
    "# Note this is where cube slicing is needed as you can only plot 2-coordinate\n",
    "# dimensions with qplt.contourf, so here we have selected time[0] as there is only\n",
    "# one timestep (the baseline 1961-1990 mean)\n",
    "qplt.contourf(cahpa_cube[0], levels=levels, cmap=cm.RdBu)\n",
    "                               \n",
    "\n",
    "plt.title('HadCM3Q0 model')          # plots a title for the plot\n",
    "ax = plt.gca()                 # gca function that returns the current axes\n",
    "ax.coastlines()                # adds coastlines defined by the axes of the plot\n",
    "\n",
    "plt.subplot(1, 3, 2)           # Create a new subplot for the model data; 1 row x 3 columns, 2nd plot\n",
    "qplt.contourf(cahpb_cube[0], levels=levels, cmap=cm.RdBu)\n",
    "\n",
    "plt.title('ECHAM5 model')       # plots a title for the plot\n",
    "ax = plt.gca()                 # gca function that returns the current axes\n",
    "ax.coastlines()                # adds coastlines defined by the axes of the plot\n",
    "\n",
    "plt.subplot(1, 3, 3)           # Create a new subplot for the observed data 1 row x 3 columns, 3rd plot\n",
    "                               # This plot will be centred and below the two model plots\n",
    "qplt.contourf(obs_cube[0], levels=levels, cmap=cm.RdBu)\n",
    "\n",
    "plt.title('APHRODITE obs')     # plots a title for the plot\n",
    "ax = plt.gca()                 # gca function that returns the current axes\n",
    "ax.coastlines()                # adds coastlines defined by the axes of the plot\n",
    "\n",
    "plt.tight_layout()             # automatically adjusts subplot(s) to fit in to the figure area\n",
    "plt.show()"
   ]
  },
  {
   "cell_type": "markdown",
   "metadata": {},
   "source": [
    "---\n",
    "<div class=\"alert alert-block alert-success\">\n",
    "<b>Question:</b> \n",
    "    <br>What are the differences between the following plots for cahpa, cahpb and APHRODITE? Note the colour bars. \n",
    "    <br>Where are the largest daily rainfall rates distributed?\n",
    "    <br>Why do you think this is happening?\n",
    "</div>"
   ]
  },
  {
   "cell_type": "markdown",
   "metadata": {},
   "source": [
    "<b>Answer:</b> *(Double click here to fill in the answers)*<br>\n",
    "\n",
    "<b>What differences do you see between the three plots?</b>\n",
    "\n",
    "\n",
    "<b>Location of greatest rainfall</b>\n",
    "<br> *cahpa*: \n",
    "<br> *cahpb*: \n",
    "<br> *aphrodite*:\n",
    "\n",
    "\n",
    "<b>What is happening and why?</b>\n",
    "\n",
    "\n",
    "<b>How could comparison be made easier?</b>"
   ]
  },
  {
   "cell_type": "markdown",
   "metadata": {},
   "source": [
    "---"
   ]
  },
  {
   "cell_type": "markdown",
   "metadata": {},
   "source": [
    "<center>\n",
    "<div class=\"alert alert-block alert-warning\">\n",
    "<b>This completes worksheet 2.</b> <br>You have covered converting units, created seasonal means and visulised your results.<br>\n",
    "In worksheet 3, you will start to consider more advanced analysis, extract regional means, look at annule cycles, work with ensemble data and produce difference plots.\n",
    "</div>\n",
    "</center>"
   ]
  },
  {
   "cell_type": "markdown",
   "metadata": {},
   "source": [
    "<p><img src=\"img/MO_MASTER_black_mono_for_light_backg_RBG.png\" alt=\"python + iris logo\" style=\"float: center; height: 100px;\"/></p>\n",
    "<center>© Crown Copyright 2019, Met Office</center>"
   ]
  }
 ],
 "metadata": {
  "kernelspec": {
   "display_name": "pyprecis-environment",
   "language": "python",
   "name": "pyprecis-environment"
  },
  "language_info": {
   "codemirror_mode": {
    "name": "ipython",
    "version": 3
   },
   "file_extension": ".py",
   "mimetype": "text/x-python",
   "name": "python",
   "nbconvert_exporter": "python",
   "pygments_lexer": "ipython3",
   "version": "3.7.12"
  },
  "widgets": {
   "state": {},
   "version": "1.1.2"
  }
 },
 "nbformat": 4,
 "nbformat_minor": 1
}
