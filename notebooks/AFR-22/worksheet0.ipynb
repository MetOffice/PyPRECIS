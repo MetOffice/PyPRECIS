{
 "cells": [
  {
   "cell_type": "markdown",
   "id": "679eac95",
   "metadata": {},
   "source": [
    "# Worksheet 0. Basic Python \n",
    "\n",
    "This worksheet acts as a very quick introduction to the Python Programming Language. It covers the key concepts used in the following notebooks but without going into much depth. There are lots of tutorials that you can use to learn more about Python available online. See for example:\n",
    "\n",
    " * [W3 Schools](https://www.w3schools.com/python/default.asp)\n",
    " * [Software carpentry](http://swcarpentry.github.io/python-novice-gapminder/)\n",
    " * [Official Python tutorial](https://docs.python.org/3/tutorial/)\n",
    " \n",
    " The key concepts we will teach you in this section are:\n",
    " \n",
    " * printing values \n",
    " * comments\n",
    " * variables and basic maths\n",
    " * lists and tuples\n",
    " * loops\n",
    " * using libraries\n",
    " * Python functions and lambdas\n",
    " * objects and methods - how to use them\n"
   ]
  },
  {
   "cell_type": "markdown",
   "id": "00d1402e",
   "metadata": {},
   "source": [
    "## 0.1 The Jupyter Notebook and the print function\n",
    "\n",
    "This is a jupyter notebook. It allows you to combine code (in this case Python) and formatted text. The notebook contains cells - each cell either contains formatted text (like this cell) or code (the next one). \n",
    "\n",
    "<div class=\"alert alert-block alert-info\">\n",
    "<b>Note:</b> In the boxes where there is code or where you are asked to type code, click in the box, then press <kbd>Ctrl</kbd> + <kbd>Enter</kbd> to run the code. <br>\n",
    "<b>Note:</b> An percentage sign <code>%</code> is needed to run some commands on the shell. It is noted where this is needed.<br>\n",
    "<b>Note:</b> A hash <code>#</code> denotes a comment; anything written after this character does not affect the command being run. <br>\n",
    "</div>\n",
    "\n",
    "Run the next cell by pressing <kbd>Ctrl</kbd> + <kbd>Enter</kbd>. and see the result"
   ]
  },
  {
   "cell_type": "code",
   "execution_count": null,
   "id": "cbf23b8b",
   "metadata": {},
   "outputs": [],
   "source": [
    "print(\"hello, world\")"
   ]
  },
  {
   "cell_type": "markdown",
   "id": "416c4744",
   "metadata": {},
   "source": [
    "Now it's your turn. Can you complete the cell below to get it to say hello to you? In the cell below complete the line and then press <kbd>Ctrl</kbd> + <kbd>Enter</kbd>."
   ]
  },
  {
   "cell_type": "code",
   "execution_count": null,
   "id": "c73627fd",
   "metadata": {},
   "outputs": [],
   "source": [
    "print()"
   ]
  },
  {
   "cell_type": "markdown",
   "id": "9fe410e8",
   "metadata": {},
   "source": [
    "## 0.2 Variables\n",
    "\n",
    "Variables are containers that hold the value of our data. There are many different types of variables in Python, here we will show you some of the most important ones you will need in this course.\n",
    "\n",
    "* strings\n",
    "* integers\n",
    "* floating point numbers\n",
    "\n",
    "A [string](https://en.wikipedia.org/wiki/String_(computer_science)) is a type of variable that holds a sequence of characters. Run the code below which shows the creation and printing of a string. "
   ]
  },
  {
   "cell_type": "code",
   "execution_count": null,
   "id": "f21c5987",
   "metadata": {},
   "outputs": [],
   "source": [
    "a_name = \"Alicia\"\n",
    "print(a_name)"
   ]
  },
  {
   "cell_type": "markdown",
   "id": "af20932b",
   "metadata": {},
   "source": [
    "Now complete the block below so it prints your name and then press <kbd>Ctrl</kbd> + <kbd>Enter</kbd>. Make sure you include the quotes - this is how Python knows this is a string and not the name of a variable"
   ]
  },
  {
   "cell_type": "code",
   "execution_count": null,
   "id": "ca5b2db9",
   "metadata": {},
   "outputs": [],
   "source": [
    "my_name = \n",
    "print()"
   ]
  },
  {
   "cell_type": "markdown",
   "id": "9835af0f",
   "metadata": {},
   "source": [
    "We can also combine strings using the + operator:"
   ]
  },
  {
   "cell_type": "code",
   "execution_count": null,
   "id": "d3f76cef",
   "metadata": {},
   "outputs": [],
   "source": [
    "message = \"Hello, \" + my_name\n",
    "print(message)"
   ]
  },
  {
   "cell_type": "markdown",
   "id": "d8a99ff0",
   "metadata": {},
   "source": [
    "Notice that we did not set the variable my_name in the cell above - variables made in previous cell are retained in the computers memory until we shut the notebook down"
   ]
  },
  {
   "cell_type": "markdown",
   "id": "3f2952bf",
   "metadata": {},
   "source": [
    "Another way to combine strings is using the f-string like this:"
   ]
  },
  {
   "cell_type": "code",
   "execution_count": null,
   "id": "e8057434",
   "metadata": {},
   "outputs": [],
   "source": [
    "print(f\"Hello, {my_name}\" )"
   ]
  },
  {
   "cell_type": "markdown",
   "id": "3aef2a47",
   "metadata": {},
   "source": [
    "In the line above, the curly brackets {} are replaced by the value of the variable inside them. \n",
    "\n",
    "Now we will do some maths. We will start with whole numbers, called integers or int for short. What do you think the code below will print? Think about it and then run the cell to check your answer."
   ]
  },
  {
   "cell_type": "code",
   "execution_count": null,
   "id": "df50e368",
   "metadata": {},
   "outputs": [],
   "source": [
    "a = 1\n",
    "b = 2\n",
    "# add a and b and save the value to a new variable c\n",
    "c = a + b\n",
    "# print the value of c\n",
    "print(c)\n",
    "\n",
    "# we can also subtract two numbers\n",
    "d = a - b\n",
    "print (d)"
   ]
  },
  {
   "cell_type": "markdown",
   "id": "0be438ba",
   "metadata": {},
   "source": [
    "What about numbers which are not whole? These are called floating point number or floats and they look very similar:"
   ]
  },
  {
   "cell_type": "code",
   "execution_count": null,
   "id": "25c65b29",
   "metadata": {},
   "outputs": [],
   "source": [
    "a = 1.5\n",
    "b = 4.0\n",
    "# now we multiply a by b using the * symbol\n",
    "c = a * b\n",
    "print(c)"
   ]
  },
  {
   "cell_type": "markdown",
   "id": "91d3b6d4",
   "metadata": {},
   "source": [
    "Complete the code below to calculate and print what 7 divided by 3 is then run the cell to check your answer. \n",
    "\n",
    "**Hint:** use the / symbol to divide one number by another"
   ]
  },
  {
   "cell_type": "code",
   "execution_count": null,
   "id": "eff9f813",
   "metadata": {},
   "outputs": [],
   "source": [
    "a = 7\n",
    "b = \n",
    "c = \n",
    "print()"
   ]
  },
  {
   "cell_type": "markdown",
   "id": "84f91e31",
   "metadata": {},
   "source": [
    "What do you think will happen if we try and divide a number by zero? run the cell below to find out."
   ]
  },
  {
   "cell_type": "code",
   "execution_count": null,
   "id": "27faaee3",
   "metadata": {},
   "outputs": [],
   "source": [
    "c = 1.5/0.0"
   ]
  },
  {
   "cell_type": "markdown",
   "id": "cbbffd1f",
   "metadata": {},
   "source": [
    "This is what happens when there is an error in your code. The Python language prints the line at which the error occurred and some information about what is wrong. In this case it is saying that it is an error to divide a number by zero. You will see many more errors as you go through these notebooks. This is all part of learning to programme - don't worry about it, but if you can't understand the problem or how to fix it please ask an instructor for help."
   ]
  },
  {
   "cell_type": "markdown",
   "id": "1284f462",
   "metadata": {},
   "source": [
    "# 0.3 Lists and tuples\n",
    "\n",
    "Very often we want to be able to store a number of variables together. Imagine a shopping list for example: we want bread, milk and eggs. In Python we would store these in a list like this:"
   ]
  },
  {
   "cell_type": "code",
   "execution_count": null,
   "id": "d3a2e986",
   "metadata": {},
   "outputs": [],
   "source": [
    "shopping = [\"bread\", \"milk\", \"eggs\"]\n",
    "print(shopping)"
   ]
  },
  {
   "cell_type": "markdown",
   "id": "cddaa52b",
   "metadata": {},
   "source": [
    "The square brackets here [] tell Python that this is a list. We can print each item on it's own as well as the whole list. Note that the first item is at position 0 in the list."
   ]
  },
  {
   "cell_type": "code",
   "execution_count": null,
   "id": "a2d79220",
   "metadata": {},
   "outputs": [],
   "source": [
    "print(shopping[0])\n",
    "print(shopping[1])\n",
    "print(shopping[2])"
   ]
  },
  {
   "cell_type": "markdown",
   "id": "e29b21e3",
   "metadata": {},
   "source": [
    "We can also add items onto the list using append."
   ]
  },
  {
   "cell_type": "code",
   "execution_count": null,
   "id": "e06e0c88",
   "metadata": {},
   "outputs": [],
   "source": [
    "shopping.append(\"cheese\")\n",
    "print(shopping)"
   ]
  },
  {
   "cell_type": "markdown",
   "id": "99dab2f9",
   "metadata": {},
   "source": [
    "Now add your own item onto the list and print just the last item. Add the missing parts in the cell below and then run it. \n",
    "\n",
    "**Hint:** this will be the 5th item on the list so you need index 4."
   ]
  },
  {
   "cell_type": "code",
   "execution_count": null,
   "id": "2e871634",
   "metadata": {},
   "outputs": [],
   "source": [
    "shopping.append(\"\")\n",
    "print(shopping[])"
   ]
  },
  {
   "cell_type": "markdown",
   "id": "fbfdc064",
   "metadata": {},
   "source": [
    "We can also change items in the list. We don't want bread, we want oranges, so we will change the first item in the list like this:"
   ]
  },
  {
   "cell_type": "code",
   "execution_count": null,
   "id": "e6997c98",
   "metadata": {},
   "outputs": [],
   "source": [
    "shopping[0] = 'oranges'\n",
    "print(shopping)"
   ]
  },
  {
   "cell_type": "markdown",
   "id": "7c9b94b9",
   "metadata": {},
   "source": [
    "Tuples look very similar to lists but use round brackets (). \n"
   ]
  },
  {
   "cell_type": "code",
   "execution_count": null,
   "id": "33728b52",
   "metadata": {},
   "outputs": [],
   "source": [
    "shopping = (\"bread\", \"milk\", \"eggs\")\n",
    "print(shopping)\n",
    "print(shopping[0])"
   ]
  },
  {
   "cell_type": "markdown",
   "id": "a836ba03",
   "metadata": {},
   "source": [
    "However, once we create a tuple we can't change its contents:"
   ]
  },
  {
   "cell_type": "code",
   "execution_count": null,
   "id": "2f6fddcd",
   "metadata": {},
   "outputs": [],
   "source": [
    "shopping[0] = 'oranges'"
   ]
  },
  {
   "cell_type": "markdown",
   "id": "4d5e1169",
   "metadata": {},
   "source": [
    "## 0.4 Loops\n",
    "\n",
    "We often want to do repeat a command multiple times. To do this we use for loops. For example - imagine we want to tell the user to buy each of the items in our shoppping list one at a time. This can be done as shown below."
   ]
  },
  {
   "cell_type": "code",
   "execution_count": null,
   "id": "8df70681",
   "metadata": {},
   "outputs": [],
   "source": [
    "for item in shopping:\n",
    "    # everything inside the loop must be indented using spaces\n",
    "    print(f\"Please buy {item}\")\n",
    "print(\"Thank you\")"
   ]
  },
  {
   "cell_type": "markdown",
   "id": "202c5efa",
   "metadata": {},
   "source": [
    "We can use this to loop over a list of numbers and add them up. "
   ]
  },
  {
   "cell_type": "code",
   "execution_count": null,
   "id": "6e73b805",
   "metadata": {},
   "outputs": [],
   "source": [
    "numbers = [1.0, 0.5, 0.9, 0.2]\n",
    "sum = 0.0\n",
    "for number in numbers:\n",
    "    print(number)\n",
    "    sum = sum + number\n",
    "print(f\"sum of your numbers is {sum}\")"
   ]
  },
  {
   "cell_type": "markdown",
   "id": "9a231754",
   "metadata": {},
   "source": [
    "Make a list containing these numbers and add them up. 0.8, 2.4, 1.4, 9.6"
   ]
  },
  {
   "cell_type": "code",
   "execution_count": null,
   "id": "070b01ab",
   "metadata": {},
   "outputs": [],
   "source": [
    "numbers =  \n",
    "sum = 0.0\n",
    "for number in numbers:\n",
    "    sum = \n",
    "print "
   ]
  },
  {
   "cell_type": "markdown",
   "id": "9d6c3bab",
   "metadata": {},
   "source": [
    "Note that in Python, the identation is important. If we don't do the indentation the code will not run. Run the code below to see the error you get in this case."
   ]
  },
  {
   "cell_type": "code",
   "execution_count": null,
   "id": "8b9e9fb9",
   "metadata": {},
   "outputs": [],
   "source": [
    "for item in shopping:\n",
    "# see what happens if we don't indent\n",
    "print(f\"Please buy {item}\")"
   ]
  },
  {
   "cell_type": "markdown",
   "id": "ecea5e11",
   "metadata": {},
   "source": [
    "Every line inside the loop must be idented the same amount. See what error the line below gives you."
   ]
  },
  {
   "cell_type": "code",
   "execution_count": null,
   "id": "2cfdcdf7",
   "metadata": {},
   "outputs": [],
   "source": [
    "sum = 0.0\n",
    "for number in numbers:\n",
    "    print(number)\n",
    "  sum = sum + number"
   ]
  },
  {
   "cell_type": "markdown",
   "id": "4a28e067",
   "metadata": {},
   "source": [
    "## Using libraries\n",
    "\n",
    "One of the biggest strengths of Python is the fact that lots of added extras are available though using additional libraries of code. These libraries are called modules in Python. To use them we have to use the import command. \n",
    "\n",
    "Let's use the example of mathematical operations. We saw before how we can easily add, subtract, multiply and divide values but what if we want to find the square root of a number for example? This is where we need to use the [math module](https://docs.python.org/3/library/math.html)"
   ]
  },
  {
   "cell_type": "code",
   "execution_count": null,
   "id": "64f25879",
   "metadata": {},
   "outputs": [],
   "source": [
    "# import the math module. We only need to do this once in each program\n",
    "import math\n",
    "\n",
    "result = math.sqrt(16)\n",
    "print(result)"
   ]
  },
  {
   "cell_type": "markdown",
   "id": "f9bd3f6c",
   "metadata": {},
   "source": [
    "Can you use the math module to calculate what 2 to the power 4 is? \n",
    "\n",
    "**Hint**: see [this function](https://docs.python.org/3/library/math.html#math.pow) in the math documentation\n",
    "\n",
    "Complete the code below and run the cell"
   ]
  },
  {
   "cell_type": "code",
   "execution_count": null,
   "id": "ce64e2e1",
   "metadata": {},
   "outputs": [],
   "source": [
    "result = math.\n",
    "print(result)"
   ]
  },
  {
   "cell_type": "markdown",
   "id": "95734aca",
   "metadata": {},
   "source": [
    "## Making your own functions\n",
    "\n",
    "Sometimes you want to do a calculation many times but there is no library to do it. You could copy and paste the same code multiple times but it is better and easier to keep this code in your own function. For example, imagine we want to add 5.5 to a number and then multiply it by two. The function below does this. \n",
    "\n",
    "See [W3 Schools: Python Functions](https://www.w3schools.com/python/python_functions.asp) for more information"
   ]
  },
  {
   "cell_type": "code",
   "execution_count": null,
   "id": "beddde95",
   "metadata": {},
   "outputs": [],
   "source": [
    "# In python, we use the def keyword to create a function\n",
    "# then the name of the function - in this case my_calculation\n",
    "# then we have the inputs to the function in round brackets \n",
    "# and finally a colon\n",
    "\n",
    "def my_calculation(number):\n",
    "    # add 5.5 to a number and then multiply it by two.\n",
    "    \n",
    "    # note that (like a for loop) the code inside the function must be indented\n",
    "    result = number + 5.5\n",
    "    result = result * 2.0\n",
    "    \n",
    "    # the return statement is what is passed back to the place the \n",
    "    # function was called from\n",
    "    return result"
   ]
  },
  {
   "cell_type": "markdown",
   "id": "63060c53",
   "metadata": {},
   "source": [
    "We can now use this function as follows:"
   ]
  },
  {
   "cell_type": "code",
   "execution_count": null,
   "id": "38800747",
   "metadata": {},
   "outputs": [],
   "source": [
    "my_answer = my_calculation(1.0)\n",
    "print(my_answer)"
   ]
  },
  {
   "cell_type": "markdown",
   "id": "f82c2e03",
   "metadata": {},
   "source": [
    "Complete the code below to run the function for the input value of 4 and print the result."
   ]
  },
  {
   "cell_type": "code",
   "execution_count": null,
   "id": "a7e2693f",
   "metadata": {},
   "outputs": [],
   "source": [
    "my_answer = \n",
    "print(my_answer)"
   ]
  },
  {
   "cell_type": "markdown",
   "id": "2f43fe22",
   "metadata": {},
   "source": [
    "### Lambdas\n",
    "\n",
    "sometimes we want very small functions. These can be created with something called a Lambda. For example add 4 to value. "
   ]
  },
  {
   "cell_type": "code",
   "execution_count": null,
   "id": "ff49a89c",
   "metadata": {},
   "outputs": [],
   "source": [
    "# the keyword lambda is followed by the input to the function - in this case the variable a\n",
    "# then there is a colon. and then the value which is to be returned\n",
    "my_lambda = lambda a : a + 4\n",
    "\n",
    "# now use the function with inputs of 1 and 12\n",
    "print(my_lambda(1))\n",
    "print(my_lambda(12))"
   ]
  },
  {
   "cell_type": "markdown",
   "id": "9223ca60",
   "metadata": {},
   "source": [
    "This is equivalent to the following function:"
   ]
  },
  {
   "cell_type": "code",
   "execution_count": null,
   "id": "23fe8d10",
   "metadata": {},
   "outputs": [],
   "source": [
    "def my_lambda2(a):\n",
    "    result = a + 4\n",
    "    return result"
   ]
  },
  {
   "cell_type": "code",
   "execution_count": null,
   "id": "09ad4e19",
   "metadata": {},
   "outputs": [],
   "source": [
    "print(my_lambda2(1))\n",
    "print(my_lambda2(12))"
   ]
  },
  {
   "cell_type": "markdown",
   "id": "f98ae9bc",
   "metadata": {},
   "source": [
    "## Using objects\n",
    "\n",
    "Another one of strengths of Python is the ability to create \"objects\" which hold multiple pieces of data and have in built functions that use that data. We will use the example of a date object. "
   ]
  },
  {
   "cell_type": "code",
   "execution_count": null,
   "id": "fe84a5c5",
   "metadata": {},
   "outputs": [],
   "source": [
    "# first we import date from the datetime library\n",
    "from datetime import date\n",
    "\n",
    "# now we make a date of 4th May 2022\n",
    "d = date(2022,5,4)"
   ]
  },
  {
   "cell_type": "code",
   "execution_count": null,
   "id": "85e44b5b",
   "metadata": {},
   "outputs": [],
   "source": [
    "# the object has the day month and year stored inside. These internal values are called \n",
    "# properties\n",
    "print(d.day)\n"
   ]
  },
  {
   "cell_type": "markdown",
   "id": "fbf7f20f",
   "metadata": {},
   "source": [
    "Now you complete the line below to print the year"
   ]
  },
  {
   "cell_type": "code",
   "execution_count": null,
   "id": "41d8744d",
   "metadata": {},
   "outputs": [],
   "source": [
    "print(d.)"
   ]
  },
  {
   "cell_type": "markdown",
   "id": "3dba6b5d",
   "metadata": {},
   "source": [
    "As well as being containers that hold multiple pieces of data, they can also have their own in built functions called methods. For example, we can print the whole date in a number of formats, for example ISO 8601:"
   ]
  },
  {
   "cell_type": "code",
   "execution_count": null,
   "id": "a1a2a896",
   "metadata": {},
   "outputs": [],
   "source": [
    "# example method -print in ISO 8601 format, YYYY-MM-DD.\n",
    "\n",
    "print(d.isoformat())"
   ]
  },
  {
   "cell_type": "code",
   "execution_count": null,
   "id": "15645c86",
   "metadata": {},
   "outputs": [],
   "source": [
    "The difference between the data in the object (it's paran)"
   ]
  },
  {
   "cell_type": "code",
   "execution_count": null,
   "id": "603d9695",
   "metadata": {
    "scrolled": true
   },
   "outputs": [],
   "source": [
    "# We can find out more about how this object can be used by using the help function\n",
    "help(d)"
   ]
  },
  {
   "cell_type": "markdown",
   "id": "cd665ebd",
   "metadata": {},
   "source": [
    "Using the help above can you print the day of the week our date falls on?"
   ]
  },
  {
   "cell_type": "code",
   "execution_count": null,
   "id": "a969868b",
   "metadata": {},
   "outputs": [],
   "source": [
    "print(d.())"
   ]
  },
  {
   "cell_type": "markdown",
   "id": "10977590",
   "metadata": {},
   "source": [
    "<center>\n",
    "<div class=\"alert alert-block alert-warning\">\n",
    "<b>This completes worksheet 0.</b> <br>This was a very quick tour of the Python programming language<br>\n",
    "In worksheet 1, you will begin to apply this to some CORDEX data.\n",
    "</div>\n",
    "</center>"
   ]
  },
  {
   "cell_type": "markdown",
   "id": "c7e7153f",
   "metadata": {},
   "source": [
    "<p><img src=\"img/MO_MASTER_black_mono_for_light_backg_RBG.png\" alt=\"Met Office Logo\" style=\"float: center; height: 100px;\"/></p>\n",
    "<center>© Crown Copyright, Met Office. All rights reserved.</center>\n",
    "<center>This file is part of PyPrecis and is released under the BSD 3-Clause license.</center>\n",
    "<center>See LICENSE in the root of the repository for full licensing details.</center>"
   ]
  }
 ],
 "metadata": {
  "kernelspec": {
   "display_name": "pyprecis-environment",
   "language": "python",
   "name": "pyprecis-environment"
  },
  "language_info": {
   "codemirror_mode": {
    "name": "ipython",
    "version": 3
   },
   "file_extension": ".py",
   "mimetype": "text/x-python",
   "name": "python",
   "nbconvert_exporter": "python",
   "pygments_lexer": "ipython3",
   "version": "3.6.10"
  }
 },
 "nbformat": 4,
 "nbformat_minor": 5
}
