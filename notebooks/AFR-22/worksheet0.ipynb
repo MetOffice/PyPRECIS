{
 "cells": [
  {
   "cell_type": "markdown",
   "id": "e918e5ac",
   "metadata": {},
   "source": [
    "# Worksheet 0. Basic Python \n",
    "\n",
    "This worksheet acts as a very quick introduction to the Python Programming Language. It covers the key concepts used in the following notebooks but without going into much depth. There are lots of tutorial that you can use to learn more about Python available online. See for example:\n",
    "\n",
    " * [W3 Schools](https://www.w3schools.com/python/default.asp)\n",
    " * [Software carpentry](http://swcarpentry.github.io/python-novice-gapminder/)\n",
    " * [Official Python tutorial](https://docs.python.org/3/tutorial/)\n",
    " \n",
    " The key concepts we will teach you in this section are:\n",
    " \n",
    " * printing values \n",
    " * comments\n",
    " * variables and basic maths\n",
    " * lists\n",
    " * tuples\n",
    " * loops\n",
    " * using libraries\n",
    " * objects and methods - how to use them\n",
    " * lambda functions"
   ]
  },
  {
   "cell_type": "markdown",
   "id": "9273a4d3",
   "metadata": {},
   "source": [
    "## 0.1 The Jupyter Notebook and the print function\n",
    "\n",
    "This is a jupyter notebook. It allows you to combine code (in this case Python) and formatted text. The notebook contains cells - each cell either contains formatted text (like this cell) or code (the next one). \n",
    "\n",
    "<div class=\"alert alert-block alert-info\">\n",
    "<b>Note:</b> In the boxes where there is code or where you are asked to type code, click in the box, then press <kbd>Ctrl</kbd> + <kbd>Enter</kbd> to run the code. <br>\n",
    "<b>Note:</b> An percentage sign <code>%</code> is needed to run some commands on the shell. It is noted where this is needed.<br>\n",
    "<b>Note:</b> A hash <code>#</code> denotes a comment; anything written after this character does not affect the command being run. <br>\n",
    "</div>\n",
    "\n",
    "Run the next cell by pressing <kbd>Ctrl</kbd> + <kbd>Enter</kbd>. and see the result"
   ]
  },
  {
   "cell_type": "code",
   "execution_count": null,
   "id": "0e4be353",
   "metadata": {},
   "outputs": [],
   "source": [
    "print(\"hello, world\")"
   ]
  },
  {
   "cell_type": "markdown",
   "id": "1b7d723c",
   "metadata": {},
   "source": [
    "Now it's your turn. Can you complete the cell below to get it to say hello to you? In the cell below complete the line and then press <kbd>Ctrl</kbd> + <kbd>Enter</kbd>."
   ]
  },
  {
   "cell_type": "code",
   "execution_count": null,
   "id": "82e001d8",
   "metadata": {},
   "outputs": [],
   "source": [
    "print()"
   ]
  },
  {
   "cell_type": "markdown",
   "id": "badab088",
   "metadata": {},
   "source": [
    "## 0.2 Variables\n",
    "\n",
    "Variables are containers that hold the value of our data. There are many different types of variables in Python, here we will show you some of the most important ones you will need in this course.\n",
    "\n",
    "* strings\n",
    "* integers\n",
    "* floating point numbers\n",
    "\n",
    "A [string](https://en.wikipedia.org/wiki/String_(computer_science)) is a type of variable that holds a sequence of characters. Run the code below which shows the creation and printing of a string. "
   ]
  },
  {
   "cell_type": "code",
   "execution_count": null,
   "id": "272ca43a",
   "metadata": {},
   "outputs": [],
   "source": [
    "a_name = \"Alicia\"\n",
    "print(a_name)"
   ]
  },
  {
   "cell_type": "markdown",
   "id": "0935dbbf",
   "metadata": {},
   "source": [
    "Now complete the block below so it prints your name and then press <kbd>Ctrl</kbd> + <kbd>Enter</kbd>. Make sure you include the quotes - this is how Python knows this is a string and not the name of a variable"
   ]
  },
  {
   "cell_type": "code",
   "execution_count": null,
   "id": "4c726ab9",
   "metadata": {},
   "outputs": [],
   "source": [
    "my_name = \n",
    "print()"
   ]
  },
  {
   "cell_type": "markdown",
   "id": "8976610c",
   "metadata": {},
   "source": [
    "We can also combine strings using the + operator:"
   ]
  },
  {
   "cell_type": "code",
   "execution_count": null,
   "id": "14f56210",
   "metadata": {},
   "outputs": [],
   "source": [
    "message = \"Hello, \" + my_name\n",
    "print(message)"
   ]
  },
  {
   "cell_type": "markdown",
   "id": "a33f42b0",
   "metadata": {},
   "source": [
    "Notice that we did not set the variable my_name in the cell above - variables made in previous cell are retained in the computers memory until we shut the notebook down"
   ]
  },
  {
   "cell_type": "markdown",
   "id": "a810321f",
   "metadata": {},
   "source": [
    "Another way to combine strings is using the f-string like this:"
   ]
  },
  {
   "cell_type": "code",
   "execution_count": null,
   "id": "bdd3a378",
   "metadata": {},
   "outputs": [],
   "source": [
    "print(f\"Hello, {my_name}\" )"
   ]
  },
  {
   "cell_type": "markdown",
   "id": "60a45864",
   "metadata": {},
   "source": [
    "In the line above, the curly brackets {} are replaced by the value of the variable inside them. \n",
    "\n",
    "Now we will do some maths. We will start with whole numbers, called integers or int for short. What do you think the code below will print? Think about it and then run the cell to check your answer."
   ]
  },
  {
   "cell_type": "code",
   "execution_count": null,
   "id": "bcabd88a",
   "metadata": {},
   "outputs": [],
   "source": [
    "a = 1\n",
    "b = 2\n",
    "# add a and b and save the value to a new variable c\n",
    "c = a + b\n",
    "# print the value of c\n",
    "print(c)\n",
    "\n",
    "# we can also subtract two numbers\n",
    "d = a - b\n",
    "print (d)"
   ]
  },
  {
   "cell_type": "markdown",
   "id": "9d267969",
   "metadata": {},
   "source": [
    "What about numbers which are not whole? These are called floating point number or floats and they look very similar:"
   ]
  },
  {
   "cell_type": "code",
   "execution_count": null,
   "id": "49365d69",
   "metadata": {},
   "outputs": [],
   "source": [
    "a = 1.5\n",
    "b = 4.0\n",
    "# now we multiply a by b using the * symbol\n",
    "c = a * b\n",
    "print(c)"
   ]
  },
  {
   "cell_type": "markdown",
   "id": "0eb43d45",
   "metadata": {},
   "source": [
    "Complete the code below to calculate and print what 7 divided by 3 is then run the cell to check your answer. \n",
    "\n",
    "**Hint:** use the / symbol to divide one number by another"
   ]
  },
  {
   "cell_type": "code",
   "execution_count": null,
   "id": "caf8097d",
   "metadata": {},
   "outputs": [],
   "source": [
    "a = 7\n",
    "b = \n",
    "c = \n",
    "print()"
   ]
  },
  {
   "cell_type": "markdown",
   "id": "433795af",
   "metadata": {},
   "source": [
    "What do you think will happen if we try and divide a number by zero? run the cell below to find out."
   ]
  },
  {
   "cell_type": "code",
   "execution_count": null,
   "id": "2e3597c4",
   "metadata": {},
   "outputs": [],
   "source": [
    "c = 1.5/0.0"
   ]
  },
  {
   "cell_type": "markdown",
   "id": "e88d71f5",
   "metadata": {},
   "source": [
    "This is what happens when there is an error in your code. The Python language prints the line at which the error occurred and some information about what is wrong. In this case it is saying that it is an error to divide a number by zero. You will see many more errors as you go through these notebooks. This is all part of learning to programme - don't worry about it, but if you can't understand the problem or how to fix it please ask an instructor for help."
   ]
  },
  {
   "cell_type": "markdown",
   "id": "1e14b81d",
   "metadata": {},
   "source": [
    "# 0.3 Lists and tuples\n",
    "\n",
    "Very often we want to be able to store a number of variables together. Imagine a shopping list for example: we want bread, milk and eggs. In Python we would store these in a list like this:"
   ]
  },
  {
   "cell_type": "code",
   "execution_count": null,
   "id": "e818dd4e",
   "metadata": {},
   "outputs": [],
   "source": [
    "shopping = [\"bread\", \"milk\", \"eggs\"]\n",
    "print(shopping)"
   ]
  },
  {
   "cell_type": "markdown",
   "id": "c53c9eb3",
   "metadata": {},
   "source": [
    "The square brackets here [] tell Python that this is a list. We can print each item on it's own as well as the whole list. Note that the first item is at position 0 in the list."
   ]
  },
  {
   "cell_type": "code",
   "execution_count": null,
   "id": "70e61175",
   "metadata": {},
   "outputs": [],
   "source": [
    "print(shopping[0])\n",
    "print(shopping[1])\n",
    "print(shopping[2])"
   ]
  },
  {
   "cell_type": "markdown",
   "id": "1e440919",
   "metadata": {},
   "source": [
    "We can also add items onto the list using append."
   ]
  },
  {
   "cell_type": "code",
   "execution_count": null,
   "id": "64ce77fb",
   "metadata": {},
   "outputs": [],
   "source": [
    "shopping.append(\"cheese\")\n",
    "print(shopping)"
   ]
  },
  {
   "cell_type": "markdown",
   "id": "667e1fbb",
   "metadata": {},
   "source": [
    "Now add your own item onto the list and print just the last item. Add the missing parts in the cell below and then run it. \n",
    "\n",
    "**Hint:** this will be the 5th item on the list so you need index 4."
   ]
  },
  {
   "cell_type": "code",
   "execution_count": null,
   "id": "5b402c49",
   "metadata": {},
   "outputs": [],
   "source": [
    "shopping.append(\"\")\n",
    "print(shopping[])"
   ]
  },
  {
   "cell_type": "markdown",
   "id": "0a5a58e3",
   "metadata": {},
   "source": [
    "We can also change items in the list. We don't want bread, we want oranges, so we will change the first item in the list like this:"
   ]
  },
  {
   "cell_type": "code",
   "execution_count": null,
   "id": "41f86e9e",
   "metadata": {},
   "outputs": [],
   "source": [
    "shopping[0] = 'oranges'\n",
    "print(shopping)"
   ]
  },
  {
   "cell_type": "markdown",
   "id": "f639bc39",
   "metadata": {},
   "source": [
    "Tuples look very similar to lists but use round brackets (). \n"
   ]
  },
  {
   "cell_type": "code",
   "execution_count": null,
   "id": "794ba610",
   "metadata": {},
   "outputs": [],
   "source": [
    "shopping = (\"bread\", \"milk\", \"eggs\")\n",
    "print(shopping)\n",
    "print(shopping[0])"
   ]
  },
  {
   "cell_type": "markdown",
   "id": "5491a22e",
   "metadata": {},
   "source": [
    "However, once we create a tuple we can't change its contents:"
   ]
  },
  {
   "cell_type": "code",
   "execution_count": null,
   "id": "82610911",
   "metadata": {},
   "outputs": [],
   "source": [
    "shopping[0] = 'oranges'"
   ]
  },
  {
   "cell_type": "markdown",
   "id": "940605b1",
   "metadata": {},
   "source": [
    "## 0.4 Loops\n",
    "\n",
    "We often want to do repeat a command multiple times. To do this we use for loops. For example - imagine we want to tell the user to buy each of the items in our shoppping list one at a time. This can be done as shown below."
   ]
  },
  {
   "cell_type": "code",
   "execution_count": null,
   "id": "7db4311f",
   "metadata": {},
   "outputs": [],
   "source": [
    "for item in shopping:\n",
    "    print(f\"Please buy {item}\")\n",
    "print(\"Thank you\")"
   ]
  },
  {
   "cell_type": "markdown",
   "id": "56a79f69",
   "metadata": {},
   "source": [
    "We can use this to loop over a list of numbers and add them up. "
   ]
  },
  {
   "cell_type": "code",
   "execution_count": null,
   "id": "66f37703",
   "metadata": {},
   "outputs": [],
   "source": [
    "numbers = [1.0, 0.5, 0.9, 0.2]\n",
    "sum = 0.0\n",
    "for number in numbers:\n",
    "    sum = sum + number\n",
    "print(f\"sum of your numbers is {sum}\")"
   ]
  },
  {
   "cell_type": "markdown",
   "id": "af10e730",
   "metadata": {},
   "source": [
    "Make a list containing these numbers and add them up. 0.8, 2.4, 1.4, 9.6"
   ]
  },
  {
   "cell_type": "code",
   "execution_count": null,
   "id": "fc6cc8d3",
   "metadata": {},
   "outputs": [],
   "source": [
    "numbers =  \n",
    "sum = 0.0\n",
    "for number in numbers:\n",
    "    sum = \n",
    "print "
   ]
  }
 ],
 "metadata": {
  "kernelspec": {
   "display_name": "pyprecis-environment",
   "language": "python",
   "name": "pyprecis-environment"
  },
  "language_info": {
   "codemirror_mode": {
    "name": "ipython",
    "version": 3
   },
   "file_extension": ".py",
   "mimetype": "text/x-python",
   "name": "python",
   "nbconvert_exporter": "python",
   "pygments_lexer": "ipython3",
   "version": "3.6.10"
  }
 },
 "nbformat": 4,
 "nbformat_minor": 5
}
