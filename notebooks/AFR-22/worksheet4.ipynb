{
 "cells": [
  {
   "cell_type": "markdown",
   "metadata": {},
   "source": [
    "# Worksheet 4: Creating future climate scenarios and analysing climate change\n",
    "\n",
    "The following exercises demonstrate basic methods for analysing changes in climate, using two CORDEX-Core experiments (REMO2015 driven by HadGEM2-ES and MPI-ESM-LR) As with worksheets 2 & 3, these are examples of some of the many types of analyses that can be performed using Python and Iris."
   ]
  },
  {
   "cell_type": "markdown",
   "metadata": {},
   "source": [
    "<div class=\"alert alert-block alert-warning\">\n",
    "<b>By the end of this worksheet you should be able to:</b><br> \n",
    "\n",
    "- Calculate difference and percentage differences across cubes<br>\n",
    "- Plot cubes using different plotting methods and with an appropriate colour scale <br>\n",
    "- Create time series anomalies of precipitation and tempeature<br>\n",
    "</div>"
   ]
  },
  {
   "cell_type": "markdown",
   "metadata": {},
   "source": [
    "<div class=\"alert alert-block alert-info\">\n",
    "<b>Note:</b> As in Worksheet 2, the data used here has been processed in the same way as in Worksheet 1. The whole period has been concatenated into a single file to avoid issues with loading multiple files.\n",
    "</div>"
   ]
  },
  {
   "cell_type": "markdown",
   "metadata": {},
   "source": [
    "## Contents\n",
    "### [4.1: Calculate future OND mean precipitation](#4.1) \n",
    "### [4.2: Find OND anomalies](#4.2)\n",
    "### [4.3: Plot precipitation and temperature](#4.3)\n",
    "### [4.4: Future time series](#4.4)"
   ]
  },
  {
   "cell_type": "markdown",
   "metadata": {},
   "source": [
    "## Preamble"
   ]
  },
  {
   "cell_type": "code",
   "execution_count": null,
   "metadata": {},
   "outputs": [],
   "source": [
    "# Code preamble - these libraries will be used in this worksheet.\n",
    "# This code block needs to be re-run every time you restart this worksheet!\n",
    "%matplotlib inline \n",
    "import os\n",
    "import iris\n",
    "import iris.coord_categorisation\n",
    "from iris.experimental.equalise_cubes import equalise_attributes\n",
    "import iris.quickplot as qplt\n",
    "import iris.plot as iplt\n",
    "import matplotlib.pyplot as plt\n",
    "import numpy as np\n",
    "import numpy.ma as ma\n",
    "\n",
    "# Some helpful data locations\n",
    "DATADIR = 'data_afr22/AFR-22/'\n",
    "CLIMDIR = os.path.join(DATADIR, 'climatology')\n",
    "HISTDIR = os.path.join(DATADIR, 'historical')\n",
    "FUTRDIR = os.path.join(DATADIR, 'rcp85')\n",
    "GCMIDS = ['hadgem2-es', 'mpi-esm-lr']"
   ]
  },
  {
   "cell_type": "markdown",
   "metadata": {},
   "source": [
    "<a id='4.1'></a>\n",
    "## 4.1 Calculate future OND mean precipitation\n",
    "**a)** First, we **calculate future OND (October, November, December) mean precipitation** for the period 2041-2060 for the HadGEM2-ES driven REMO2015 simulation and the MPI-ESM-driven simulation :"
   ]
  },
  {
   "cell_type": "code",
   "execution_count": null,
   "metadata": {},
   "outputs": [],
   "source": [
    "for gcmid in GCMIDS:\n",
    "    infile = os.path.join(FUTRDIR, gcmid + '.mon.2041_2060.GERICS-REMO2015.pr.mmday-1.nc')\n",
    "    data = iris.load_cube(infile)\n",
    "\n",
    "    # in order to calculate OND mean, we divide the months into two seasons: \n",
    "    # one for OND and a second for the remaining months\n",
    "    iris.coord_categorisation.add_season(data, 'time', name='seasons', seasons=('jfmamjjas','ond'))\n",
    "\n",
    "    # Extract the data for the OND season only\n",
    "    data_ond = data.extract(iris.Constraint(seasons='ond'))\n",
    "\n",
    "    # Now calculate the mean over the OND season\n",
    "    ond_mean = data_ond.aggregated_by(['seasons'], iris.analysis.MEAN)\n",
    "\n",
    "    # save the OND mean as a netCDF\n",
    "    outfile = os.path.join(CLIMDIR, gcmid + '.OND.mean.2041_2060.GERICS-REMO2015.pr.mmday-1.nc')\n",
    "    iris.save(ond_mean, outfile)\n",
    "    print('Saved: {}'.format(outfile))"
   ]
  },
  {
   "cell_type": "markdown",
   "metadata": {},
   "source": [
    "---\n",
    "<div class=\"alert alert-block alert-success\">\n",
    "<b>Question:</b> Within the loop, we have created two cubes: a seasonal OND constrained cube <code>data_ond</code>, and a seasonal mean cube <code>ond_mean</code>.  Inspect the cube metadata.  What are the differences? \n",
    "</div>"
   ]
  },
  {
   "cell_type": "code",
   "execution_count": null,
   "metadata": {},
   "outputs": [],
   "source": [
    "# Use this code block to inspect the two cubes\n",
    "# e.g. print(cube)\n",
    "\n"
   ]
  },
  {
   "cell_type": "markdown",
   "metadata": {},
   "source": [
    "<b>Answer</b><br>\n",
    "    *Type your answer here...*"
   ]
  },
  {
   "cell_type": "markdown",
   "metadata": {},
   "source": [
    "---"
   ]
  },
  {
   "cell_type": "markdown",
   "metadata": {},
   "source": [
    "<div class=\"alert alert-block alert-info\">\n",
    "    <b>Note:</b> Remember, the loop has created and saved two cubes, <b>one for each downscaled GCM</b>.\n",
    "</div>"
   ]
  },
  {
   "cell_type": "markdown",
   "metadata": {},
   "source": [
    "<a id='4.2'></a>\n",
    "## 4.2 Find OND anomalies\n",
    "**b)** Next, we **subtract the baseline (1986-2005) mean from the future (2041-2060) mean** for OND to get the change in precipitation (or **anomaly**) from both simulations.  The changes are also converted to percentages:"
   ]
  },
  {
   "cell_type": "code",
   "execution_count": null,
   "metadata": {},
   "outputs": [],
   "source": [
    "for gcmid in GCMIDS:\n",
    "    # Load the baseline cube\n",
    "    infile = os.path.join(CLIMDIR, gcmid + '.OND.mean.1986_2005.pr.mmday-1.nc')\n",
    "    OND_baseline = iris.load_cube(infile)\n",
    "    # Set the correct units\n",
    "    OND_baseline.units = \"mm day-1\"\n",
    "    # Load the future cube\n",
    "    infile = os.path.join(CLIMDIR, gcmid + '.OND.mean.2041_2060.GERICS-REMO2015.pr.mmday-1.nc')\n",
    "    OND_future = iris.load_cube(infile)\n",
    "    # Subtract the baseline cube from the future cube\n",
    "    diff = iris.analysis.maths.subtract(OND_future, OND_baseline)\n",
    "    # rename the cube to reflect the data processing\n",
    "    diff.rename('precipitation flux difference')\n",
    "    # Save the resulting cube\n",
    "    outfile = os.path.join(CLIMDIR, gcmid + '.OND.mean.diff.GERICS-REMO2015.pr.mmday-1.nc')\n",
    "    iris.save(diff, outfile)\n",
    "    print('Saved {}'.format(outfile))\n",
    "    # Find the percentage change\n",
    "    pcent_change = iris.analysis.maths.multiply(iris.analysis.maths.divide(diff, OND_baseline), 100)\n",
    "    # remember to change the title and units to reflect the data processing\n",
    "    pcent_change.rename('precipitation flux percent difference')\n",
    "    pcent_change.units = '%'\n",
    "    # And save this too\n",
    "    outfile = os.path.join(CLIMDIR, gcmid + '.OND.mean.diffperc.GERICS-REMO2015.pr.mmday-1.nc')\n",
    "    iris.save(pcent_change, outfile)\n",
    "    print('Saved {}'.format(outfile))"
   ]
  },
  {
   "cell_type": "markdown",
   "metadata": {},
   "source": [
    "**c)** Now, repeat the calculations yourself for **temperature**. \n",
    "\n",
    "First, we calculate the **OND mean** temperatures. \n",
    "\n",
    "**Fill in the missing commands in the code block below**:"
   ]
  },
  {
   "cell_type": "code",
   "execution_count": null,
   "metadata": {},
   "outputs": [],
   "source": [
    "# HINT: Your filenames should have the format: \n",
    "# gcmid + '.OND.mean.' + time_periods[period] + '.GERICS-REMO2015.tm.C.nc'\n",
    "\n",
    "for gcmid in GCMIDS:\n",
    "\n",
    "    # first historical\n",
    "\n",
    "    # in order to calculate OND mean, we divide the months into two seasons: \n",
    "    # one for OND and a second for the remaining months\n",
    "\n",
    "    # Extract the data for the OND season only\n",
    "\n",
    "    # Now calculate the mean over the OND season\n",
    "\n",
    "    # save the OND mean as a netCDF\n",
    "    outfile = os.path.join(CLIMDIR, gcmid + '.OND.mean.1986_2005.GERICS-REMO2015.tm.C.nc')\n",
    "    \n",
    "    # then RCP8.5\n",
    "\n",
    "    # in order to calculate OND mean, we divide the months into two seasons: \n",
    "    # one for OND and a second for the remaining months\n",
    "\n",
    "    # Extract the data for the OND season only\n",
    "\n",
    "    # Now calculate the mean over the OND season\n",
    "\n",
    "    # save the OND mean as a netCDF\n",
    "    outfile = os.path.join(CLIMDIR, gcmid + '.OND.mean.2041_2060.GERICS-REMO2015.tm.C.nc')\n"
   ]
  },
  {
   "cell_type": "markdown",
   "metadata": {},
   "source": [
    "**d)** Next, we **calculate the difference** between the baseline and future periods."
   ]
  },
  {
   "cell_type": "code",
   "execution_count": null,
   "metadata": {
    "scrolled": false
   },
   "outputs": [],
   "source": [
    "for gcmid in GCMIDS:\n",
    "    # Load files:\n",
    "    baselinefile = os.path.join(CLIMDIR, gcmid + '.OND.mean.1986_2005.GERICS-REMO2015.tm.C.nc')\n",
    "    futurefile = os.path.join(CLIMDIR, gcmid + '.OND.mean.2041_2060.GERICS-REMO2015.tm.C.nc')\n",
    "    OND_baseline = iris.load_cube(baselinefile)\n",
    "    OND_future = iris.load_cube(futurefile)\n",
    "    \n",
    "    # Calculate 'future mean' minus 'baseline mean':\n",
    "    diff = iris.analysis.maths.subtract(OND_future, OND_baseline)\n",
    "    diff.rename('surface temperature difference')\n",
    "    \n",
    "    # Save\n",
    "    outfile = os.path.join(CLIMDIR, gcmid + '.OND.mean.diff.GERICS-REMO2015.tm.C.nc')\n",
    "    iris.save(diff, outfile)\n",
    "    print('Saved: {}'.format(outfile))"
   ]
  },
  {
   "cell_type": "markdown",
   "metadata": {},
   "source": [
    "<a id='4.3'></a>\n",
    "## 4.3 Plot precipitation and temperature\n",
    "\n",
    "**e)** **Plot changes** to precipitation (in %) and temperature (in deg.C)"
   ]
  },
  {
   "cell_type": "code",
   "execution_count": null,
   "metadata": {},
   "outputs": [],
   "source": [
    "# Create a figure of the size 12x12 inches\n",
    "plt.figure(figsize=(12, 12))\n",
    "\n",
    "# Read in the percentage changes in precipitation\n",
    "for n, gcmid in enumerate(GCMIDS):\n",
    "    prpath = os.path.join(CLIMDIR, gcmid + '.OND.mean.diffperc.GERICS-REMO2015.pr.mmday-1.nc')\n",
    "    tmpath = os.path.join(CLIMDIR, gcmid + '.OND.mean.diff.GERICS-REMO2015.tm.C.nc')\n",
    "    pcent_change = iris.load_cube(prpath)\n",
    "    degc_change = iris.load_cube(tmpath)\n",
    "\n",
    "    # Remove extra time dimension using an iris utility \n",
    "    pcent_change = iris.util.squeeze(pcent_change)\n",
    "    degc_change = iris.util.squeeze(degc_change)\n",
    "    \n",
    "    plot_num = n*2 + 1\n",
    "    plt.subplot(2, 2, plot_num) # Create a new subplot with 2 rows, 2 columns, 1st plot\n",
    "    qplt.pcolormesh(pcent_change, vmax=30, vmin=-30, cmap='BrBG')\n",
    "    plt.title(gcmid + ' precipitation change (%)')\n",
    "    ax = plt.gca()              # gca function that returns the current axes\n",
    "    ax.coastlines()             # adds coastlines defined by the axes of the plot\n",
    "\n",
    "    plt.subplot(2, 2, plot_num+1)\n",
    "    qplt.pcolormesh(degc_change, vmax=2.5, vmin=0, cmap='Reds')\n",
    "    plt.title(gcmid + ' temperature change ($\\degree$C)')\n",
    "    ax = plt.gca()\n",
    "    ax.coastlines()\n",
    "\n",
    "plt.show()"
   ]
  },
  {
   "cell_type": "markdown",
   "metadata": {},
   "source": [
    "---\n",
    "<div class=\"alert alert-block alert-success\">\n",
    "<b>Question:</b> How would you use a discrete contoured colour map to show changes in precipitation and temperature? <br>\n",
    "    Modify the code above to use <strong>qplt.pcontourf()</strong>.  Remember to choose appropriate contours.\n",
    "</div>"
   ]
  },
  {
   "cell_type": "markdown",
   "metadata": {},
   "source": [
    "<div class=\"alert alert-block alert-success\">\n",
    "<b>Question:</b>  The plots show projected changes in precipitation and temperature using two models; what are the common features between the two model projections? \n",
    "    \n",
    "What differences exist between the two model projections? Which is hotter, wetter, how does the spatial distribution differ? \n",
    "    \n",
    "</div>"
   ]
  },
  {
   "cell_type": "markdown",
   "metadata": {},
   "source": [
    "<b>Answer:</b><br>\n",
    "*Type your answers here...*"
   ]
  },
  {
   "cell_type": "markdown",
   "metadata": {},
   "source": [
    "---"
   ]
  },
  {
   "cell_type": "markdown",
   "metadata": {},
   "source": [
    "<a id='4.4'></a>\n",
    "## 4.4 Future time series\n",
    "\n",
    "**f)** Calculate and then plot a 2041-2060 monthly **time series of precipitation anomalies** for land\n",
    "points only, relative to the 1986-2005 baseline monthly mean. Do this for both the downscaled HadGEM2-ES and MPI-ESM-LR \n"
   ]
  },
  {
   "cell_type": "code",
   "execution_count": null,
   "metadata": {},
   "outputs": [],
   "source": [
    "# Read in the land-sea mask. \n",
    "# The cube data array has a land fraction associated with it which we'll use to mask out ocean points.\n",
    "land_fraction_file = 'sftlf_AFR-22_MOHC-HadGEM2-ES_historical_r0i0p0_GERICS-REMO2015_v1_fx_r0i0p0.nc'\n",
    "land_fraction = iris.load_cube(DATADIR + land_fraction_file)\n",
    "\n",
    "# convert this to a binary (i.e. 1 or 0 mask)\n",
    "land_sea_mask = land_fraction.copy()\n",
    "land_sea_mask.data = np.where(land_sea_mask.data < 50, 0, 1)\n",
    "land_sea_mask.name = 'land_binary_mask'\n",
    "# apply a mask to the cube \n",
    "land_sea_mask = iris.util.mask_cube(land_sea_mask, land_sea_mask.data < 0.5)\n",
    "\n",
    "\n",
    "for gcmid in GCMIDS:\n",
    "    # Read in original data for baseline and future\n",
    "    baselinepath = os.path.join(HISTDIR, gcmid + '.mon.1986_2005.GERICS-REMO2015.pr.mmday-1.nc')\n",
    "    futurepath = os.path.join(FUTRDIR, gcmid + '.mon.2041_2060.GERICS-REMO2015.pr.mmday-1.nc')\n",
    "    baseline = iris.load_cube(baselinepath)\n",
    "    future = iris.load_cube(futurepath)\n",
    "    \n",
    "    # Apply land mask\n",
    "    baseline.data = ma.array(baseline.data, mask=baseline.data*land_sea_mask.data.mask[np.newaxis, :,:])\n",
    "    future.data = ma.array(future.data, mask=future.data*land_sea_mask.data.mask[np.newaxis, :,:])\n",
    "\n",
    "    # the code to calculate area weights requires a single longitude and latitude coordindate - \n",
    "    # remove the 2D \"true\" lat and lon\n",
    "    baseline.remove_coord('longitude')\n",
    "    baseline.remove_coord('latitude')\n",
    "    future.remove_coord('longitude')\n",
    "    future.remove_coord('latitude')\n",
    "    \n",
    "    # Guess bounds\n",
    "    for cube in [baseline, future]:\n",
    "        for coord in ['grid_longitude', 'grid_latitude']:\n",
    "            cube.coord(coord).guess_bounds()\n",
    "    \n",
    "    # Calculate mean values over land points\n",
    "    baseline_land = baseline.collapsed(['grid_longitude', 'grid_latitude'], iris.analysis.MEAN,\n",
    "                                      weights = iris.analysis.cartography.area_weights(baseline))\n",
    "    future_land = future.collapsed(['grid_longitude', 'grid_latitude'], iris.analysis.MEAN,\n",
    "                                  weights = iris.analysis.cartography.area_weights(future))\n",
    "\n",
    "    # Save future & baseline area averaged monthly data (time series)\n",
    "    baselineout = os.path.join(CLIMDIR, gcmid + '.mon.1986_2005.series.GERICS-REMO2015.pr.mmday-1.nc')\n",
    "    futureout = os.path.join(CLIMDIR, gcmid + '.mon.2041_2060.series.GERICS-REMO2015.pr.mmday-1.nc')\n",
    "    iris.save(baseline_land, baselineout)\n",
    "    iris.save(future_land, futureout)\n",
    "\n",
    "    # Subtract baseline from future\n",
    "    diff = future_land.copy()\n",
    "    diff.data = future_land.data - baseline_land.data.mean()\n",
    "    diff.rename('future anomaly relative to mean historical precipitation')\n",
    "\n",
    "    # Save the area averaged monthly future anomalies (time series)\n",
    "    outpath = os.path.join(CLIMDIR, gcmid + '.mon.2041_2060.anom.series.GERICS-REMO2015.pr.mmday-1.nc')\n",
    "    iris.save(diff, outpath)\n",
    "    print('Saved: {}'.format(outpath))"
   ]
  },
  {
   "cell_type": "markdown",
   "metadata": {},
   "source": [
    "---\n",
    "<div class=\"alert alert-block alert-success\">\n",
    "    <b>Question:</b> Why do we only want to produce a time series for changes over land?\n",
    "</div>"
   ]
  },
  {
   "cell_type": "markdown",
   "metadata": {},
   "source": [
    "**Answer:**\n",
    "\n",
    "_Type your answer here..._"
   ]
  },
  {
   "cell_type": "markdown",
   "metadata": {},
   "source": [
    "---"
   ]
  },
  {
   "cell_type": "markdown",
   "metadata": {},
   "source": [
    "**g)** **Plot the precipitation anomalies** of HadGEM2-ES and MPI-ESM-LR downscaled"
   ]
  },
  {
   "cell_type": "code",
   "execution_count": null,
   "metadata": {
    "scrolled": true
   },
   "outputs": [],
   "source": [
    "# Read in the monthly series\n",
    "hadgem2es = iris.load_cube(CLIMDIR + '/hadgem2-es.mon.2041_2060.anom.series.GERICS-REMO2015.pr.mmday-1.nc')\n",
    "mpiesm = iris.load_cube(CLIMDIR + '/mpi-esm-lr.mon.2041_2060.anom.series.GERICS-REMO2015.pr.mmday-1.nc')\n",
    "time = hadgem2es.coord('time')\n",
    "\n",
    "# Plot the two model time series' on the same figure\n",
    "plt.figure(figsize=(16,5))\n",
    "iplt.plot(time, hadgem2es, label = 'HadGEM2-ES')\n",
    "iplt.plot(time, mpiesm, label = 'MPI-ESM-LR')\n",
    "plt.legend()\n",
    "plt.suptitle('2041-2060 Precipitation anomaly (relative to 1986-2005)')\n",
    "plt.ylabel(f'Precipitation change ({hadgem2es.units}')\n",
    "plt.xlabel('Years')\n",
    "plt.show()"
   ]
  },
  {
   "cell_type": "markdown",
   "metadata": {},
   "source": [
    "**h) Produce and plot a montly time series of temperature data** relative to the 1986-2005 baseline.  As for (f) and (g) produce time series for HadGEM2-ES and MPI-ESM-LR driven runs.\n",
    "\n",
    "**Fill in the missing commands in the code blocks below**:"
   ]
  },
  {
   "cell_type": "code",
   "execution_count": null,
   "metadata": {},
   "outputs": [],
   "source": [
    "# HINT: The temperature data has filenames with the pattern:\n",
    "# gcmid + '.mon.1986_2005.GERICS-REMO2015.tm.C.nc' or gcmid + '.mon.2041_2060.GERICS-REMO2015.tm.C.nc'\n",
    "\n",
    "# Loop over GCMIDS\n",
    "\n",
    "\n",
    "# Read in original data for baseline and future\n",
    "\n",
    "# Apply land mask\n",
    "\n",
    "# remove the 2D \"true\" lat and lon\n",
    "\n",
    "# Guess bounds\n",
    "\n",
    "# Calculate mean values over land points\n",
    "\n",
    "# Save future & baseline area averaged monthly data (time series)\n",
    "\n",
    "# Subtract baseline from future\n",
    "\n",
    "# Save the data, make sure you follow the file naming convention!\n",
    "\n",
    "    "
   ]
  },
  {
   "cell_type": "code",
   "execution_count": null,
   "metadata": {},
   "outputs": [],
   "source": [
    "# Do some plotting...\n",
    "# Read in the monthly series\n",
    "\n",
    "\n",
    "# Plot the two model time series' on the same figure\n"
   ]
  },
  {
   "cell_type": "markdown",
   "metadata": {},
   "source": [
    "---\n",
    "<div class=\"alert alert-block alert-success\">\n",
    "<b>Question:</b> Write a short summary of these two graphs. Include:\n",
    "        \n",
    "- A description of what each plot shows\n",
    "- The differences between the two models\n",
    "- A consideration of the ways the climate in East Asia might be different in the future\n",
    "</div>"
   ]
  },
  {
   "cell_type": "markdown",
   "metadata": {},
   "source": [
    "**Answer:**\n",
    "\n",
    "_Type your answer here..._"
   ]
  },
  {
   "cell_type": "markdown",
   "metadata": {},
   "source": [
    "<div class=\"alert alert-block alert-success\">\n",
    "    <b>Question:</b> Conside the plots we produced in Section 4.3.  What <b>additional</b> time series analysis could you do to support your consideration of future changes to climate in the question above?\n",
    "</div>"
   ]
  },
  {
   "cell_type": "markdown",
   "metadata": {},
   "source": [
    "---"
   ]
  },
  {
   "cell_type": "markdown",
   "metadata": {},
   "source": [
    "<div class=\"alert alert-block alert-warning\">\n",
    "<center><b>This completes worksheet 4.</b></center><br>\n",
    "    You have used Iris to investigate differences between historical and future changes in model output by comparing 20 years of baseline data (1986-2005) against a future period (20241-2060). <br>\n",
    "To do so, you have:\n",
    "    \n",
    "- calculated and plotted seasonal mean changes in temperature and precipitation\n",
    "- masked out ocean data to focus on changes over land\n",
    "- calculated anomalies by comparing future data to the historical mean period\n",
    "- plotted time series of both temperature and precipitation anomalies over land for two different models<br>\n",
    "\n",
    "In worksheet 5, you will investigate climate extremes by investigating threshold and extreme climate indicies.\n",
    "</div>"
   ]
  },
  {
   "cell_type": "markdown",
   "metadata": {},
   "source": [
    "<p><img src=\"img/MO_MASTER_black_mono_for_light_backg_RBG.png\" alt=\"python + iris logo\" style=\"float: center; height: 100px;\"/></p>\n",
    "<center>© Crown Copyright 2022, Met Office</center>"
   ]
  }
 ],
 "metadata": {
  "instance_type": "ml.t3.medium",
  "kernelspec": {
   "display_name": "pyprecis-environment",
   "language": "python",
   "name": "pyprecis-environment"
  },
  "language_info": {
   "codemirror_mode": {
    "name": "ipython",
    "version": 3
   },
   "file_extension": ".py",
   "mimetype": "text/x-python",
   "name": "python",
   "nbconvert_exporter": "python",
   "pygments_lexer": "ipython3",
   "version": "3.6.10"
  },
  "widgets": {
   "state": {},
   "version": "1.1.2"
  }
 },
 "nbformat": 4,
 "nbformat_minor": 4
}
