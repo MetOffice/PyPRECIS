{
 "cells": [
  {
   "cell_type": "markdown",
   "metadata": {},
   "source": [
    "\n",
    "# <b>Tutorial 2: Data Preparation and visualisation</b>\n",
    "\n"
   ]
  },
  {
   "cell_type": "markdown",
   "metadata": {},
   "source": [
    "## Learning Objectives:\n",
    "\n",
    "In this session we will learn: \n",
    "1. How to perform further cube operations\n",
    "2. How to prepare data for analysis\n",
    "4. How to visualise data "
   ]
  },
  {
   "cell_type": "markdown",
   "metadata": {},
   "source": [
    "<table>\n",
    " \n",
    "  <tr>\n",
    "    <td><img src=\"images/global_airtemp_cp.png\" width=400 height=250></td>\n",
    "    <td><img src=\"images/global_airtemp_ts.png\" width=400 height=250></td>\n",
    "    \n",
    "  </tr>\n",
    "</table>"
   ]
  },
  {
   "cell_type": "markdown",
   "metadata": {},
   "source": [
    "## Contents\n",
    "\n",
    "1. [Constraint and cube extraction](#extract)\n",
    "2. [Basic cube calculations](#calc)\n",
    "3. [Time series and spatial plots](#plots)\n",
    "4. [Saving the cube](#save)\n",
    "5. [Exercises](#exercise)"
   ]
  },
  {
   "cell_type": "markdown",
   "metadata": {},
   "source": [
    "<div class=\"alert alert-block alert-warning\">\n",
    "<b>Prerequisites</b> <br> \n",
    "- Basic programming skills in python<br>\n",
    "- Familiarity with python libraries Iris, Numpy and Matplotlib<br>\n",
    "- Basic understanding of climate data<br>\n",
    "</div>"
   ]
  },
  {
   "cell_type": "markdown",
   "metadata": {},
   "source": [
    "___"
   ]
  },
  {
   "cell_type": "markdown",
   "metadata": {},
   "source": [
    "## 1. Constraint and cube extraction<a id='extract'></a>"
   ]
  },
  {
   "cell_type": "markdown",
   "metadata": {},
   "source": [
    "### 1.1 Import libraries.\n",
    "Import the necessary libraries. Current datasets are in zarr format, we need zarr and xarray libraries to access the data"
   ]
  },
  {
   "cell_type": "code",
   "execution_count": null,
   "metadata": {},
   "outputs": [],
   "source": [
    "import numpy as np\n",
    "import xarray as xr\n",
    "import zarr\n",
    "import iris\n",
    "import os\n",
    "from scripts.xarray_iris_coord_system import XarrayIrisCoordSystem as xics\n",
    "xi = xics()\n",
    "xr.set_options(display_style='text') # Work around for AML bug that won't display HTML output."
   ]
  },
  {
   "cell_type": "markdown",
   "metadata": {},
   "source": [
    "### 1.2 Set up authentication for the Azure blob store\n",
    "\n",
    "The data for this course is held online in an Azure Blob Storage Service. To access this we use a SAS (shared access signature).  You should have been given the credentials for this service before the course, but if not please ask your instructor. We use the getpass module here to avoid putting the token into the public domain. Run the cell below and in the box enter your SAS and press return. This will store the password in the variable SAS."
   ]
  },
  {
   "cell_type": "code",
   "execution_count": null,
   "metadata": {},
   "outputs": [],
   "source": [
    "import getpass\n",
    "# SAS WITHOUT leading '?'\n",
    "SAS = getpass.getpass()"
   ]
  },
  {
   "cell_type": "code",
   "execution_count": null,
   "metadata": {},
   "outputs": [],
   "source": [
    "store = zarr.ABSStore(container='metoffice-20cr-ds', prefix='monthly/', account_name=\"metdatasa\", blob_service_kwargs={\"sas_token\":SAS})\n",
    "type(store)"
   ]
  },
  {
   "cell_type": "markdown",
   "metadata": {},
   "source": [
    "### 1.3 Read monthly data\n",
    "A Dataset consists of coordinates and data variables. Let's use the xarray's **open_zarr()** method to read all our zarr data into a dataset object and display it's metadata"
   ]
  },
  {
   "cell_type": "code",
   "execution_count": null,
   "metadata": {},
   "outputs": [],
   "source": [
    "# use the open_zarr() method to read in the whole dataset metadata\n",
    "dataset = xr.open_zarr(store)\n",
    "# print out the metadata\n",
    "dataset"
   ]
  },
  {
   "cell_type": "markdown",
   "metadata": {},
   "source": [
    "Convert dataset into iris cubelist"
   ]
  },
  {
   "cell_type": "code",
   "execution_count": null,
   "metadata": {},
   "outputs": [],
   "source": [
    "# create an empty list to hold the iris cubes\n",
    "cubelist = iris.cube.CubeList([])\n",
    "# use the DataSet.apply() to convert the dataset to Iris Cublelist\n",
    "dataset.apply(lambda da: cubelist.append(xi.to_iris(da)))\n",
    "# print out the cubelist\n",
    "cubelist"
   ]
  },
  {
   "cell_type": "markdown",
   "metadata": {},
   "source": [
    "The cubelist printed above holds all of the data from the Zarr file in a list. To see more detail on each of the cubes in the list click on it. That shows a table with information about the name and units of the cube, its shape and coordinates.\n",
    "\n",
    "We will see in the next section how to obtain a single cube for use in our analysis and visualisation."
   ]
  },
  {
   "cell_type": "markdown",
   "metadata": {},
   "source": [
    "---"
   ]
  },
  {
   "cell_type": "markdown",
   "metadata": {},
   "source": [
    "### 1.4 Indexing the cube\n",
    "**AIM:** Extract the ***cloud_area_fraction*** data and index it by a subset of latitudes and longitudes values"
   ]
  },
  {
   "cell_type": "markdown",
   "metadata": {},
   "source": [
    "</pre>\n",
    "<div class=\"alert alert-block alert-info\">\n",
    "<b>Note:</b> Cubes can be indexed in a similar manner to that of NumPy arrays. The result of indexing a cube is always a copy of the cube.<br>\n",
    "    \n",
    "For more information on cube indexing in numpy see <a href=\"https://numpy.org/doc/stable/reference/arrays.indexing.html\">Indexing</a> in the numpy documentation\n",
    "    \n",
    "</div>"
   ]
  },
  {
   "cell_type": "code",
   "execution_count": null,
   "metadata": {},
   "outputs": [],
   "source": [
    "# extract the variale from cubelist\n",
    "caf = cubelist.extract_strict('cloud_area_fraction')\n",
    "caf"
   ]
  },
  {
   "cell_type": "code",
   "execution_count": null,
   "metadata": {},
   "outputs": [],
   "source": [
    "# subsetting the lat/lon values by indexing the first 10 values\n",
    "subset_caf = caf[..., :10, :10]\n",
    "subset_caf"
   ]
  },
  {
   "cell_type": "code",
   "execution_count": null,
   "metadata": {},
   "outputs": [],
   "source": [
    "# subseting the cube with 50th to 99th lat/lon values at time index 10\n",
    "subset_caf = caf[10, 50:100, 50:100]\n",
    "subset_caf"
   ]
  },
  {
   "cell_type": "markdown",
   "metadata": {},
   "source": [
    "<div class=\"alert alert-block alert-info\">\n",
    "<b>Note:</b> The extract above returns a 2 dimensional cube with latitude/longitude at a single time. Note that time is now a scalar (a single time: 1851-11-16 00:00:00)\n",
    "    \n",
    "</div>"
   ]
  },
  {
   "cell_type": "code",
   "execution_count": null,
   "metadata": {},
   "outputs": [],
   "source": [
    "# Extracting first 10 elements from time dimension\n",
    "subset_caf = caf[:10]\n",
    "subset_caf"
   ]
  },
  {
   "cell_type": "markdown",
   "metadata": {},
   "source": [
    "### 1.5 Time constraint\n",
    "**AIM:** Use constraint and extract methods to subset a cube or cubelist.\n",
    "\n",
    "The monthly data ranges from 1850 to 2000. In some cases we might not need all the time series and we might only be interested in 50 years 1950 - 2000.\n",
    "In such cases, we can extract cube creating a time constraint. \n",
    "Let's extract \"air_pressure_at_sea_level\" cube, extract the cube containing data from 1950 to 2000 using time constraint."
   ]
  },
  {
   "cell_type": "markdown",
   "metadata": {},
   "source": [
    "<div class=\"alert alert-block alert-info\">\n",
    "<b>Note:</b> We've already seen above the <b>extract_strict</b> method to extract specific cube from cubelist. We can also apply constraints to a single cube (or a CubeList) using the respective <b>constraint</b> and <b>extract</b> methods.\n",
    " \n",
    "Iris's <b>constraint</b> mechanism provides a powerful way to filter a subset of data from a larger collection. The Constraint constructor takes arbitrary keywords to constrain coordinate values.\n",
    "    \n",
    "<b>extract_strict</b> returns a single cube while <b>extract</b> methods returns a cubelist. If you use extract_strict and more or less than 1 cube matches then it is an error. \n",
    "    \n",
    "</div>"
   ]
  },
  {
   "cell_type": "code",
   "execution_count": null,
   "metadata": {},
   "outputs": [],
   "source": [
    "# Extracting air pressure at sea level cube from cublist \n",
    "air_pres = cubelist.extract_strict('air_pressure_at_sea_level')"
   ]
  },
  {
   "cell_type": "code",
   "execution_count": null,
   "metadata": {},
   "outputs": [],
   "source": [
    "# Extracting from year 1950 to 2000\n",
    "start_time = 1950\n",
    "end_time = 2000\n",
    "time_constraint = iris.Constraint(time=lambda cell: start_time <= cell.point.year <= end_time)\n",
    "subcube = air_pres.extract(time_constraint)"
   ]
  },
  {
   "cell_type": "markdown",
   "metadata": {},
   "source": [
    "To check if we have got the right cube, we can print start data and end date of subcube"
   ]
  },
  {
   "cell_type": "code",
   "execution_count": null,
   "metadata": {},
   "outputs": [],
   "source": [
    "tcoord = subcube.coord('time')\n",
    "units = tcoord.units\n",
    "tdata = [units.num2date(point) for point in tcoord.points]\n",
    "print('Start time: ',tdata[0])\n",
    "print('End time:   ',tdata[-1])"
   ]
  },
  {
   "cell_type": "markdown",
   "metadata": {},
   "source": [
    "<div class=\"alert alert-block alert-info\">\n",
    "<b>Note:</b> It is common to want to build a constraint for time.\n",
    "This can be achieved by comparing cells containing datetimes\n",
    "\n",
    "There are a few different approaches for producing time constraints in Iris. We focus here on one approach for constraining on time in Iris.\n",
    "\n",
    "This approach allows us to access individual components of cell datetime objects and run comparisons on those.\n",
    "    \n",
    "</div>"
   ]
  },
  {
   "cell_type": "markdown",
   "metadata": {},
   "source": [
    "Similar to constraining years, we can also constrain months and days\n",
    "\n",
    "Consider a case where we want to get only a few months, like March, April and May, from our subcube"
   ]
  },
  {
   "cell_type": "code",
   "execution_count": null,
   "metadata": {},
   "outputs": [],
   "source": [
    "# extracting month june, july and august from the list of years\n",
    "month_constraint = iris.Constraint(time=lambda cell: cell.point.month in (3,4,5))\n",
    "subcube.extract(month_constraint)"
   ]
  },
  {
   "cell_type": "markdown",
   "metadata": {},
   "source": [
    "### 1.6 Extract region.\n",
    "\n",
    "To make your analysis faster and easier, you can extract a smaller part of the model domain. In these examples we will work with Shanghai, but you can choose any region you want. \n",
    "\n",
    "<b>Note:</b> The original model data is on a rotated pole grid system, as shown in the diagrams below. The x and y coordinates are not true latitude and longitude so to extract a latitude-longitude box, we use the *extract_rot_cube()* function to do this. It works by first calculating the true latitude and longitue of each grid cell and uses these to select which are in the area of interest."
   ]
  },
  {
   "cell_type": "markdown",
   "metadata": {},
   "source": [
    "<table>\n",
    " \n",
    "  <tr>\n",
    "    <td><img src=\"images/rotated_pole_1.png\" width=400 height=250></td>\n",
    "    <td><img src=\"images/rotated_pole_2.png\" width=400 height=250></td>\n",
    "    \n",
    "  </tr>\n",
    "</table>"
   ]
  },
  {
   "cell_type": "code",
   "execution_count": null,
   "metadata": {},
   "outputs": [],
   "source": [
    "# let's first print the values of lat/lon before extracting\n",
    "print('latitude: [', air_pres.coord('grid_latitude').points.min(), ', ', air_pres.coord('grid_latitude').points.max(), ']')\n",
    "print('longitude: [', air_pres.coord('grid_longitude').points.min(), ', ', air_pres.coord('grid_longitude').points.max(), ']')"
   ]
  },
  {
   "cell_type": "markdown",
   "metadata": {},
   "source": [
    "Let's try to extract Shanghai region using **extract_rot_cube**.\n",
    "\n",
    "**extract_rot_cube** takes the latitude and longitude of the region of interest and returns a smaller cube with the extracted region of rotated pole coordinates. \n",
    "\n",
    "First define the lat lon of Shanghai region:"
   ]
  },
  {
   "cell_type": "code",
   "execution_count": null,
   "metadata": {},
   "outputs": [],
   "source": [
    "min_lat=29.0\n",
    "max_lat=32.0\n",
    "min_lon=118.0\n",
    "max_lon=123.0"
   ]
  },
  {
   "cell_type": "code",
   "execution_count": null,
   "metadata": {},
   "outputs": [],
   "source": [
    "# load extract_rot_cube from catnip\n",
    "from catnip.preparation import extract_rot_cube\n",
    "ext_cube = extract_rot_cube(air_pres, min_lat, min_lon, max_lat, max_lon)\n",
    "ext_cube"
   ]
  },
  {
   "cell_type": "code",
   "execution_count": null,
   "metadata": {},
   "outputs": [],
   "source": [
    "# we can see that the min/max boundaries now changed\n",
    "print('latitude: [', ext_cube.coord('grid_latitude').points.min(), ', ', ext_cube.coord('grid_latitude').points.max(), ']')\n",
    "print('longitude: [', ext_cube.coord('grid_longitude').points.min(), ', ', ext_cube.coord('grid_longitude').points.max(), ']')"
   ]
  },
  {
   "cell_type": "markdown",
   "metadata": {},
   "source": [
    "### 1.7 Constraint on cell methods and attributes\n",
    "\n",
    "In our cubelist, we can see that we have four cubes named air_temperature: Minimum, Maximum and two Means (one with pressure level).\n",
    "Let's try to extract air temperature and see what we get.\n"
   ]
  },
  {
   "cell_type": "code",
   "execution_count": null,
   "metadata": {},
   "outputs": [],
   "source": [
    "air_temp = cubelist.extract('air_temperature')\n",
    "air_temp"
   ]
  },
  {
   "cell_type": "markdown",
   "metadata": {},
   "source": [
    "In order to get only one cube i.e. the time mean at the surface and not on the pressure levels, we need to constrain using the cell method. A [cell_method](https://cfconventions.org/Data/cf-conventions/cf-conventions-1.7/build/ch07s03.html) is a piece of metadata which describes additional characteristics of a field.  Let try to create a constraint and use it to extract the desired cube."
   ]
  },
  {
   "cell_type": "code",
   "execution_count": null,
   "metadata": {},
   "outputs": [],
   "source": [
    "# constrain for the cube that does not have 'pressure' in its coordinate list\n",
    "cube_cons_surf = iris.Constraint(cube_func=lambda c: 'pressure' not in [coord.name() for coord in c.coords()])\n",
    "# also constrain to be only mean temperature \n",
    "cube_cons_mean = iris.Constraint(cube_func=lambda c: (len(c.cell_methods) > 0) and (c.cell_methods[0].method == 'mean'))\n",
    "# now apply the above constrains\n",
    "air_temp_mean = air_temp.extract_strict(cube_cons_surf & cube_cons_mean)\n",
    "air_temp_mean                              "
   ]
  },
  {
   "cell_type": "markdown",
   "metadata": {},
   "source": [
    "Now we got desired cube. Now, if we look into minimum and maximum cubes, that does not contains cell method, instead, information lies in their respective attributes. \n",
    "\n",
    "We can extract, for example minimum cube, by constraining the attributes."
   ]
  },
  {
   "cell_type": "code",
   "execution_count": null,
   "metadata": {},
   "outputs": [],
   "source": [
    "min_cons = iris.Constraint(cube_func=lambda c: ('ukmo__process_flags' in c.attributes) and (c.attributes['ukmo__process_flags'][0].split(' ')[0] == 'Minimum'))\n",
    "air_temp_min = air_temp.extract_strict(min_cons)\n",
    "air_temp_min                              "
   ]
  },
  {
   "cell_type": "markdown",
   "metadata": {},
   "source": [
    "<div class=\"alert alert-block alert-success\">\n",
    "    <b>Task:</b><br><ul>\n",
    "        <li>Extract from cubelist <b>relative humidity</b> cube: <b>year</b>: 1900-2000, <b>months</b>: May-September <b>Cell method</b>: Mean (4 hours) \n",
    "\n",
    "  \n",
    "</div>\n"
   ]
  },
  {
   "cell_type": "code",
   "execution_count": null,
   "metadata": {},
   "outputs": [],
   "source": [
    "# Extract relative humidity cube\n",
    "# write your code here .."
   ]
  },
  {
   "cell_type": "markdown",
   "metadata": {},
   "source": [
    "___"
   ]
  },
  {
   "cell_type": "markdown",
   "metadata": {},
   "source": [
    "## 2. Basic Calculations<a id='calc'></a>"
   ]
  },
  {
   "cell_type": "markdown",
   "metadata": {},
   "source": [
    "### 2.1 Calculating mean, max, min\n",
    "In this section we will use **iris.analysis** method to calculate basic mean, min and max values. But before we do this we need to understand two important concepts/techniques that are used in the analysis code to follow:\n",
    "1. When we calculate area averages, we need to be able to calculate the area of each grid box. and for this we need to know the boundaries of each grid box. If the longitude and latitude bounds are not defined in the cube we can guess the bounds based on the coordinates point values and that is what the *guess.bounds()* function does in the code below.\n",
    "2. Once we have our longitude and latitude boundaries we can use the *iris.analysis.cartography.area_weights* to compute the data as a weighted mean of all grid-boxes. The *area_weights()* function returns an array of area weights, with the same dimensions as the cube where a larger cell has more weight in the average than a smaller one.\n",
    "\n",
    "Now let's extract the *surface_temperature* and calculate mean over the whole region. "
   ]
  },
  {
   "cell_type": "code",
   "execution_count": null,
   "metadata": {},
   "outputs": [],
   "source": [
    "#  extract surface_temerature\n",
    "sft = cubelist.extract_strict('surface_temperature')"
   ]
  },
  {
   "cell_type": "markdown",
   "metadata": {},
   "source": [
    "Using the **collapsed** and **analysis** methods over grid_latitude and grid_longitude, we can get the timeseries of mean over the whole domain."
   ]
  },
  {
   "cell_type": "code",
   "execution_count": null,
   "metadata": {},
   "outputs": [],
   "source": [
    "import iris.analysis.cartography\n",
    "\n",
    "#Since grid_latitude and grid_longitude were both point coordinates we must guess bound positions for them in order to calculate the area of the grid boxes\n",
    "sft.coord('grid_latitude').guess_bounds()\n",
    "sft.coord('grid_longitude').guess_bounds()\n",
    "\n",
    "grid_areas = iris.analysis.cartography.area_weights(sft)\n",
    "\n",
    "# calculating mean using area_weights method\n",
    "sft_mean = sft.collapsed(['grid_longitude', 'grid_latitude'], iris.analysis.MEAN, weights=grid_areas)\n",
    "sft_mean"
   ]
  },
  {
   "cell_type": "markdown",
   "metadata": {},
   "source": [
    "<div class=\"alert alert-block alert-info\">\n",
    "<b>Note:</b> The above cube has reduced to only one dimension i.e. \"time\"\n",
    "\n",
    "    \n",
    "<br>iris.analysis provides a range of statistical methods, see [iris.analysis dcumentation](https://scitools.org.uk/iris/docs/v1.9.0/html/iris/iris/analysis.html)\n",
    "    \n",
    "<br> Collapse method can be applied to one, more or all the dimensions.\n",
    "</div>"
   ]
  },
  {
   "cell_type": "markdown",
   "metadata": {},
   "source": [
    "### 2.2 Basic arithmetic operations\n",
    "\n",
    "Basic arithmetic operations like addition, subtraction, multiplication, square root, power etc. can be performed on iris cube.\n",
    "\n",
    "Let's calculate 10m windspeed using **x_wind** and **y_wind** cubes.\n",
    "\n",
    "In our cubelist, we have two variables with same cell method. We can constraint using coordinates information.\n",
    "\n",
    "To calculate 10m windspeed we need data which is not on pressure levels."
   ]
  },
  {
   "cell_type": "code",
   "execution_count": null,
   "metadata": {},
   "outputs": [],
   "source": [
    "# extract x_wind and y_wind\n",
    "xcons = iris.Constraint(cube_func=lambda c: c.standard_name == 'x_wind' and ('pressure' not in [coord.name() for coord in c.coords()]))\n",
    "ycons = iris.Constraint(cube_func=lambda c: c.standard_name == 'y_wind' and ('pressure' not in [coord.name() for coord in c.coords()]))\n",
    "\n",
    "u = cubelist.extract_strict(xcons)\n",
    "v = cubelist.extract_strict(ycons)"
   ]
  },
  {
   "cell_type": "markdown",
   "metadata": {},
   "source": [
    "Let's create a windspeed cube by copying the u cube first"
   ]
  },
  {
   "cell_type": "code",
   "execution_count": null,
   "metadata": {},
   "outputs": [],
   "source": [
    "windspeed = u.copy()"
   ]
  },
  {
   "cell_type": "markdown",
   "metadata": {},
   "source": [
    "Calculate windspeed:"
   ]
  },
  {
   "cell_type": "code",
   "execution_count": null,
   "metadata": {},
   "outputs": [],
   "source": [
    "import numpy as np\n",
    "windspeed.data = np.sqrt(u.data**2 + v.data**2)\n",
    "windspeed"
   ]
  },
  {
   "cell_type": "markdown",
   "metadata": {},
   "source": [
    "We see that cube name is \"x_wind\", that is becuase we copied the u_cube. We can rename it to \"windspeed\""
   ]
  },
  {
   "cell_type": "code",
   "execution_count": null,
   "metadata": {},
   "outputs": [],
   "source": [
    "windspeed.rename(\"wind speed\")\n",
    "windspeed"
   ]
  },
  {
   "cell_type": "markdown",
   "metadata": {},
   "source": [
    "<div class=\"alert alert-block alert-info\">\n",
    "<b>Note:</b> When performing arithmetic calculation, consider the units, name and other metadata information. \n",
    "</div>"
   ]
  },
  {
   "cell_type": "markdown",
   "metadata": {},
   "source": [
    "___"
   ]
  },
  {
   "cell_type": "markdown",
   "metadata": {},
   "source": [
    "## 3. Time series and spatial plots<a id='plots'></a>"
   ]
  },
  {
   "cell_type": "markdown",
   "metadata": {},
   "source": [
    "### 3.1 Time series plots\n",
    "Using iris quick plot to create time series plots. Let's load the necessary libraries first.\n"
   ]
  },
  {
   "cell_type": "code",
   "execution_count": null,
   "metadata": {},
   "outputs": [],
   "source": [
    "# we first need to load libraries for plotting \n",
    "import iris.plot as iplt\n",
    "import iris.quickplot as qplt\n",
    "import matplotlib.pyplot as plt"
   ]
  },
  {
   "cell_type": "markdown",
   "metadata": {},
   "source": [
    "Let's plot the timeseries of mean surface temeprature over Shanghai region from 1950 - 2000"
   ]
  },
  {
   "cell_type": "code",
   "execution_count": null,
   "metadata": {},
   "outputs": [],
   "source": [
    "# loading mean air temperature \n",
    "sft = cubelist.extract_strict('surface_temperature')\n",
    "sft.coord_system()\n",
    "sft"
   ]
  },
  {
   "cell_type": "code",
   "execution_count": null,
   "metadata": {},
   "outputs": [],
   "source": [
    "# Shanghai region coordinates \n",
    "min_lat=29.0\n",
    "max_lat=32.0\n",
    "min_lon=118.0\n",
    "max_lon=123.0\n",
    "# load extract_rot_cube from catnip\n",
    "from catnip.preparation import extract_rot_cube\n",
    "sft_shangai = extract_rot_cube(sft, min_lat, min_lon, max_lat, max_lon)\n",
    "sft_shangai"
   ]
  },
  {
   "cell_type": "code",
   "execution_count": null,
   "metadata": {},
   "outputs": [],
   "source": [
    "# Now constrain over time\n",
    "start_time = 1950\n",
    "end_time = 2000\n",
    "time_constraint = iris.Constraint(time=lambda cell: start_time <= cell.point.year <= end_time)\n",
    "sft_tim = sft_shangai.extract(time_constraint)\n",
    "sft_tim"
   ]
  },
  {
   "cell_type": "code",
   "execution_count": null,
   "metadata": {},
   "outputs": [],
   "source": [
    "# collapse the longitude and latitude and calculate mean over the time period\n",
    "timeseries = sft_tim.collapsed(['grid_latitude','grid_longitude'], iris.analysis.MEAN)\n",
    "timeseries"
   ]
  },
  {
   "cell_type": "markdown",
   "metadata": {},
   "source": [
    "Lets plot the timeseries using a standard matplotlib library.\n"
   ]
  },
  {
   "cell_type": "code",
   "execution_count": null,
   "metadata": {},
   "outputs": [],
   "source": [
    "# ploting with matplotlib \n",
    "plt.plot(timeseries.data)\n",
    "plt.show()"
   ]
  },
  {
   "cell_type": "markdown",
   "metadata": {},
   "source": [
    "We have got the time series values. Now we can plot them using the [**iris quickplot**](https://scitools.org.uk/iris/docs/latest/iris/iris/quickplot.html?highlight=quickplot).[what does this add?]"
   ]
  },
  {
   "cell_type": "code",
   "execution_count": null,
   "metadata": {},
   "outputs": [],
   "source": [
    "# plotting with the quickplot \n",
    "qplt.plot(timeseries)\n",
    "plt.show()"
   ]
  },
  {
   "cell_type": "markdown",
   "metadata": {},
   "source": [
    "<div class=\"alert alert-block alert-info\">\n",
    "<b>Note:</b> <b>iris.quickplot</b> adds extra automatic labelling: axes are labelled with a coordinate name and units, and the plot title is taken from the cube name. On the other hand using matplotlib.plot we need to add labels and title manually. \n",
    "</div>"
   ]
  },
  {
   "cell_type": "markdown",
   "metadata": {},
   "source": [
    "### 3.2 Contour plots\n",
    "Using iris quick plot to create contour plots\n",
    "\n",
    "Let's plot the average surface temperature from 1900 to 2000 over Shangai region.\n",
    "\n",
    "We can collapse 'time' dimension os sft_tim cube to get the spatial mean "
   ]
  },
  {
   "cell_type": "code",
   "execution_count": null,
   "metadata": {},
   "outputs": [],
   "source": [
    "spatial_mean = sft_tim.collapsed(['time'], iris.analysis.MEAN)"
   ]
  },
  {
   "cell_type": "markdown",
   "metadata": {},
   "source": [
    "Now that we have the mean values we can make a spatial contour plot using the iris quickplot contourf method"
   ]
  },
  {
   "cell_type": "code",
   "execution_count": null,
   "metadata": {},
   "outputs": [],
   "source": [
    "# plot the surface temperature contour at the first timestep \n",
    "qplt.contourf(spatial_mean)\n",
    "# add some coastlines for context\n",
    "plt.gca().coastlines()\n",
    "# set the figure size\n",
    "plt.gcf().set_size_inches(8,12)\n",
    "plt.show()"
   ]
  },
  {
   "cell_type": "markdown",
   "metadata": {},
   "source": [
    "<div class=\"alert alert-block alert-info\">\n",
    "<b>Note:</b> <b>iris.quickplot</b> also adds the colorbar\n",
    "</div>"
   ]
  },
  {
   "cell_type": "markdown",
   "metadata": {},
   "source": [
    "<div class=\"alert alert-block alert-success\">\n",
    "    <b>Task:</b><br><ul>\n",
    "        <li>Plot time series of maximum air temperature from 1900 to 2000 of only summer season (June, July and August)</li>\n",
    "        <li>Plot contour plot of the maximum air temperature from 1900 to 2000 of only summer season (June, July and August)</li>\n",
    "    </ul>\n",
    "</div>\n"
   ]
  },
  {
   "cell_type": "code",
   "execution_count": null,
   "metadata": {},
   "outputs": [],
   "source": [
    "# time series plot\n",
    "# write your code here .."
   ]
  },
  {
   "cell_type": "code",
   "execution_count": null,
   "metadata": {},
   "outputs": [],
   "source": [
    "# contour plot\n",
    "# write your code here .."
   ]
  },
  {
   "cell_type": "markdown",
   "metadata": {},
   "source": [
    "___"
   ]
  },
  {
   "cell_type": "markdown",
   "metadata": {},
   "source": [
    "## 4. Saving the cube<a id='save'></a>"
   ]
  },
  {
   "cell_type": "markdown",
   "metadata": {},
   "source": [
    "### 4.1 Save the cube in zarr store\n",
    "We can save our cube in zarr store to be used later. \n",
    "\n",
    "For this purpose, we first need to convert cube into xarray and then save it into zarr store.\n",
    "\n",
    "Let's save 'spatial_mean' cube from the above section."
   ]
  },
  {
   "cell_type": "code",
   "execution_count": null,
   "metadata": {},
   "outputs": [],
   "source": [
    "# converting cube back to xarray\n",
    "sft_mean = xr.DataArray.from_iris(spatial_mean)\n",
    "\n",
    "# rename the xarray\n",
    "sft_mean.rename('surface_temperature_mean')\n",
    "\n",
    "# checking the chunk size of the xarray\n",
    "sft_mean.chunks"
   ]
  },
  {
   "cell_type": "code",
   "execution_count": null,
   "metadata": {},
   "outputs": [],
   "source": [
    "# convert the xarray into dataset\n",
    "sft_mean_ds = sft_mean.to_dataset()\n",
    "\n",
    "# path to where store the zarr data\n",
    "zarr_store = f\"{os.environ['HOME']}/zstore\"\n",
    "\n",
    "# store the dataset to specfied path as zarr data store\n",
    "sft_mean_ds.to_zarr(zarr_store, consolidated=True, mode='w')"
   ]
  },
  {
   "cell_type": "markdown",
   "metadata": {},
   "source": [
    "___"
   ]
  },
  {
   "cell_type": "markdown",
   "metadata": {},
   "source": [
    "## 5. Exercises<a id='exercise'></a>"
   ]
  },
  {
   "cell_type": "markdown",
   "metadata": {},
   "source": [
    "In this exercise we will analyse the mean precipitation rate from 1950 - 2010 over the Shanghai region"
   ]
  },
  {
   "cell_type": "markdown",
   "metadata": {},
   "source": [
    "### Exercise 1: Load monthly data"
   ]
  },
  {
   "cell_type": "code",
   "execution_count": null,
   "metadata": {},
   "outputs": [],
   "source": [
    "# write your code here ... "
   ]
  },
  {
   "cell_type": "markdown",
   "metadata": {},
   "source": [
    "### Exercise 2: Extract precipitation_flux"
   ]
  },
  {
   "cell_type": "code",
   "execution_count": null,
   "metadata": {},
   "outputs": [],
   "source": [
    "# write your code here ..."
   ]
  },
  {
   "cell_type": "markdown",
   "metadata": {},
   "source": [
    "### Exercise 3: calculate mean"
   ]
  },
  {
   "cell_type": "code",
   "execution_count": null,
   "metadata": {},
   "outputs": [],
   "source": [
    "# write your code here ..."
   ]
  },
  {
   "cell_type": "markdown",
   "metadata": {},
   "source": [
    "### Exercise 4: Plot timeseries"
   ]
  },
  {
   "cell_type": "code",
   "execution_count": null,
   "metadata": {},
   "outputs": [],
   "source": [
    "# write your code here ..."
   ]
  },
  {
   "cell_type": "markdown",
   "metadata": {},
   "source": [
    "### Exercise 5: Spatial plot over Shanghai"
   ]
  },
  {
   "cell_type": "code",
   "execution_count": null,
   "metadata": {},
   "outputs": [],
   "source": [
    "# write your code here ..."
   ]
  },
  {
   "cell_type": "markdown",
   "metadata": {},
   "source": [
    "___"
   ]
  },
  {
   "cell_type": "markdown",
   "metadata": {},
   "source": [
    "</pre>\n",
    "<div class=\"alert alert-block alert-success\">\n",
    "<b>Summary</b><br> \n",
    "    In this session we learned how:<br>\n",
    "    <ul>\n",
    "        <li>to prepre sube for analysis</li>\n",
    "        <li>to perform basic arithmatic operation</li>\n",
    "        <li>to plot timeseries and contours </li>\n",
    "        <li>to save data in zarr format </li>\n",
    "    </ul>\n",
    "\n",
    "</div>\n"
   ]
  }
 ],
 "metadata": {
  "kernelspec": {
   "display_name": "cssp37",
   "language": "python",
   "name": "cssp37"
  },
  "language_info": {
   "codemirror_mode": {
    "name": "ipython",
    "version": 3
   },
   "file_extension": ".py",
   "mimetype": "text/x-python",
   "name": "python",
   "nbconvert_exporter": "python",
   "pygments_lexer": "ipython3",
   "version": "3.7.8"
  }
 },
 "nbformat": 4,
 "nbformat_minor": 4
}
