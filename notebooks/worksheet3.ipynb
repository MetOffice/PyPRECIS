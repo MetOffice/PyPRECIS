{
 "cells": [
  {
   "cell_type": "markdown",
   "metadata": {},
   "source": [
    "# Worksheet 3: Further data analysis and visualisation\n",
    "\n",
    "In the last worksheet we started to undertake basic data analysis and visulisation in python using Iris. This worksheet picks-up where we left off and introduces us to more advanced data analysis.  This worksheet ends with an extended exercise to start you thinking about coding more independently."
   ]
  },
  {
   "cell_type": "markdown",
   "metadata": {},
   "source": [
    "<div class=\"alert alert-block alert-warning\">\n",
    "<b>By the end of this worksheet you should be able to:</b><br> \n",
    "- Extract specific regions of interested from large datasets<br>\n",
    "- Apply more advanced statistical operations to multi-annual data. <br>\n",
    "- Produce your own data processing workflow.<br>\n",
    "</div>"
   ]
  },
  {
   "cell_type": "markdown",
   "metadata": {},
   "source": [
    "## Contents\n",
    "### [3.1: Region extraction](#3.1)\n",
    "### [3.2: Mean annual cycle calculation](#3.2)\n",
    "### [3.3: Comparing models and observations](#3.3)\n",
    "### [3.4: Climatological mean and annual cycle for an ensemble](#3.4)\n"
   ]
  },
  {
   "cell_type": "markdown",
   "metadata": {},
   "source": [
    "## Preamble\n",
    "Run the code preamble below to import the necessary libraries for this worksheet.\n",
    "\n",
    "To run the code, click in the box below and press <kbd>Ctrl</kbd> + <kbd>Enter</kbd>."
   ]
  },
  {
   "cell_type": "code",
   "execution_count": 18,
   "metadata": {},
   "outputs": [],
   "source": [
    "# Code preamble - these libraries will be used in this worksheet.\n",
    "# This code block needs to be re-run every time you restart this worksheet!\n",
    "%matplotlib inline\n",
    "import os\n",
    "import numpy as np\n",
    "import matplotlib.pyplot as plt\n",
    "import matplotlib.cm as cm\n",
    "import matplotlib.dates as mdates\n",
    "import calendar\n",
    "import iris\n",
    "import iris.coord_categorisation\n",
    "import iris.quickplot as qplt\n",
    "import cartopy.crs as ccrs\n",
    "from mpl_toolkits.axes_grid1 import AxesGrid\n",
    "from cartopy.mpl.geoaxes import GeoAxes\n",
    "\n",
    "# Provide the names of the directories where the netCDF model files are stored\n",
    "DATADIR = '/project/precis/worksheets/data/'\n",
    "\n",
    "# Directory name where data is read from\n",
    "indir = os.path.join(DATADIR, 'climatology')\n",
    "\n",
    "# load cahpa model data\n",
    "cahpa_cube = iris.load_cube(indir + '/cahpa.OND.mean.baseline.pr.mmday-1.nc')\n",
    "\n",
    "# load cahpb model data\n",
    "cahpb_cube = iris.load_cube(indir + '/cahpb.OND.mean.baseline.pr.mmday-1.nc')\n",
    "\n",
    "# load APHRODITE data\n",
    "obs_cube   = iris.load_cube(indir + '/aphro.OND.mean.baseline.pr.mmday-1.nc')"
   ]
  },
  {
   "cell_type": "markdown",
   "metadata": {},
   "source": [
    "<a id='3.1'></a>\n",
    "## 3.1 Region extraction \n",
    "\n",
    "If you have an area or region you want to focus on, you can extract data for the region of interest. This example works through how to constrain your cube by latitude and longitude.\n"
   ]
  },
  {
   "cell_type": "markdown",
   "metadata": {},
   "source": [
    "**a) Extract the area** around Kuala Lumpur for each of the three datasets, by specifiying latitude and longitude coordinates"
   ]
  },
  {
   "cell_type": "markdown",
   "metadata": {},
   "source": [
    "---\n",
    "<div class=\"alert alert-block alert-success\">\n",
    "<b>Question:</b> Sort these jumbled values into the correct latitude and longitude extent for Kuala Lumpur, then enter them into the code block below so that they can be used to extract APHRODITE's precipitation data over the city. \n",
    "    <br> 3.48\n",
    "    <br> 102.15\n",
    "    <br> 101.25\n",
    "    <br> 2.74\n",
    "</div>"
   ]
  },
  {
   "cell_type": "markdown",
   "metadata": {},
   "source": [
    "**Solution:**"
   ]
  },
  {
   "cell_type": "code",
   "execution_count": null,
   "metadata": {},
   "outputs": [],
   "source": [
    "# Enter the ordered latitude and longitude coordinates for Kuala Lumpur here:\n",
    "lon=( , ) # longitude (East - West extent)\n",
    "lat=( , ) # latuitude (South - North extent)\n"
   ]
  },
  {
   "cell_type": "markdown",
   "metadata": {},
   "source": [
    "---"
   ]
  },
  {
   "cell_type": "markdown",
   "metadata": {},
   "source": [
    "Run the code block below to extract the specified lat, lon coordinates from the **APHRODITE** dataset:"
   ]
  },
  {
   "cell_type": "code",
   "execution_count": null,
   "metadata": {},
   "outputs": [],
   "source": [
    "# Note that the Aphrodite data are on a regular grid (unlike the  model data) so real latitudes and longitudes are\n",
    "# used to define the region around KL (more on this in section 2.6)\n",
    "obs_cube_KL = obs_cube.intersection(latitude=lat, longitude=lon)\n",
    "\n",
    "# save the constrained cube to directory\n",
    "outfile = os.path.join(DATADIR, 'APHRODITE', 'aphro.pm.6190.KL.nc')\n",
    "iris.save(obs_cube_KL, outfile)"
   ]
  },
  {
   "cell_type": "markdown",
   "metadata": {},
   "source": [
    "<div class=\"alert alert-block alert-info\">\n",
    "<b>Note:</b> Recall that <b>PRECIS uses a rotated pole grid</b> for these simulations, so coordinates in the rotated pole frame of reference are required to correclty extract Kuala Lumpur from the model data.\n",
    "</div>"
   ]
  },
  {
   "cell_type": "markdown",
   "metadata": {},
   "source": [
    "__b) Extract the area around Kuala Lumpur for HadCM3Q0 (cahpa) and ECHAM5 (cahpb)__ driven simulations, we must specify the **rotated latitude and longitude coordinates**. \n",
    "\n",
    "To convert the true Kuala Lumpur coordinates onto the rotate pole frame of reference, we need know the latitude and longitude of the pole in our rotated pole coordinate system.  We can find this from the model cube:"
   ]
  },
  {
   "cell_type": "code",
   "execution_count": 73,
   "metadata": {},
   "outputs": [
    {
     "name": "stdout",
     "output_type": "stream",
     "text": [
      "Pole Latitude: 75.0\n",
      "Pole Longitude: 289.0\n"
     ]
    }
   ],
   "source": [
    "pole_lat = cahpa_cube.coord_system().grid_north_pole_latitude\n",
    "pole_lon = cahpa_cube.coord_system().grid_north_pole_longitude\n",
    "print('Pole Latitude: {}'.format(pole_lat))\n",
    "print('Pole Longitude: {}'.format(pole_lon))"
   ]
  },
  {
   "cell_type": "markdown",
   "metadata": {},
   "source": [
    "Iris provide a function to help us convert between coordinates in a rotated and non-rotated coordinate frame.  We can use this to convert our non-rotated Kuala Lumpu coordinates:"
   ]
  },
  {
   "cell_type": "code",
   "execution_count": 69,
   "metadata": {},
   "outputs": [
    {
     "name": "stdout",
     "output_type": "stream",
     "text": [
      "Rotated Longitudes: -7.92, -6.98\n",
      "Rotated Latitudes: -12.12, -11.41\n"
     ]
    }
   ],
   "source": [
    "lon=np.array([101.25, 102.15])\n",
    "lat=np.array([2.74, 3.48])\n",
    "rotated_lons, rotated_lats = iris.analysis.cartography.rotate_pole(lon, lat, pole_lon, pole_lat)\n",
    "print('Rotated Longitudes: {:.2f}, {:.2f}'.format(*rotated_lons))\n",
    "print('Rotated Latitudes: {:.2f}, {:.2f}'.format(*rotated_lats))"
   ]
  },
  {
   "cell_type": "markdown",
   "metadata": {},
   "source": [
    "Now we can run the code below to constrain the cahpa and cahpb data to Kuala Lumpur in rotate pole coordinates: "
   ]
  },
  {
   "cell_type": "code",
   "execution_count": 72,
   "metadata": {},
   "outputs": [],
   "source": [
    "# Constrain the cube area over Kuala Lumpur (KL).\n",
    "# PRECIS uses a rotated grid, so the co-ordinates required are different to real world coordinates.\n",
    "\n",
    "for jobid in ['cahpa', 'cahpb']:\n",
    "    # Directory name where data are read from and stored to\n",
    "    infile = os.path.join(DATADIR, 'netcdf', jobid, jobid + '.pm.1981_1983.pr.norim.mmday-1.nc')\n",
    "    \n",
    "    # Load the baseline precipitation data using the KL_constraint - the command below\n",
    "    # loads the data into a cube constrained by the area chosen\n",
    "    data = iris.load_cube(infile)\n",
    "    # All grid cells whose longitudes and latitudes lie within the limits shown will be selected.\n",
    "    data_KL = data.intersection(grid_longitude=rotated_lons,\n",
    "                                grid_latitude=rotated_lats)\n",
    "\n",
    "    # save the constrained cube\n",
    "    outfile = os.path.join(DATADIR, 'netcdf', jobid, jobid + '.pm.1981_1983.pr.norim.mmday-1.KL.nc')\n",
    "    iris.save(data_KL, outfile)"
   ]
  },
  {
   "cell_type": "markdown",
   "metadata": {},
   "source": [
    "---\n",
    "<div class=\"alert alert-block alert-success\">\n",
    "<b>Question:</b> How many grid cells are in the newly constrained Kuala Lumpur file?\n",
    "</div>"
   ]
  },
  {
   "cell_type": "markdown",
   "metadata": {},
   "source": [
    "**Answer:**\n",
    "*Write your answer here...*"
   ]
  },
  {
   "cell_type": "markdown",
   "metadata": {},
   "source": [
    "---"
   ]
  },
  {
   "cell_type": "markdown",
   "metadata": {},
   "source": [
    "<a id='3.2'></a>\n",
    "## 3.2 Mean annual cycle calculation\n",
    "\n",
    "Average over a given area (e.g KL) to calculate multi-annual monthly mean values. \n"
   ]
  },
  {
   "cell_type": "markdown",
   "metadata": {},
   "source": [
    "**c) We now calculate monthly mean fields** for 1961-1990 for each of the twelve months for the KL area."
   ]
  },
  {
   "cell_type": "code",
   "execution_count": null,
   "metadata": {},
   "outputs": [],
   "source": [
    "for jobid in ['cahpa', 'cahpb']:\n",
    "    # Set up the path to the data\n",
    "    infile = os.path.join(DATADIR, 'netcdf', jobid, jobid + '.pm.1981_1983.pr.norim.mmday-1.KL.nc')\n",
    "    \n",
    "    # Load the data extracted around Kuala Lumpur created in previous step\n",
    "    data = iris.load_cube(infile)\n",
    "\n",
    "    # Add monthly coord categorisation to the time dimension coordinate\n",
    "    iris.coord_categorisation.add_month_number(data, 'time', name='month_number')\n",
    "\n",
    "    # Calculate monthly mean values\n",
    "    monthly_mean = data.aggregated_by(['month_number'], iris.analysis.MEAN)\n",
    "\n",
    "    # Calculate area averaged monthly mean rainfall \n",
    "    monthly_mean = monthly_mean.collapsed(['grid_longitude', 'grid_latitude'], iris.analysis.MEAN)\n",
    "\n",
    "    # Save the area averaged monthly mean data\n",
    "    outfile = os.path.join(DATADIR, 'climatology', jobid + '.monmean.1981_1983.pr.norim.mmday-1.KL.nc')\n",
    "    iris.save(monthly_mean, outfile)"
   ]
  },
  {
   "cell_type": "markdown",
   "metadata": {},
   "source": [
    "**d) Plot the KL area averaged monthly mean precipitation** amount in mm/day for the HadCM3Q0 and ECHAM5 driven PRECIS runs."
   ]
  },
  {
   "cell_type": "code",
   "execution_count": null,
   "metadata": {},
   "outputs": [],
   "source": [
    "for jobid in ['cahpa', 'cahpb']:\n",
    "    # Load the model cube\n",
    "    inpath = os.path.join(DATADIR, 'climatology', jobid + '.monmean.1981_1983.pr.norim.mmday-1.KL.nc')\n",
    "    cube = iris.load_cube(inpath)\n",
    "    \n",
    "    # Quick line plot for each cube \n",
    "    qplt.plot(cube.coord('month_number'), cube, label=jobid)\n",
    "    plt.title('KL area averaged ' + jobid + ' monthly\\n average of daily rainfall')\n",
    "    ax = plt.gca()\n",
    "    ax.xaxis.set_label_text('Month Number')\n",
    "    ax.set_xlim(0.5, 12.5)\n",
    "    plt.show()"
   ]
  },
  {
   "cell_type": "markdown",
   "metadata": {},
   "source": [
    "---\n",
    "<div class=\"alert alert-block alert-success\">\n",
    "<b>Question:</b> Considering the plots of capha and cahpb data, note down their approximate values in mm day-1 for the following features: \n",
    "\n",
    "- Which month experiences the most rainfall? (also note the amount)\n",
    "- If a second rainfall peak exists in another season, note the month and amount,\n",
    "- Which month experiences the least rainfall? (also note the amount)\n",
    "\n",
    "What comparisons can be made about these two datasets?\n",
    "</div>"
   ]
  },
  {
   "cell_type": "markdown",
   "metadata": {},
   "source": [
    "<b>Answer:</b><br>\n",
    "    \n",
    "<b>HadCM3Q0 (cahpa)</b>\n",
    "- Most rainfall: *month, amount*\n",
    "- Secondary peak of rainfall:  *month, amount*\n",
    "- Least rainfall:  *month, amount*\n",
    "\n",
    "<b>ECHAM5 (cahpb)</b>\n",
    "- Most rainfall: *month, amount*\n",
    "- Secondary peak of rainfall:  *month, amount*\n",
    "- Least rainfall:  *month, amount*\n",
    "\n",
    "<b>How comparable are these datasets? How are they different?</b><br>\n"
   ]
  },
  {
   "cell_type": "markdown",
   "metadata": {},
   "source": [
    "---"
   ]
  },
  {
   "cell_type": "markdown",
   "metadata": {},
   "source": [
    "**e) Find the multi-annual monthly means (1961-1990) over the KL area for APHRODITE observations** by following the same methodology as above in step d)"
   ]
  },
  {
   "cell_type": "code",
   "execution_count": null,
   "metadata": {},
   "outputs": [],
   "source": [
    "# Dirctories to load and save to\n",
    "path_in = 'monthly/APHRODITE/' \n",
    "path_out = 'monthly/climatology/'\n",
    "\n",
    "# Load the KL extracted data created in previous step\n",
    "infile = os.path.join(DATADIR, 'APHRODITE', 'aphro.pm.6190.KL.nc')\n",
    "aphrod = iris.load_cube(infile)\n",
    "\n",
    "# Add monthly coord categorisation to the time dim coordinate\n",
    "iris.coord_categorisation.add_month_number(aphrod, 'time', name='month_number')\n",
    "\n",
    "# Now calculate monthly means\n",
    "aphro_monthly_mean = aphrod.aggregated_by(['month_number'], iris.analysis.MEAN)\n",
    "\n",
    "# create the area averaged monthly mean of daily rainfall \n",
    "aphro_monthly_mean = aphro_monthly_mean.collapsed(['longitude', 'latitude'], iris.analysis.MEAN)\n",
    "\n",
    "# Save output\n",
    "outfile = os.path.join(DATADIR, )\n",
    "iris.save(aphro_monthly_mean, path_out + 'aphro.monmean.baseline.05216.rr8.ext.mmday.nc')"
   ]
  },
  {
   "cell_type": "markdown",
   "metadata": {},
   "source": [
    "---\n",
    "<div class=\"alert alert-block alert-success\">\n",
    "<b>Question:</b> Plot the APHRODITE observations, compare with the HadCM3Q0 and ECHAM5 driven PRECIS runs. What are the differences between the observations and models; what months are the differences greatest?\n",
    "</div>"
   ]
  },
  {
   "cell_type": "markdown",
   "metadata": {},
   "source": [
    "<b>Answer:</b><br>\n",
    "*Write your findings here...*\n"
   ]
  },
  {
   "cell_type": "markdown",
   "metadata": {},
   "source": [
    "---"
   ]
  },
  {
   "cell_type": "markdown",
   "metadata": {},
   "source": [
    "<a id='3.3'></a>\n",
    "## 3.3 Comparing models and observations\n",
    "\n",
    "In section 2.4 we saw how to plot model output on individual maps, but for proper comparison, **spatial model and observation fields must be on the same grid.**\n",
    "\n",
    "**You should regrid to the coarsest resolution grid.** For the data used here, the observations have the coarsest resolution so we will regrid the model data onto the observation grid.\n",
    "\n",
    "Recall that the PRECIS model data are on a grid known as a **Rotated Pole** coordinate system. The idea is that the \"real\" north pole in the Arctic is shifted such that the equator relative to our rotated pole then runs through the centre of the regional model domain."
   ]
  },
  {
   "cell_type": "markdown",
   "metadata": {},
   "source": [
    "**f) Regrid the multiannual OND mean model** fields onto the observations grid.\n",
    "\n",
    "Here we use the `regrid` method to regrid the target cube. Here we will use linear interpolation. First, load in the data.\n"
   ]
  },
  {
   "cell_type": "code",
   "execution_count": null,
   "metadata": {},
   "outputs": [],
   "source": [
    "# directory where data is stored\n",
    "data_path = os.path.join(DATADIR, 'climatology')\n",
    "\n",
    "# load cahpa\n",
    "cahpa_model_cube = iris.load_cube(data_path + '/cahpa.a.OND.mean.baseline.pr.mmday-1.nc')\n",
    "# load cahpb\n",
    "cahpb_model_cube = iris.load_cube(data_path + '/cahpb.a.OND.mean.baseline.pr.mmday-1.nc')\n",
    "# load APHRODITE\n",
    "obs_cube = iris.load_cube(data_path + '/aphro.a.OND.mean.baseline.pr.mmday-1.nc')"
   ]
  },
  {
   "cell_type": "markdown",
   "metadata": {},
   "source": [
    "Before we can regrid any data, both the model and observation datasets must have a **specified coordinate system**. \n",
    "\n",
    "In this case, APHRODITE's coordinate system is missing from the original NetCDF file, but the observations are on a regular longitude-latitude grid so the correct coordinate system is [WGS84](https://epsg.io/32600/). \n",
    "\n",
    "In the code below, we define the WGS84 coordinate system and then apply it to the x- and y-axes (i.e. longitudes and latitudes) of the observations.  \n",
    "\n",
    "The coordinate system used by the model (the rotated grid) is already defined.\n"
   ]
  },
  {
   "cell_type": "code",
   "execution_count": null,
   "metadata": {
    "scrolled": true
   },
   "outputs": [],
   "source": [
    "# Define WGS84 projection for obs data\n",
    "wgs84 = iris.coord_systems.GeogCS(semi_major_axis=6378137.0, inverse_flattening=298.257223563)\n",
    "\n",
    "# Apply WGS84 to obs cube\n",
    "obs_cube.coord(axis='x').coord_system = wgs84\n",
    "obs_cube.coord(axis='y').coord_system = wgs84\n",
    "\n",
    "# Print out and compare the two coordinate systems\n",
    "print(obs_cube.coord_system())\n",
    "print(cahpa_model_cube.coord_system())"
   ]
  },
  {
   "cell_type": "markdown",
   "metadata": {},
   "source": [
    "The next few lines of code **regrid the model data from rotated pole to the regular grid used by the observations**. \n",
    "\n",
    "From the plots created in section 2.4, we know that the area covered by APHRODITE data is larger than the PRECIS model domain. Hence, the **extrapolation mode** is set to `mask` so that any grid cells on the APHRODITE grid which do not overlap with model grid cells are masked `off`; otherwise, the model data would be interpolated and would produce misleading results."
   ]
  },
  {
   "cell_type": "code",
   "execution_count": null,
   "metadata": {},
   "outputs": [],
   "source": [
    "# Regrid the climate model data onto APHRODITE grid\n",
    "cahpa_regrid = cahpa_model_cube.regrid(obs_cube, iris.analysis.Nearest(extrapolation_mode='mask'))\n",
    "cahpb_regrid = cahpb_model_cube.regrid(obs_cube, iris.analysis.Nearest(extrapolation_mode='mask'))\n",
    "\n",
    "# Save output\n",
    "iris.save(cahpa_regrid, data_path + '/cahpa.a.OND.mean.baseline.pr.mmday-1.rg.nc')\n",
    "iris.save(cahpb_regrid, data_path + '/cahpb.a.OND.mean.baseline.pr.mmday-1.rg.nc')"
   ]
  },
  {
   "cell_type": "markdown",
   "metadata": {},
   "source": [
    "Now that the model grids have been regridded to the observation cube, use the code block below to : \n",
    "<br>(i) load the NetCDF files,\n",
    "<br>(ii) then plot the APHRODITE and model data again (as in section 2.4) to compare them visually once again."
   ]
  },
  {
   "cell_type": "code",
   "execution_count": null,
   "metadata": {},
   "outputs": [],
   "source": [
    "# Directory name where data is read from\n",
    "indir = os.path.join(DATADIR, 'climatology')\n",
    "\n",
    "# load cahpa model data\n",
    "cahpa_cube = iris.load_cube(indir + '/cahpa.a.OND.mean.baseline.pr.mmday-1.rg.nc')\n",
    "\n",
    "# load cahpb model data\n",
    "cahpb_cube = iris.load_cube(indir + '/cahpb.a.OND.mean.baseline.pr.mmday-1.rg.nc')\n",
    "\n",
    "# load APHRODITE data\n",
    "obs_cube   = iris.load_cube(indir + '/aphro.a.OND.mean.baseline.pr.mmday-1.nc')\n",
    "\n",
    "# Do some plotting!\n",
    "plt.figure(figsize=(12, 10))\n",
    "\n",
    "plt.subplot(1, 3, 1)\n",
    "levels = range(0, 22, 2)\n",
    "\n",
    "\n",
    "qplt.contourf(cahpa_cube[0], levels=levels, cmap=cm.RdBu)\n",
    "plt.title('HadCM3Q0 precipitation \\n on a global longitude latitude grid')\n",
    "ax = plt.gca()                 # gca function that returns the current axes\n",
    "ax.coastlines()                # adds coastlines defined by the axes of the plot\n",
    "\n",
    "plt.subplot(1, 3, 2) \n",
    "qplt.contourf(cahpb_cube[0], levels=levels, cmap=cm.RdBu)\n",
    "plt.title('ECHAM5 precipitation \\n on a global longitude latitude grid')\n",
    "ax = plt.gca()\n",
    "ax.coastlines()\n",
    "\n",
    "plt.subplot(1, 3, 3)\n",
    "qplt.contourf(obs_cube[0], levels=levels, cmap=cm.RdBu)\n",
    "plt.title('Observational APHRODITE precipitation \\n on a coarser global longitude latitude grid')\n",
    "ax = plt.gca()\n",
    "ax.coastlines()\n",
    "plt.tight_layout()\n",
    "plt.show()"
   ]
  },
  {
   "cell_type": "markdown",
   "metadata": {},
   "source": [
    "<div class=\"alert alert-block alert-success\">\n",
    "<b>Question:</b> What differences do you see?\n",
    "</div>"
   ]
  },
  {
   "cell_type": "markdown",
   "metadata": {},
   "source": [
    "**g) Find the difference between the model and the observation OND multiannual mean** fields and plot maps to view the differences\n",
    "\n",
    "We can simply subtract the model data from the observations.  There is a subtract function within Iris but it cannot be used here.  The model cubes contain extra coordinates which are not present in the obs cube; Iris requires all coordinates within the cubes to match exactly."
   ]
  },
  {
   "cell_type": "code",
   "execution_count": null,
   "metadata": {},
   "outputs": [],
   "source": [
    "# Make sure units are the same\n",
    "obs_cube.units = cahpb_cube.units\n",
    "\n",
    "# Make recieving cube\n",
    "cahpa_obs_diff = obs_cube.copy()\n",
    "cahpb_obs_diff = obs_cube.copy()\n",
    "\n",
    "# Replace data with the differences\n",
    "cahpa_obs_diff.data = cahpa_cube.data - obs_cube.data\n",
    "\n",
    "# cahpb - aphrodite differences\n",
    "cahpb_obs_diff.data = cahpb_cube.data - obs_cube.data\n",
    "\n",
    "# Save the differences\n",
    "# iris.save(cahpa_obs_diff, data_path + 'diff.cahpa_aphro.OND.baseline.nc')\n",
    "# iris.save(cahpb_obs_diff, data_path + 'diff.cahpb_aphro.OND.baseline.nc')\n",
    "\n",
    "# Plotting\n",
    "plt.figure(figsize=(12, 10))\n",
    "plt.subplot(1, 2, 1)           # Create a new subplot for the first differences, 2 rows, 1 column, 1st plot\n",
    "\n",
    "# Only plot the region containing data. We use the intersection method to do this.\n",
    "qplt.pcolormesh(cahpa_obs_diff[0].intersection(longitude=(90, 135), latitude=(-20, 32)), \n",
    "                vmax=10, vmin=-10, \n",
    "                cmap=plt.get_cmap('RdBu')) # Note this is where cube slicing is needed as you can only plot 2-coordinate\n",
    "                               # dimensions with qplt.contourf, so here we have selected time[0] as there is only\n",
    "                               # one timestep (the baseline 1961-1990 mean)\n",
    "\n",
    "plt.title('cahpa - obs')       # plots a title for the plot\n",
    "ax = plt.gca()                 # gca function that returns the current axes\n",
    "ax.coastlines()                # adds coastlines defined by the axes of the plot\n",
    "\n",
    "plt.subplot(1, 2, 2)           # Create a new subplot for the model data 2 row, 2 columns, 2nd plot\n",
    "qplt.pcolormesh(cahpb_obs_diff[0].intersection(longitude=(90, 135), latitude=(-20, 32)),\n",
    "             vmax=10, vmin=-10,\n",
    "             cmap=plt.get_cmap('RdBu'))\n",
    "\n",
    "plt.title('cahpb - obs')       # plots a title for the plot\n",
    "ax = plt.gca()                 # gca function that returns the current axes\n",
    "ax.coastlines()                # adds coastlines defined by the axes of the plot\n",
    "\n",
    "plt.show()"
   ]
  },
  {
   "cell_type": "markdown",
   "metadata": {},
   "source": [
    "---\n",
    "<div class=\"alert alert-block alert-success\">\n",
    "<b>Questions:</b> We have now created difference plots; to more easily validate the model(s) directly against observations. \n",
    "    \n",
    "- Why has the data over the oceans disappeared?\n",
    "- Which of the two model datasets (cahpa and cahpb) has the greatest wet bias? In which region? \n",
    "- Are there any areas in cahpa or cahpb with a strong dry bias? Roughly what is the extent of this bias (in mm/day)? \n",
    "</div>"
   ]
  },
  {
   "cell_type": "markdown",
   "metadata": {},
   "source": [
    "<b>Answers</b>\n",
    "- The data over the oceans has disappeared because [...] \n",
    "\n",
    "- The greatest wet bias occus in model [...], in region [...] \n",
    "\n",
    "- A strong dry bias exists in model [...] in region [...] (roughly [...] mm/day drier than APHRODITE observations).  \n",
    "\n",
    "---"
   ]
  },
  {
   "cell_type": "markdown",
   "metadata": {},
   "source": [
    "<a id='3.4'></a>\n",
    "## 3.4 Climatological mean and annual cycle for an ensemble\n",
    "\n",
    "So far data from two models downscaled with PRECIS have been analysed. In this section we will look at some addional HadCM3 ensemble memebers and the CRU bservational data set. \n",
    "\n",
    "The CRU data are a monthly global land-only dataset (1901-present) at 0.5 degree resolution. Nine variables are available, including mean, min, max temperature and precipitation. For further details please see: http://www.cru.uea.ac.uk/~timm/grid/CRU_TS_2_1.html\n",
    "\n",
    "This gives us an ensemble of RCM data:\n",
    "\n",
    "* HadCM3Q0 (cahpa)\n",
    "* ECHAM5 (cahpb)\n",
    "* HadCM3Q3 (cahpc)\n",
    "* HadCM3Q10 (cahpd)\n",
    "* HadCM3Q11 (cahpe)\n",
    "* HadCM3Q13 (cahpf)\n",
    "\n",
    "And observational datasets:\n",
    "\n",
    "* APHRODITE\n",
    "* CRU\n",
    "\n",
    "Taking an ensemble approach allows us to account for a range of uncertainty in the model projections.\n",
    "\n",
    "Write a series of scripts to do the following:\n",
    "\n",
    "**h) Calculate the OND seasonal mean and annual cycle** (for the KL area) for 1.5m temperature and precipitation for CRU and APHRODITE observations\n",
    "\n",
    "**i) Calculate OND seasonal-mean and monthly-mean anomalies** for the KL area for the 4 additional HadCM3Q ensemble members (cahpc, cahpd, cahpe & cahpf)\n",
    "\n",
    "**j) Plot a series of figures** that shows 1) the monthly cycles of temperature and rainfall comparing the 6 models and the observations; and 2) the monthly differences between the models and observations"
   ]
  },
  {
   "cell_type": "code",
   "execution_count": null,
   "metadata": {},
   "outputs": [],
   "source": [
    "'''\n",
    "Here are some useful varibles  you might like to use in your scripts\n",
    "'''\n",
    "# Some helpful data locations\n",
    "DATADIR = '/project/precis/worksheets/data'\n",
    "APHRODIR = os.path.join(DATADIR, 'APHRODITE')\n",
    "CRUDIR = os.path.join(DATADIR, 'CRU')\n",
    "CLIMDIR = os.path.join(DATADIR, 'climatology')\n",
    "MODELDIR = os.path.join(DATADIR, 'netcdf')\n",
    "\n",
    "# Some helpful model variables\n",
    "JOBID = ['cahpa', 'cahpb', 'cahpc', 'cahpd', 'cahpe', 'cahpf']\n",
    "STASHCODES = ['03236', '05216'] # 03236 = temperature, 05216 = precipitation\n",
    "\n",
    "# Kuala Lumpur domains...\n",
    "# ... in roatated pole coordinates\n",
    "grid_longitude=(-8.17, -7.43)\n",
    "grid_latitude=(-12.10, -11.38)\n",
    "# ... in true lat-lon coordiates\n",
    "longitude=(101.25, 102.15)\n",
    "latitude=(2.74, 3.48)"
   ]
  },
  {
   "cell_type": "code",
   "execution_count": null,
   "metadata": {},
   "outputs": [],
   "source": [
    "'''\n",
    "h) Calculate the OND seasonal-mean and monthly-mean 1.5m temperature and precipitation \n",
    "for the KL area, for CRU and APHRODITE observations\n",
    "'''\n",
    "# Load APHRODITE data\n",
    "\n",
    "# Load CRU data\n",
    "\n",
    "# Extract KL area\n",
    "\n",
    "# Add OND season catagorisation\n",
    "\n",
    "# Add monthly catagorisation\n",
    "\n",
    "# Extract season\n",
    "\n",
    "# Aggregate cubes\n",
    "\n",
    "# Find KL area average\n",
    "\n",
    "# Check and add cube metadata\n",
    "\n",
    "# Save cubes to CLIMDIR\n",
    "# Remember to use the same naming convention we used earlier\n"
   ]
  },
  {
   "cell_type": "code",
   "execution_count": null,
   "metadata": {},
   "outputs": [],
   "source": [
    "'''\n",
    "i) Calculate OND seasonal-mean and monthly-mean anomalies for the KL area \n",
    "for the 4 additional HadCM3Q ensemble members (cahpc, cahpd, cahpe & cahpf)\n",
    "'''\n",
    "# Load ensemble members\n",
    "# Remember you need to do this for both precipitation AND temperature\n",
    "\n",
    "# Regrid ensemble members onto observational grid\n",
    "# Remember you need to check your model and obs cubes have the appropriate coordinate systems defined\n",
    "\n",
    "# Extract the KL area. Remember you are now working in true lat-lon coordinates!\n",
    "\n",
    "# Find OND and monthly means\n",
    "\n",
    "# Calculate model anomalies\n",
    "# Remember temp anomaly   = model - CRU data\n",
    "#          precip anomaly = model - APHRO data\n",
    "\n",
    "# Check cube metadata consitency and save\n"
   ]
  },
  {
   "cell_type": "markdown",
   "metadata": {},
   "source": [
    "---\n",
    "<div class=\"alert alert-block alert-success\">\n",
    "    <b>Question:</b> What difference would it make if we first extracted the KL area and <em>then</em> regrid the models? <br> \n",
    "Which order is best for preserving data integrity?\n",
    "</div>"
   ]
  },
  {
   "cell_type": "markdown",
   "metadata": {},
   "source": [
    "<b>Answer:</b><br> \n",
    "\n",
    "---"
   ]
  },
  {
   "cell_type": "markdown",
   "metadata": {},
   "source": [
    "Create four figures:\n",
    "    \n",
    "    i) the monthly cycle of temperature (model and observations) \n",
    "    ii) the monthly cyce of rainfall (model and observations)\n",
    "    iii) the monthly temperature anomaly for each model\n",
    "    iv) the monthly precipitation anomaly for each model"
   ]
  },
  {
   "cell_type": "code",
   "execution_count": null,
   "metadata": {},
   "outputs": [],
   "source": [
    "'''\n",
    "Plot 1: The monthly cycle of temperature (model and observations)\n",
    "'''\n"
   ]
  },
  {
   "cell_type": "code",
   "execution_count": null,
   "metadata": {},
   "outputs": [],
   "source": [
    "'''\n",
    "Plot 2: The monthly cycle of precipitation (model and observations)\n",
    "'''\n"
   ]
  },
  {
   "cell_type": "code",
   "execution_count": null,
   "metadata": {},
   "outputs": [],
   "source": [
    "'''\n",
    "Plot 3: The monthly temperature anomaly for each model\n",
    "'''\n"
   ]
  },
  {
   "cell_type": "code",
   "execution_count": null,
   "metadata": {},
   "outputs": [],
   "source": [
    "'''\n",
    "Plot 4: The monthly precipitation anomaly for each model\n",
    "'''\n"
   ]
  },
  {
   "cell_type": "markdown",
   "metadata": {},
   "source": [
    "---\n",
    "<div class=\"alert alert-block alert-success\">\n",
    "    <b>Question:</b> How could you summarise the ensemble variability amongst model members in a plot?\n",
    "</div>"
   ]
  },
  {
   "cell_type": "markdown",
   "metadata": {},
   "source": [
    "<b>Answer:</b><br> \n",
    "    "
   ]
  },
  {
   "cell_type": "markdown",
   "metadata": {},
   "source": [
    "<div class=\"alert alert-block alert-success\">\n",
    "    <b>Question:</b> How does the monthly temperature and precipitation anomaly compare to the OND average?\n",
    "</div>"
   ]
  },
  {
   "cell_type": "markdown",
   "metadata": {},
   "source": [
    "<b>Answer:</b><br> \n",
    "    "
   ]
  },
  {
   "cell_type": "markdown",
   "metadata": {},
   "source": [
    "<div class=\"alert alert-block alert-success\">\n",
    "<b>Question:</b> What are the advantages and disadvantages of plotting spatial maps of temperature and rainfall variability over Kuala Lumpur?\n",
    "</div>"
   ]
  },
  {
   "cell_type": "markdown",
   "metadata": {},
   "source": [
    "<b>Answer:</b><br> \n",
    "\n",
    "---"
   ]
  },
  {
   "cell_type": "markdown",
   "metadata": {},
   "source": [
    "\n",
    "<div class=\"alert alert-block alert-warning\">\n",
    "<center><b>This completes worksheet 3.</b></center><br>\n",
    "    You have used Python and Iris to validate the model's climatology (30 years of baseline data: 1961-1990) against observations, in order to analyse the model's capability of representing real-world trends. <br>\n",
    "To do so, you have:\n",
    "    \n",
    "- calculated and plotted multiannual seasonal and monthly mean data,\n",
    "- regridded rotated pole model data to a regular latitude-longitude grid,\n",
    "- created difference plots to compare model data with observations, and \n",
    "- written your own code to do all of these post-processing and analysis tasks with an multi-model ensemble!<br>\n",
    "\n",
    "In worksheet 4, you will consider future model projections and their changes with respect to the baseline period (calculated in this worksheet).\n",
    "</div>"
   ]
  },
  {
   "cell_type": "markdown",
   "metadata": {},
   "source": [
    "<center>© Crown Copyright 2018, Met Office </center>"
   ]
  }
 ],
 "metadata": {
  "kernelspec": {
   "display_name": "Python 3",
   "language": "python",
   "name": "python3"
  },
  "language_info": {
   "codemirror_mode": {
    "name": "ipython",
    "version": 3
   },
   "file_extension": ".py",
   "mimetype": "text/x-python",
   "name": "python",
   "nbconvert_exporter": "python",
   "pygments_lexer": "ipython3",
   "version": "3.6.6"
  },
  "widgets": {
   "state": {},
   "version": "1.1.2"
  }
 },
 "nbformat": 4,
 "nbformat_minor": 1
}
