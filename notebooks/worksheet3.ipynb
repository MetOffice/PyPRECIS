{
 "cells": [
  {
   "cell_type": "markdown",
   "metadata": {},
   "source": [
    "# Worksheet 3: Thresholds and climate statistics\n",
    "The following exercises demonstrate analysis of moderate extremes in climate simulated using\n",
    "PRECIS. As with the other worksheets, these are just examples of some of the analysis that you\n",
    "might perform using packages such as Python and and the python Library IRIS."
   ]
  },
  {
   "cell_type": "markdown",
   "metadata": {},
   "source": [
    "<div class=\"alert alert-block alert-warning\">\n",
    "<b>By the end of this worksheet you should be able to:</b><br> \n",
    "- Have an appreciation for working with daily model data <br>\n",
    "- Understand how to calculate useful climate statistics<br>\n",
    "- Compare model ouput against oberved data sets<br>\n",
    "</div>"
   ]
  },
  {
   "cell_type": "markdown",
   "metadata": {},
   "source": [
    "## Contents\n",
    "### [3.1: Frequency of Wet days](#3.1) \n",
    "### [3.2: Calculating percentiles](#3.2)"
   ]
  },
  {
   "cell_type": "markdown",
   "metadata": {},
   "source": [
    "## Preamble"
   ]
  },
  {
   "cell_type": "code",
   "execution_count": null,
   "metadata": {},
   "outputs": [],
   "source": [
    "# Code preamble - these libraries will be used in this worksheet.\n",
    "# This code block needs to be re-run every time you restart this worksheet!\n",
    "%matplotlib inline \n",
    "import os\n",
    "import iris\n",
    "import iris.coord_categorisation\n",
    "import iris.quickplot as qplt\n",
    "import iris.plot as iplt\n",
    "import cartopy.crs as ccrs\n",
    "import cartopy.feature as cfeature\n",
    "import matplotlib.pyplot as plt\n",
    "import numpy as np\n",
    "import dask\n",
    "dask.config.set(get=dask.get)\n",
    "import dask.array as da\n",
    "from iris.analysis import Aggregator\n",
    "\n",
    "# /data/users/ssadri/pyprecis/monthly\n",
    "# Some helpful data locations\n",
    "DATADIR = '/project/precis/worksheets/data'\n",
    "APHRODIR = os.path.join(DATADIR, 'APHRODITE')\n",
    "CRUDIR = os.path.join(DATADIR, 'CRU')\n",
    "CLIMDIR = os.path.join(DATADIR, 'climatology')\n",
    "MODELDIR = os.path.join(DATADIR, 'netcdf')\n",
    "JOBIDS = ['cahpa', 'cahpb']\n",
    "TIME_PERIODS = {'baseline':'1981_1983', 'future':'2021_2050'}"
   ]
  },
  {
   "cell_type": "markdown",
   "metadata": {},
   "source": [
    "<div class=\"alert alert-block alert-success\">\n",
    "    <b>Question:</b> Thinking about climate extremes, what model <b>averaging period</b> should we be using for our data analysis? <br>\n",
    "    How do we identify this model avergaing period in the model output <b>filenames</b>?\n",
    "</div>"
   ]
  },
  {
   "cell_type": "markdown",
   "metadata": {},
   "source": [
    "<a id='3.1'></a>\n",
    "## 3.1 Frequency of wet days\n",
    "\n",
    "Start by finding the frequency of wet days using daily data For both ___cahpa___ and ___cahpb___.  Calculate the number of days in both the baseline and future periods which are wet days - a wet day is defined as having precipitation >=1 mm/day.  Then calculate the percentage of wet days.\n"
   ]
  },
  {
   "cell_type": "code",
   "execution_count": null,
   "metadata": {},
   "outputs": [],
   "source": [
    "# For each day: Is rainfall >= 1? True/False\n",
    "# Sum over all days to get number of wet days at each grid point\n",
    "# Do for both model runs and time periods\n",
    "# Then calcuate the percentage of wet days\n",
    "\n",
    "# Define a new aggregator to help count non-zero days\n",
    "count_nonzero = Aggregator('count', None,\n",
    "                           units_func=lambda units: 1,\n",
    "                           lazy_func=da.count_nonzero)\n",
    "\n",
    "for runid in JOBIDS:\n",
    "    for period in TIME_PERIODS.keys():\n",
    "        # Get path to daily data\n",
    "        infile = os.path.join(MODELDIR, runid, f'{runid}.pa.{TIME_PERIODS[period]}.pr.*.nc')\n",
    "        data = iris.load_cube(infile)\n",
    "        # Use of a custom aggregator that uses dask array to reduce memory load\n",
    "        model_wetdays = data.collapsed('time', count_nonzero)\n",
    "        # Save collapsed cube to netcdf\n",
    "        outfile = os.path.join(CLIMDIR, f'{runid}.pa.{TIME_PERIODS[period]}.wetday.nc')\n",
    "        iris.save(model_wetdays, outfile)        \n",
    "        # Find wet days as a percentage of total days\n",
    "        total_days = data.coord('time').shape[0]  # Note that this is a 360 day calendar!\n",
    "        model_pcent_wetdays = iris.analysis.maths.divide(iris.analysis.maths.multiply(model_wetdays, 100), total_days)\n",
    "        # Save output\n",
    "        outfile = os.path.join(CLIMDIR, f'{runid}.pa.{TIME_PERIODS[period]}.wetday.pcent.nc')\n",
    "        iris.save(model_pcent_wetdays, outfile)"
   ]
  },
  {
   "cell_type": "markdown",
   "metadata": {},
   "source": [
    "\n",
    "Calculate numbers of wet days and percentage of wet days from the ___APHRODITE___ observations. This is an observational dataset for 1951-2015. There are 10957 days in the ___APHRODITE___ data which uses a real (365.25 day) calendar.\n"
   ]
  },
  {
   "cell_type": "code",
   "execution_count": null,
   "metadata": {},
   "outputs": [],
   "source": [
    "infile = os.path.join(APHRODIR, 'aphro.day.1981_1983.nc')\n",
    "obs = iris.load_cube(infile, 'daily precipitation analysis interpolated onto 0.25deg grids [mm/day]')\n",
    "# Find number of days in dataset\n",
    "number_aphro_days = len(obs.coord('time').points)\n",
    "# Find number of wet days\n",
    "obs_wetdays = obs.collapsed('time', count_nonzero)\n",
    "# Save ouput\n",
    "outfile = os.path.join(CLIMDIR, 'aphro.wetday.nc')\n",
    "iris.save(obs_wetdays, outfile)\n",
    "# Find wet days percent\n",
    "obs_pcent_wetdays = iris.analysis.maths.divide(iris.analysis.maths.multiply(obs_wetdays, 100), number_aphro_days)\n",
    "outfile = os.path.join(CLIMDIR, 'aphro.wetday.pcent.nc')\n",
    "iris.save(obs_pcent_wetdays, outfile)"
   ]
  },
  {
   "cell_type": "markdown",
   "metadata": {},
   "source": [
    "<div class=\"alert alert-block alert-success\">\n",
    "    <b>Question:</b> Are there any additional considerations that have to be made with daily data? <br>\n",
    "    From a coding perspective, how does working with daily data compare to working with monthly data?\n",
    "</div>"
   ]
  },
  {
   "cell_type": "markdown",
   "metadata": {},
   "source": [
    "### Plotting"
   ]
  },
  {
   "cell_type": "code",
   "execution_count": null,
   "metadata": {},
   "outputs": [],
   "source": [
    "# Plot modelled and observed numbers of wet days and percentages of wet days\n",
    "# Create a figure of the size 12x12 inches for plots\n",
    "fig = plt.figure(figsize=(12, 12))\n",
    "\n",
    "# Read in the percentage differences in precipitation between the models and obs, and plot them.\n",
    "for n, runid in enumerate(JOBIDS):\n",
    "    # Load baseline data\n",
    "    infile = os.path.join(CLIMDIR, f'{runid}.pa.1981_1983.wetday.nc')\n",
    "    nwetdays = iris.load_cube(infile)\n",
    "    plotnum = 1 + n*2\n",
    "    ax1 = fig.add_subplot(2, 2, n+1, projection=ccrs.PlateCarree())\n",
    "    iplt.pcolormesh(nwetdays, vmin=0, vmax=number_aphro_days)\n",
    "    plt.title(runid + ' number of wet days')\n",
    "    ax1.coastlines()             # adds coastlines defined by the axes of the plot\n",
    "    ax1.gridlines()              # adds x and y grid lines to the plot\n",
    "    ax1.grid(True)\n",
    "    ax1.set_extent([80,150,-15,40])\n",
    "\n",
    "# Plot APHRODITE data\n",
    "infile = os.path.join(CLIMDIR, 'aphro.wetday.nc')\n",
    "obs_nwetdays = iris.load_cube(infile)\n",
    "fig.add_subplot(2, 2, 4, projection=ccrs.PlateCarree())\n",
    "qplt.pcolormesh(obs_nwetdays, vmin=0, vmax=number_aphro_days)\n",
    "plt.title('Observed number of wet days')\n",
    "ax = plt.gca()              # gca function that returns the current axes\n",
    "ax.coastlines()             # adds coastlines defined by the axes of the plot\n",
    "ax.gridlines()              # adds x and y grid lines to the plot\n",
    "\n",
    "plt.tight_layout()          # automatically adjusts subplot(s) to fit in to the figure area\n",
    "plt.show()"
   ]
  },
  {
   "cell_type": "markdown",
   "metadata": {},
   "source": [
    "Calculate the difference in modelled future and baseline wet day frequency and also modelled baseline and\n",
    "observation wet day frequency."
   ]
  },
  {
   "cell_type": "code",
   "execution_count": null,
   "metadata": {},
   "outputs": [],
   "source": [
    "# Load percentage of wet days data for the APHRODITE observations\n",
    "infile = os.path.join(CLIMDIR, 'aphro.wetday.pcent.nc')\n",
    "obs = iris.load_cube(infile)\n",
    "# Add coordinate system information to facilitate regridding later\n",
    "wgs84_cs = iris.coord_systems.GeogCS(6371229.0) \n",
    "obs.coord('latitude').coord_system = wgs84_cs \n",
    "obs.coord('longitude').coord_system = wgs84_cs\n",
    "\n",
    "# The observed rainfall data have been created using surface rain gauges, and so are only available\n",
    "# over land points.  Define a mask to remove sea points. The mask is True for masked points.\n",
    "mask = np.where(obs.data > 0.0, False, True)\n",
    "\n",
    "# Redefine the data array of the obs as a masked array.\n",
    "obs.data = np.ma.array(obs.data, mask=mask)\n",
    "\n",
    "# Define regridding method\n",
    "scheme = iris.analysis.Linear(extrapolation_mode='mask')\n",
    "\n",
    "for runid in JOBIDS:\n",
    "    infile = os.path.join(CLIMDIR, f'{runid}.pa.{TIME_PERIODS[\"baseline\"]}.wetday.pcent.nc')\n",
    "    model_baseline = iris.load_cube(infile)\n",
    "    infile = os.path.join(CLIMDIR, f'{runid}.pa.{TIME_PERIODS[\"future\"]}.wetday.pcent.nc')\n",
    "    model_future = iris.load_cube(infile)\n",
    "    # In order to compare the modelled and observed numbers of wet days,\n",
    "    # need to regrid the percentage differences from the model to the APHRODITE grid\n",
    "    model_baseline_rg = model_baseline.regrid(obs, scheme)\n",
    "    model_future_rg = model_future.regrid(obs, scheme)\n",
    "\n",
    "    # Find the difference between futue and baseline models\n",
    "    diff_model = iris.analysis.maths.subtract(model_future_rg, model_baseline_rg)\n",
    "    outfile = os.path.join(CLIMDIR, f'{runid}.wetday.pcent.diff.nc')\n",
    "    iris.save(diff_model, outfile)\n",
    "\n",
    "    # Subtract the observed percentages of wet days from the modelled percentages\n",
    "    diff_mod_obs = obs.copy()\n",
    "    diff_mod_obs.data = model_baseline_rg.data - obs.data\n",
    "    outfile = os.path.join(CLIMDIR, f'{runid}.wetday.pcent.obs_diff.nc')\n",
    "    iris.save(diff_mod_obs, outfile)"
   ]
  },
  {
   "cell_type": "markdown",
   "metadata": {},
   "source": [
    "Plot the difference in the percentage of wet day frequency between the models and observations.  The model domain is smaller than the observations domain, so we select the model domain when plotting using the `cube.intersection` method.\n"
   ]
  },
  {
   "cell_type": "code",
   "execution_count": null,
   "metadata": {},
   "outputs": [],
   "source": [
    "# Create a figure of the size 12x12 inches\n",
    "plt.figure(figsize=(12, 12))\n",
    "\n",
    "# Read in the percentage differences in precipitation between the models and obs, and plot them.\n",
    "\n",
    "for n, runid in enumerate(JOBIDS):\n",
    "    infile = os.path.join(CLIMDIR, f'{runid}.wetday.pcent.diff.nc')\n",
    "    pcent_diff = iris.load_cube(infile)\n",
    "    plt.subplot(2, 2, n+1)\n",
    "    qplt.pcolormesh(pcent_diff.intersection(longitude=(90, 137), latitude=(-20, 32)), \n",
    "                    vmax=10, vmin=-10, cmap='BrBG')\n",
    "    plt.title(runid + ' precip difference (model-obs, %)')\n",
    "    ax = plt.gca()\n",
    "    ax.coastlines()\n",
    "\n",
    "for n, runid in enumerate(JOBIDS):\n",
    "    infile = os.path.join(CLIMDIR, f'{runid}.wetday.pcent.obs_diff.nc')\n",
    "    pcent_diff = iris.load_cube(infile)\n",
    "    plt.subplot(2, 2, n+3)\n",
    "    qplt.pcolormesh(pcent_diff.intersection(longitude=(90, 137), latitude=(-20, 32)), \n",
    "                    vmax=20, vmin=-20, cmap='BrBG')\n",
    "    plt.title(runid + ' precip change (fut-base, %)')\n",
    "    ax = plt.gca()\n",
    "    ax.coastlines()\n",
    "\n",
    "plt.tight_layout()\n",
    "plt.show()"
   ]
  },
  {
   "cell_type": "markdown",
   "metadata": {},
   "source": [
    "<a id='3.2'></a>\n",
    "## 3.2. Calculating percentiles\n",
    "\n",
    "Calculate in mm/day the baseline (1961-1990) and future (2021-2050) 95th percentile of precipitation. Do this for cahpa, cahpb and also for APHRODITE baseline\n"
   ]
  },
  {
   "cell_type": "code",
   "execution_count": null,
   "metadata": {},
   "outputs": [],
   "source": [
    "for runid in JOBIDS:\n",
    "    for t in TIME_PERIODS.keys():\n",
    "        infile = os.path.join(MODELDIR, runid, f'{runid}.pa.{TIME_PERIODS[t]}.pr.norim.mmday-1.nc')\n",
    "        model_precip = iris.load_cube(infile)\n",
    "        model_pc95 = model_precip.collapsed('time', iris.analysis.PERCENTILE, percent=95.0)\n",
    "        outfile = os.path.join(CLIMDIR, f'{runid}.pa.pc95.{TIME_PERIODS[t]}.pr.norim.mmday-1.nc')\n",
    "        iris.save(model_pc95, outfile)"
   ]
  },
  {
   "cell_type": "code",
   "execution_count": null,
   "metadata": {},
   "outputs": [],
   "source": [
    "# Repeat for the APHRODITE data\n",
    "# Define a mask to remove the sea points, as there are no observations over the sea.\n",
    "infile = os.path.join(CLIMDIR, 'aphro.wetday.nc')\n",
    "obs_wetday_no = iris.load_cube(infile)\n",
    "mask = np.where(obs_wetday_no.data > 0.0, False, True)\n",
    "\n",
    "infile = os.path.join(APHRODIR, 'aphro.day.1981_1983.nc')\n",
    "obs_precip = iris.load_cube(infile, 'daily precipitation analysis interpolated onto 0.25deg grids [mm/day]')\n",
    "obs_pc95 = obs_precip.collapsed('time', iris.analysis.PERCENTILE, percent=95.0)\n",
    "\n",
    "# Redefine the data array of pc95 as a masked array.\n",
    "obs_pc95.data = np.ma.array(obs_pc95.data, mask=mask)\n",
    "outfile = os.path.join(CLIMDIR, 'aphro.pc95.1981_1983.mmday-1.nc')\n",
    "iris.save(obs_pc95, outfile)"
   ]
  },
  {
   "cell_type": "markdown",
   "metadata": {},
   "source": [
    "\n",
    "Calculate the difference between the future and baseline, and baseline and APHRODITE observations 95th percentiles of precipitation.\n"
   ]
  },
  {
   "cell_type": "code",
   "execution_count": null,
   "metadata": {},
   "outputs": [],
   "source": [
    "# Load aphrodite data\n",
    "infile = os.path.join(CLIMDIR, 'aphro.pc95.1981_1983.mmday-1.nc')\n",
    "obs_cube = iris.load_cube(infile)\n",
    "obs_cube.coord('latitude').coord_system = wgs84_cs \n",
    "obs_cube.coord('longitude').coord_system = wgs84_cs\n",
    "\n",
    "# Define regridding method\n",
    "scheme = iris.analysis.Linear(extrapolation_mode='mask')\n",
    "\n",
    "for runid in JOBIDS:\n",
    "    # First, calculate the difference between the modelled future and baseline 95th percentiles\n",
    "    infile = os.path.join(CLIMDIR, f'{runid}.pa.pc95.1981_1983.pr.norim.mmday-1.nc')\n",
    "    model_base = iris.load_cube(infile)\n",
    "    infile = os.path.join(CLIMDIR, f'{runid}.pa.pc95.2021_2050.pr.norim.mmday-1.nc')\n",
    "    model_fut = iris.load_cube(infile)\n",
    "    diff = iris.analysis.maths.subtract(model_fut, model_base)\n",
    "    outfile = os.path.join(CLIMDIR, f'{runid}.pa.pc95.diff.pr.mmday-1.nc')\n",
    "    iris.save(diff, outfile)\n",
    "\n",
    "    # Next, calculate the differences between the modelled baseline and observed 95th percentiles\n",
    "    # To compare the model and observations, the model data need to be regridded\n",
    "    model_base_rg = model_base.regrid(obs_cube, scheme)\n",
    "    diff_mod_obs = obs_cube.copy()\n",
    "    diff_mod_obs.data = model_base_rg.data - obs_cube.data\n",
    "\n",
    "    outfile = os.path.join(CLIMDIR, f'{runid}.pa.pc95.obs_diff.pr.mmday-1.nc')\n",
    "    iris.save(diff_mod_obs, outfile)"
   ]
  },
  {
   "cell_type": "markdown",
   "metadata": {},
   "source": [
    "Plot the differences in the 95th percentiles between the models and observations, and the future changes in the 95th percentiles of precipitation from both models."
   ]
  },
  {
   "cell_type": "code",
   "execution_count": null,
   "metadata": {
    "scrolled": false
   },
   "outputs": [],
   "source": [
    "# Create a figure of the size 12x12 inches\n",
    "plt.figure(figsize=(12, 12))\n",
    "\n",
    "# Read in the percentage differences in precipitation between the models and obs, and plot them.\n",
    "for n, runid in enumerate(JOBIDS):\n",
    "    infile = os.path.join(CLIMDIR, f'{runid}.pa.pc95.obs_diff.pr.mmday-1.nc')\n",
    "    pc95_diff = iris.load_cube(infile)\n",
    "    plt.subplot(2, 2, n+1)\n",
    "    qplt.pcolormesh(pc95_diff.intersection(longitude=(90, 137), latitude=(-20, 32)), \n",
    "                    vmax=30, vmin=-30, cmap='BrBG')\n",
    "    plt.title(runid + ' 95th percentile precip diff (model-obs, mm day-1)')\n",
    "    ax = plt.gca()              # gca function that returns the current axes\n",
    "    ax.coastlines()             # adds coastlines defined by the axes of the plot\n",
    "\n",
    "    infile = os.path.join(CLIMDIR, f'{runid}.pa.pc95.diff.pr.mmday-1.nc')\n",
    "    pc95_diff = iris.load_cube(infile)\n",
    "    plt.subplot(2, 2, n+3)\n",
    "    qplt.pcolormesh(pc95_diff, vmax=10, vmin=-10, cmap='BrBG')\n",
    "    plt.title(runid + ' 95th percentile precip diff (fut-base, mm day-1)')\n",
    "    ax = plt.gca()              # gca function that returns the current axes\n",
    "    ax.coastlines()             # adds coastlines defined by the axes of the plot\n",
    "\n",
    "plt.tight_layout()\n",
    "plt.show()"
   ]
  },
  {
   "cell_type": "markdown",
   "metadata": {},
   "source": [
    "© Crown Copyright 2018, Met Office"
   ]
  }
 ],
 "metadata": {
  "kernelspec": {
   "display_name": "Python 3",
   "language": "python",
   "name": "python3"
  },
  "language_info": {
   "codemirror_mode": {
    "name": "ipython",
    "version": 3
   },
   "file_extension": ".py",
   "mimetype": "text/x-python",
   "name": "python",
   "nbconvert_exporter": "python",
   "pygments_lexer": "ipython3",
   "version": "3.6.6"
  },
  "widgets": {
   "state": {},
   "version": "1.1.2"
  }
 },
 "nbformat": 4,
 "nbformat_minor": 2
}
