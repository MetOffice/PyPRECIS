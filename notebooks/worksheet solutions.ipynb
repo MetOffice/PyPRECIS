{
 "cells": [
  {
   "cell_type": "markdown",
   "metadata": {},
   "source": [
    "# Worksheet Solutions"
   ]
  },
  {
   "cell_type": "markdown",
   "metadata": {},
   "source": [
    "## 2.2c"
   ]
  },
  {
   "cell_type": "code",
   "execution_count": null,
   "metadata": {},
   "outputs": [],
   "source": [
    "cahpbData.convert_units('kg m-2 day-1')\n",
    "cahpbData.units = 'mm day-1'\n",
    "cahpbData.remove_coord('forecast_period')\n",
    "cahpbData.remove_coord('forecast_reference_time')\n",
    "iris.save(cahpbData, path_in_cahpb + 'cahpb.pm.1981_1983.pr.norim.mmday-1.nc')"
   ]
  },
  {
   "cell_type": "markdown",
   "metadata": {},
   "source": [
    "## 2.3e"
   ]
  },
  {
   "cell_type": "code",
   "execution_count": null,
   "metadata": {},
   "outputs": [],
   "source": [
    "infile = os.path.join(DATADIR, 'APHRODITE', 'aphro.mon.6190.nc')\n",
    "aphro_cube = iris.load_cube(infile)\n",
    "iris.coord_categorisation.add_season(aphro_cube, 'time', name='seasons', seasons=('jfmamjjas','ond'))\n",
    "aphro_cube_ond = aphro_cube.extract(iris.Constraint(seasons='ond'))\n",
    "seasonal_aphro_mean = aphro_cube_ond.aggregated_by(['seasons'], iris.analysis.MEAN)\n",
    "aphro_outfile = os.path.join(outdir, 'aphro.OND.mean.baseline.pr.mmday-1.nc')\n",
    "iris.save(seasonal_aphro_mean, aphro_outfile)\n",
    "print('APHRODITE: \\n{}'.format(seasonal_aphro_mean))"
   ]
  },
  {
   "cell_type": "markdown",
   "metadata": {},
   "source": [
    "# 3.1a"
   ]
  },
  {
   "cell_type": "code",
   "execution_count": null,
   "metadata": {},
   "outputs": [],
   "source": [
    "# Solution: \n",
    "lon=(101.25, 102.15)\n",
    "lat=(2.74, 3.48)"
   ]
  }
 ],
 "metadata": {
  "kernelspec": {
   "display_name": "Python 3",
   "language": "python",
   "name": "python3"
  },
  "language_info": {
   "codemirror_mode": {
    "name": "ipython",
    "version": 3
   },
   "file_extension": ".py",
   "mimetype": "text/x-python",
   "name": "python",
   "nbconvert_exporter": "python",
   "pygments_lexer": "ipython3",
   "version": "3.6.6"
  }
 },
 "nbformat": 4,
 "nbformat_minor": 2
}
