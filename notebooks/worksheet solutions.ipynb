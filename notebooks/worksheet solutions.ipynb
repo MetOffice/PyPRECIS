{
 "cells": [
  {
   "cell_type": "markdown",
   "metadata": {},
   "source": [
    "# Worksheet Solutions"
   ]
  },
  {
   "cell_type": "markdown",
   "metadata": {},
   "source": [
    "## 2.2c"
   ]
  },
  {
   "cell_type": "code",
   "execution_count": null,
   "metadata": {},
   "outputs": [],
   "source": [
    "cahpbData.convert_units('kg m-2 day-1')\n",
    "cahpbData.units = 'mm day-1'\n",
    "cahpbData.remove_coord('forecast_period')\n",
    "cahpbData.remove_coord('forecast_reference_time')\n",
    "outfile = os.path.join(DATADIR, 'historical', 'cahpb.mon.1961_1990.pr.rr.mmday-1.nc')\n",
    "iris.save(cahpbData, outfile)"
   ]
  },
  {
   "cell_type": "markdown",
   "metadata": {},
   "source": [
    "## 2.3e"
   ]
  },
  {
   "cell_type": "code",
   "execution_count": null,
   "metadata": {},
   "outputs": [],
   "source": [
    "infile = os.path.join(DATADIR, 'APHRODITE', 'aphro.mon.1961_1990.nc')\n",
    "aphro_cube = iris.load_cube(infile)\n",
    "iris.coord_categorisation.add_season(aphro_cube, 'time', name='seasons', seasons=('jfmamjjas','ond'))\n",
    "aphro_cube_ond = aphro_cube.extract(iris.Constraint(seasons='ond'))\n",
    "seasonal_aphro_mean = aphro_cube_ond.aggregated_by(['seasons'], iris.analysis.MEAN)\n",
    "aphro_outfile = os.path.join(outdir, 'aphro.OND.mean.1961_1990.pr.mmday-1.nc')\n",
    "iris.save(seasonal_aphro_mean, aphro_outfile)\n",
    "print('APHRODITE: \\n{}'.format(seasonal_aphro_mean))"
   ]
  },
  {
   "cell_type": "markdown",
   "metadata": {},
   "source": [
    "# 3.1a"
   ]
  },
  {
   "cell_type": "code",
   "execution_count": null,
   "metadata": {},
   "outputs": [],
   "source": [
    "# Solution: \n",
    "lon=(101.25, 102.15)\n",
    "lat=(2.74, 3.48)"
   ]
  },
  {
   "cell_type": "markdown",
   "metadata": {},
   "source": [
    "# 3.2e part 1"
   ]
  },
  {
   "cell_type": "code",
   "execution_count": null,
   "metadata": {},
   "outputs": [],
   "source": [
    "# Load the KL extracted data created in previous step\n",
    "infile = os.path.join(DATADIR, 'APHRODITE', 'aphro.mon.1961_1990.KL.nc')\n",
    "aphro = iris.load_cube(infile)\n",
    "\n",
    "# Add monthly coord categorisation to the time dim coordinate\n",
    "iris.coord_categorisation.add_month_number(aphro, 'time', name='month_number')\n",
    "\n",
    "# Now calculate monthly means\n",
    "aphro_monthly_mean = aphro.aggregated_by(['month_number'], iris.analysis.MEAN)\n",
    "\n",
    "# create the area averaged monthly mean of daily rainfall\n",
    "grid_areas = iris.analysis.cartography.area_weights(aphro_monthly_mean)\n",
    "aphro_monthly_mean = aphro_monthly_mean.collapsed(['longitude', 'latitude'], iris.analysis.MEAN, weights=grid_areas)\n",
    "\n",
    "# Save output\n",
    "outfile = os.path.join(DATADIR, 'climatology', 'aphro.mon.mean.1961_1990.mmday-1.nc')\n",
    "iris.save(aphro_monthly_mean, outfile)\n",
    "print('Saved: {}'.format(outfile))"
   ]
  },
  {
   "cell_type": "markdown",
   "metadata": {},
   "source": [
    "# 3.2e part 2"
   ]
  },
  {
   "cell_type": "code",
   "execution_count": null,
   "metadata": {},
   "outputs": [],
   "source": [
    "# Quick line plot for each cube \n",
    "qplt.plot(aphro_monthly_mean.coord('month_number'), aphro_monthly_mean, label=jobid)\n",
    "plt.title('KL area averaged Aphrodite \\n monthly average of daily rainfall')\n",
    "ax = plt.gca()\n",
    "ax.xaxis.set_label_text('Month Number')\n",
    "ax.set_xlim(0.5, 12.5)\n",
    "ax.set_ylim(3, 10)\n",
    "plt.show()"
   ]
  },
  {
   "cell_type": "markdown",
   "metadata": {},
   "source": [
    "# 3.3f"
   ]
  },
  {
   "cell_type": "code",
   "execution_count": null,
   "metadata": {},
   "outputs": [],
   "source": [
    "# Directory name where data is read from\n",
    "indir = os.path.join(DATADIR, 'climatology')\n",
    "\n",
    "# load cahpa model data\n",
    "cahpa_cube = iris.load_cube(indir + '/cahpa.OND.mean.1961_1990.pr.mmday-1.rg.nc')\n",
    "\n",
    "# load cahpb model data\n",
    "cahpb_cube = iris.load_cube(indir + '/cahpb.OND.mean.1961_1990.pr.mmday-1.rg.nc')\n",
    "\n",
    "# load APHRODITE data\n",
    "obs_cube   = iris.load_cube(indir + '/aphro.OND.mean.1961_1990.pr.mmday-1.nc')\n",
    "\n",
    "# Do some plotting!\n",
    "plt.figure(figsize=(12, 10))\n",
    "\n",
    "plt.subplot(1, 3, 1)\n",
    "levels = range(0, 22, 2)\n",
    "\n",
    "\n",
    "qplt.contourf(cahpa_cube[0], levels=levels, cmap=cm.Blues)\n",
    "plt.title('HadCM3Q0 precipitation \\n on a global longitude latitude grid')\n",
    "ax = plt.gca()                 # gca function that returns the current axes\n",
    "ax.coastlines()                # adds coastlines defined by the axes of the plot\n",
    "\n",
    "plt.subplot(1, 3, 2) \n",
    "qplt.contourf(cahpb_cube[0], levels=levels, cmap=cm.Blues)\n",
    "plt.title('ECHAM5 precipitation \\n on a global longitude latitude grid')\n",
    "ax = plt.gca()\n",
    "ax.coastlines()\n",
    "\n",
    "plt.subplot(1, 3, 3)\n",
    "qplt.contourf(obs_cube[0], levels=levels, cmap=cm.Blues)\n",
    "plt.title('Observational APHRODITE precipitation \\n on a coarser global longitude latitude grid')\n",
    "ax = plt.gca()\n",
    "ax.coastlines()\n",
    "plt.tight_layout()\n",
    "plt.show()"
   ]
  },
  {
   "cell_type": "markdown",
   "metadata": {},
   "source": [
    "# 4.2c"
   ]
  },
  {
   "cell_type": "code",
   "execution_count": null,
   "metadata": {},
   "outputs": [],
   "source": [
    "time_periods = {'historical':'1961_1990', 'future':'2021_2050'}\n",
    "\n",
    "for jobid in JOBIDS:\n",
    "    for period in time_periods.keys():\n",
    "        # Load the data:\n",
    "        infile = os.path.join(DATADIR, period, jobid + '.mon.' + time_periods[period] + '.tm.rr.K.nc')\n",
    "        data = iris.load_cube(infile)\n",
    "        # In order to calculate OND mean, add a season coordinate, seperating OND from the other months:  \n",
    "        iris.coord_categorisation.add_season(data, 'time', name='seasons', seasons=('jfmamjjas','ond'))\n",
    "\n",
    "        # Extract the data for the OND season only:\n",
    "        data_ond = data.extract(iris.Constraint(seasons='ond'))\n",
    "        \n",
    "        # Now calculate the mean over the OND season:\n",
    "        ond_mean = data_ond.aggregated_by(['seasons'], iris.analysis.MEAN)\n",
    "        \n",
    "        # Convert the units from Kelvin to Celsius:\n",
    "        ond_mean.convert_units('celsius')\n",
    "        \n",
    "        outfile = os.path.join(CLIMDIR, jobid + '.OND.mean.' + time_periods[period] + '.tm.C.nc')\n",
    "        # save the OND mean as a netCDF ('outfile' specifies the output file name for your OND mean cube):\n",
    "        iris.save(ond_mean, outfile)\n",
    "        print('Saved: {}'.format(outfile))"
   ]
  },
  {
   "cell_type": "markdown",
   "metadata": {},
   "source": [
    "# 4.4h"
   ]
  },
  {
   "cell_type": "code",
   "execution_count": null,
   "metadata": {},
   "outputs": [],
   "source": [
    "# Read in the land-sea mask. \n",
    "# The cube data array has a mask associated with it which we'll use to mask out ocean points.\n",
    "land_sea_mask = iris.load_cube(DATADIR + '/landmask.nc')\n",
    "\n",
    "for jobid in JOBIDS:\n",
    "    # Read in original data for baseline and future\n",
    "    baselinepath = os.path.join(HISTDIR, jobid + '.mon.1961_1990.tm.rr.C.nc')\n",
    "    futurepath = os.path.join(FUTRDIR, jobid + '.mon.2021_2050.tm.rr.C.nc')\n",
    "    baseline = iris.load_cube(baselinepath)\n",
    "    future = iris.load_cube(futurepath)\n",
    "    \n",
    "    # Apply land mask\n",
    "    baseline.data = ma.array(baseline.data, mask=baseline.data*land_sea_mask.data.mask[np.newaxis, :,:])\n",
    "    future.data = ma.array(future.data, mask=future.data*land_sea_mask.data.mask[np.newaxis, :,:])\n",
    "\n",
    "    # Guess bounds\n",
    "    for cube in [baseline, future]:\n",
    "        for coord in ['grid_longitude', 'grid_latitude']:\n",
    "            cube.coord(coord).guess_bounds()\n",
    "    \n",
    "    # Calculate mean values over land points\n",
    "    baseline_land = baseline.collapsed(['grid_longitude', 'grid_latitude'], iris.analysis.MEAN,\n",
    "                                      weights = iris.analysis.cartography.area_weights(baseline))\n",
    "    future_land = future.collapsed(['grid_longitude', 'grid_latitude'], iris.analysis.MEAN,\n",
    "                                  weights = iris.analysis.cartography.area_weights(future))\n",
    "\n",
    "    # Save future & baseline area averaged monthly data (time series)\n",
    "    baselineout = os.path.join(CLIMDIR, jobid + '.mon.1961_1990.series.tm.C.nc')\n",
    "    futureout = os.path.join(CLIMDIR, jobid + '.mon.2021_2050.series.tm.C.nc')\n",
    "    iris.save(baseline_land, baselineout)\n",
    "    iris.save(future_land, futureout)\n",
    "\n",
    "    # Subtract baseline from future\n",
    "    diff = future_land.copy()\n",
    "    diff.data = future_land.data - baseline_land.data.mean()\n",
    "    diff.rename('future anomaly relative to mean historical temperature')\n",
    "\n",
    "    # Save the area averaged monthly differences (time series)\n",
    "    outpath = os.path.join(CLIMDIR, jobid + '.mon.2021_2050.anom.series.tm.C.nc')\n",
    "    iris.save(diff, outpath)\n",
    "    print('Saved: {}'.format(outpath))"
   ]
  },
  {
   "cell_type": "code",
   "execution_count": null,
   "metadata": {},
   "outputs": [],
   "source": [
    "# Read in the monthly series\n",
    "cahpa = iris.load_cube(CLIMDIR + '/cahpa.mon.2021_2050.anom.series.tm.C.nc')\n",
    "cahpb = iris.load_cube(CLIMDIR + '/cahpb.mon.2021_2050.anom.series.tm.C.nc')\n",
    "time = cahpa.coord('time')\n",
    "\n",
    "# Plot the two model time series' on the same figure\n",
    "plt.figure(figsize=(16,5))\n",
    "iplt.plot(time, cahpa, label = 'cahpa')\n",
    "iplt.plot(time, cahpb, label = 'cahpb')\n",
    "plt.legend()\n",
    "plt.suptitle('2021-2050 Temperature anomaly (relative to 1961-1990)')\n",
    "plt.ylabel('Temperture change ({})'.format(cahpa.units))\n",
    "plt.xlabel('Years')\n",
    "plt.show()"
   ]
  },
  {
   "cell_type": "markdown",
   "metadata": {},
   "source": [
    "# 5.1b"
   ]
  },
  {
   "cell_type": "code",
   "execution_count": null,
   "metadata": {},
   "outputs": [],
   "source": [
    "# Load APHRODITE daily precipitation data:\n",
    "infile = os.path.join(APHRODIR, 'aphro.day.1961_1990.nc')\n",
    "obs = iris.load_cube(infile, 'daily precipitation analysis interpolated onto 0.25deg grids [mm/day]')\n",
    "# Find number of days in dataset\n",
    "number_aphro_days = len(obs.coord('time').points)\n",
    "# Find number of wet days\n",
    "obs_wetdays = obs.collapsed('time', count_nonzero)\n",
    "obs_wetdays.rename('Aphrodite number of wet days (>=1mm/day) 1961-1990')\n",
    "# Save ouput\n",
    "outfile = os.path.join(CLIMDIR, 'aphro.wetday.nc')\n",
    "iris.save(obs_wetdays, outfile)\n",
    "print('Saved: {}'.format(outfile))\n",
    "\n",
    "# Find wet days percent\n",
    "obs_pcent_wetdays = iris.analysis.maths.divide(iris.analysis.maths.multiply(obs_wetdays, 100), number_aphro_days)\n",
    "obs_pcent_wetdays.rename('Aphrodite percentage of wet days (>=1mm/day) 1961-1990')\n",
    "outfile = os.path.join(CLIMDIR, 'aphro.wetday.pcent.nc')\n",
    "iris.save(obs_pcent_wetdays, outfile)\n",
    "print('Saved: {}'.format(outfile))"
   ]
  },
  {
   "cell_type": "markdown",
   "metadata": {},
   "source": [
    "# 5.1e"
   ]
  },
  {
   "cell_type": "code",
   "execution_count": null,
   "metadata": {},
   "outputs": [],
   "source": [
    "pcent_change_subset = pcent_change.intersection(longitude=(90, 137), \n",
    "                                                    latitude=(-20, 32))"
   ]
  }
 ],
 "metadata": {
  "kernelspec": {
   "display_name": "Python 3",
   "language": "python",
   "name": "python3"
  },
  "language_info": {
   "codemirror_mode": {
    "name": "ipython",
    "version": 3
   },
   "file_extension": ".py",
   "mimetype": "text/x-python",
   "name": "python",
   "nbconvert_exporter": "python",
   "pygments_lexer": "ipython3",
   "version": "3.6.6"
  }
 },
 "nbformat": 4,
 "nbformat_minor": 2
}
