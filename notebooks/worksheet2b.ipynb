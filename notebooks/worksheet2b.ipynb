{
 "cells": [
  {
   "cell_type": "markdown",
   "metadata": {},
   "source": [
    "# Worksheet 2b: Creating future climate scenarios and analysing change\n",
    "\n",
    "The following exercises demonstrate analyses of changes in climate simulated using two PRECIS\n",
    "experiments (driven by HadCM3Q0 and ECHAM5.) As with worksheet 2a, these are just examples\n",
    "of some of the analyses that you might perform using Python and Iris.\n",
    "\n",
    "Note: The data used here has been processed in the same way as Worksheet 1. The 8 point-rim\n",
    "has been removed and it has been converted from PP to netCDF format."
   ]
  },
  {
   "cell_type": "code",
   "execution_count": null,
   "metadata": {
    "collapsed": true
   },
   "outputs": [],
   "source": [
    "# Ensure you have iris 1.10 or greater\n",
    "import iris\n",
    "import iris.coord_categorisation\n",
    "import iris.quickplot as qplt\n",
    "import matplotlib.pyplot as plt\n",
    "import numpy as np\n",
    "\n",
    "iris.FUTURE.netcdf_no_unlimited = True\n",
    "iris.FUTURE.netcdf_promote = True\n",
    "\n",
    "# Show plots in-line\n",
    "%matplotlib inline "
   ]
  },
  {
   "cell_type": "markdown",
   "metadata": {},
   "source": [
    "## 2b.1 Calculate OND mean precipitation\n",
    "First, we calculate OND mean precipitation for (a) the HadCM3Q0-driven PRECIS simulation (cahpa) and (b) the ECHAM5-driven simulation (cahpb):"
   ]
  },
  {
   "cell_type": "code",
   "execution_count": null,
   "metadata": {
    "collapsed": false
   },
   "outputs": [],
   "source": [
    "ROOTDIR = '/data/users/hsteptoe/pyprecis/monthly/' #this need to be set to the final agreed data location\n",
    "path_in_cahpa = \"practise_ppfilesmonthly/cahpa/05216/\"\n",
    "PATH_CLIM = ROOTDIR + 'climatology/' \n",
    "\n",
    "jobids = ['cahpa', 'cahpb']\n",
    "\n",
    "for jobid in jobids:\n",
    "    path_in = ROOTDIR + jobid + '/05216/'\n",
    "    data = iris.load_cube(path_in + jobid + 'a.pm.2150.05216.rr8.mmday.nc')\n",
    "\n",
    "    # in order to calculate OND mean, we divide the months into two seasons: \n",
    "    # one for OND and a second for the remaining months\n",
    "    iris.coord_categorisation.add_season(data, 'time', name='seasons', seasons=('jfmamjjas','ond'))\n",
    "\n",
    "    # Extract the data for the OND season only\n",
    "    data_ond = data.extract(iris.Constraint(seasons='ond'))\n",
    "\n",
    "    # Now calculate the mean over the OND season\n",
    "    future_ond_mean = data_ond.aggregated_by(['seasons'], iris.analysis.MEAN)\n",
    "\n",
    "    # save the OND mean as a netCDF\n",
    "    iris.save(future_ond_mean, PATH_CLIM + jobid + 'a.OND.mean.future.05216.mmday.nc')\n",
    "    print('{} saved to {}').format(jobid, PATH_CLIM)"
   ]
  },
  {
   "cell_type": "markdown",
   "metadata": {},
   "source": [
    "Within the loop, we have created two cubes. This is the seasonal OND constrained cube:"
   ]
  },
  {
   "cell_type": "code",
   "execution_count": null,
   "metadata": {
    "collapsed": false
   },
   "outputs": [],
   "source": [
    "print data_ond"
   ]
  },
  {
   "cell_type": "markdown",
   "metadata": {},
   "source": [
    " And this is the seasonal OND mean cube for the future period 2021-2050:"
   ]
  },
  {
   "cell_type": "code",
   "execution_count": null,
   "metadata": {
    "collapsed": false
   },
   "outputs": [],
   "source": [
    "print future_ond_mean"
   ]
  },
  {
   "cell_type": "markdown",
   "metadata": {},
   "source": [
    "Remember that the loop has created and saved two cubes, one for each jobid"
   ]
  },
  {
   "cell_type": "markdown",
   "metadata": {},
   "source": [
    "## 2b.2 Find OND anomalies\n",
    "Next, we subtract the baseline mean from the future for OND to get the change in precipitation (or anomly) from both simulations.  The changes are also converted to percentages:"
   ]
  },
  {
   "cell_type": "code",
   "execution_count": null,
   "metadata": {
    "collapsed": false
   },
   "outputs": [],
   "source": [
    "for jobid in jobids:\n",
    "    # Load the baseline cube\n",
    "    OND_baseline = iris.load_cube(PATH_CLIM + jobid + 'a.OND.mean.baseline.05216.mmday.nc')\n",
    "    # Set the correct units\n",
    "    OND_baseline.units = \"mm day-1\"\n",
    "    # Load the future cube\n",
    "    OND_future = iris.load_cube(PATH_CLIM + jobid + 'a.OND.mean.future.05216.mmday.nc')\n",
    "    # Subtract the baseline cube from the future cube\n",
    "    diff = iris.analysis.maths.subtract(OND_future, OND_baseline)\n",
    "    # Save the resulting cube\n",
    "    iris.save(diff, PATH_CLIM + jobid + 'a.OND.mean.diff.05216.nc')\n",
    "    # Find the percentage change\n",
    "    pcent_change = iris.analysis.maths.multiply(iris.analysis.maths.divide(diff, OND_baseline), 100)\n",
    "    # And save this too\n",
    "    iris.save(pcent_change, PATH_CLIM + jobid + 'a.OND.mean.diff.05216.perc.nc')\n",
    "    print('{} saved to: {}'.format(jobid, PATH_CLIM))"
   ]
  },
  {
   "cell_type": "markdown",
   "metadata": {},
   "source": [
    "Repeat the calculations above for **temperature**. First, we calculate the OND mean temperatures:"
   ]
  },
  {
   "cell_type": "code",
   "execution_count": null,
   "metadata": {
    "collapsed": false
   },
   "outputs": [],
   "source": [
    "time_periods = {'baseline':'6190', 'future':'2150'}\n",
    "\n",
    "for jobid in jobids:\n",
    "    for period in time_periods.keys():\n",
    "        path_in = ROOTDIR + jobid + '/03236/'\n",
    "        # Load the data\n",
    "        data = iris.load_cube(path_in + jobid + 'a.pm.' + time_periods[period] + '.03236.rr8.nc')\n",
    "        \n",
    "        # in order to calculate OND mean, we divide the months into two seasons, \n",
    "        # one for OND and a second for the remaining months\n",
    "        iris.coord_categorisation.add_season(data, 'time', name='seasons', seasons=('jfmamjjas','ond'))\n",
    "\n",
    "        # Extract the data for the OND season only\n",
    "        data_ond = data.extract(iris.Constraint(seasons='ond'))\n",
    "\n",
    "        # Now calculate the mean over the OND season\n",
    "        ond_mean = data_ond.aggregated_by(['seasons'], iris.analysis.MEAN)\n",
    "        ond_mean.convert_units('celsius')\n",
    "\n",
    "        # save the OND mean as a netCDF\n",
    "        iris.save(ond_mean, PATH_CLIM + jobid + 'a.OND.mean.' + time_periods[period] + '.03236.nc')\n",
    "        print('{}:{} saved to {} directory'.format(jobid, period, PATH_CLIM))"
   ]
  },
  {
   "cell_type": "markdown",
   "metadata": {},
   "source": [
    "Next, we calculate the differences between the baseline and future periods."
   ]
  },
  {
   "cell_type": "code",
   "execution_count": null,
   "metadata": {
    "collapsed": false
   },
   "outputs": [],
   "source": [
    "for jobid in jobids:\n",
    "    OND_baseline = iris.load_cube(PATH_CLIM + jobid + 'a.OND.mean.baseline.03236.nc')\n",
    "    OND_future = iris.load_cube(PATH_CLIM + jobid + 'a.OND.mean.future.03236.nc')\n",
    "    diff = iris.analysis.maths.subtract(OND_future, OND_baseline)\n",
    "    iris.save(diff, PATH_CLIM + jobid + 'a.OND.mean.diff.03236.nc')\n",
    "    print('{} saved to {}'.format(jobid, PATH_CLIM))"
   ]
  },
  {
   "cell_type": "markdown",
   "metadata": {},
   "source": [
    "## 2b.3 Plot precipitation and temperature\n",
    "\n",
    "Plot changes to precipitation (in %) and temperature (in deg.C)"
   ]
  },
  {
   "cell_type": "code",
   "execution_count": null,
   "metadata": {
    "collapsed": false
   },
   "outputs": [],
   "source": [
    "# Create a figure of the size 12x12 inches\n",
    "plt.figure(figsize=(12, 12))\n",
    "\n",
    "# Read in the percentage changes in precipitation\n",
    "for n, jobid in enumerate(jobids):\n",
    "    pcent_change = iris.load_cube(PATH_CLIM + jobid + 'a.OND.mean.diff.05216.perc.nc')\n",
    "    degc_change = iris.load_cube(PATH_CLIM + jobid + 'a.OND.mean.diff.03236.nc')\n",
    "\n",
    "    # Remove extra time dimension\n",
    "    pcent_change = iris.util.squeeze(pcent_change)\n",
    "    degc_change = iris.util.squeeze(degc_change)\n",
    "    \n",
    "    plot_num = n*2 + 1\n",
    "    plt.subplot(2, 2, plot_num) # Create a new subplot with 2 rows, 2 columns, 1st plot\n",
    "    qplt.pcolormesh(pcent_change, vmax=30, vmin=-30, cmap='BrBG')\n",
    "    plt.title(jobid + ' precipitation change (%)')\n",
    "    ax = plt.gca()              # gca function that returns the current axes\n",
    "    ax.coastlines()             # adds coastlines defined by the axes of the plot\n",
    "    ax.gridlines()              # adds x and y grid lines to the plot\n",
    "\n",
    "    plt.subplot(2, 2, plot_num+1)\n",
    "    qplt.pcolormesh(degc_change, vmax=2.5, vmin=0, cmap='Reds')\n",
    "    plt.title(jobid + ' temperature change ($\\degree$C)')\n",
    "    ax = plt.gca()\n",
    "    ax.coastlines()\n",
    "    ax.gridlines()\n",
    "\n",
    "plt.tight_layout()          # automatically adjusts subplot(s) to fit in to the figure area\n",
    "plt.show()"
   ]
  },
  {
   "cell_type": "markdown",
   "metadata": {},
   "source": [
    "## 2b.4 Future time series\n",
    "\n",
    "Calculate and then plot a 2021-2050 monthly time series of precipitation anomalies for land\n",
    "points only relative to the 1961-1990 baseline monthly mean. Do this for both cahpa and cahpb.\n"
   ]
  },
  {
   "cell_type": "code",
   "execution_count": null,
   "metadata": {
    "collapsed": false,
    "scrolled": true
   },
   "outputs": [],
   "source": [
    "# Read in the land-sea mask. \n",
    "# The cube data array has a mask associated with it which we'll use to mask out ocean points.\n",
    "land_sea_mask = iris.load_cube('../data/landmask.nc')\n",
    "\n",
    "for jobid in jobids:\n",
    "    # Read in original data for baseline and future\n",
    "    path_in = ROOTDIR + jobid + '/05216/'\n",
    "    baseline = iris.load_cube(path_in + jobid + 'a.pm.6190.05216.rr8.mmday.nc')\n",
    "    future = iris.load_cube(path_in + jobid + 'a.pm.2150.05216.rr8.mmday.nc')\n",
    "    \n",
    "\n",
    "    # Apply land mask. Probably not most efficient method. baseline / future data arrays are changed to masked type\n",
    "    baseline.data = ma.array(baseline.data, mask=baseline.data*land_sea_mask.data.mask[np.newaxis, :,:])\n",
    "    future.data = ma.array(future.data, mask=future.data*land_sea_mask.data.mask[np.newaxis, :,:])\n",
    "\n",
    "    # Calculate mean values over land points\n",
    "    baseline_land = baseline.collapsed(['grid_longitude', 'grid_latitude'], iris.analysis.MEAN)\n",
    "    future_land = future.collapsed(['grid_longitude', 'grid_latitude'], iris.analysis.MEAN)\n",
    "\n",
    "    # Save the area averaged monthly differences\n",
    "    iris.save(baseline_land, PATH_CLIM + jobid + 'a.baseline.tseries.05216.nc')\n",
    "    iris.save(future_land, PATH_CLIM + jobid + 'a.future.tseries.05216.nc')\n",
    "\n",
    "    # Subtract baseline from future and save\n",
    "    diff = future_land.copy()\n",
    "    diff.data = future_land.data - baseline_land.data\n",
    "\n",
    "    # Save the area averaged monthly differences\n",
    "    iris.save(diff, PATH_CLIM + jobid + 'a.future.tseries.diff.05216.nc')\n",
    "    print 'The cube has been saved to ' + PATH_CLIM + jobid + 'a.future.tseries.diff.05216.nc'"
   ]
  },
  {
   "cell_type": "markdown",
   "metadata": {},
   "source": [
    "Plot the precipitation anomalies of cahpa and cahpb"
   ]
  },
  {
   "cell_type": "code",
   "execution_count": null,
   "metadata": {
    "collapsed": false
   },
   "outputs": [],
   "source": [
    "path_clim = \"/data/users/ssadri/pyprecis/monthly/climatology/\"\n",
    "\n",
    "# Read in the monthly series\n",
    "cahpa = iris.load_cube(path_clim + 'cahpaa.future.tseries.diff.05216.nc')\n",
    "cahpb = iris.load_cube(path_clim + 'cahpba.future.tseries.diff.05216.nc')\n",
    "\n",
    "# Plot the two series on the same figure\n",
    "cahpa_plot = qplt.plot(cahpa,color = 'blue' ,  label = 'cahpa')\n",
    "print \"time serries plot for: cahpa\"\n",
    "qplt.show()\n",
    "cahpb_plot = qplt.plot(cahpb, color = 'blue',  label = 'cahpb')\n",
    "print \"time serries plot for: cahpb\"\n",
    "qplt.show()"
   ]
  }
 ],
 "metadata": {
  "kernelspec": {
   "display_name": "Python 2",
   "language": "python",
   "name": "python2"
  },
  "language_info": {
   "codemirror_mode": {
    "name": "ipython",
    "version": 2
   },
   "file_extension": ".py",
   "mimetype": "text/x-python",
   "name": "python",
   "nbconvert_exporter": "python",
   "pygments_lexer": "ipython2",
   "version": "2.7.12"
  },
  "widgets": {
   "state": {},
   "version": "1.1.2"
  }
 },
 "nbformat": 4,
 "nbformat_minor": 0
}
