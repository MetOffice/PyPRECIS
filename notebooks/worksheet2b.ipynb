{
 "cells": [
  {
   "cell_type": "markdown",
   "metadata": {},
   "source": [
    "# Worksheet 2b: Creating future climate scenarios and analysing change\n",
    "\n",
    "The following exercises demonstrate analyses of changes in climate simulated using two PRECIS\n",
    "experiments (driven by HadCM3Q0 and ECHAM5.) As with worksheet 2a, these are just examples\n",
    "of some of the analyses that you might perform using Python and Iris."
   ]
  },
  {
   "cell_type": "markdown",
   "metadata": {},
   "source": [
    "<div class=\"alert alert-block alert-info\">\n",
    "<b>Note:</b> As in Worksheet 2a, The data used here has been processed in the same way as Worksheet 1. The 8 point-rim\n",
    "has been removed and it has been converted from PP to netCDF format.</div>"
   ]
  },
  {
   "cell_type": "markdown",
   "metadata": {},
   "source": [
    "## Contents\n",
    "### [2.8: Calculate future OND mean precipitation](#2.8) \n",
    "### [2.9: Find OND anomalies](#2.9)\n",
    "### [2.10: Plot precipitation and temperature](#2.10)\n",
    "### [2.11: Future time series](#2.11)"
   ]
  },
  {
   "cell_type": "markdown",
   "metadata": {},
   "source": [
    "## Preamble"
   ]
  },
  {
   "cell_type": "code",
   "execution_count": null,
   "metadata": {},
   "outputs": [],
   "source": [
    "# Code preamble - these libraries will be used in this worksheet.\n",
    "# This code block needs to be re-run every time you restart this worksheet!\n",
    "%matplotlib inline \n",
    "import os\n",
    "import iris\n",
    "import iris.coord_categorisation\n",
    "from iris.experimental.equalise_cubes import equalise_attributes\n",
    "import iris.quickplot as qplt\n",
    "import matplotlib.pyplot as plt\n",
    "import numpy as np\n",
    "import numpy.ma as ma\n",
    "\n",
    "# /data/users/ssadri/pyprecis/monthly\n",
    "# Some helpful data locations\n",
    "DATADIR = '/project/precis/worksheets/data'\n",
    "APHRODIR = os.path.join(DATADIR, 'APHRODITE')\n",
    "CRUDIR = os.path.join(DATADIR, 'CRU')\n",
    "CLIMDIR = os.path.join(DATADIR, 'climatology')\n",
    "MODELDIR = os.path.join(DATADIR, 'netcdf')\n",
    "JOBIDS = ['cahpa', 'cahpb']"
   ]
  },
  {
   "cell_type": "markdown",
   "metadata": {},
   "source": [
    "<a id='2.8'></a>\n",
    "## 2.8 Calculate future OND mean precipitation\n",
    "First, we calculate future OND mean precipitation for the period 2021-2051 for the HadCM3Q0-driven PRECIS simulation (cahpa) and the ECHAM5-driven simulation (cahpb):"
   ]
  },
  {
   "cell_type": "code",
   "execution_count": null,
   "metadata": {},
   "outputs": [],
   "source": [
    "for jobid in JOBIDS:\n",
    "    infile = os.path.join(MODELDIR, jobid, jobid + '.pm.2021_2050.pr.norim.mmday-1.nc')\n",
    "    data = iris.load_cube(infile)\n",
    "\n",
    "    # in order to calculate OND mean, we divide the months into two seasons: \n",
    "    # one for OND and a second for the remaining months\n",
    "    iris.coord_categorisation.add_season(data, 'time', name='seasons', seasons=('jfmamjjas','ond'))\n",
    "\n",
    "    # Extract the data for the OND season only\n",
    "    data_ond = data.extract(iris.Constraint(seasons='ond'))\n",
    "\n",
    "    # Now calculate the mean over the OND season\n",
    "    future_ond_mean = data_ond.aggregated_by(['seasons'], iris.analysis.MEAN)\n",
    "\n",
    "    # save the OND mean as a netCDF\n",
    "    outfile = os.path.join(CLIMDIR, jobid + '.OND.mean.future.pr.mmday-1.nc')\n",
    "    iris.save(future_ond_mean, outfile)"
   ]
  },
  {
   "cell_type": "markdown",
   "metadata": {},
   "source": [
    "Within the loop, we have created two cubes. This is the seasonal OND constrained cube:"
   ]
  },
  {
   "cell_type": "code",
   "execution_count": null,
   "metadata": {},
   "outputs": [],
   "source": [
    "data_ond"
   ]
  },
  {
   "cell_type": "markdown",
   "metadata": {},
   "source": [
    " And this is the seasonal OND mean cube for the future period 2021-2050:"
   ]
  },
  {
   "cell_type": "code",
   "execution_count": null,
   "metadata": {},
   "outputs": [],
   "source": [
    "future_ond_mean"
   ]
  },
  {
   "cell_type": "markdown",
   "metadata": {},
   "source": [
    "Remember that the loop has created and saved two cubes, one for each jobid."
   ]
  },
  {
   "cell_type": "markdown",
   "metadata": {},
   "source": [
    "<a id='2.9'></a>\n",
    "## 2.9 Find OND anomalies\n",
    "Next, we subtract the baseline mean from the future for OND to get the change in precipitation (or anomly) from both simulations.  The changes are also converted to percentages:"
   ]
  },
  {
   "cell_type": "code",
   "execution_count": null,
   "metadata": {},
   "outputs": [],
   "source": [
    "for jobid in JOBIDS:\n",
    "    # Load the baseline cube\n",
    "    infile = os.path.join(CLIMDIR, jobid + '.a.OND.mean.baseline.pr.mmday-1.nc')\n",
    "    OND_baseline = iris.load_cube(infile)\n",
    "    # Set the correct units\n",
    "    OND_baseline.units = \"mm day-1\"\n",
    "    # Load the future cube\n",
    "    infile = os.path.join(CLIMDIR, jobid + '.a.OND.mean.future.pr.mmday-1.nc')\n",
    "    OND_future = iris.load_cube(infile)\n",
    "    # Subtract the baseline cube from the future cube\n",
    "    diff = iris.analysis.maths.subtract(OND_future, OND_baseline)\n",
    "    # Save the resulting cube\n",
    "    outfile = os.path.join(CLIMDIR, jobid + '.a.OND.mean.diff.pr.mmday-1.nc')\n",
    "    iris.save(diff, outfile)\n",
    "    # Find the percentage change\n",
    "    pcent_change = iris.analysis.maths.multiply(iris.analysis.maths.divide(diff, OND_baseline), 100)\n",
    "    # And save this too\n",
    "    outfile = os.path.join(CLIMDIR, jobid + '.OND.mean.diffperc.pr.mmday-1.nc')\n",
    "    iris.save(pcent_change, outfile)"
   ]
  },
  {
   "cell_type": "markdown",
   "metadata": {},
   "source": [
    "Repeat the calculations above for **temperature**. First, we calculate the OND mean temperatures:"
   ]
  },
  {
   "cell_type": "code",
   "execution_count": null,
   "metadata": {},
   "outputs": [],
   "source": [
    "time_periods = {'baseline':'1981_1983', 'future':'2021_2050'}\n",
    "\n",
    "for jobid in JOBIDS:\n",
    "    for period in time_periods.keys():\n",
    "        # Load the data\n",
    "        infile = os.path.join(MODELDIR, jobid, jobid + '.pm.' + time_periods[period] + '.tm.norim.K.nc')\n",
    "        data = iris.load_cube(infile)\n",
    "        \n",
    "        # In order to calculate OND mean, we divide the months into two seasons, \n",
    "        # one for OND and a second for the remaining months\n",
    "        iris.coord_categorisation.add_season(data, 'time', name='seasons', seasons=('jfmamjjas','ond'))\n",
    "\n",
    "        # Extract the data for the OND season only\n",
    "        data_ond = data.extract(iris.Constraint(seasons='ond'))\n",
    "\n",
    "        # Now calculate the mean over the OND season\n",
    "        ond_mean = data_ond.aggregated_by(['seasons'], iris.analysis.MEAN)\n",
    "        ond_mean.convert_units('celsius')\n",
    "\n",
    "        # save the OND mean as a netCDF\n",
    "        outfile = os.path.join(CLIMDIR, jobid + '.OND.mean.' + period + '.tm.C.nc')\n",
    "        iris.save(ond_mean, outfile)"
   ]
  },
  {
   "cell_type": "markdown",
   "metadata": {},
   "source": [
    "Next, we calculate the differences between the baseline and future periods."
   ]
  },
  {
   "cell_type": "code",
   "execution_count": null,
   "metadata": {},
   "outputs": [],
   "source": [
    "for jobid in JOBIDS:\n",
    "    baselinefile = os.path.join(CLIMDIR, jobid + '.a.OND.mean.baseline.tm.C.nc')\n",
    "    futurefile = os.path.join(CLIMDIR, jobid + '.a.OND.mean.future.tm.C.nc')\n",
    "    OND_baseline = iris.load_cube(baselinefile)\n",
    "    OND_future = iris.load_cube(futurefile)\n",
    "    diff = iris.analysis.maths.subtract(OND_future, OND_baseline)\n",
    "    # Save\n",
    "    outfile = os.path.join(CLIMDIR, jobid + '.OND.mean.diff.tm.C.nc')\n",
    "    iris.save(diff, outfile)"
   ]
  },
  {
   "cell_type": "markdown",
   "metadata": {},
   "source": [
    "<a id='2.10'></a>\n",
    "## 2.10 Plot precipitation and temperature\n",
    "\n",
    "Plot changes to precipitation (in %) and temperature (in deg.C)"
   ]
  },
  {
   "cell_type": "code",
   "execution_count": null,
   "metadata": {},
   "outputs": [],
   "source": [
    "# Create a figure of the size 12x12 inches\n",
    "plt.figure(figsize=(12, 12))\n",
    "\n",
    "# Read in the percentage changes in precipitation\n",
    "for n, jobid in enumerate(JOBIDS):\n",
    "    prpath = os.path.join(CLIMDIR, jobid + '.OND.mean.diffperc.pr.mmday-1.nc')\n",
    "    tmpath = os.path.join(CLIMDIR, jobid + '.OND.mean.diff.tm.C.nc')\n",
    "    pcent_change = iris.load_cube(prpath)\n",
    "    degc_change = iris.load_cube(tmpath)\n",
    "\n",
    "    # Remove extra time dimension\n",
    "    pcent_change = iris.util.squeeze(pcent_change)\n",
    "    degc_change = iris.util.squeeze(degc_change)\n",
    "    \n",
    "    plot_num = n*2 + 1\n",
    "    plt.subplot(2, 2, plot_num) # Create a new subplot with 2 rows, 2 columns, 1st plot\n",
    "    qplt.pcolormesh(pcent_change, vmax=30, vmin=-30, cmap='BrBG')\n",
    "    plt.title(jobid + ' precipitation change (%)')\n",
    "    ax = plt.gca()              # gca function that returns the current axes\n",
    "    ax.coastlines()             # adds coastlines defined by the axes of the plot\n",
    "    ax.gridlines()              # adds x and y grid lines to the plot\n",
    "\n",
    "    plt.subplot(2, 2, plot_num+1)\n",
    "    qplt.pcolormesh(degc_change, vmax=2.5, vmin=0, cmap='Reds')\n",
    "    plt.title(jobid + ' temperature change ($\\degree$C)')\n",
    "    ax = plt.gca()\n",
    "    ax.coastlines()\n",
    "    ax.gridlines()\n",
    "\n",
    "plt.tight_layout()          # automatically adjusts subplot(s) to fit in to the figure area\n",
    "plt.show()"
   ]
  },
  {
   "cell_type": "markdown",
   "metadata": {},
   "source": [
    "<div class=\"alert alert-block alert-success\">\n",
    "<b>Question:</b> How would you use a discrete countoured colour map to show changes in precipitation and temperature? <br>\n",
    "    Modify the code above to use <strong>qplt.pconourf()</strong>.  Remember to choose appropriate contours.\n",
    "</div>"
   ]
  },
  {
   "cell_type": "markdown",
   "metadata": {},
   "source": [
    "<a id='2.11'></a>\n",
    "## 2.11 Future time series\n",
    "\n",
    "Calculate and then plot a 2021-2050 monthly time series of precipitation anomalies for land\n",
    "points only relative to the 1961-1990 baseline monthly mean. Do this for both cahpa and cahpb.\n"
   ]
  },
  {
   "cell_type": "code",
   "execution_count": null,
   "metadata": {},
   "outputs": [],
   "source": [
    "# Read in the land-sea mask. \n",
    "# The cube data array has a mask associated with it which we'll use to mask out ocean points.\n",
    "land_sea_mask = iris.load_cube(DATADIR + '/landmask.nc')\n",
    "\n",
    "for jobid in JOBIDS:\n",
    "    # Read in original data for baseline and future\n",
    "    baselinepath = os.path.join(MODELDIR, jobid, jobid + '.pm.1981_1983.pr.norim.mmday-1.nc')\n",
    "    futurepath = os.path.join(MODELDIR, jobid, jobid + '.pm.2021_2050.pr.norim.mmday-1.nc')\n",
    "    baseline = iris.load_cube(baselinepath)\n",
    "    future = iris.load_cube(futurepath)\n",
    "    \n",
    "\n",
    "    # Apply land mask. Probably not most efficient method. baseline / future data arrays are changed to masked type\n",
    "    baseline.data = ma.array(baseline.data, mask=baseline.data*land_sea_mask.data.mask[np.newaxis, :,:])\n",
    "    future.data = ma.array(future.data, mask=future.data*land_sea_mask.data.mask[np.newaxis, :,:])\n",
    "\n",
    "    # Calculate mean values over land points\n",
    "    baseline_land = baseline.collapsed(['grid_longitude', 'grid_latitude'], iris.analysis.MEAN)\n",
    "    future_land = future.collapsed(['grid_longitude', 'grid_latitude'], iris.analysis.MEAN)\n",
    "\n",
    "    # Save the area averaged monthly differences\n",
    "    baselineout = os.path.join(CLIMDIR, jobid + '.pm.baseline.series.pr.mmday-1.nc')\n",
    "    futureout = os.path.join(CLIMDIR, jobid + '.pm.future.series.pr.mmday-1.nc')\n",
    "    iris.save(baseline_land, baselineout)\n",
    "    iris.save(future_land, futureout)\n",
    "\n",
    "    # Subtract baseline from future and save\n",
    "    diff = future_land.copy()\n",
    "    diff.data = future_land.data - baseline_land.data.mean()\n",
    "\n",
    "    # Save the area averaged monthly differences\n",
    "    outpath = os.path.join(CLIMDIR, jobid + '.pm.diff.series.pr.mmday-1.nc')\n",
    "    iris.save(diff, outpath)"
   ]
  },
  {
   "cell_type": "markdown",
   "metadata": {},
   "source": [
    "Plot the precipitation anomalies of cahpa and cahpb"
   ]
  },
  {
   "cell_type": "code",
   "execution_count": null,
   "metadata": {},
   "outputs": [],
   "source": [
    "# Read in the monthly series\n",
    "cahpa = iris.load_cube(CLIMDIR + '/cahpa.pm.diff.series.pr.mmday-1.nc')\n",
    "cahpb = iris.load_cube(CLIMDIR + '/cahpb.pm.diff.series.pr.mmday-1.nc')\n",
    "\n",
    "# Plot the two series on the same figure\n",
    "cahpa_plot = qplt.plot(cahpa,color = 'blue' ,  label = 'cahpa')\n",
    "qplt.show()\n",
    "cahpb_plot = qplt.plot(cahpb, color = 'blue',  label = 'cahpb')\n",
    "qplt.show()"
   ]
  }
 ],
 "metadata": {
  "kernelspec": {
   "display_name": "Python 3",
   "language": "python",
   "name": "python3"
  },
  "language_info": {
   "codemirror_mode": {
    "name": "ipython",
    "version": 3
   },
   "file_extension": ".py",
   "mimetype": "text/x-python",
   "name": "python",
   "nbconvert_exporter": "python",
   "pygments_lexer": "ipython3",
   "version": "3.6.6"
  },
  "widgets": {
   "state": {},
   "version": "1.1.2"
  }
 },
 "nbformat": 4,
 "nbformat_minor": 1
}
