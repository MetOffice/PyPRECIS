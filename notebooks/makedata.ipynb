{
 "cells": [
  {
   "cell_type": "markdown",
   "metadata": {},
   "source": [
    "# Make data for worksheet 2b"
   ]
  },
  {
   "cell_type": "code",
   "execution_count": 2,
   "metadata": {},
   "outputs": [],
   "source": [
    "import glob\n",
    "import os\n",
    "import iris"
   ]
  },
  {
   "cell_type": "code",
   "execution_count": 43,
   "metadata": {},
   "outputs": [],
   "source": [
    "# Prep future data (2021-2050) from pp files\n",
    "datadir = '/project/precis/worksheets/data'\n",
    "\n",
    "# Make future 2021-2050 data\n",
    "for runid in ['cahpa', 'cahpb']:\n",
    "    ppdir = os.path.join(datadir, 'pp', runid)\n",
    "\n",
    "    # find all the files from which to remove the rim\n",
    "    flist = glob.glob(ppdir + '/*pm[mnop]*.pp')\n",
    "    \n",
    "    datacubes = iris.load(flist)\n",
    "    tempcubelist = []\n",
    "    for cube in datacubes:\n",
    "        temprimcubelist = []\n",
    "        # In case the data are more than 2 dimensional, grab a 2d slice\n",
    "        for yx_slice in cube.slices(['grid_latitude','grid_longitude']):\n",
    "            norimcube = yx_slice[8 : -8 , 8 : -8]\n",
    "            temprimcubelist.append(norimcube)\n",
    "        # Merge the individual 2d slices into a single cube\n",
    "        trimmedcube = iris.cube.CubeList(temprimcubelist).merge_cube()\n",
    "        tempcubelist.append(trimmedcube)\n",
    "    \n",
    "    for cube in tempcubelist:\n",
    "        if cube.name() == 'air_temperature':\n",
    "            cube.convert_units('celsius')\n",
    "            outpath = os.path.join(datadir, 'netcdf', runid, runid + '.pm.2021_2050.tm.norim.K.nc')\n",
    "            cube.remove_coord('forecast_period')\n",
    "            cube.remove_coord('forecast_reference_time')\n",
    "            iris.save(cube, outpath)\n",
    "        if cube.name() == 'precipitation_flux':\n",
    "            cube.convert_units('kg m-2 day-1')\n",
    "            cube.units = 'mm day-1'\n",
    "            outpath = os.path.join(datadir, 'netcdf', runid, runid + '.pm.2021_2050.pr.norim.mmday-1.nc')\n",
    "            cube.remove_coord('forecast_period')\n",
    "            cube.remove_coord('forecast_reference_time')\n",
    "            iris.save(cube, outpath)"
   ]
  },
  {
   "cell_type": "code",
   "execution_count": 6,
   "metadata": {},
   "outputs": [
    {
     "name": "stdout",
     "output_type": "stream",
     "text": [
      "air_temperature / (K)               (time: 36; grid_latitude: 192; grid_longitude: 192)\n",
      "     Dimension coordinates:\n",
      "          time                           x                  -                    -\n",
      "          grid_latitude                  -                  x                    -\n",
      "          grid_longitude                 -                  -                    x\n",
      "     Scalar coordinates:\n",
      "          height: 1.5 m\n",
      "     Attributes:\n",
      "          STASH: m01s03i236\n",
      "          source: Data from Met Office Unified Model\n",
      "     Cell methods:\n",
      "          mean: time (1 hour)\n",
      "air_temperature / (K)               (time: 36; grid_latitude: 192; grid_longitude: 192)\n",
      "     Dimension coordinates:\n",
      "          time                           x                  -                    -\n",
      "          grid_latitude                  -                  x                    -\n",
      "          grid_longitude                 -                  -                    x\n",
      "     Scalar coordinates:\n",
      "          height: 1.5 m\n",
      "     Attributes:\n",
      "          STASH: m01s03i236\n",
      "          source: Data from Met Office Unified Model\n",
      "     Cell methods:\n",
      "          mean: time (1 hour)\n"
     ]
    }
   ],
   "source": [
    "# Prep baseline data (1981-1983) from pp files\n",
    "datadir = '/project/precis/worksheets/data'\n",
    "\n",
    "# Make baseline data\n",
    "for runid in ['cahpa', 'cahpb']:\n",
    "    ppdir = os.path.join(datadir, 'pp', runid)\n",
    "\n",
    "    # find all the files from which to remove the rim\n",
    "    flist = glob.glob(ppdir + '/*pmi*.pp')\n",
    "    \n",
    "    datacubes = iris.load(flist)\n",
    "    tempcubelist = []\n",
    "    for cube in datacubes:\n",
    "        temprimcubelist = []\n",
    "        # In case the data are more than 2 dimensional, grab a 2d slice\n",
    "        for yx_slice in cube.slices(['grid_latitude','grid_longitude']):\n",
    "            norimcube = yx_slice[8 : -8 , 8 : -8]\n",
    "            temprimcubelist.append(norimcube)\n",
    "        # Merge the individual 2d slices into a single cube\n",
    "        trimmedcube = iris.cube.CubeList(temprimcubelist).merge_cube()\n",
    "        tempcubelist.append(trimmedcube)\n",
    "    \n",
    "    for cube in tempcubelist:\n",
    "        if cube.name() == 'air_temperature':\n",
    "            outpath = os.path.join(datadir, 'netcdf', runid, runid + '.pm.1981_1983.tm.norim.K.nc')\n",
    "            cube.remove_coord('forecast_period')\n",
    "            cube.remove_coord('forecast_reference_time')\n",
    "            iris.save(cube, outpath)\n",
    "            print(cube)\n",
    "        if cube.name() == 'precipitation_flux':\n",
    "            pass"
   ]
  }
 ],
 "metadata": {
  "kernelspec": {
   "display_name": "Python 3",
   "language": "python",
   "name": "python3"
  },
  "language_info": {
   "codemirror_mode": {
    "name": "ipython",
    "version": 3
   },
   "file_extension": ".py",
   "mimetype": "text/x-python",
   "name": "python",
   "nbconvert_exporter": "python",
   "pygments_lexer": "ipython3",
   "version": "3.6.6"
  }
 },
 "nbformat": 4,
 "nbformat_minor": 2
}
