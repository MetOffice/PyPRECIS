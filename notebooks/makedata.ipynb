{
 "cells": [
  {
   "cell_type": "code",
   "execution_count": null,
   "metadata": {},
   "outputs": [],
   "source": [
    "import glob\n",
    "import os\n",
    "import iris\n",
    "from iris.time import PartialDateTime\n",
    "from iris.experimental.equalise_cubes import equalise_attributes\n",
    "\n",
    "DATADIR = '/project/ciid/projects/PRECIS/worksheets/data_v2/EAS-22/'\n",
    "# write outputs to own directory so that can be checked before upload under ciid\n",
    "OUTDIR = f'{os.getenv(\"SCRATCH\")}/cordex_inputs/'\n"
   ]
  },
  {
   "cell_type": "markdown",
   "metadata": {},
   "source": [
    "# Make data for worksheet 4"
   ]
  },
  {
   "cell_type": "code",
   "execution_count": null,
   "metadata": {},
   "outputs": [],
   "source": [
    "# Prep future data (2021-2050) from pp files\n",
    "\n",
    "# Make future 2021-2050 data\n",
    "for runid in ['cahpa', 'cahpb']:\n",
    "    ppdir = os.path.join(DATADIR, 'pp', runid)\n",
    "\n",
    "    # find all the files from which to remove the rim\n",
    "    flist = glob.glob(ppdir + '/*pm[mnop]*.pp')\n",
    "    \n",
    "    datacubes = iris.load(flist)\n",
    "    tempcubelist = []\n",
    "    for cube in datacubes:\n",
    "        temprimcubelist = []\n",
    "        # In case the data are more than 2 dimensional, grab a 2d slice\n",
    "        for yx_slice in cube.slices(['grid_latitude','grid_longitude']):\n",
    "            norimcube = yx_slice[8 : -8 , 8 : -8]\n",
    "            temprimcubelist.append(norimcube)\n",
    "        # Merge the individual 2d slices into a single cube\n",
    "        trimmedcube = iris.cube.CubeList(temprimcubelist).merge_cube()\n",
    "        tempcubelist.append(trimmedcube)\n",
    "    \n",
    "    for cube in tempcubelist:\n",
    "        if cube.name() == 'air_temperature':\n",
    "            cube.convert_units('celsius')\n",
    "            outpath = os.path.join(DATADIR, 'future', runid + '.mon.2021_2050.tm.rr.C.nc')\n",
    "            cube.remove_coord('forecast_period')\n",
    "            cube.remove_coord('forecast_reference_time')\n",
    "            iris.save(cube, outpath)\n",
    "        if cube.name() == 'precipitation_flux':\n",
    "            cube.convert_units('kg m-2 day-1')\n",
    "            cube.units = 'mm day-1'\n",
    "            outpath = os.path.join(DATADIR, 'future', runid + '.mon.2021_2050.pr.rr.mmday-1.nc')\n",
    "            cube.remove_coord('forecast_period')\n",
    "            cube.remove_coord('forecast_reference_time')\n",
    "            iris.save(cube, outpath)"
   ]
  },
  {
   "cell_type": "code",
   "execution_count": null,
   "metadata": {},
   "outputs": [],
   "source": [
    "# Prep baseline data (1961-1990) from pp files\n",
    "\n",
    "# Make baseline data\n",
    "for runid in ['cahpa', 'cahpb']:\n",
    "    ppdir = os.path.join(DATADIR, 'pp', runid)\n",
    "\n",
    "    # find all the files from which to remove the rim\n",
    "    flist = glob.glob(ppdir + '/*pm[ghij]*.pp')\n",
    "    \n",
    "    datacubes = iris.load(flist)\n",
    "    tempcubelist = []\n",
    "    for cube in datacubes:\n",
    "        temprimcubelist = []\n",
    "        # In case the data are more than 2 dimensional, grab a 2d slice\n",
    "        for yx_slice in cube.slices(['grid_latitude','grid_longitude']):\n",
    "            norimcube = yx_slice[8 : -8 , 8 : -8]\n",
    "            temprimcubelist.append(norimcube)\n",
    "        # Merge the individual 2d slices into a single cube\n",
    "        trimmedcube = iris.cube.CubeList(temprimcubelist).merge_cube()\n",
    "        tempcubelist.append(trimmedcube)\n",
    "    \n",
    "    for cube in tempcubelist:\n",
    "        if cube.name() == 'air_temperature':\n",
    "            cube.convert_units('celsius')\n",
    "            outpath = os.path.join(DATADIR, 'historical', runid + '.mon.1961_1990.tm.rr.C.nc')\n",
    "            cube.remove_coord('forecast_period')\n",
    "            cube.remove_coord('forecast_reference_time')\n",
    "            iris.save(cube, outpath)\n",
    "        if cube.name() == 'precipitation_flux':\n",
    "            pass"
   ]
  },
  {
   "cell_type": "markdown",
   "metadata": {},
   "source": [
    "# Make data for Worksheet 5"
   ]
  },
  {
   "cell_type": "markdown",
   "metadata": {},
   "source": [
    "The files needed are daily precipitation, with the two periods (historical and future) consolidated into a single file\n",
    "\n",
    "Note that these datasets should be saved with compression to reduce their file size.  If for some reason this needs to be done during a PRECIS course, it is quicker to save them without compression using `iris.save(cube, outfile)` but the filesize is significantly larger.\n",
    "\n",
    "Unlike the previous PRECIS data, the memory requirements of this code are modest (probably due to the lack of rim removal meaning the data remains lazy). It does take several minutes (~5) to run each example."
   ]
  },
  {
   "cell_type": "code",
   "execution_count": null,
   "metadata": {},
   "outputs": [],
   "source": [
    "# Prep future data (2041-2060) from CORDEX files\n",
    "\n",
    "shortnames = {'MOHC-HadGEM2-ES':'hadgem2-es', 'MPI-M-MPI-ESM-LR':'mpi-esm-lr'}\n",
    "\n",
    "# Make future 2041-2060 data\n",
    "future_time_constraint = iris.Constraint(time=lambda cell: PartialDateTime(year=2041) \n",
    "                            <= cell.point <= PartialDateTime(year=2060))\n",
    "for gcmid in ['MOHC-HadGEM2-ES', 'MPI-M-MPI-ESM-LR']:\n",
    "\n",
    "    # set a short name consistent with what used in the exercises [would it be better to use full names?]\n",
    "    shortgcm = shortnames[gcmid]\n",
    "\n",
    "    # find all the files \n",
    "    flist = glob.glob(DATADIR + f'pr_EAS-22_{gcmid}_rcp85_*_GERICS-REMO2015_*_day_*.nc')\n",
    "    print (f'input files: {flist}')\n",
    "    \n",
    "    # load using time constraint above\n",
    "    datacubes = iris.load(flist, future_time_constraint)\n",
    "\n",
    "    # merge the cubes\n",
    "    equalise_attributes(datacubes)\n",
    "    cube = datacubes.concatenate_cube()\n",
    "    \n",
    "    if cube.name() == 'air_temperature':\n",
    "        cube.convert_units('celsius')\n",
    "        outpath = os.path.join(OUTDIR, 'future', shortgcm + '.day.2041_2060.GERICS-REMO2015.tm.C.nc')\n",
    "        iris.save(cube, outpath, least_significant_digit=3, \n",
    "                  complevel=4, zlib=True)\n",
    "    if cube.name() == 'precipitation_flux':\n",
    "        cube.convert_units('kg m-2 day-1')\n",
    "        cube.units = 'mm day-1'\n",
    "        outpath = os.path.join(OUTDIR, 'future', shortgcm + '.day.2041_2060.GERICS-REMO2015.pr.mmday-1.nc')\n",
    "        iris.save(cube, outpath, least_significant_digit=3, \n",
    "                  complevel=4, zlib=True)\n",
    "    print(f'saved file: {outpath}')\n"
   ]
  },
  {
   "cell_type": "code",
   "execution_count": null,
   "metadata": {},
   "outputs": [],
   "source": [
    "# Prep baseline data (1986-2006) from CORDEX files\n",
    "historical_time_constraint = iris.Constraint(time=lambda cell: PartialDateTime(year=1986) \n",
    "                            <= cell.point <= PartialDateTime(year=2005))\n",
    "# Make baseline data\n",
    "for gcmid in ['MOHC-HadGEM2-ES', 'MPI-M-MPI-ESM-LR']:\n",
    "\n",
    "    # set a short name consistent with what used in the exercises [would it be better to use full names?]\n",
    "    shortgcm = shortnames[gcmid]\n",
    "\n",
    "    # find all the files \n",
    "    flist = glob.glob(DATADIR + f'pr_EAS-22_{gcmid}_historical_*_GERICS-REMO2015_*_day_*.nc')\n",
    "    print (f'input files: {flist}')\n",
    "    \n",
    "    # load using time constraint above\n",
    "    datacubes = iris.load(flist, historical_time_constraint)\n",
    "\n",
    "    # merge the cubes\n",
    "    equalise_attributes(datacubes)\n",
    "    cube = datacubes.concatenate_cube()\n",
    "    \n",
    "    if cube.name() == 'air_temperature':\n",
    "        cube.convert_units('celsius')\n",
    "        outpath = os.path.join(OUTDIR, 'historical', shortgcm + '.day.1986_2005.GERICS-REMO2015.tm.C.nc')\n",
    "        iris.save(cube, outpath, least_significant_digit=3, \n",
    "                  complevel=4, zlib=True)\n",
    "    if cube.name() == 'precipitation_flux':\n",
    "        cube.convert_units('kg m-2 day-1')\n",
    "        cube.units = 'mm day-1'\n",
    "        outpath = os.path.join(OUTDIR, 'historical', shortgcm + '.day.1986_2005.GERICS-REMO2015.pr.mmday-1.nc')\n",
    "        iris.save(cube, outpath, least_significant_digit=3, \n",
    "                  complevel=4, zlib=True)\n",
    "    print(f'saved file: {outpath}')\n",
    "\n"
   ]
  },
  {
   "cell_type": "code",
   "execution_count": null,
   "metadata": {},
   "outputs": [],
   "source": []
  }
 ],
 "metadata": {
  "kernelspec": {
   "display_name": "pyprecis-environment",
   "language": "python",
   "name": "pyprecis-environment"
  },
  "language_info": {
   "codemirror_mode": {
    "name": "ipython",
    "version": 3
   },
   "file_extension": ".py",
   "mimetype": "text/x-python",
   "name": "python",
   "nbconvert_exporter": "python",
   "pygments_lexer": "ipython3",
   "version": "3.6.10"
  }
 },
 "nbformat": 4,
 "nbformat_minor": 2
}
