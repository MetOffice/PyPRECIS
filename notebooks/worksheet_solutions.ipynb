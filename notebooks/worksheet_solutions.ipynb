{
 "cells": [
  {
   "cell_type": "markdown",
   "metadata": {},
   "source": [
    "# Worksheet Solutions"
   ]
  },
  {
   "cell_type": "markdown",
   "metadata": {},
   "source": [
    "## 2.2c\n",
    "\n",
    "Complete the following code block to repeat the same procedure for MPI-ESM-LR:"
   ]
  },
  {
   "cell_type": "code",
   "execution_count": null,
   "metadata": {},
   "outputs": [],
   "source": [
    "# Print the current MPI-ESM-LR cube units\n",
    "print(f'The current unit for data is: {mpiesm.units}')\n",
    "\n",
    "# convert units to kg m-2 day-1\n",
    "mpiesm.convert_units('kg m-2 day-1')\n",
    "\n",
    "\n",
    "# Rename the units to mm day-1. Recall that 1 kg m-2 is equivalent to 1 mm of rain\n",
    "mpiesm.units = 'mm day-1'\n",
    "\n",
    "# Save the new cube as a new netCDF file using the `outfile` filename we've provided below!\n",
    "outfile = os.path.join(OUTDIR, 'mpi-esm-lr.mon.1986_2005.GERICS-REMO2015.pr.mmday-1.nc')\n",
    "\n",
    "iris.save(mpiesm, outfile)"
   ]
  },
  {
   "cell_type": "markdown",
   "metadata": {},
   "source": [
    "## 2.3e\n",
    "\n",
    "<b>Answer:</b> Write the line of code required to calculate CHIRPS's (a) standard deviation and (b) annual maximum rainfall in the code block below. <br>\n",
    "<b>Hint</b>: How could you adapt <code>chirps_ond.aggregated_by(['seasons'], iris.analysis.MEAN)</code> from above? You can refer to the [Iris documentation](https://scitools.org.uk/iris/docs/v2.4.0/iris/iris/analysis.html) if needed."
   ]
  },
  {
   "cell_type": "code",
   "execution_count": null,
   "metadata": {},
   "outputs": [],
   "source": [
    "# From chirps, calculate: \n",
    "# (a) chirps_std \n",
    "chirps_std = chirps_ond.aggregated_by(['seasons'], iris.analysis.STD_DEV) \n",
    "\n",
    "# (b) chirps_max\n",
    "chirps_std = chirps.collapsed('time', iris.analysis.MAX) \n"
   ]
  },
  {
   "cell_type": "markdown",
   "metadata": {},
   "source": [
    "# 3.1a"
   ]
  },
  {
   "cell_type": "code",
   "execution_count": null,
   "metadata": {},
   "outputs": [],
   "source": [
    "# Enter the ordered latitude and longitude coordinates for Kuala Lumpur here:\n",
    "# lon=( , ) # longitude (East - West extent)\n",
    "# lat=( , ) # latuitude (South - North extent)\n",
    "lon = (99.5, 100.5)\n",
    "lat = (13.5, 14.5)"
   ]
  },
  {
   "cell_type": "markdown",
   "metadata": {},
   "source": [
    "# 3.2e part 1\n",
    "\n",
    "e) Find the multi-annual monthly means (1986-2005) over the BK area for CHIRPS observations by following the same methodology as above in step d). As before we've given you the input and output files names.\n"
   ]
  },
  {
   "cell_type": "code",
   "execution_count": null,
   "metadata": {},
   "outputs": [],
   "source": [
    "# Load the BK extracted data created in previous step\n",
    "infile = os.path.join(CHIRPSDIR, 'chirps.mon.1986_2005.BK.nc')\n",
    "data = iris.load_cube(infile)\n",
    "\n",
    "# Add monthly coord categorisation to the time dim coordinate\n",
    "iris.coord_categorisation.add_month_number(data, 'time', name='month_number')\n",
    "\n",
    "# Now calculate monthly means\n",
    "monthly_mean = data.aggregated_by(['month_number'], iris.analysis.MEAN)\n",
    "\n",
    "# and change units to mm/day\n",
    "monthly_mean.convert_units('mm day-1')\n",
    "\n",
    "# create the area averaged monthly mean of daily rainfall\n",
    "# Find latitude weights\n",
    "monthly_mean.coord('longitude').guess_bounds()\n",
    "monthly_mean.coord('latitude').guess_bounds()\n",
    "grid_areas = iris.analysis.cartography.area_weights(monthly_mean)\n",
    "# Calculate area averaged monthly mean rainfall\n",
    "monthly_mean = monthly_mean.collapsed(['longitude', 'latitude'], iris.analysis.MEAN, \n",
    "                                      weights=grid_areas)\n",
    "\n",
    "\n",
    "# Save output\n",
    "outfile = os.path.join(CLIMDIR, 'chirps.mon.mean.1986_2005.mmday-1.nc')\n",
    "iris.save(monthly_mean, outfile)"
   ]
  },
  {
   "cell_type": "markdown",
   "metadata": {},
   "source": [
    "# 3.2e part 2\n",
    " Plot the CHIRPS observations, compare with the HadGEM2-ES and MPI-ESM-LR driven REMO2015 runs."
   ]
  },
  {
   "cell_type": "code",
   "execution_count": null,
   "metadata": {},
   "outputs": [],
   "source": [
    "# Load the CHIRPS cube\n",
    "inpath = os.path.join(CLIMDIR,  'chirps.mon.mean.1986_2005.mmday-1.nc')\n",
    "cube = iris.load_cube(inpath) \n",
    "\n",
    "# Quick line plot for cube \n",
    "qplt.plot(cube.coord('month_number'), cube)\n",
    "plt.title('BK area averaged ' + gcm + '\\n monthly average of daily rainfall')\n",
    "ax = plt.gca()\n",
    "ax.xaxis.set_label_text('Month Number')\n",
    "ax.set_xlim(0.5, 12.5)\n",
    "ax.set_ylim(0, 16)\n",
    "plt.show()"
   ]
  },
  {
   "cell_type": "markdown",
   "metadata": {},
   "source": [
    "# 3.3f\n",
    "Question: Now that the cubes are all on the same grid, what differences do you see? <br> Complete the code template below to help answer this question."
   ]
  },
  {
   "cell_type": "code",
   "execution_count": null,
   "metadata": {},
   "outputs": [],
   "source": [
    "# Directory name where data is read from\n",
    "indir = os.path.join(DATADIR, 'EAS-22', 'climatology')\n",
    "\n",
    "# load HadGEM2-ES downscaled model data\n",
    "hadgem2 = iris.load_cube(f'{indir}/hadgem2-es.OND.mean.1986_2005.pr.mmday-1.rg.nc')\n",
    "\n",
    "# load MPI-ESM-LR downscaled model data\n",
    "mpiesm = iris.load_cube(f'{indir}/mpi-esm-lr.OND.mean.1986_2005.pr.mmday-1.rg.nc')\n",
    "\n",
    "# load CHIRPS data and extract region\n",
    "chirps = iris.load_cube(f'{indir}/chirps.OND.mean.1986_2005.pr.mmday-1.nc')\n",
    "chirps = chirps.intersection(latitude=lat, longitude=lon)\n",
    "\n",
    "# Do some plotting!\n",
    "plt.figure(figsize=(12, 10))\n",
    "plt.subplot(1,3,1)\n",
    "qplt.pcolormesh(hadgem2[0], vmin=0., vmax=8.)\n",
    "plt.title('HadGEM2-ES')\n",
    "plt.gca().coastlines()\n",
    "plt.subplot(1,3,2)\n",
    "qplt.pcolormesh(mpiesm[0], vmin=0., vmax=8.)\n",
    "plt.title('MPI-ESM-LR')\n",
    "plt.gca().coastlines()\n",
    "plt.subplot(1,3,3)\n",
    "qplt.pcolormesh(chirps[0], vmin=0., vmax=8.)\n",
    "plt.title('CHIRPS')\n",
    "plt.gca().coastlines()\n",
    "\n",
    "plt.show()"
   ]
  },
  {
   "cell_type": "markdown",
   "metadata": {},
   "source": [
    "# 4.2c"
   ]
  },
  {
   "cell_type": "code",
   "execution_count": null,
   "metadata": {},
   "outputs": [],
   "source": [
    "time_periods = {'historical':'1961_1990', 'future':'2021_2050'}\n",
    "\n",
    "for jobid in JOBIDS:\n",
    "    for period in time_periods.keys():\n",
    "        # Load the data:\n",
    "        infile = os.path.join(DATADIR, period, jobid + '.mon.' + time_periods[period] + '.tm.rr.K.nc')\n",
    "        data = iris.load_cube(infile)\n",
    "        # In order to calculate OND mean, add a season coordinate, seperating OND from the other months:  \n",
    "        iris.coord_categorisation.add_season(data, 'time', name='seasons', seasons=('jfmamjjas','ond'))\n",
    "\n",
    "        # Extract the data for the OND season only:\n",
    "        data_ond = data.extract(iris.Constraint(seasons='ond'))\n",
    "        \n",
    "        # Now calculate the mean over the OND season:\n",
    "        ond_mean = data_ond.aggregated_by(['seasons'], iris.analysis.MEAN)\n",
    "        \n",
    "        # Convert the units from Kelvin to Celsius:\n",
    "        ond_mean.convert_units('celsius')\n",
    "        \n",
    "        outfile = os.path.join(CLIMDIR, jobid + '.OND.mean.' + time_periods[period] + '.tm.C.nc')\n",
    "        # save the OND mean as a netCDF ('outfile' specifies the output file name for your OND mean cube):\n",
    "        iris.save(ond_mean, outfile)\n",
    "        print('Saved: {}'.format(outfile))"
   ]
  },
  {
   "cell_type": "markdown",
   "metadata": {},
   "source": [
    "# 4.4h"
   ]
  },
  {
   "cell_type": "code",
   "execution_count": null,
   "metadata": {},
   "outputs": [],
   "source": [
    "# Read in the land-sea mask. \n",
    "# The cube data array has a mask associated with it which we'll use to mask out ocean points.\n",
    "land_sea_mask = iris.load_cube(DATADIR + '/landmask.nc')\n",
    "\n",
    "for jobid in JOBIDS:\n",
    "    # Read in original data for baseline and future\n",
    "    baselinepath = os.path.join(HISTDIR, jobid + '.mon.1961_1990.tm.rr.C.nc')\n",
    "    futurepath = os.path.join(FUTRDIR, jobid + '.mon.2021_2050.tm.rr.C.nc')\n",
    "    baseline = iris.load_cube(baselinepath)\n",
    "    future = iris.load_cube(futurepath)\n",
    "    \n",
    "    # Apply land mask\n",
    "    baseline.data = ma.array(baseline.data, mask=baseline.data*land_sea_mask.data.mask[np.newaxis, :,:])\n",
    "    future.data = ma.array(future.data, mask=future.data*land_sea_mask.data.mask[np.newaxis, :,:])\n",
    "\n",
    "    # Guess bounds\n",
    "    for cube in [baseline, future]:\n",
    "        for coord in ['grid_longitude', 'grid_latitude']:\n",
    "            cube.coord(coord).guess_bounds()\n",
    "    \n",
    "    # Calculate mean values over land points\n",
    "    baseline_land = baseline.collapsed(['grid_longitude', 'grid_latitude'], iris.analysis.MEAN,\n",
    "                                      weights = iris.analysis.cartography.area_weights(baseline))\n",
    "    future_land = future.collapsed(['grid_longitude', 'grid_latitude'], iris.analysis.MEAN,\n",
    "                                  weights = iris.analysis.cartography.area_weights(future))\n",
    "\n",
    "    # Save future & baseline area averaged monthly data (time series)\n",
    "    baselineout = os.path.join(CLIMDIR, jobid + '.mon.1961_1990.series.tm.C.nc')\n",
    "    futureout = os.path.join(CLIMDIR, jobid + '.mon.2021_2050.series.tm.C.nc')\n",
    "    iris.save(baseline_land, baselineout)\n",
    "    iris.save(future_land, futureout)\n",
    "\n",
    "    # Subtract baseline from future\n",
    "    diff = future_land.copy()\n",
    "    diff.data = future_land.data - baseline_land.data.mean()\n",
    "    diff.rename('future anomaly relative to mean historical temperature')\n",
    "\n",
    "    # Save the area averaged monthly differences (time series)\n",
    "    outpath = os.path.join(CLIMDIR, jobid + '.mon.2021_2050.anom.series.tm.C.nc')\n",
    "    iris.save(diff, outpath)\n",
    "    print('Saved: {}'.format(outpath))"
   ]
  },
  {
   "cell_type": "code",
   "execution_count": null,
   "metadata": {},
   "outputs": [],
   "source": [
    "# Read in the monthly series\n",
    "cahpa = iris.load_cube(CLIMDIR + '/cahpa.mon.2021_2050.anom.series.tm.C.nc')\n",
    "cahpb = iris.load_cube(CLIMDIR + '/cahpb.mon.2021_2050.anom.series.tm.C.nc')\n",
    "time = cahpa.coord('time')\n",
    "\n",
    "# Plot the two model time series' on the same figure\n",
    "plt.figure(figsize=(16,5))\n",
    "iplt.plot(time, cahpa, label = 'cahpa')\n",
    "iplt.plot(time, cahpb, label = 'cahpb')\n",
    "plt.legend()\n",
    "plt.suptitle('2021-2050 Temperature anomaly (relative to 1961-1990)')\n",
    "plt.ylabel('Temperture change ({})'.format(cahpa.units))\n",
    "plt.xlabel('Years')\n",
    "plt.show()"
   ]
  },
  {
   "cell_type": "markdown",
   "metadata": {},
   "source": [
    "# 5.1b"
   ]
  },
  {
   "cell_type": "code",
   "execution_count": null,
   "metadata": {},
   "outputs": [],
   "source": [
    "# Load APHRODITE daily precipitation data:\n",
    "infile = os.path.join(APHRODIR, 'aphro.day.1961_1990.nc')\n",
    "obs = iris.load_cube(infile, 'daily precipitation analysis interpolated onto 0.25deg grids [mm/day]')\n",
    "# Find number of days in dataset\n",
    "number_aphro_days = len(obs.coord('time').points)\n",
    "# Find number of wet days\n",
    "obs_wetdays = obs.collapsed('time', count_nonzero)\n",
    "obs_wetdays.rename('Aphrodite number of wet days (>=1mm/day) 1961-1990')\n",
    "# Save ouput\n",
    "outfile = os.path.join(CLIMDIR, 'aphro.wetday.nc')\n",
    "iris.save(obs_wetdays, outfile)\n",
    "print('Saved: {}'.format(outfile))\n",
    "\n",
    "# Find wet days percent\n",
    "obs_pcent_wetdays = iris.analysis.maths.divide(iris.analysis.maths.multiply(obs_wetdays, 100), number_aphro_days)\n",
    "obs_pcent_wetdays.rename('Aphrodite percentage of wet days (>=1mm/day) 1961-1990')\n",
    "outfile = os.path.join(CLIMDIR, 'aphro.wetday.pcent.nc')\n",
    "iris.save(obs_pcent_wetdays, outfile)\n",
    "print('Saved: {}'.format(outfile))"
   ]
  },
  {
   "cell_type": "markdown",
   "metadata": {},
   "source": [
    "# 5.1e"
   ]
  },
  {
   "cell_type": "code",
   "execution_count": null,
   "metadata": {},
   "outputs": [],
   "source": [
    "pcent_change_subset = pcent_change.intersection(longitude=(90, 137), \n",
    "                                                    latitude=(-20, 32))"
   ]
  },
  {
   "cell_type": "markdown",
   "metadata": {},
   "source": [
    "# 5.2h"
   ]
  },
  {
   "cell_type": "code",
   "execution_count": null,
   "metadata": {},
   "outputs": [],
   "source": [
    "# Create a figure of the size 12x12 inches\n",
    "plt.figure(figsize=(12, 12))\n",
    "\n",
    "# Load the 95th percentage differences in precipitation between the models and obs, and plot them.\n",
    "for n, runid in enumerate(JOBIDS):\n",
    "    infile = os.path.join(CLIMDIR, runid + '.day.pc95.bias.pr.mmday-1.nc')\n",
    "    pc95_diff = iris.load_cube(infile)\n",
    "    plt.subplot(2, 2, n+1)\n",
    "    qplt.pcolormesh(pc95_diff.intersection(longitude=(90, 137), latitude=(-20, 32)), \n",
    "                    vmax=30, vmin=-30, cmap='BrBG')\n",
    "    plt.title('{} R95p precipitation bias (model - obs) (mm day-1)'.format(runid))\n",
    "    ax = plt.gca()              # gca function that returns the current axes\n",
    "    ax.coastlines()             # adds coastlines defined by the axes of the plot\n",
    "\n",
    "    # Load the 95th percentage change in precipitation between future and baseline, plot.\n",
    "    infile = os.path.join(CLIMDIR, runid + '.day.pc95.diff.pr.mmday-1.nc')\n",
    "    pc95_diff = iris.load_cube(infile)\n",
    "    plt.subplot(2, 2, n+3)\n",
    "    qplt.pcolormesh(pc95_diff, vmax=10, vmin=-10, cmap='BrBG')\n",
    "    plt.title('{} R95p precipitation difference (future-historic) (mm day-1)'.format(runid))\n",
    "    ax = plt.gca()      \n",
    "    ax.coastlines()             \n",
    "\n",
    "plt.tight_layout()\n",
    "plt.show()"
   ]
  }
 ],
 "metadata": {
  "kernelspec": {
   "display_name": "Python 3",
   "language": "python",
   "name": "python3"
  },
  "language_info": {
   "codemirror_mode": {
    "name": "ipython",
    "version": 3
   },
   "file_extension": ".py",
   "mimetype": "text/x-python",
   "name": "python",
   "nbconvert_exporter": "python",
   "pygments_lexer": "ipython3",
   "version": "3.6.10"
  }
 },
 "nbformat": 4,
 "nbformat_minor": 2
}
