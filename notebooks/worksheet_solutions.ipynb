{
 "cells": [
  {
   "cell_type": "markdown",
   "metadata": {},
   "source": [
    "# Worksheet Solutions\n"
   ]
  },
  {
   "cell_type": "markdown",
   "metadata": {},
   "source": [
    "## 2.2c\n",
    "\n",
    "Complete the following code block to repeat the same procedure for MPI-ESM-LR:\n"
   ]
  },
  {
   "cell_type": "code",
   "execution_count": null,
   "metadata": {},
   "outputs": [],
   "source": [
    "# Print the current MPI-ESM-LR cube units\n",
    "print('The current unit for data is: ' + mpiesm.units)\n",
    "\n",
    "# convert units to kg m-2 day-1\n",
    "mpiesm.convert_units('kg m-2 day-1')\n",
    "\n",
    "\n",
    "# Rename the units to mm day-1. Recall that 1 kg m-2 is equivalent to 1 mm of rain\n",
    "mpiesm.units = 'mm day-1'\n",
    "\n",
    "# Save the new cube as a new netCDF file using the `outfile` filename we've provided below!\n",
    "outfile = os.path.join(HISTDIR, 'mpi-esm-lr.mon.1986_2005.GERICS-REMO2015.pr.mmday-1.nc')\n",
    "\n",
    "iris.save(mpiesm, outfile)"
   ]
  },
  {
   "cell_type": "markdown",
   "metadata": {},
   "source": [
    "## 2.3e\n",
    "\n",
    "<b>Answer:</b> Write the line of code required to calculate CHIRPS's (a) standard deviation and (b) annual maximum rainfall in the code block below. <br>\n",
    "<b>Hint</b>: How could you adapt <code>chirps_ond.aggregated_by(['seasons'], iris.analysis.MEAN)</code> from above? You can refer to the [Iris documentation](https://scitools.org.uk/iris/docs/v2.4.0/iris/iris/analysis.html) if needed.\n"
   ]
  },
  {
   "cell_type": "code",
   "execution_count": null,
   "metadata": {},
   "outputs": [],
   "source": [
    "# From chirps, calculate: \n",
    "# (a) chirps_std \n",
    "chirps_std = chirps_ond.aggregated_by(['seasons'], iris.analysis.STD_DEV) \n",
    "\n",
    "# (b) chirps_max\n",
    "chirps_std = chirps.collapsed('time', iris.analysis.MAX) \n"
   ]
  },
  {
   "cell_type": "markdown",
   "metadata": {},
   "source": [
    "# 3.1a\n"
   ]
  },
  {
   "cell_type": "code",
   "execution_count": null,
   "metadata": {},
   "outputs": [],
   "source": [
    "# Enter the ordered latitude and longitude coordinates for Kuala Lumpur here:\n",
    "# lon=( , ) # longitude (East - West extent)\n",
    "# lat=( , ) # latuitude (South - North extent)\n",
    "lon = (99.5, 100.5)\n",
    "lat = (13.5, 14.5)"
   ]
  },
  {
   "cell_type": "markdown",
   "metadata": {},
   "source": [
    "# 3.2e part 1\n",
    "\n",
    "e) Find the multi-annual monthly means (1986-2005) over the BK area for CHIRPS observations by following the same methodology as above in step d). As before we've given you the input and output files names.\n"
   ]
  },
  {
   "cell_type": "code",
   "execution_count": null,
   "metadata": {},
   "outputs": [],
   "source": [
    "# Load the BK extracted data created in previous step\n",
    "infile = os.path.join(CHIRPSDIR, 'chirps.mon.1986_2005.BK.nc')\n",
    "data = iris.load_cube(infile)\n",
    "\n",
    "# Add monthly coord categorisation to the time dim coordinate\n",
    "iris.coord_categorisation.add_month_number(data, 'time', name='month_number')\n",
    "\n",
    "# Now calculate monthly means\n",
    "monthly_mean = data.aggregated_by(['month_number'], iris.analysis.MEAN)\n",
    "\n",
    "# and change units to mm/day\n",
    "monthly_mean.convert_units('mm day-1')\n",
    "\n",
    "# create the area averaged monthly mean of daily rainfall\n",
    "# Find latitude weights\n",
    "monthly_mean.coord('longitude').guess_bounds()\n",
    "monthly_mean.coord('latitude').guess_bounds()\n",
    "grid_areas = iris.analysis.cartography.area_weights(monthly_mean)\n",
    "# Calculate area averaged monthly mean rainfall\n",
    "monthly_mean = monthly_mean.collapsed(['longitude', 'latitude'], iris.analysis.MEAN, \n",
    "                                      weights=grid_areas)\n",
    "\n",
    "\n",
    "# Save output\n",
    "outfile = os.path.join(CLIMDIR, 'chirps.mon.mean.1986_2005.mmday-1.nc')\n",
    "iris.save(monthly_mean, outfile)"
   ]
  },
  {
   "cell_type": "markdown",
   "metadata": {},
   "source": [
    "# 3.2e part 2\n",
    "\n",
    "Plot the CHIRPS observations, compare with the HadGEM2-ES and MPI-ESM-LR driven REMO2015 runs.\n"
   ]
  },
  {
   "cell_type": "code",
   "execution_count": null,
   "metadata": {},
   "outputs": [],
   "source": [
    "# Load the CHIRPS cube\n",
    "inpath = os.path.join(CLIMDIR,  'chirps.mon.mean.1986_2005.mmday-1.nc')\n",
    "cube = iris.load_cube(inpath) \n",
    "\n",
    "# Quick line plot for cube \n",
    "qplt.plot(cube.coord('month_number'), cube)\n",
    "plt.title('BK area averaged ' + gcm + '\\n monthly average of daily rainfall')\n",
    "ax = plt.gca()\n",
    "ax.xaxis.set_label_text('Month Number')\n",
    "ax.set_xlim(0.5, 12.5)\n",
    "ax.set_ylim(0, 16)\n",
    "plt.show()"
   ]
  },
  {
   "cell_type": "markdown",
   "metadata": {},
   "source": [
    "# 3.3f\n",
    "\n",
    "Question: Now that the cubes are all on the same grid, what differences do you see? <br> Complete the code template below to help answer this question.\n"
   ]
  },
  {
   "cell_type": "code",
   "execution_count": null,
   "metadata": {},
   "outputs": [],
   "source": [
    "# Directory name where data is read from\n",
    "indir = os.path.join(DATADIR, 'EAS-22', 'climatology')\n",
    "\n",
    "# load HadGEM2-ES downscaled model data\n",
    "hadgem2 = iris.load_cube(indir + '/hadgem2-es.OND.mean.1986_2005.pr.mmday-1.rg.nc')\n",
    "\n",
    "# load MPI-ESM-LR downscaled model data\n",
    "mpiesm = iris.load_cube(indir + '/mpi-esm-lr.OND.mean.1986_2005.pr.mmday-1.rg.nc')\n",
    "\n",
    "# load CHIRPS data and extract region\n",
    "chirps = iris.load_cube(indir + '/chirps.OND.mean.1986_2005.pr.mmday-1.nc')\n",
    "chirps = chirps.intersection(latitude=lat, longitude=lon)\n",
    "\n",
    "# Do some plotting!\n",
    "plt.figure(figsize=(12, 10))\n",
    "plt.subplot(1,3,1)\n",
    "qplt.pcolormesh(hadgem2[0], vmin=0., vmax=8.)\n",
    "plt.title('HadGEM2-ES')\n",
    "plt.gca().coastlines()\n",
    "plt.subplot(1,3,2)\n",
    "qplt.pcolormesh(mpiesm[0], vmin=0., vmax=8.)\n",
    "plt.title('MPI-ESM-LR')\n",
    "plt.gca().coastlines()\n",
    "plt.subplot(1,3,3)\n",
    "qplt.pcolormesh(chirps[0], vmin=0., vmax=8.)\n",
    "plt.title('CHIRPS')\n",
    "plt.gca().coastlines()\n",
    "\n",
    "plt.show()"
   ]
  },
  {
   "cell_type": "markdown",
   "metadata": {},
   "source": [
    "# 4.2c\n",
    "\n",
    "Now, repeat the calculations yourself for **temperature**.\n",
    "\n",
    "First, we calculate the **OND mean** temperatures.\n"
   ]
  },
  {
   "cell_type": "code",
   "execution_count": null,
   "metadata": {},
   "outputs": [],
   "source": [
    "# HINT: Your filenames should have the format: \n",
    "# gcmid + '.OND.mean.' + time_periods[period] + '.GERICS-REMO2015.tm.C.nc'\n",
    "time_periods = {'historical':'1986_2005', 'future':'2041_2060'}\n",
    "\n",
    "for gcmid in GCMIDS:\n",
    "    for period in time_periods.keys():\n",
    "        # Load the data:\n",
    "        infile = os.path.join(DATADIR + period + '/' + gcmid + '.mon.' + time_periods[period] + '.GERICS-REMO2015.tm.C.nc')\n",
    "        data = iris.load_cube(infile)\n",
    "        \n",
    "        # In order to calculate OND mean, add a season coordinate, separating OND from the other months:\n",
    "        iris.coord_categorisation.add_season(data, 'time', name='seasons', seasons=('jfmamjjas','ond'))\n",
    "\n",
    "        # Extract the data for the OND season only:\n",
    "        data_ond = data.extract(iris.Constraint(seasons='ond'))\n",
    "\n",
    "        # Now calculate the mean over the OND season:\n",
    "        ond_mean = data_ond.collapsed('time', iris.analysis.MEAN)\n",
    "\n",
    "        # save the OND mean as a netCDF ('outfile' specifies the output file name for your OND mean cube):\n",
    "        outfile = os.path.join(CLIMDIR, gcmid + '.OND.mean.' + time_periods[period] + '.GERICS-REMO2015.tm.C.nc')\n",
    "        iris.save(ond_mean, outfile)\n",
    "        print(\"saved \" + outfile + \"\\n\")\n",
    "    "
   ]
  },
  {
   "cell_type": "markdown",
   "metadata": {},
   "source": [
    "# 4.4h\n",
    "\n",
    "Produce and plot a montly time series of temperature data\\*\\* relative to the 1986-2005 baseline. As for (f) and (g) produce time series for HadGEM2-ES and MPI-ESM-LR driven runs.\n"
   ]
  },
  {
   "cell_type": "code",
   "execution_count": null,
   "metadata": {},
   "outputs": [],
   "source": [
    "# Read in the land-sea mask. \n",
    "# The cube data array has a land fraction associated with it which we'll use to mask out ocean points.\n",
    "land_fraction_file = 'sftlf_EAS-22_MOHC-HadGEM2-ES_historical_r0i0p0_GERICS-REMO2015_v1_fx_r0i0p0.nc'\n",
    "land_fraction = iris.load_cube(DATADIR + land_fraction_file)\n",
    "\n",
    "# convert this to a binary (i.e. 1 or 0 mask)\n",
    "land_sea_mask = land_fraction.copy()\n",
    "land_sea_mask.data = np.where(land_sea_mask.data < 50, 0, 1)\n",
    "land_sea_mask.name = 'land_binary_mask'\n",
    "# apply a mask to the cube \n",
    "land_sea_mask = iris.util.mask_cube(land_sea_mask, land_sea_mask.data < 0.5)\n",
    "\n",
    "\n",
    "# Loop over GCMIDS\n",
    "for gcmid in GCMIDS:\n",
    "    # Read in original data for baseline and future\n",
    "    baselinepath = os.path.join(HISTDIR, gcmid + '.mon.1986_2005.GERICS-REMO2015.tm.C.nc')\n",
    "    futurepath = os.path.join(FUTRDIR, gcmid + '.mon.2041_2060.GERICS-REMO2015.tm.C.nc')\n",
    "    baseline = iris.load_cube(baselinepath)\n",
    "    future = iris.load_cube(futurepath)\n",
    "    \n",
    "    # Apply land mask\n",
    "    baseline.data = ma.array(baseline.data, mask=baseline.data*land_sea_mask.data.mask[np.newaxis, :,:])\n",
    "    future.data = ma.array(future.data, mask=future.data*land_sea_mask.data.mask[np.newaxis, :,:])\n",
    "\n",
    "    # remove the 2D \"true\" lat and lon\n",
    "    baseline.remove_coord('longitude')\n",
    "    baseline.remove_coord('latitude')\n",
    "    future.remove_coord('longitude')\n",
    "    future.remove_coord('latitude')\n",
    "    \n",
    "    # Guess bounds\n",
    "    for cube in [baseline, future]:\n",
    "        for coord in ['grid_longitude', 'grid_latitude']:\n",
    "            cube.coord(coord).guess_bounds()\n",
    "    \n",
    "    # Calculate mean values over land points\n",
    "    baseline_land = baseline.collapsed(['grid_longitude', 'grid_latitude'], iris.analysis.MEAN,\n",
    "                                      weights = iris.analysis.cartography.area_weights(baseline))\n",
    "    future_land = future.collapsed(['grid_longitude', 'grid_latitude'], iris.analysis.MEAN,\n",
    "                                  weights = iris.analysis.cartography.area_weights(future))\n",
    "\n",
    "    # Save future & baseline area averaged monthly data (time series)\n",
    "    baselineout = os.path.join(CLIMDIR, gcmid + '.mon.1986_2005.series.GERICS-REMO2015.tm.C.nc')\n",
    "    futureout = os.path.join(CLIMDIR, gcmid + '.mon.2041_2060.series.GERICS-REMO2015.tm.C.nc')\n",
    "    iris.save(baseline_land, baselineout)\n",
    "    iris.save(future_land, futureout)\n",
    "\n",
    "    # Subtract baseline from future\n",
    "    diff = future_land.copy()\n",
    "    diff.data = future_land.data - baseline_land.data.mean()\n",
    "    diff.rename('future anomaly relative to mean historical precipitation')\n",
    "\n",
    "    # Save the area averaged monthly future anomalies (time series)\n",
    "    outpath = os.path.join(CLIMDIR, gcmid + '.mon.2041_2060.anom.series.GERICS-REMO2015.tm.C.nc')\n",
    "    iris.save(diff, outpath)\n",
    "    print('Saved: ' + outpath)    \n"
   ]
  },
  {
   "cell_type": "code",
   "execution_count": null,
   "metadata": {},
   "outputs": [],
   "source": [
    "# Read in the monthly series\n",
    "hadgem2es = iris.load_cube(CLIMDIR + '/hadgem2-es.mon.2041_2060.anom.series.GERICS-REMO2015.tm.C.nc')\n",
    "mpiesm = iris.load_cube(CLIMDIR + '/mpi-esm-lr.mon.2041_2060.anom.series.GERICS-REMO2015.tm.C.nc')\n",
    "time = hadgem2es.coord('time')\n",
    "\n",
    "# Plot the two model time series' on the same figure\n",
    "plt.figure(figsize=(16,5))\n",
    "iplt.plot(time, hadgem2es, label = 'HadGEM2-ES')\n",
    "iplt.plot(time, mpiesm, label = 'MPI-ESM-LR')\n",
    "plt.legend()\n",
    "plt.suptitle('2041-2060 Temperature anomaly (relative to 1986-2005)')\n",
    "plt.ylabel('Temperature change ' + hadgem2es.units)\n",
    "plt.xlabel('Years')\n",
    "plt.show()"
   ]
  },
  {
   "cell_type": "markdown",
   "metadata": {},
   "source": [
    "# 5.1b\n",
    "\n",
    "We'll use CHIRPS as our observational data from which to compare our CORDEX model data.\n",
    "\n",
    "**Fill in the missing code** to calculate the observed wet days:\n"
   ]
  },
  {
   "cell_type": "code",
   "execution_count": null,
   "metadata": {},
   "outputs": [],
   "source": [
    "# Load CHIRPS daily precipitation data, but only period of interest\n",
    "historical_time_constraint = iris.Constraint(time=lambda cell: PartialDateTime(year=1986) \n",
    "                            <= cell.point <= PartialDateTime(year=2005))\n",
    "\n",
    "infile = os.path.join(CHIRPSDIR, 'chirps-v2.0_pr_day_1981-2018_p25.nc')\n",
    "obs = iris.load_cube(infile, historical_time_constraint)#, 'daily precipitation analysis interpolated onto 0.25deg grids [mm/day]')\n",
    "\n",
    "# Find number of wet days\n",
    "chirps_wetdays = obs.collapsed('time', iris.analysis.COUNT, function=lambda values: values > 1)\n",
    "chirps_wetdays.rename('CHIRPS number of wet days (>=1mm/day)')\n",
    "\n",
    "# Save wet days cube\n",
    "outfile = os.path.join(CLIMDIR, 'chirps.wetday.nc')\n",
    "iris.save(chirps_wetdays, outfile)\n",
    "\n",
    "# Find number of days in dataset (number_chirps_days)\n",
    "number_chirps_days = len(obs.coord('time').points)\n",
    "\n",
    "\n",
    "# Find wet days as percent of all chirps days \n",
    "chirps_pcent_wetdays = (chirps_wetdays / number_chirps_days) * 100\n",
    "chirps_pcent_wetdays.rename('CHIRPS percent of wet days (>=1mm/day)')\n",
    "chirps_pcent_wetdays.units='%'\n",
    "\n",
    "# Save \n",
    "outfile = os.path.join(CLIMDIR, 'chirps.wetday.pcent.nc')\n",
    "iris.save(chirps_pcent_wetdays, outfile)\n"
   ]
  },
  {
   "cell_type": "markdown",
   "metadata": {},
   "source": [
    "# 5.1e\n"
   ]
  },
  {
   "cell_type": "code",
   "execution_count": null,
   "metadata": {},
   "outputs": [],
   "source": [
    "    # Add in a line of code to constrain the model domain to these coordinates: \n",
    "    # longitude=(70, 160)\n",
    "    # latitude=(10, 50)\n",
    "    pcent_change_subset = pcent_change.intersection(longitude=(70, 160), latitude=(10, 50))\n",
    "\n",
    "    pcent_bias_subset = pcent_bias.intersection(longitude=(70, 160), latitude=(10, 50)) "
   ]
  },
  {
   "cell_type": "markdown",
   "metadata": {},
   "source": [
    "# 5.2h\n",
    "\n",
    "**Plot the differences in the 95th percentiles** between the models and observations, and the future changes in the 95th percentiles of precipitation from both models.\n",
    "\n",
    "**Complete the code block to plot the figures...**\n"
   ]
  },
  {
   "cell_type": "code",
   "execution_count": null,
   "metadata": {},
   "outputs": [],
   "source": [
    "# Create a figure of the size 12x12 inches\n",
    "plt.figure(figsize=(12, 12))\n",
    "\n",
    "for n, gcmid in enumerate(GCMIDS):\n",
    "    # HINT: Use the `n` variable to help arrange you plots using: plt.subplot()\n",
    "    # Use the matplotlib documention to help you! \n",
    "\n",
    "    # Load and plot the model bias (model - obs)\n",
    "    infile = os.path.join(CLIMDIR, gcmid + '.day.pc95.bias.GERICS-REMO2015.pr.mmday-1.nc')\n",
    "    bias = iris.load_cube(infile)\n",
    "    plt.subplot(2,2,2*n+1)\n",
    "    qplt.pcolormesh(bias)\n",
    "    plt.gca().coastlines()\n",
    "\n",
    "\n",
    "    # Load and plot the percentage change in precipitation between future and baseline\n",
    "    infile = os.path.join(CLIMDIR, gcmid + '.day.pc95.diff.GERICS-REMO2015.pr.mmday-1.nc')\n",
    "    pc_change = iris.load_cube(infile)\n",
    "    plt.subplot(2,2,2*n+2)\n",
    "    qplt.pcolormesh(pc_change)\n",
    "    plt.gca().coastlines()\n",
    "\n",
    "plt.show()"
   ]
  }
 ],
 "metadata": {
  "kernelspec": {
   "display_name": "Python 3.6.10 ('pyprecis-environment')",
   "language": "python",
   "name": "python3"
  },
  "language_info": {
   "codemirror_mode": {
    "name": "ipython",
    "version": 3
   },
   "file_extension": ".py",
   "mimetype": "text/x-python",
   "name": "python",
   "nbconvert_exporter": "python",
   "pygments_lexer": "ipython3",
   "version": "3.6.10"
  },
  "vscode": {
   "interpreter": {
    "hash": "30fc2c9368d5cc76c4fad6f63328738b6cf0a0091c34cff8da6b063602b9d1b0"
   }
  }
 },
 "nbformat": 4,
 "nbformat_minor": 2
}
