{
 "cells": [
  {
   "cell_type": "markdown",
   "metadata": {},
   "source": [
    "# Worksheet 1: File locations and pre-processing\n",
    "<div class=\"alert alert-block alert-warning\">\n",
    "** By the end of this worksheet you should be able to:** <br> \n",
    "- Identify and list the names of PRECIS output data in PP format using standard Linux commands.<br>\n",
    "- Use basic Iris commands to load data files, and view Iris cubes. <br>\n",
    "- Use Iris commands to remove the model rim, select data variables and save the output as NetCDF files.\n",
    "\n",
    "</div>\n",
    "\n",
    "The following exercises demonstrate some of the tools available for data analysis, and how to prepare PRECIS output for analysis. This can be time consuming for large amounts of data, so in this worksheet a small subset is used to demonstrate the steps involved. In the worksheets that follow, data that has already been processed will be used.\n",
    "\n",
    "PRECIS output data tables are in PP format, a Met Office binary data format. This worksheet converts data to [NetCDF](https://www.unidata.ucar.edu/software/netcdf/) format (a standard format in climate science) in order that it can be used in post processing packages such as Python and the python library [Iris](http://scitools.org.uk/iris/docs/latest/index.html).  \n",
    "\n",
    "<div class=\"alert alert-block alert-info\">\n",
    "**Note:** In the boxes where there is code or where you are asked to type code, click in the box press <kbd>Ctrl</kbd> + <kbd>Enter</kbd> to run the code. <br>\n",
    "**Note:** An explanation `!` mark is needed to run commands on the shell, and is noted where needed.<br>\n",
    "**Note:** Anything after the character `#` is just a comment and does not affect the command being run. <br>\n",
    "**Note:** In jupyter notebooks **`%`** is used to execute in commands in the shell.</div>"
   ]
  },
  {
   "cell_type": "markdown",
   "metadata": {},
   "source": [
    "\n",
    "## 1.1 Data locations and file names\n",
    "\n",
    "The datasets used within these worksheets are made available through the notebook in order to providie quick and easy access for the purpose of this training. However the controls learnt in this worksheet provide useful context for future work in a linux and unix scripting environment.\n",
    "\n",
    "The dataset used here is a three year subset of monthly PRECIS data over south east Asia driven by the HadCMQ0 GCM.\n",
    "\n",
    "\n",
    "* Firstly, find out what location you are currently in by using the **`pwd`** command; **`pwd`** stands for **print working directory**.\n",
    "\n",
    "    Type **`!pwd`** in the code block below.\n"
   ]
  },
  {
   "cell_type": "code",
   "execution_count": null,
   "metadata": {
    "collapsed": false
   },
   "outputs": [],
   "source": [
    "# Type !pwd below and press 'ctrl' + 'enter'"
   ]
  },
  {
   "cell_type": "markdown",
   "metadata": {},
   "source": [
    "* List the contents of this directory; **`ls`** stands for **list** and using the **`-l`** option gives a longer listing with more information, such as file and size and modification date.\n",
    "\n",
    "    Type below **`!ls`** on one line and then the next **`!ls -l`** and press <kbd>Ctrl</kbd> + <kbd>Enter</kbd>. Compare the differences.\n"
   ]
  },
  {
   "cell_type": "code",
   "execution_count": null,
   "metadata": {
    "collapsed": false
   },
   "outputs": [],
   "source": [
    "# Type !ls on one line and then !ls -l and press 'ctrl' + 'enter'."
   ]
  },
  {
   "cell_type": "markdown",
   "metadata": {},
   "source": [
    "* Move to the directory (i.e. folder) called `practise_ppfiles/cahpa`. This directory contains monthly output data from experiment with RUNID *cahpa*; **`cd`** command stands for **change directory**.\n",
    "\n",
    "    Type below **`%cd practise_ppfiles/cahpa`** and press <kbd>Ctrl</kbd> + <kbd>Enter</kbd>.\n"
   ]
  },
  {
   "cell_type": "code",
   "execution_count": null,
   "metadata": {
    "collapsed": false
   },
   "outputs": [],
   "source": [
    "# Type %cd practise_ppfiles/cahpa and press 'ctrl' + 'enter'."
   ]
  },
  {
   "cell_type": "markdown",
   "metadata": {},
   "source": [
    "* List the contents of this directory; remeber **`ls`** command stands for **list** and using the **`-l`** option gives a longer listing with more information."
   ]
  },
  {
   "cell_type": "code",
   "execution_count": null,
   "metadata": {
    "collapsed": true
   },
   "outputs": [],
   "source": [
    "# Type shell command here not forgetting the ! and press 'ctrl' + 'enter'."
   ]
  },
  {
   "cell_type": "markdown",
   "metadata": {},
   "source": [
    "* List all the files containing data for September.\n",
    "\n",
    "    Type **`!ls \\*sep\\`** in the code block below.\n",
    "\n",
    "    How many files contain data for September?\n",
    "\n",
    "<div class=\"alert alert-block alert-info\">\n",
    "**Note:** The asterisk character `*` (also known as _glob_) matches any string within the filename\n",
    "</div>"
   ]
  },
  {
   "cell_type": "code",
   "execution_count": null,
   "metadata": {
    "collapsed": true
   },
   "outputs": [],
   "source": [
    "# Type !ls *sep* and press 'ctrl' + 'enter'."
   ]
  },
  {
   "cell_type": "markdown",
   "metadata": {},
   "source": [
    "* List all the files containing data from 1982 (i.e. all files which begin **`cahpaa.pmi2`**)\n",
    "\n",
    "    Type below **`!ls cahpaa.pmi2???.pp`**\n",
    "\n",
    "<div class=\"alert alert-block alert-info\">\n",
    "**Note:** The question mark character `?` matches any single character\n",
    "</div>\n",
    "\n"
   ]
  },
  {
   "cell_type": "code",
   "execution_count": null,
   "metadata": {
    "collapsed": false
   },
   "outputs": [],
   "source": [
    "# Type !ls !ls cahpaa.pmi2???.pp and press 'ctrl' + 'enter'."
   ]
  },
  {
   "cell_type": "markdown",
   "metadata": {},
   "source": [
    "* Move up two levels in the directory tree and list the directories.\n",
    "\n",
    "    Type the following commands one at a time and immediately after press <kbd>Ctrl</kbd> + <kbd>Enter</kbd> to execute the command\n",
    "\n",
    "    **`%cd ..`**\n",
    "\n",
    "    **`%cd ..`**\n",
    "\n",
    "    **`!pwd`**\n",
    "\n",
    "    **`!ls`**"
   ]
  },
  {
   "cell_type": "code",
   "execution_count": null,
   "metadata": {
    "collapsed": false
   },
   "outputs": [],
   "source": [
    "# Type one command a time and press 'ctrl' + 'enter' each time."
   ]
  },
  {
   "cell_type": "markdown",
   "metadata": {},
   "source": [
    "The directories `/daily` and `/monthly` contain data used in the worksheets which follow this one."
   ]
  },
  {
   "cell_type": "markdown",
   "metadata": {},
   "source": [
    "***\n",
    "## 1.2 Introduction to python and Iris\n",
    "\n",
    "Python is an interpreted, object-oriented, high-level programming language. Python supports modules and packages, which encourages program modularity and code reuse. \n",
    "\n",
    "\n",
    "We also use the python library [Iris](http://scitools.org.uk/iris/docs/latest/index.html), which is written in Python and is maintained by the Met Office. Iris seeks to provide a powerful, easy to use, and community-driven Python library for analysing and visualising meteorological and oceanographic data sets.\n",
    "\n",
    "For a brief introduction to Iris and the cube formatting please read this Introduction page here: http://scitools.org.uk/iris/docs/latest/userguide/iris_cubes.html\n",
    "\n",
    "For further future reference please refer to the Iris website: http://scitools.org.uk/iris/docs/latest/index.html\n",
    "\n",
    "The following code is a simple example of how to load a NetCDF file into an Iris cube and then print its metadata strucuture:"
   ]
  },
  {
   "cell_type": "code",
   "execution_count": null,
   "metadata": {
    "collapsed": false,
    "scrolled": false
   },
   "outputs": [],
   "source": [
    "# Ensure you haver iris 1.10 or greater\n",
    "import iris\n",
    "\n",
    "# this prints the version of the Iris library you are using\n",
    "print iris.__version__\n",
    "\n",
    "# you must adjust this to the path of your sample data\n",
    "sample_data = '/path/to/sample_data/sample_file'\n",
    "\n",
    "# this loads your sample data into an Iris cube structure\n",
    "cube = iris.load_cube(sample_data)\n",
    "\n",
    "# This prints out the cube metadata structure\n",
    "print cube"
   ]
  },
  {
   "cell_type": "markdown",
   "metadata": {},
   "source": [
    "***\n",
    "## 1.3 Remove the rim from PP fields\n",
    "\n",
    "The edges (or rim) of RCM outputs are biased due to the linear relaxation used on certain variables to apply the GCM lateral boundary conditions. This rim from each edge needs to be excluded from any analysis.\n",
    "\n",
    "* The practise PP files have an 8-poin rim. Remove the 8-point rim from all data in the `practise_ppfiles/cahpa` directory (with the option of automatically deleting the original full-sized files).\n",
    "\n",
    "    First of all in the first code box we will change to the 'practice_ppfiles/cahpa' directory, click in the box and press <kbd>Ctrl</kbd> + <kbd>Enter</kbd>."
   ]
  },
  {
   "cell_type": "code",
   "execution_count": null,
   "metadata": {
    "collapsed": false
   },
   "outputs": [],
   "source": [
    "# click in the box and press 'ctrl' + 'enter'\n",
    "%cd practise_ppfiles/cahpa"
   ]
  },
  {
   "cell_type": "markdown",
   "metadata": {},
   "source": [
    "Then this next code box removes the 8-point rim, from all data in that directory. \n",
    "\n",
    "Click in the box and press <kbd>Ctrl</kbd> + <kbd>Enter</kbd>."
   ]
  },
  {
   "cell_type": "code",
   "execution_count": null,
   "metadata": {
    "collapsed": false,
    "scrolled": false
   },
   "outputs": [],
   "source": [
    "import iris\n",
    "import glob\n",
    "import os\n",
    "\n",
    "# find all the files from which to remove the rim\n",
    "flist = glob.glob('*.rr8.pp')\n",
    "\n",
    "# checks if output directory exists, if not creates a directory\n",
    "if not os.path.exists('rr8_removed'):\n",
    "    os.mkdir('rr8_removed')\n",
    "\n",
    "for fn in flist:\n",
    "    # This will load all the variables in the file into a CubeList\n",
    "    datacubes = iris.load(fn)\n",
    "    tempcubelist = []\n",
    "    for cube in datacubes:\n",
    "        temprimcubelist = []\n",
    "        # In case the data are more than 2 dimensional, grab a 2d slice\n",
    "        for yx_slice in cube.slices(['grid_latitude','grid_longitude']):\n",
    "            norimcube = yx_slice[8 : -8 , 8 : -8]\n",
    "            temprimcubelist.append(norimcube)\n",
    "        # Merge the individual 2d slices into a single cube\n",
    "        trimmedcube = iris.cube.CubeList(temprimcubelist).merge_cube()\n",
    "        tempcubelist.append(trimmedcube)\n",
    "    # Write out the trimmed data file\n",
    "    iris.save(tempcubelist, 'rr8_removed/' + fn, append=True)\n",
    "    print 'The 8-point rim has been removed for: ' + fn"
   ]
  },
  {
   "cell_type": "markdown",
   "metadata": {},
   "source": [
    "***\n",
    "## 1.4 Select variables and convert PP files to NetCDF\n",
    "\n",
    "The monthly data we are using has multiple variables in each file, we can use a Iris to separate the variables and save them as netCDF files.\n",
    "\n",
    "In this example you will see a reference to the cubes attibute 'STASH'. STASH codes are used as a storage handling system for all the variables that the PRECIS model and Met Office UM model provides. \n",
    "\n",
    "Each stash code refers to a variable.  In this example, the following STASH codes are used: 03236 = air temperature; 16222 = air pressure and 05216 = precipitation. You will notice that the files have been saved with the relevant STASH code in this example. However you could name the files after the variable names, ie temp, precip, slp for ease.\n",
    "\n",
    "* Separate the variables in all of the monthly files into separate directories and save as NetCDF files.\n",
    "\n",
    "    Click in the box below and press <kbd>Ctrl</kbd> + <kbd>Enter</kbd> to run the code.\n"
   ]
  },
  {
   "cell_type": "code",
   "execution_count": null,
   "metadata": {
    "collapsed": false,
    "scrolled": false
   },
   "outputs": [],
   "source": [
    "import iris\n",
    "import glob\n",
    "import os\n",
    "\n",
    "flist = glob.glob('rr8_removed/*.rr8.pp')\n",
    "\n",
    "for fn in flist:\n",
    "    # This will load all the variables in the file into a CubeList\n",
    "    datacubes = iris.load(fn)\n",
    "    \n",
    "    for cube in datacubes:\n",
    "        # get the STASH code\n",
    "        cubeSTASH = cube.attributes['STASH'] \n",
    "\n",
    "        # create a directory based on the STASH code\n",
    "        dirname = str(cubeSTASH.section).zfill(2)+str(cubeSTASH.item).zfill(3)\n",
    "        # checks if directory exists, if not creates a directory\n",
    "        if not os.path.exists(dirname):\n",
    "            os.mkdir(dirname)\n",
    "            \n",
    "        # for saving replace the *.pp file extension with *.nc\n",
    "        outfile = fn.replace('.pp','.' + dirname + '.nc')\n",
    "        \n",
    "        # save the merged data cube\n",
    "        iris.save(cube, dirname + '/' + outfile[12:])\n",
    "\n",
    "print 'All NetCDF files have been saved to relevant stash code directory'"
   ]
  },
  {
   "cell_type": "markdown",
   "metadata": {},
   "source": [
    "* For each variable (Temperature, Precipitation, Surface Pressure) put the monthly files into a single cube and save as NetCDF file.\n",
    "\n",
    "    The monthly files are for the years 1981, 1982, and 1983, hence the file name saved to including 1981_1983.\n",
    "\n",
    "    Click in the box below and press <kbd>Ctrl</kbd> + <kbd>Enter</kbd> to run the code.\n"
   ]
  },
  {
   "cell_type": "code",
   "execution_count": null,
   "metadata": {
    "collapsed": false
   },
   "outputs": [],
   "source": [
    "import iris\n",
    "import glob\n",
    "\n",
    "stash_codes = ['03236','05216','16222']\n",
    "\n",
    "# loop over each directory stash code\n",
    "for stash in stash_codes:\n",
    "   \n",
    "    # load the file names into the variable flist\n",
    "    flist = glob.glob(stash + '/' + '*.nc')\n",
    "\n",
    "    cubelist = [] # an empty array to append the monthly cubes to\n",
    "    for fn in flist:\n",
    "        # There is only on cube so using single cube load function\n",
    "        datacube = iris.load_cube(fn)\n",
    "        cubelist.append(datacube)\n",
    "    \n",
    "    # Merge all the cubes in the list created above\n",
    "    mergedcube = iris.cube.CubeList(cubelist).merge_cube()\n",
    "    \n",
    "    # Can save the data direclty in netCDF format\n",
    "    outfile = stash + '/cahpaa.pm.1981_1983.rr8.' + stash + '.nc'\n",
    "    \n",
    "\n",
    "    iris.save(mergedcube, outfile)\n",
    "    \n",
    "print 'Each variable has been saved into a single NetCDF file in its relevant stash directory.'"
   ]
  },
  {
   "cell_type": "markdown",
   "metadata": {},
   "source": [
    "© Crown Copyright 2018, Met Office"
   ]
  }
 ],
 "metadata": {
  "kernelspec": {
   "display_name": "Python 2",
   "language": "python",
   "name": "python2"
  },
  "language_info": {
   "codemirror_mode": {
    "name": "ipython",
    "version": 2
   },
   "file_extension": ".py",
   "mimetype": "text/x-python",
   "name": "python",
   "nbconvert_exporter": "python",
   "pygments_lexer": "ipython2",
   "version": "2.7.12"
  },
  "widgets": {
   "state": {},
   "version": "1.1.2"
  }
 },
 "nbformat": 4,
 "nbformat_minor": 0
}
