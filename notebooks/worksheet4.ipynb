{
 "cells": [
  {
   "cell_type": "markdown",
   "metadata": {},
   "source": [
    "# Worksheet 4: Creating future climate scenarios and analysing climate change\n",
    "\n",
    "The following exercises demonstrate basic methods for analysing changes in climate, using two PRECIS experiments (driven by HadCM3Q0 and ECHAM5.) As with worksheets 2 & 3, these are examples of some of the many types of analyses that can be performed using Python and Iris."
   ]
  },
  {
   "cell_type": "markdown",
   "metadata": {},
   "source": [
    "<div class=\"alert alert-block alert-warning\">\n",
    "<b>By the end of this worksheet you should be able to:</b><br> \n",
    "\n",
    "- Calculate difference and percentage differences across Cubes<br>\n",
    "- Plot cube using differnet plotting methods and with appropriate colour scale <br>\n",
    "- Create time series anomlies of precipitation and tempeature<br>\n",
    "</div>"
   ]
  },
  {
   "cell_type": "markdown",
   "metadata": {},
   "source": [
    "<div class=\"alert alert-block alert-info\">\n",
    "<b>Note:</b> As in Worksheet 2a, The data used here has been processed in the same way as Worksheet 1. The 8 point-rim\n",
    "has been removed and it has been converted from PP to netCDF format. </div>"
   ]
  },
  {
   "cell_type": "markdown",
   "metadata": {},
   "source": [
    "## Contents\n",
    "### [4.1: Calculate future OND mean precipitation](#4.1) \n",
    "### [4.2: Find OND anomalies](#4.2)\n",
    "### [4.3: Plot precipitation and temperature](#4.3)\n",
    "### [4.4: Future time series](#4.4)"
   ]
  },
  {
   "cell_type": "markdown",
   "metadata": {},
   "source": [
    "## Preamble"
   ]
  },
  {
   "cell_type": "code",
   "execution_count": null,
   "metadata": {},
   "outputs": [],
   "source": [
    "# Code preamble - these libraries will be used in this worksheet.\n",
    "# This code block needs to be re-run every time you restart this worksheet!\n",
    "%matplotlib inline \n",
    "import os\n",
    "import iris\n",
    "import iris.coord_categorisation\n",
    "from iris.experimental.equalise_cubes import equalise_attributes\n",
    "import iris.quickplot as qplt\n",
    "import iris.plot as iplt\n",
    "import matplotlib.pyplot as plt\n",
    "import numpy as np\n",
    "import numpy.ma as ma\n",
    "\n",
    "# Some helpful data locations\n",
    "DATADIR = '/project/precis/worksheets/data'\n",
    "CLIMDIR = os.path.join(DATADIR, 'climatology')\n",
    "HISTDIR = os.path.join(DATADIR, 'historical')\n",
    "FUTRDIR = os.path.join(DATADIR, 'future')\n",
    "JOBIDS = ['cahpa', 'cahpb']"
   ]
  },
  {
   "cell_type": "markdown",
   "metadata": {},
   "source": [
    "<a id='4.1'></a>\n",
    "## 4.1 Calculate future OND mean precipitation\n",
    "**a)** First, we **calculate future OND (October, November, December) mean precipitation** for the period 2021-2051 for the HadCM3Q0-driven PRECIS simulation (cahpa) and the ECHAM5-driven simulation (cahpb):"
   ]
  },
  {
   "cell_type": "code",
   "execution_count": null,
   "metadata": {},
   "outputs": [],
   "source": [
    "for jobid in JOBIDS:\n",
    "    infile = os.path.join(FUTRDIR, jobid + '.mon.2021_2050.pr.rr.mmday-1.nc')\n",
    "    data = iris.load_cube(infile)\n",
    "\n",
    "    # in order to calculate OND mean, we divide the months into two seasons: \n",
    "    # one for OND and a second for the remaining months\n",
    "    iris.coord_categorisation.add_season(data, 'time', name='seasons', seasons=('jfmamjjas','ond'))\n",
    "\n",
    "    # Extract the data for the OND season only\n",
    "    data_ond = data.extract(iris.Constraint(seasons='ond'))\n",
    "\n",
    "    # Now calculate the mean over the OND season\n",
    "    future_ond_mean = data_ond.aggregated_by(['seasons'], iris.analysis.MEAN)\n",
    "\n",
    "    # save the OND mean as a netCDF\n",
    "    outfile = os.path.join(CLIMDIR, jobid + '.OND.mean.2021_2050.pr.mmday-1.nc')\n",
    "    iris.save(future_ond_mean, outfile)\n",
    "    print('Saved: {}'.format(outfile))"
   ]
  },
  {
   "cell_type": "markdown",
   "metadata": {},
   "source": [
    "---\n",
    "<div class=\"alert alert-block alert-success\">\n",
    "<b>Question:</b> Within the loop, we have created two cubes: a seasonal OND constrained cube, and a seasonal mean cube.  Inspect the cube metadata.  What are the differences? \n",
    "</div>"
   ]
  },
  {
   "cell_type": "code",
   "execution_count": null,
   "metadata": {},
   "outputs": [],
   "source": [
    "# Use this code block to inspect the two cubes\n"
   ]
  },
  {
   "cell_type": "markdown",
   "metadata": {},
   "source": [
    "<b>Answer</b><br>\n",
    "    *Type your anser here...*"
   ]
  },
  {
   "cell_type": "markdown",
   "metadata": {},
   "source": [
    "---"
   ]
  },
  {
   "cell_type": "markdown",
   "metadata": {},
   "source": [
    "Remember, the loop has created and saved two cubes, **one for each jobid**."
   ]
  },
  {
   "cell_type": "markdown",
   "metadata": {},
   "source": [
    "<a id='4.2'></a>\n",
    "## 4.2 Find OND anomalies\n",
    "**b)** Next, we **subtract the baseline (1961-1990) mean from the future (2021-2050) mean** for OND to get the change in precipitation (or **anomly**) from both simulations.  The changes are also converted to percentages:"
   ]
  },
  {
   "cell_type": "code",
   "execution_count": null,
   "metadata": {},
   "outputs": [],
   "source": [
    "for jobid in JOBIDS:\n",
    "    # Load the baseline cube\n",
    "    infile = os.path.join(CLIMDIR, jobid + '.OND.mean.1961_1990.pr.mmday-1.nc')\n",
    "    OND_baseline = iris.load_cube(infile)\n",
    "    # Set the correct units\n",
    "    OND_baseline.units = \"mm day-1\"\n",
    "    # Load the future cube\n",
    "    infile = os.path.join(CLIMDIR, jobid + '.OND.mean.2021_2050.pr.mmday-1.nc')\n",
    "    OND_future = iris.load_cube(infile)\n",
    "    # Subtract the baseline cube from the future cube\n",
    "    diff = iris.analysis.maths.subtract(OND_future, OND_baseline)\n",
    "    # rename the cube to reflect the data processing\n",
    "    diff.rename('precipitation flux difference')\n",
    "    # Save the resulting cube\n",
    "    outfile = os.path.join(CLIMDIR, jobid + '.OND.mean.diff.pr.mmday-1.nc')\n",
    "    iris.save(diff, outfile)\n",
    "    print('Saved {}'.format(outfile))\n",
    "    # Find the percentage change\n",
    "    pcent_change = iris.analysis.maths.multiply(iris.analysis.maths.divide(diff, OND_baseline), 100)\n",
    "    # remember to change the title and units to reflect the data processing\n",
    "    pcent_change.rename('precipitation flux percent difference')\n",
    "    pcent_change.units = '%'\n",
    "    # And save this too\n",
    "    outfile = os.path.join(CLIMDIR, jobid + '.OND.mean.diffperc.pr.mmday-1.nc')\n",
    "    iris.save(pcent_change, outfile)\n",
    "    print('Saved {}'.format(outfile))"
   ]
  },
  {
   "cell_type": "markdown",
   "metadata": {},
   "source": [
    "**c)** Now, repeat the calculations yourself for **temperature**. \n",
    "\n",
    "First, we calculate the **OND mean** temperatures. **Fill in the missing commands in the code block below**:"
   ]
  },
  {
   "cell_type": "code",
   "execution_count": null,
   "metadata": {},
   "outputs": [],
   "source": [
    "time_periods = {'historical':'1961_1990', 'future':'2021_2050'}\n",
    "\n",
    "for jobid in JOBIDS:\n",
    "    for period in time_periods.keys():\n",
    "        # Load the data:\n",
    "        infile = os.path.join(DATADIR, time_periods[period], jobid + '.mon.' + time_periods[period] + '.tm.rr.K.nc')\n",
    "        data = iris.load_cube(infile)\n",
    "        \n",
    "        # In order to calculate OND mean, add a season coordinate, seperating OND from the other months:  \n",
    "        \n",
    "\n",
    "        # Extract the data for the OND season only:\n",
    "\n",
    "        \n",
    "        # Now calculate the mean over the OND season:\n",
    "        \n",
    "        \n",
    "        # Convert the units from Kelvin to Celsius:\n",
    "\n",
    "        \n",
    "        # save the OND mean as a netCDF ('outfile' specifies the output file name for your OND mean cube):\n",
    "        outfile = os.path.join(CLIMDIR, jobid + '.OND.mean.' + time_periods[period] + '.tm.C.nc')\n",
    "        \n"
   ]
  },
  {
   "cell_type": "markdown",
   "metadata": {},
   "source": [
    "**d)** Next, we **calculate the difference** between the baseline and future periods."
   ]
  },
  {
   "cell_type": "code",
   "execution_count": null,
   "metadata": {},
   "outputs": [],
   "source": [
    "for jobid in JOBIDS:\n",
    "    # Load files:\n",
    "    baselinefile = os.path.join(CLIMDIR, jobid + '.OND.mean.1961_1990.tm.C.nc')\n",
    "    futurefile = os.path.join(CLIMDIR, jobid + '.OND.mean.2021_2050.tm.C.nc')\n",
    "    OND_baseline = iris.load_cube(baselinefile)\n",
    "    OND_future = iris.load_cube(futurefile)\n",
    "    \n",
    "    # Calculate 'future mean' minus 'baseline mean':\n",
    "    diff = iris.analysis.maths.subtract(OND_future, OND_baseline)\n",
    "    diff.rename('surface temperature difference')\n",
    "    \n",
    "    # Save\n",
    "    outfile = os.path.join(CLIMDIR, jobid + '.OND.mean.diff.tm.C.nc')\n",
    "    iris.save(diff, outfile)\n",
    "    print('Saved: {}'.format(outfile))"
   ]
  },
  {
   "cell_type": "markdown",
   "metadata": {},
   "source": [
    "<a id='4.3'></a>\n",
    "## 4.3 Plot precipitation and temperature\n",
    "\n",
    "**e)** **Plot changes** to precipitation (in %) and temperature (in deg.C)"
   ]
  },
  {
   "cell_type": "code",
   "execution_count": null,
   "metadata": {},
   "outputs": [],
   "source": [
    "# Create a figure of the size 12x12 inches\n",
    "plt.figure(figsize=(12, 12))\n",
    "\n",
    "# Read in the percentage changes in precipitation\n",
    "for n, jobid in enumerate(JOBIDS):\n",
    "    prpath = os.path.join(CLIMDIR, jobid + '.OND.mean.diffperc.pr.mmday-1.nc')\n",
    "    tmpath = os.path.join(CLIMDIR, jobid + '.OND.mean.diff.tm.C.nc')\n",
    "    pcent_change = iris.load_cube(prpath)\n",
    "    degc_change = iris.load_cube(tmpath)\n",
    "\n",
    "    # Remove extra time dimension\n",
    "    pcent_change = iris.util.squeeze(pcent_change)\n",
    "    degc_change = iris.util.squeeze(degc_change)\n",
    "    \n",
    "    plot_num = n*2 + 1\n",
    "    plt.subplot(2, 2, plot_num) # Create a new subplot with 2 rows, 2 columns, 1st plot\n",
    "    qplt.pcolormesh(pcent_change, vmax=30, vmin=-30, cmap='BrBG')\n",
    "    plt.title(jobid + ' precipitation change (%)')\n",
    "    ax = plt.gca()              # gca function that returns the current axes\n",
    "    ax.coastlines()             # adds coastlines defined by the axes of the plot\n",
    "    ax.gridlines()              # adds x and y grid lines to the plot\n",
    "\n",
    "    plt.subplot(2, 2, plot_num+1)\n",
    "    qplt.pcolormesh(degc_change, vmax=2.5, vmin=0, cmap='Reds')\n",
    "    plt.title(jobid + ' temperature change ($\\degree$C)')\n",
    "    ax = plt.gca()\n",
    "    ax.coastlines()\n",
    "    ax.gridlines()\n",
    "\n",
    "plt.tight_layout()          # automatically adjusts subplot(s) to fit in to the figure area\n",
    "plt.show()"
   ]
  },
  {
   "cell_type": "markdown",
   "metadata": {},
   "source": [
    "---\n",
    "<div class=\"alert alert-block alert-success\">\n",
    "<b>Question:</b> How would you use a discrete countoured colour map to show changes in precipitation and temperature? <br>\n",
    "    Modify the code above to use <strong>qplt.pconourf()</strong>.  Remember to choose appropriate contours.\n",
    "</div>"
   ]
  },
  {
   "cell_type": "markdown",
   "metadata": {},
   "source": [
    "<div class=\"alert alert-block alert-success\">\n",
    "<b>Question:</b>  The plots show projected changes in precipitation and temperature using two models; what are the common features between the two model projections? \n",
    "    \n",
    "What differences exist between the two model projections? Which is hotter, wetter, how does the spatial distribution differ? \n",
    "    \n",
    "</div>"
   ]
  },
  {
   "cell_type": "markdown",
   "metadata": {},
   "source": [
    "<b>Answer:</b><br>\n",
    "*Type your answers here...*"
   ]
  },
  {
   "cell_type": "markdown",
   "metadata": {},
   "source": [
    "---"
   ]
  },
  {
   "cell_type": "markdown",
   "metadata": {},
   "source": [
    "<a id='4.4'></a>\n",
    "## 4.4 Future time series\n",
    "\n",
    "**f)** Calculate and then plot a 2021-2050 monthly **time series of precipitation anomalies** for land\n",
    "points only, relative to the 1961-1990 baseline monthly mean. Do this for both cahpa and cahpb.\n"
   ]
  },
  {
   "cell_type": "code",
   "execution_count": null,
   "metadata": {},
   "outputs": [],
   "source": [
    "# Read in the land-sea mask. \n",
    "# The cube data array has a mask associated with it which we'll use to mask out ocean points.\n",
    "land_sea_mask = iris.load_cube(DATADIR + '/landmask.nc')\n",
    "\n",
    "for jobid in JOBIDS:\n",
    "    # Read in original data for baseline and future\n",
    "    baselinepath = os.path.join(HISTDIR, jobid + '.mon.1961_1990.pr.rr.mmday-1.nc')\n",
    "    futurepath = os.path.join(FUTRDIR, jobid + '.mon.2021_2050.pr.rr.mmday-1.nc')\n",
    "    baseline = iris.load_cube(baselinepath)\n",
    "    future = iris.load_cube(futurepath)\n",
    "    \n",
    "    # Apply land mask\n",
    "    baseline.data = ma.array(baseline.data, mask=baseline.data*land_sea_mask.data.mask[np.newaxis, :,:])\n",
    "    future.data = ma.array(future.data, mask=future.data*land_sea_mask.data.mask[np.newaxis, :,:])\n",
    "\n",
    "    # Guess bounds\n",
    "    for cube in [baseline, future]:\n",
    "        for coord in ['grid_longitude', 'grid_latitude']:\n",
    "            cube.coord(coord).guess_bounds()\n",
    "    \n",
    "    # Calculate mean values over land points\n",
    "    baseline_land = baseline.collapsed(['grid_longitude', 'grid_latitude'], iris.analysis.MEAN,\n",
    "                                      weights = iris.analysis.cartography.area_weights(baseline))\n",
    "    future_land = future.collapsed(['grid_longitude', 'grid_latitude'], iris.analysis.MEAN,\n",
    "                                  weights = iris.analysis.cartography.area_weights(future))\n",
    "\n",
    "    # Save future & baseline area averaged monthly data (time series)\n",
    "    baselineout = os.path.join(CLIMDIR, jobid + '.mon.1961_1990.series.pr.mmday-1.nc')\n",
    "    futureout = os.path.join(CLIMDIR, jobid + '.mon.2021_2050.series.pr.mmday-1.nc')\n",
    "    iris.save(baseline_land, baselineout)\n",
    "    iris.save(future_land, futureout)\n",
    "\n",
    "    # Subtract baseline from future\n",
    "    diff = future_land.copy()\n",
    "    diff.data = future_land.data - baseline_land.data.mean()\n",
    "    diff.rename('future anomaly relative to mean historical precipitation')\n",
    "\n",
    "    # Save the area averaged monthly future anomalies (time series)\n",
    "    outpath = os.path.join(CLIMDIR, jobid + '.mon.2021_2050.anom.series.pr.mmday-1.nc')\n",
    "    iris.save(diff, outpath)\n",
    "    print('Saved: {}'.format(outpath))"
   ]
  },
  {
   "cell_type": "markdown",
   "metadata": {},
   "source": [
    "---\n",
    "<div class=\"alert alert-block alert-success\">\n",
    "    <b>Question:</b> Why do we only want to produce a time series for changes over land?\n",
    "</div>"
   ]
  },
  {
   "cell_type": "markdown",
   "metadata": {},
   "source": [
    "**Answer:**\n",
    "\n",
    "_Type your answer here..._"
   ]
  },
  {
   "cell_type": "markdown",
   "metadata": {},
   "source": [
    "---"
   ]
  },
  {
   "cell_type": "markdown",
   "metadata": {},
   "source": [
    "**g)** **Plot the precipitation anomalies** of cahpa and cahpb"
   ]
  },
  {
   "cell_type": "code",
   "execution_count": null,
   "metadata": {
    "scrolled": false
   },
   "outputs": [],
   "source": [
    "# Read in the monthly series\n",
    "cahpa = iris.load_cube(CLIMDIR + '/cahpa.mon.2021_2050.anom.series.pr.mmday-1.nc')\n",
    "cahpb = iris.load_cube(CLIMDIR + '/cahpb.mon.2021_2050.anom.series.pr.mmday-1.nc')\n",
    "time = cahpa.coord('time')\n",
    "\n",
    "# Plot the two model time series' on the same figure\n",
    "plt.figure(figsize=(16,5))\n",
    "iplt.plot(time, cahpa, label = 'cahpa')\n",
    "iplt.plot(time, cahpb, label = 'cahpb')\n",
    "plt.legend()\n",
    "plt.suptitle('2021-2050 Precipitation anomaly (relative to 1961-1990)')\n",
    "plt.ylabel('Precipitation change ({})'.format(cahpa.units))\n",
    "plt.xlabel('Years')\n",
    "plt.show()"
   ]
  },
  {
   "cell_type": "markdown",
   "metadata": {},
   "source": [
    "**h) Produce and plot a montly time series of temperature data** relative to the 1961-1990 baseline.  As for (f) and (g) produce time series for cahpa and cahpb.\n",
    "\n",
    "**Fill in the missing commands in the code blocks below**:"
   ]
  },
  {
   "cell_type": "code",
   "execution_count": null,
   "metadata": {},
   "outputs": [],
   "source": [
    "# Loop over JOBIDS\n",
    "\n",
    "\n",
    "# Read in original data for baseline and future\n",
    "\n",
    "\n",
    "# Apply land mask\n",
    "\n",
    "\n",
    "# Guess bounds\n",
    "\n",
    "\n",
    "# Calculate mean values over land points\n",
    "\n",
    "\n",
    "# Save future & baseline area averaged monthly data (time series)\n",
    "    \n",
    "\n",
    "# Subtract baseline from future\n",
    "    \n",
    "\n",
    "# Save the data, make sure you follow the file naming convention!\n",
    "\n"
   ]
  },
  {
   "cell_type": "code",
   "execution_count": null,
   "metadata": {},
   "outputs": [],
   "source": [
    "# Do some plotting...\n",
    "# Read in the monthly series\n",
    "\n",
    "\n",
    "# Plot the two model time series' on the same figure\n",
    "\n"
   ]
  },
  {
   "cell_type": "markdown",
   "metadata": {},
   "source": [
    "---\n",
    "<div class=\"alert alert-block alert-success\">\n",
    "<b>Question:</b> Write a short summary of these two graphs. Include:\n",
    "        \n",
    "- A description of what each plot shows\n",
    "- The differences between the two models\n",
    "- A consideration of the ways the climate in SE Asia might be differnet in the future\n",
    "</div>"
   ]
  },
  {
   "cell_type": "markdown",
   "metadata": {},
   "source": [
    "**Answer:**\n",
    "\n",
    "_Type your answer here..._"
   ]
  },
  {
   "cell_type": "markdown",
   "metadata": {},
   "source": [
    "<div class=\"alert alert-block alert-success\">\n",
    "    <b>Question:</b> Conside the plots we produced in Section 4.3.  What <b>additional</b> time series analysis could you do to support your consideration of future changes to climate in the question above?\n",
    "</div>"
   ]
  },
  {
   "cell_type": "markdown",
   "metadata": {},
   "source": [
    "---"
   ]
  },
  {
   "cell_type": "markdown",
   "metadata": {},
   "source": [
    "<div class=\"alert alert-block alert-warning\">\n",
    "<center><b>This completes worksheet 4.</b></center><br>\n",
    "    You have used Iris to investigate differences bewteen historical and future changes in model output by comparing 30 years of baseline data (1961-1990) against a future period (2021-2050). <br>\n",
    "To do so, you have:\n",
    "    \n",
    "- calculated and plotted seaonal mean chnages in temperature and precipitation\n",
    "- masked out ocean data to focus on changes over land\n",
    "- calculated anomalies by comparing future data to the historical mean period\n",
    "- plotted time series of temperture and precipitation anomalies over land for two differnet models<br>\n",
    "\n",
    "In worksheet 5, you will investigate at climate extremes by investigating threshold and extreme climate indicies.\n",
    "</div>"
   ]
  },
  {
   "cell_type": "markdown",
   "metadata": {},
   "source": [
    "<center>© Crown Copyright 2018, Met Office </center>"
   ]
  }
 ],
 "metadata": {
  "kernelspec": {
   "display_name": "Python 3",
   "language": "python",
   "name": "python3"
  },
  "language_info": {
   "codemirror_mode": {
    "name": "ipython",
    "version": 3
   },
   "file_extension": ".py",
   "mimetype": "text/x-python",
   "name": "python",
   "nbconvert_exporter": "python",
   "pygments_lexer": "ipython3",
   "version": "3.6.6"
  },
  "widgets": {
   "state": {},
   "version": "1.1.2"
  }
 },
 "nbformat": 4,
 "nbformat_minor": 1
}
