{
 "cells": [
  {
   "cell_type": "markdown",
   "metadata": {},
   "source": [
    "# Worksheet 4: Investigating Extremes"
   ]
  },
  {
   "cell_type": "markdown",
   "metadata": {},
   "source": [
    "This final worksheet is a chance for you to put together all the techniques you have learnt in the last three worksheets.\n",
    "\n",
    "Working with the same data-sets, write some code to undertake an analysis of temperature extremes over our South East Asia domain."
   ]
  },
  {
   "cell_type": "markdown",
   "metadata": {},
   "source": [
    "<div class=\"alert alert-block alert-warning\">\n",
    "<b>By the end of this worksheet you should be able to:</b><br> \n",
    "- Build a coding workflow to undertake extremes analysis. <br>\n",
    "- Understand the different stages of post-processing.<br>\n",
    "- Have an appreciation of data storage and file naming issues.\n",
    "</div>"
   ]
  },
  {
   "cell_type": "markdown",
   "metadata": {},
   "source": [
    "## Preamble"
   ]
  },
  {
   "cell_type": "code",
   "execution_count": null,
   "metadata": {},
   "outputs": [],
   "source": [
    "# Code preamble - these libraries will be used in this worksheet.\n",
    "# This code block needs to be re-run every time you restart this worksheet!\n",
    "%matplotlib inline \n",
    "import os\n",
    "import iris\n",
    "import iris.coord_categorisation\n",
    "import iris.quickplot as qplt\n",
    "import iris.plot as iplt\n",
    "import cartopy.crs as ccrs\n",
    "import cartopy.feature as cfeature\n",
    "import matplotlib.pyplot as plt\n",
    "import numpy as np\n",
    "import dask\n",
    "dask.config.set(get=dask.get)\n",
    "import dask.array as da\n",
    "from iris.analysis import Aggregator\n",
    "\n",
    "# /data/users/ssadri/pyprecis/monthly\n",
    "# Some helpful data locations\n",
    "DATADIR = '/project/precis/worksheets/data'\n",
    "APHRODIR = os.path.join(DATADIR, 'APHRODITE')\n",
    "CRUDIR = os.path.join(DATADIR, 'CRU')\n",
    "CLIMDIR = os.path.join(DATADIR, 'climatology')\n",
    "MODELDIR = os.path.join(DATADIR, 'netcdf')\n",
    "JOBIDS = ['cahpa', 'cahpb']\n",
    "TIME_PERIODS = {'baseline':'1981_1983', 'future':'2021_2050'}"
   ]
  },
  {
   "cell_type": "markdown",
   "metadata": {},
   "source": [
    "## Step 1: Process raw pp files"
   ]
  },
  {
   "cell_type": "markdown",
   "metadata": {},
   "source": [
    "Remember to:\n",
    " * Select the right variable from the pp file\n",
    " * Remove the rim\n",
    " * Concatenate into a single netCDF file\n",
    " * Tidy cube metadata\n",
    " * Save the netCDF file so you can access it later"
   ]
  },
  {
   "cell_type": "code",
   "execution_count": null,
   "metadata": {},
   "outputs": [],
   "source": [
    "'''\n",
    "Step 1: Process the raw pp files\n",
    "'''\n"
   ]
  },
  {
   "cell_type": "markdown",
   "metadata": {},
   "source": [
    "## Step 2: Calculate the extreme indicie\n",
    "\n",
    "Remember to:\n",
    "  * Consider which observational data set to use\n",
    "  * Calulate the indicie for both the model data you prepared in step 1, but also the observed data\n",
    "  * Calculate the indicie for present and future model periods\n",
    "  * Save your indicie data sets as a netCDF file with appropriate metadata"
   ]
  },
  {
   "cell_type": "code",
   "execution_count": null,
   "metadata": {},
   "outputs": [],
   "source": [
    "'''\n",
    "Step 2: Calculate the extreme indicie\n",
    "'''\n"
   ]
  },
  {
   "cell_type": "markdown",
   "metadata": {},
   "source": [
    "## Step 3: Plot some results\n",
    "\n",
    "Remember to:\n",
    "  * Think about plotting absolute values, differences, or scaled differences.  Which one communicates your message best?\n",
    "  * Choose an appropriate colour scale"
   ]
  },
  {
   "cell_type": "code",
   "execution_count": null,
   "metadata": {},
   "outputs": [],
   "source": [
    "'''\n",
    "Step 3: Plot some results\n",
    "'''\n"
   ]
  },
  {
   "cell_type": "markdown",
   "metadata": {},
   "source": [
    "© Crown Copyright 2018, Met Office"
   ]
  }
 ],
 "metadata": {
  "kernelspec": {
   "display_name": "Python 3",
   "language": "python",
   "name": "python3"
  },
  "language_info": {
   "codemirror_mode": {
    "name": "ipython",
    "version": 3
   },
   "file_extension": ".py",
   "mimetype": "text/x-python",
   "name": "python",
   "nbconvert_exporter": "python",
   "pygments_lexer": "ipython3",
   "version": "3.6.6"
  }
 },
 "nbformat": 4,
 "nbformat_minor": 2
}
