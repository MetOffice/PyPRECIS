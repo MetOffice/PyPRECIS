{
 "cells": [
  {
   "cell_type": "markdown",
   "metadata": {},
   "source": [
    "# Worksheet 6 example code\n",
    "\n",
    "Calculate the baseline (1961-1990) and future (2021-2050) 90th percentile of maximum temperature and the difference between them. Do this for cahpa and cahpb."
   ]
  },
  {
   "cell_type": "code",
   "execution_count": null,
   "metadata": {},
   "outputs": [],
   "source": [
    "# Code preamble - these libraries will be used in this worksheet.\n",
    "# This code block needs to be re-run every time you restart this worksheet!\n",
    "%matplotlib inline \n",
    "import os\n",
    "import iris\n",
    "import iris.coord_categorisation\n",
    "import iris.quickplot as qplt\n",
    "import iris.plot as iplt\n",
    "import cartopy.crs as ccrs\n",
    "import cartopy.feature as cfeature\n",
    "import matplotlib.pyplot as plt\n",
    "import numpy as np\n",
    "import dask\n",
    "dask.config.set(get=dask.get)\n",
    "import dask.array as da\n",
    "from iris.analysis import Aggregator\n",
    "\n",
    "# /data/users/ssadri/pyprecis/monthly\n",
    "# Some helpful data locations\n",
    "DATADIR = '/project/ciid/projects/PRECIS/worksheets/data'\n",
    "APHRODIR = os.path.join(DATADIR, 'APHRODITE')\n",
    "CRUDIR = os.path.join(DATADIR, 'CRU')\n",
    "CLIMDIR = os.path.join(DATADIR, 'climatology')\n",
    "MODELDIR = os.path.join(DATADIR, 'netcdf')\n",
    "JOBIDS = ['cahpa', 'cahpb']\n",
    "TIME_PERIODS = {'baseline':'1981_1983', 'future':'2021_2050'}"
   ]
  },
  {
   "cell_type": "code",
   "execution_count": null,
   "metadata": {},
   "outputs": [],
   "source": [
    "for runid in JOBIDS:\n",
    "    for t in TIME_PERIODS.keys():\n",
    "        \n",
    "    data_path = 'daily/' + runid + '/03236.max/'\n",
    "    for tp, tpn in zip(*(time_periods, time_period_names)):\n",
    "        filename = runid + 'a.pa.' + tp + '.03236.max.rr8.degC.nc'\n",
    "        model_precip = iris.load_cube(data_path + filename)\n",
    "        model_pc90 = model_precip.collapsed('time', iris.analysis.PERCENTILE, percent=90.0)\n",
    "        model_file_out = runid + 'a.pc90.03236.max.' + tpn + '.nc'\n",
    "        iris.save(model_pc90, path_clim + model_file_out)"
   ]
  },
  {
   "cell_type": "markdown",
   "metadata": {},
   "source": [
    "Calculate the frequency of warm days in the future (extreme index TX90P), i.e. the number of days which exceed the 90th percentile temperatures in the baseline.  Then calculate the numbers of days as a percentage."
   ]
  },
  {
   "cell_type": "code",
   "execution_count": null,
   "metadata": {},
   "outputs": [],
   "source": [
    "runids = ['cahpa', 'cahpb']\n",
    "path_clim = 'daily/climatology/'\n",
    "\n",
    "for runid in runids:\n",
    "    data_path = 'daily/' + runid + '/03236.max/'\n",
    "    file_fut = job + 'a.pa.2150.03236.max.rr8.degC.nc'\n",
    "    tx = iris.load_cube(data_path + file_fut)\n",
    "\n",
    "    file_pc90 = runid + 'a.pc90.03236.max.baseline.nc'\n",
    "    pc90 = iris.load_cube(path_clim + file_pc90)\n",
    "\n",
    "    dims = tx.shape[1:]\n",
    "    nwarmdays = pc90.copy()\n",
    "    nwarmdays.data = np.zeros(dims)\n",
    "\n",
    "# Use broadcasting to identify all cells where daily temperatures in the future exceed the 90th percentile\n",
    "    tx_gt_pc90 = np.where(tx.data > pc90.data, 1, 0)\n",
    "    nwarmdays.data = np.sum(tx_gt_pc90, axis=0)\n",
    "\n",
    "    print \"Saving numbers of warm days in the future from \" + job\n",
    "    iris.save(nwarmdays, path_clim + job + 'a.TX90P.nc')"
   ]
  },
  {
   "cell_type": "markdown",
   "metadata": {},
   "source": [
    "Plot the numbers of warm days in the future and the percentage of warm days."
   ]
  },
  {
   "cell_type": "code",
   "execution_count": null,
   "metadata": {},
   "outputs": [],
   "source": [
    "ndays = [10800.0, 10957.0]\n",
    "runids = ['cahpa', 'cahpb']\n",
    "path_clim = 'daily/climatology/'\n",
    "\n",
    "plt.figure(figsize=(12, 12))\n",
    "\n",
    "for i, job in enumerate(runids):\n",
    "    nwarmdays = iris.load_cube(path_clim + job + 'a.TX90P.nc')\n",
    "    nwd_pcent = iris.analysis.maths.divide(iris.analysis.maths.multiply(nwarmdays, 100), ndays[i])\n",
    "    iris.save(nwd_pcent, job + 'a.TX90P.per.nc')\n",
    "\n",
    "    plotnum = 1 + 2*i\n",
    "    plt.subplot(2, 2, plotnum)\n",
    "    qplt.pcolormesh(nwarmdays, vmin=0, vmax=10000)\n",
    "    plt.title(job + ': Number of warm days')\n",
    "    plt.subplot(2, 2, plotnum+1)\n",
    "    qplt.pcolormesh(nwd_pcent, vmin=0, vmax=100)\n",
    "    plt.title(job + ': Percentage of warm days')\n",
    "\n",
    "plt.tight_layout()\n",
    "plt.show()"
   ]
  },
  {
   "cell_type": "markdown",
   "metadata": {},
   "source": [
    "Calculate the percentage of total precipitation which falls on very wet days in the future\n",
    "(where a very wet day is one on which daily rainfall exceeds the 95th percentile of the baseline)\n",
    "over Malaysia."
   ]
  },
  {
   "cell_type": "code",
   "execution_count": null,
   "metadata": {},
   "outputs": [],
   "source": [
    "runids = ['cahpa', 'cahpb']\n",
    "ndays = [10800.0, 10957.0]\n",
    "path_clim = 'daily/climatology/'\n",
    "\n",
    "# Coordinates of a box around Malaysia\n",
    "malay_lons = np.array([99.0, 99.0, 122.0, 122.0])\n",
    "malay_lats = np.array([ 0.0,  9.0,   0.0,   9.0])\n",
    "\n",
    "# Load a cube on the rotated grid\n",
    "rotg = iris.load_cube(path_clim + 'cahpaa.wetday.pcent.baseline.nc')\n",
    "rcs = rotg.coord('grid_latitude').coord_system\n",
    "\n",
    "# Get the rotated pole coordinates\n",
    "pole_lat = rcs.grid_north_pole_latitude\n",
    "pole_lon = rcs.grid_north_pole_longitude\n",
    "\n",
    "# Convert the coordinates of a box around Malaysia from real coordinates to rotated polar coordinates\n",
    "grid_lons, grid_lats = iris.analysis.cartography.rotate_pole(malay_lons, malay_lats, pole_lon, pole_lat)\n",
    "\n",
    "# Find the max / min of the lons / lats on the rotated grid.  They will be used to extract the data around Malaysia\n",
    "# N.B. The conversion to float is needed, as numpy data are of type float64 by default. If the coordinate limits\n",
    "# are passed as float64, they are interpreted as a list of two floats and the program will stop with an error:\n",
    "# ValueError: setting an array element with a sequence.\n",
    "lon_0 = float(min(grid_lons))\n",
    "lon_1 = float(max(grid_lons))\n",
    "lat_0 = float(min(grid_lats))\n",
    "lat_1 = float(max(grid_lats))\n",
    "\n",
    "# Set up constraints on the rotated grid for Malaysia\n",
    "lon_con = iris.Constraint(grid_longitude = lambda x: lon_0 <= x <= lon_1)\n",
    "lat_con = iris.Constraint(grid_latitude = lambda cell: lat_0 <= cell <= lat_1)\n",
    "\n",
    "for i, job in enumerate(runids):\n",
    "    data_path = 'daily/' + job + '/05216/'\n",
    "    file_f = job + 'a.pa.2150.05216.rr8.mmday.nc'\n",
    "#   precip = iris.load_cube(data_path + file_f, lon_con).intersection(grid_latitude = (-14.767, -5,623))\n",
    "    precip = iris.load_cube(data_path + file_f, lat_con & lon_con)\n",
    "    precip_pc95 = iris.load_cube(path_clim + 'cahpaa.pc95.05216.future.mmday.nc', lat_con & lon_con)\n",
    "    \n",
    "# Use broadcasting to identify all cells in precip where p95 is exceeded\n",
    "    pre_gt_pc95 = np.where(precip.data > precip_pc95.data, precip.data, 0.0)\n",
    "    pre_p95 = np.sum(pre_gt_pc95, axis=0)\n",
    "    pre_tot = precip.collapsed('time', iris.analysis.SUM)\n",
    "    pre_tot.data = np.divide(pre_p95, pre_tot.data, out=np.zeros_like(pre_tot.data), where = pre_tot.data != 0)\n",
    "    pre_tot = iris.analysis.maths.multiply(pre_tot, 100)\n",
    "    file_out = job + 'a.R95pTOT.future.nc'\n",
    "    iris.save(pre_tot, path_clim + file_out)"
   ]
  },
  {
   "cell_type": "markdown",
   "metadata": {},
   "source": [
    "Plot the percentages of heavy rainfall in the future."
   ]
  },
  {
   "cell_type": "code",
   "execution_count": null,
   "metadata": {},
   "outputs": [],
   "source": [
    "runids = ['cahpa', 'cahpb']\n",
    "path_clim = 'daily/climatology/'\n",
    "\n",
    "plt.figure(figsize=(12, 12))\n",
    "\n",
    "for i, job in enumerate(runids):\n",
    "    filename = job + 'a.R95pTOT.future.nc'\n",
    "    pcent_heavy_rain = iris.load_cube(path_clim + filename)\n",
    "    plotnum = 1 + i\n",
    "    plt.subplot(2, 1, plotnum)\n",
    "    qplt.pcolormesh(pcent_heavy_rain, vmin=0, vmax=100)\n",
    "    plt.title(job + ': Percentage of heavy rain over Malaysia in the future')\n",
    "\n",
    "plt.tight_layout()\n",
    "plt.show()"
   ]
  }
 ],
 "metadata": {
  "kernelspec": {
   "display_name": "Python 3",
   "language": "python",
   "name": "python3"
  },
  "language_info": {
   "codemirror_mode": {
    "name": "ipython",
    "version": 3
   },
   "file_extension": ".py",
   "mimetype": "text/x-python",
   "name": "python",
   "nbconvert_exporter": "python",
   "pygments_lexer": "ipython3",
   "version": "3.6.6"
  }
 },
 "nbformat": 4,
 "nbformat_minor": 2
}
